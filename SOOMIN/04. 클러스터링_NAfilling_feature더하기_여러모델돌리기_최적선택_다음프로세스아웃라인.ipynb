{
 "cells": [
  {
   "cell_type": "code",
   "execution_count": 1,
   "metadata": {},
   "outputs": [],
   "source": [
    "import numpy as np \n",
    "import pandas as pd \n",
    "from pandas import DataFrame \n",
    "\n",
    "import matplotlib.pyplot as plt \n",
    "import seaborn as sns\n",
    "import itertools\n",
    "%matplotlib inline\n",
    "from matplotlib.pyplot import figure\n",
    "import matplotlib as mpl\n",
    "import matplotlib.font_manager as fm\n",
    "mpl.rcParams['axes.unicode_minus'] = False\n",
    "plt.rcParams[\"font.family\"] = 'Malgun Gothic' \n",
    "plt.rcParams[\"font.size\"] = 10\n",
    "%matplotlib inline \n",
    "\n",
    "\n",
    "from datetime import datetime, timedelta \n",
    "from statsmodels.tsa.arima_model import ARIMA \n",
    "\n",
    "from sklearn.preprocessing import StandardScaler\n",
    "import os"
   ]
  },
  {
   "cell_type": "code",
   "execution_count": 2,
   "metadata": {},
   "outputs": [],
   "source": [
    "import os\n",
    "for dirname, _, filenames in os.walk('/kaggle/input/'):\n",
    "    for filename in filenames:\n",
    "        print(os.path.join(dirname, filename))"
   ]
  },
  {
   "cell_type": "code",
   "execution_count": 6,
   "metadata": {},
   "outputs": [],
   "source": [
    "# test = pd.read_csv(\"/kaggle/input/dataset/test.csv\", sep = \",\")\n",
    "# train = pd.read_csv(\"/kaggle/input/dataset/train.csv\", sep =\",\")\n",
    "# submission = pd.read_csv(\"/kaggle/input/dataset/submission.csv\")\n",
    "\n",
    "test = pd.read_csv(\"data/test.csv\", sep = \",\")\n",
    "train = pd.read_csv(\"data/train.csv\", sep =\",\")\n",
    "submission = pd.read_csv(\"data/submission.csv\")"
   ]
  },
  {
   "cell_type": "markdown",
   "metadata": {},
   "source": [
    "## Clustering by Ratio(미터ID마다 시간별 값/lag(1일, 7일))"
   ]
  },
  {
   "cell_type": "code",
   "execution_count": 7,
   "metadata": {},
   "outputs": [],
   "source": [
    "from scipy.cluster.hierarchy import linkage, dendrogram\n",
    "import matplotlib.pyplot as plt\n",
    "from scipy.cluster.hierarchy import fcluster"
   ]
  },
  {
   "cell_type": "code",
   "execution_count": 9,
   "metadata": {},
   "outputs": [],
   "source": [
    "train2 = train.copy()\n",
    "train3 = pd.melt(train2, id_vars=['Time'], value_vars=train2.columns[1:1292])"
   ]
  },
  {
   "cell_type": "code",
   "execution_count": null,
   "metadata": {},
   "outputs": [],
   "source": [
    "train4 = train3.groupby(['Time','variable'])['value'].agg({'value':'mean'}).reset_index()"
   ]
  },
  {
   "cell_type": "code",
   "execution_count": null,
   "metadata": {
    "scrolled": true
   },
   "outputs": [],
   "source": [
    "train5 = train4.copy()\n",
    "train5['lag1'] = train5.groupby(['variable'])['value'].shift(1)\n",
    "train5['lag7'] = train5.groupby(['variable'])['value'].shift(7)\n",
    "train5 = train5.fillna(0)\n",
    "train5['ratio1'] = train5['value']/(train5['lag1']+1)\n",
    "train5['ratio7'] = train5['value']/(train5['lag7']+1)\n",
    "train5.head(2)"
   ]
  },
  {
   "cell_type": "code",
   "execution_count": null,
   "metadata": {},
   "outputs": [],
   "source": [
    "train6 = train5.groupby(['variable']).agg({'ratio1':'mean','ratio7':'mean'}).reset_index()\n",
    "featureTr = train6.copy()\n",
    "plt.scatter(featureTr['ratio1'], featureTr['ratio7'])"
   ]
  },
  {
   "cell_type": "code",
   "execution_count": null,
   "metadata": {
    "scrolled": true
   },
   "outputs": [],
   "source": [
    "featureTr['id'] = [int(s[1:]) for s in featureTr['variable']]\n",
    "featureTr2 = featureTr.iloc[:, 1:]\n",
    "featureTr2"
   ]
  },
  {
   "cell_type": "code",
   "execution_count": null,
   "metadata": {},
   "outputs": [],
   "source": [
    "Z = linkage(featureTr2,'ward')\n",
    "\n",
    "plt.figure(figsize=(50,20))\n",
    "dendrogram(Z,\n",
    "           leaf_rotation=100,\n",
    "           leaf_font_size=1,\n",
    ")\n",
    "plt.show()"
   ]
  },
  {
   "cell_type": "code",
   "execution_count": null,
   "metadata": {},
   "outputs": [],
   "source": [
    "k=3\n",
    "featureTr3 = featureTr.copy()\n",
    "featureTr3 = featureTr3.drop(columns='id')\n",
    "predict = fcluster(Z, k, criterion = 'maxclust')\n",
    "featureTr3['cluster']=predict\n",
    "train7 = pd.merge(train5, featureTr3, on ='variable',how='left')\n",
    "\n",
    "c_1T = train7[train7['cluster']==1]\n",
    "c_2T = train7[train7['cluster']==2]\n",
    "c_3T = train7[train7['cluster']==3]"
   ]
  },
  {
   "cell_type": "code",
   "execution_count": null,
   "metadata": {},
   "outputs": [],
   "source": [
    "cnt_srs_1T = c_1T.groupby('Time')['value'].mean()\n",
    "cnt_srs_2T = c_2T.groupby('Time')['value'].mean()\n",
    "cnt_srs_3T = c_3T.groupby('Time')['value'].mean()"
   ]
  },
  {
   "cell_type": "code",
   "execution_count": null,
   "metadata": {},
   "outputs": [],
   "source": [
    "import plotly.graph_objs as go\n",
    "def scatter_plot(cnt_srs, color, showlegend1=False, name1 = \"\"):\n",
    "    trace = go.Scatter(\n",
    "        x=cnt_srs.index[::-1],\n",
    "        y=cnt_srs.values[::-1],\n",
    "        name = name1,\n",
    "        showlegend=showlegend1,\n",
    "        marker=dict(\n",
    "            color=color,\n",
    "        ),\n",
    "    )\n",
    "    return trace"
   ]
  },
  {
   "cell_type": "code",
   "execution_count": null,
   "metadata": {},
   "outputs": [],
   "source": [
    "trace_1T = scatter_plot(cnt_srs_1T, 'yellow', True ,'Cluster_1')\n",
    "trace_2T = scatter_plot(cnt_srs_2T, 'green', True ,'Cluster_2')\n",
    "trace_3T = scatter_plot(cnt_srs_3T, 'red', True ,'Cluster_3')"
   ]
  },
  {
   "cell_type": "code",
   "execution_count": null,
   "metadata": {},
   "outputs": [],
   "source": [
    "import plotly.offline as py\n",
    "layout = go.Layout(\n",
    "    height=500,\n",
    "    width=1000,\n",
    "    #paper_bgcolor='rgb(233,233,233)',\n",
    "    title='Train Clustering_3'\n",
    ")\n",
    "\n",
    "data = [trace_1T,trace_2T, trace_3T]\n",
    "fig = go.Figure(data=data, layout=layout)\n",
    "py.iplot(fig, filename=\"ActivationDate\")"
   ]
  },
  {
   "cell_type": "code",
   "execution_count": null,
   "metadata": {},
   "outputs": [],
   "source": [
    "test2 = test.copy()"
   ]
  },
  {
   "cell_type": "code",
   "execution_count": null,
   "metadata": {},
   "outputs": [],
   "source": [
    "test2.reset_index(level=0, inplace=True)\n",
    "v = test2.columns[1:12]\n",
    "test3 = pd.melt(test2, id_vars=['Time'], value_vars=test2.columns[1:1292])"
   ]
  },
  {
   "cell_type": "code",
   "execution_count": null,
   "metadata": {},
   "outputs": [],
   "source": [
    "test4 = test3.groupby(['Time','variable'])['value'].agg({'value':'mean'}).reset_index()"
   ]
  },
  {
   "cell_type": "code",
   "execution_count": null,
   "metadata": {
    "scrolled": true
   },
   "outputs": [],
   "source": [
    "test5 = test4.copy()\n",
    "test5['lag1'] = test5.groupby(['variable'])['value'].shift(1)\n",
    "test5['lag7'] = test5.groupby(['variable'])['value'].shift(7)\n",
    "test5 = test5.fillna(0)\n",
    "test5['ratio1'] = test5['value']/(test5['lag1']+1)\n",
    "test5['ratio7'] = test5['value']/(test5['lag7']+1)\n",
    "test5.head(2)"
   ]
  },
  {
   "cell_type": "code",
   "execution_count": null,
   "metadata": {},
   "outputs": [],
   "source": [
    "test6 = test5.groupby(['variable']).agg({'ratio1':'mean','ratio7':'mean'}).reset_index()\n",
    "feature = test6\n",
    "plt.scatter(feature['ratio1'], feature['ratio7'])"
   ]
  },
  {
   "cell_type": "code",
   "execution_count": null,
   "metadata": {
    "scrolled": true
   },
   "outputs": [],
   "source": [
    "feature['id'] = [int(s[1:]) for s in feature['variable']]\n",
    "feature2 = feature.iloc[:, 1:]\n",
    "feature2"
   ]
  },
  {
   "cell_type": "code",
   "execution_count": null,
   "metadata": {},
   "outputs": [],
   "source": [
    "Z = linkage(feature2,'ward')\n",
    "\n",
    "plt.figure(figsize=(50,20))\n",
    "dendrogram(Z,\n",
    "           leaf_rotation=100,\n",
    "           leaf_font_size=1,\n",
    ")\n",
    "plt.show()"
   ]
  },
  {
   "cell_type": "code",
   "execution_count": null,
   "metadata": {},
   "outputs": [],
   "source": [
    "feature3 = feature.copy()\n",
    "feature3 = feature3.drop(columns='id')"
   ]
  },
  {
   "cell_type": "code",
   "execution_count": null,
   "metadata": {},
   "outputs": [],
   "source": [
    "k=3\n",
    "\n",
    "predict = fcluster(Z, k, criterion = 'maxclust')\n",
    "feature3['cluster']=predict\n",
    "test7 = pd.merge(test5, feature3, on ='variable',how='left')\n",
    "\n",
    "c_1 = test7[test7['cluster']==1]\n",
    "c_2 = test7[test7['cluster']==2]\n",
    "c_3 = test7[test7['cluster']==3]\n",
    "# c_4 = test7[test7['cluster']==4]"
   ]
  },
  {
   "cell_type": "code",
   "execution_count": null,
   "metadata": {},
   "outputs": [],
   "source": [
    "cnt_srs_1 = c_1.groupby('Time')['value'].mean()\n",
    "cnt_srs_2 = c_2.groupby('Time')['value'].mean()\n",
    "cnt_srs_3 = c_3.groupby('Time')['value'].mean()\n",
    "# cnt_srs_4 = c_4.groupby('Time')['value'].mean()"
   ]
  },
  {
   "cell_type": "code",
   "execution_count": null,
   "metadata": {},
   "outputs": [],
   "source": [
    "import plotly.graph_objs as go\n",
    "def scatter_plot(cnt_srs, color, showlegend1=False, name1 = \"\"):\n",
    "    trace = go.Scatter(\n",
    "        x=cnt_srs.index[::-1],\n",
    "        y=cnt_srs.values[::-1],\n",
    "        name = name1,\n",
    "        showlegend=showlegend1,\n",
    "        marker=dict(\n",
    "            color=color,\n",
    "        ),\n",
    "    )\n",
    "    return trace"
   ]
  },
  {
   "cell_type": "code",
   "execution_count": null,
   "metadata": {},
   "outputs": [],
   "source": [
    "trace_1 = scatter_plot(cnt_srs_1, 'yellow', True ,'Cluster_1')\n",
    "trace_2 = scatter_plot(cnt_srs_2, 'green', True ,'Cluster_2')\n",
    "trace_3 = scatter_plot(cnt_srs_3, 'red', True ,'Cluster_3')\n",
    "# trace_4 = scatter_plot(cnt_srs_3, 'grey', True ,'Cluster_3')"
   ]
  },
  {
   "cell_type": "code",
   "execution_count": null,
   "metadata": {},
   "outputs": [],
   "source": [
    "import plotly.offline as py\n",
    "layout = go.Layout(\n",
    "    height=500,\n",
    "    width=1000,\n",
    "    #paper_bgcolor='rgb(233,233,233)',\n",
    "    title='Test Clustering_2'\n",
    ")\n",
    "\n",
    "data = [trace_1,trace_2, trace_3]\n",
    "fig = go.Figure(data=data, layout=layout)\n",
    "py.iplot(fig, filename=\"ActivationDate\")"
   ]
  },
  {
   "cell_type": "code",
   "execution_count": null,
   "metadata": {
    "scrolled": true
   },
   "outputs": [],
   "source": [
    "test7.groupby('cluster')['variable'].nunique()"
   ]
  },
  {
   "cell_type": "code",
   "execution_count": null,
   "metadata": {},
   "outputs": [],
   "source": [
    "# TEST에서 각각의 클러스터에 해당하는 ID 추출\n",
    "c1_testID = np.unique(test7[test7.cluster==1]['variable'])\n",
    "c2_testID = np.unique(test7[test7.cluster==2]['variable'])\n",
    "c3_testID = np.unique(test7[test7.cluster==3]['variable'])"
   ]
  },
  {
   "cell_type": "code",
   "execution_count": null,
   "metadata": {},
   "outputs": [],
   "source": [
    "print(c1_testID,'\\n',c2_testID,'\\n', c3_testID)"
   ]
  },
  {
   "cell_type": "markdown",
   "metadata": {},
   "source": [
    "## NA 채우기\n",
    "- 요일+시간가중치+Dacon적용, 누적값 분산한 ch_Test, ch_Train을 각각 50% 이상의 데이터가 존재하는 시간대에서 cut\n",
    "- Train (X118) 데이터 값이 1개여서 추가 drop\n",
    "- Arima를 이용해 단순 예측한 24hr을 시간에 맞춰 대입"
   ]
  },
  {
   "cell_type": "code",
   "execution_count": null,
   "metadata": {
    "scrolled": true
   },
   "outputs": [],
   "source": [
    "changed_train = pd.read_csv(\"data/train_DHWeight_onDacon.csv\", index_col=0, sep=',')\n",
    "changed_test = pd.read_csv(\"data/test_DHWeight_onDacon.csv\", index_col=0, sep=',')"
   ]
  },
  {
   "cell_type": "code",
   "execution_count": null,
   "metadata": {},
   "outputs": [],
   "source": [
    "changed_test.shape"
   ]
  },
  {
   "cell_type": "code",
   "execution_count": null,
   "metadata": {},
   "outputs": [],
   "source": [
    "changed_test.index = pd.to_datetime(changed_test.index) \n",
    "changed_train.index = pd.to_datetime(changed_train.index) "
   ]
  },
  {
   "cell_type": "code",
   "execution_count": null,
   "metadata": {},
   "outputs": [],
   "source": [
    "idx = changed_test.count(axis = 'columns') >= 200*0.5\n",
    "ch_te_TimeCut = changed_test[changed_test[idx].index[0]:]"
   ]
  },
  {
   "cell_type": "code",
   "execution_count": null,
   "metadata": {},
   "outputs": [],
   "source": [
    "arima_test = pd.read_csv(\"data/TEST_DHWonDacon_24시간예측.csv\",index_col=0, sep=',')\n",
    "arima_train = pd.read_csv(\"data/TRAIN_DHWonDacon_24시간예측.csv\",index_col=0, sep=',')"
   ]
  },
  {
   "cell_type": "code",
   "execution_count": null,
   "metadata": {},
   "outputs": [],
   "source": [
    "def fillNA(df1, df2):\n",
    "    df = pd.DataFrame()\n",
    "    n=0\n",
    "    for i in df1.columns:\n",
    "        n += 1\n",
    "        li = df1[df1[i].isnull()].index\n",
    "        tmp = pd.DataFrame(df1[i]) \n",
    "        print(\"%d. current column: %s, NaN count: %d\" %(n, i, len(li)))\n",
    "        for time in li:\n",
    "            h = time.hour\n",
    "            tmp.loc[time] = df2.iloc[h][i]\n",
    "        df = pd.concat([df,tmp], axis=1) \n",
    "    return df"
   ]
  },
  {
   "cell_type": "code",
   "execution_count": null,
   "metadata": {
    "collapsed": true
   },
   "outputs": [],
   "source": [
    "TE_TimeCut_NAfilled = fillNA(ch_te_TimeCut, arima_test)\n",
    "TE_TimeCut_NAfilled.shape"
   ]
  },
  {
   "cell_type": "code",
   "execution_count": null,
   "metadata": {},
   "outputs": [],
   "source": [
    "ch_te_TimeCut.iloc[:,ch_te_TimeCut.isnull().sum().values == 5577].columns"
   ]
  },
  {
   "cell_type": "code",
   "execution_count": null,
   "metadata": {
    "scrolled": true
   },
   "outputs": [],
   "source": [
    "idx = changed_train.count(axis = 'columns') >= 1292*0.5\n",
    "ch_tr_TimeCut = changed_train[changed_train[idx].index[0]:]\n",
    "ch_tr_TimeCut"
   ]
  },
  {
   "cell_type": "code",
   "execution_count": null,
   "metadata": {},
   "outputs": [],
   "source": [
    "# drop a columns X118 since it is Empty in Arima_Train df\n",
    "ch_tr_TimeCut = ch_tr_TimeCut.drop(columns = 'X118')"
   ]
  },
  {
   "cell_type": "code",
   "execution_count": null,
   "metadata": {},
   "outputs": [],
   "source": [
    "TR_TimeCut_NAfilled = fillNA(ch_tr_TimeCut, arima_train)\n",
    "TR_TimeCut_NAfilled.shape"
   ]
  },
  {
   "cell_type": "code",
   "execution_count": null,
   "metadata": {},
   "outputs": [],
   "source": [
    "TE_TimeCut_NAfilled.to_csv(\"data/TEST_DHweightDaconArima_NAFilled.csv\")"
   ]
  },
  {
   "cell_type": "code",
   "execution_count": null,
   "metadata": {},
   "outputs": [],
   "source": [
    "TR_TimeCut_NAfilled.to_csv(\"data/TRAIN_DHweightDaconArima_NAFilled.csv\")"
   ]
  },
  {
   "cell_type": "markdown",
   "metadata": {},
   "source": [
    "## Weather 추가변수\n",
    "- 나중에 모델 돌릴때마다 df에 추가하는 것"
   ]
  },
  {
   "cell_type": "code",
   "execution_count": 9,
   "metadata": {},
   "outputs": [
    {
     "data": {
      "text/html": [
       "<div>\n",
       "<style scoped>\n",
       "    .dataframe tbody tr th:only-of-type {\n",
       "        vertical-align: middle;\n",
       "    }\n",
       "\n",
       "    .dataframe tbody tr th {\n",
       "        vertical-align: top;\n",
       "    }\n",
       "\n",
       "    .dataframe thead th {\n",
       "        text-align: right;\n",
       "    }\n",
       "</style>\n",
       "<table border=\"1\" class=\"dataframe\">\n",
       "  <thead>\n",
       "    <tr style=\"text-align: right;\">\n",
       "      <th></th>\n",
       "      <th>Time</th>\n",
       "      <th>Temp</th>\n",
       "      <th>Humidity</th>\n",
       "      <th>WindSpeed</th>\n",
       "    </tr>\n",
       "  </thead>\n",
       "  <tbody>\n",
       "    <tr>\n",
       "      <th>0</th>\n",
       "      <td>2016.7.20 0:00</td>\n",
       "      <td>25.7</td>\n",
       "      <td>0.0</td>\n",
       "      <td>1.3</td>\n",
       "    </tr>\n",
       "    <tr>\n",
       "      <th>1</th>\n",
       "      <td>2016.7.20 1:00</td>\n",
       "      <td>25.6</td>\n",
       "      <td>0.0</td>\n",
       "      <td>1.4</td>\n",
       "    </tr>\n",
       "  </tbody>\n",
       "</table>\n",
       "</div>"
      ],
      "text/plain": [
       "             Time  Temp  Humidity  WindSpeed\n",
       "0  2016.7.20 0:00  25.7       0.0        1.3\n",
       "1  2016.7.20 1:00  25.6       0.0        1.4"
      ]
     },
     "execution_count": 9,
     "metadata": {},
     "output_type": "execute_result"
    }
   ],
   "source": [
    "# hourly WEATHER data\n",
    "w_hr = pd.read_csv(\"/kaggle/input/weather/hourly.csv\",encoding='euc-kr', sep=',')\n",
    "w_hr2 = w_hr.loc[:,['Time', 'Temp','Humidity', 'WindSpeed']]\n",
    "w_hr2['Humidity']=w_hr2.loc[:,'Humidity'].fillna(0)\n",
    "w_hr2.head(2)"
   ]
  },
  {
   "cell_type": "code",
   "execution_count": 10,
   "metadata": {},
   "outputs": [
    {
     "data": {
      "text/html": [
       "<div>\n",
       "<style scoped>\n",
       "    .dataframe tbody tr th:only-of-type {\n",
       "        vertical-align: middle;\n",
       "    }\n",
       "\n",
       "    .dataframe tbody tr th {\n",
       "        vertical-align: top;\n",
       "    }\n",
       "\n",
       "    .dataframe thead th {\n",
       "        text-align: right;\n",
       "    }\n",
       "</style>\n",
       "<table border=\"1\" class=\"dataframe\">\n",
       "  <thead>\n",
       "    <tr style=\"text-align: right;\">\n",
       "      <th></th>\n",
       "      <th>Temp</th>\n",
       "      <th>Humidity</th>\n",
       "      <th>WindSpeed</th>\n",
       "    </tr>\n",
       "    <tr>\n",
       "      <th>Time</th>\n",
       "      <th></th>\n",
       "      <th></th>\n",
       "      <th></th>\n",
       "    </tr>\n",
       "  </thead>\n",
       "  <tbody>\n",
       "    <tr>\n",
       "      <th>2016-07-20 00:00:00</th>\n",
       "      <td>25.7</td>\n",
       "      <td>0.0</td>\n",
       "      <td>1.3</td>\n",
       "    </tr>\n",
       "    <tr>\n",
       "      <th>2016-07-20 01:00:00</th>\n",
       "      <td>25.6</td>\n",
       "      <td>0.0</td>\n",
       "      <td>1.4</td>\n",
       "    </tr>\n",
       "  </tbody>\n",
       "</table>\n",
       "</div>"
      ],
      "text/plain": [
       "                     Temp  Humidity  WindSpeed\n",
       "Time                                          \n",
       "2016-07-20 00:00:00  25.7       0.0        1.3\n",
       "2016-07-20 01:00:00  25.6       0.0        1.4"
      ]
     },
     "execution_count": 10,
     "metadata": {},
     "output_type": "execute_result"
    }
   ],
   "source": [
    "w_hr2['Time'] = pd.to_datetime(w_hr2.Time)\n",
    "w_hr2 = w_hr2.set_index('Time')\n",
    "w_hr2.head(2)"
   ]
  },
  {
   "cell_type": "code",
   "execution_count": null,
   "metadata": {},
   "outputs": [],
   "source": [
    "# daily WEATHER data\n",
    "# w_daily = pd.read_csv(\"data/weather/인천_일별_기상자료(16-18)_축소.csv\",encoding='euc-kr', sep=',')\n",
    "# w_daily2 = w_daily.iloc[:,1:5]\n",
    "# old = w_daily2.columns\n",
    "# new = ['Time', 'AvgT', 'MinT', 'MaxT']\n",
    "# w_daily2 = w_daily2.rename(columns=dict(zip(old, new)))\n",
    "# w_daily2.head(2)"
   ]
  },
  {
   "cell_type": "code",
   "execution_count": null,
   "metadata": {},
   "outputs": [],
   "source": [
    "# w_daily2['Time'] = pd.to_datetime(w_daily2.Time)\n",
    "# w_daily2 = w_daily2.set_index('Time')\n",
    "# w_daily2.head(2)"
   ]
  },
  {
   "cell_type": "markdown",
   "metadata": {},
   "source": [
    "## 파생 및 dummy변수"
   ]
  },
  {
   "cell_type": "code",
   "execution_count": 11,
   "metadata": {},
   "outputs": [],
   "source": [
    "test = pd.read_csv(\"/kaggle/input/dataset/TEST_DHweightDaconArima_NAFilled.csv\", index_col=0, sep=',')\n",
    "train = pd.read_csv(\"/kaggle/input/dataset/TRAIN_DHweightDaconArima_NAFilled.csv\", index_col=0, sep=',')"
   ]
  },
  {
   "cell_type": "code",
   "execution_count": 12,
   "metadata": {},
   "outputs": [
    {
     "data": {
      "text/html": [
       "<div>\n",
       "<style scoped>\n",
       "    .dataframe tbody tr th:only-of-type {\n",
       "        vertical-align: middle;\n",
       "    }\n",
       "\n",
       "    .dataframe tbody tr th {\n",
       "        vertical-align: top;\n",
       "    }\n",
       "\n",
       "    .dataframe thead th {\n",
       "        text-align: right;\n",
       "    }\n",
       "</style>\n",
       "<table border=\"1\" class=\"dataframe\">\n",
       "  <thead>\n",
       "    <tr style=\"text-align: right;\">\n",
       "      <th></th>\n",
       "      <th>X26</th>\n",
       "      <th>X303</th>\n",
       "      <th>X241</th>\n",
       "      <th>X435</th>\n",
       "      <th>X402</th>\n",
       "      <th>X352</th>\n",
       "      <th>X305</th>\n",
       "      <th>X350</th>\n",
       "      <th>X326</th>\n",
       "      <th>X299</th>\n",
       "      <th>...</th>\n",
       "      <th>X283</th>\n",
       "      <th>X329</th>\n",
       "      <th>X223</th>\n",
       "      <th>X266</th>\n",
       "      <th>X20</th>\n",
       "      <th>X443</th>\n",
       "      <th>X347</th>\n",
       "      <th>X75</th>\n",
       "      <th>X107</th>\n",
       "      <th>X230</th>\n",
       "    </tr>\n",
       "    <tr>\n",
       "      <th>Time</th>\n",
       "      <th></th>\n",
       "      <th></th>\n",
       "      <th></th>\n",
       "      <th></th>\n",
       "      <th></th>\n",
       "      <th></th>\n",
       "      <th></th>\n",
       "      <th></th>\n",
       "      <th></th>\n",
       "      <th></th>\n",
       "      <th></th>\n",
       "      <th></th>\n",
       "      <th></th>\n",
       "      <th></th>\n",
       "      <th></th>\n",
       "      <th></th>\n",
       "      <th></th>\n",
       "      <th></th>\n",
       "      <th></th>\n",
       "      <th></th>\n",
       "      <th></th>\n",
       "    </tr>\n",
       "  </thead>\n",
       "  <tbody>\n",
       "    <tr>\n",
       "      <th>2017-08-29 10:00:00</th>\n",
       "      <td>1.453803</td>\n",
       "      <td>0.431</td>\n",
       "      <td>0.276</td>\n",
       "      <td>0.228</td>\n",
       "      <td>0.432</td>\n",
       "      <td>0.232</td>\n",
       "      <td>0.348</td>\n",
       "      <td>0.259</td>\n",
       "      <td>0.194</td>\n",
       "      <td>0.086</td>\n",
       "      <td>...</td>\n",
       "      <td>0.114</td>\n",
       "      <td>0.087</td>\n",
       "      <td>0.283</td>\n",
       "      <td>0.342142</td>\n",
       "      <td>1.148489</td>\n",
       "      <td>0.094</td>\n",
       "      <td>0.351</td>\n",
       "      <td>1.109</td>\n",
       "      <td>0.225</td>\n",
       "      <td>0.29667</td>\n",
       "    </tr>\n",
       "  </tbody>\n",
       "</table>\n",
       "<p>1 rows × 200 columns</p>\n",
       "</div>"
      ],
      "text/plain": [
       "                          X26   X303   X241   X435   X402   X352   X305  \\\n",
       "Time                                                                      \n",
       "2017-08-29 10:00:00  1.453803  0.431  0.276  0.228  0.432  0.232  0.348   \n",
       "\n",
       "                      X350   X326   X299  ...   X283   X329   X223      X266  \\\n",
       "Time                                      ...                                  \n",
       "2017-08-29 10:00:00  0.259  0.194  0.086  ...  0.114  0.087  0.283  0.342142   \n",
       "\n",
       "                          X20   X443   X347    X75   X107     X230  \n",
       "Time                                                                \n",
       "2017-08-29 10:00:00  1.148489  0.094  0.351  1.109  0.225  0.29667  \n",
       "\n",
       "[1 rows x 200 columns]"
      ]
     },
     "execution_count": 12,
     "metadata": {},
     "output_type": "execute_result"
    }
   ],
   "source": [
    "test.head(1)"
   ]
  },
  {
   "cell_type": "code",
   "execution_count": 13,
   "metadata": {},
   "outputs": [],
   "source": [
    "test.index = pd.to_datetime(test.index)"
   ]
  },
  {
   "cell_type": "code",
   "execution_count": 16,
   "metadata": {},
   "outputs": [
    {
     "data": {
      "text/html": [
       "<div>\n",
       "<style scoped>\n",
       "    .dataframe tbody tr th:only-of-type {\n",
       "        vertical-align: middle;\n",
       "    }\n",
       "\n",
       "    .dataframe tbody tr th {\n",
       "        vertical-align: top;\n",
       "    }\n",
       "\n",
       "    .dataframe thead th {\n",
       "        text-align: right;\n",
       "    }\n",
       "</style>\n",
       "<table border=\"1\" class=\"dataframe\">\n",
       "  <thead>\n",
       "    <tr style=\"text-align: right;\">\n",
       "      <th></th>\n",
       "      <th>X26</th>\n",
       "      <th>X303</th>\n",
       "      <th>X241</th>\n",
       "      <th>X435</th>\n",
       "      <th>X402</th>\n",
       "      <th>X352</th>\n",
       "      <th>X305</th>\n",
       "      <th>X350</th>\n",
       "      <th>X326</th>\n",
       "      <th>X299</th>\n",
       "      <th>...</th>\n",
       "      <th>X283</th>\n",
       "      <th>X329</th>\n",
       "      <th>X223</th>\n",
       "      <th>X266</th>\n",
       "      <th>X20</th>\n",
       "      <th>X443</th>\n",
       "      <th>X347</th>\n",
       "      <th>X75</th>\n",
       "      <th>X107</th>\n",
       "      <th>X230</th>\n",
       "    </tr>\n",
       "    <tr>\n",
       "      <th>Time</th>\n",
       "      <th></th>\n",
       "      <th></th>\n",
       "      <th></th>\n",
       "      <th></th>\n",
       "      <th></th>\n",
       "      <th></th>\n",
       "      <th></th>\n",
       "      <th></th>\n",
       "      <th></th>\n",
       "      <th></th>\n",
       "      <th></th>\n",
       "      <th></th>\n",
       "      <th></th>\n",
       "      <th></th>\n",
       "      <th></th>\n",
       "      <th></th>\n",
       "      <th></th>\n",
       "      <th></th>\n",
       "      <th></th>\n",
       "      <th></th>\n",
       "      <th></th>\n",
       "    </tr>\n",
       "  </thead>\n",
       "  <tbody>\n",
       "    <tr>\n",
       "      <th>2017.7.1 0:00</th>\n",
       "      <td>NaN</td>\n",
       "      <td>NaN</td>\n",
       "      <td>NaN</td>\n",
       "      <td>NaN</td>\n",
       "      <td>NaN</td>\n",
       "      <td>NaN</td>\n",
       "      <td>NaN</td>\n",
       "      <td>NaN</td>\n",
       "      <td>NaN</td>\n",
       "      <td>NaN</td>\n",
       "      <td>...</td>\n",
       "      <td>NaN</td>\n",
       "      <td>NaN</td>\n",
       "      <td>NaN</td>\n",
       "      <td>NaN</td>\n",
       "      <td>NaN</td>\n",
       "      <td>NaN</td>\n",
       "      <td>NaN</td>\n",
       "      <td>0.275</td>\n",
       "      <td>0.021</td>\n",
       "      <td>NaN</td>\n",
       "    </tr>\n",
       "  </tbody>\n",
       "</table>\n",
       "<p>1 rows × 200 columns</p>\n",
       "</div>"
      ],
      "text/plain": [
       "               X26  X303  X241  X435  X402  X352  X305  X350  X326  X299  ...  \\\n",
       "Time                                                                      ...   \n",
       "2017.7.1 0:00  NaN   NaN   NaN   NaN   NaN   NaN   NaN   NaN   NaN   NaN  ...   \n",
       "\n",
       "               X283  X329  X223  X266  X20  X443  X347    X75   X107  X230  \n",
       "Time                                                                        \n",
       "2017.7.1 0:00   NaN   NaN   NaN   NaN  NaN   NaN   NaN  0.275  0.021   NaN  \n",
       "\n",
       "[1 rows x 200 columns]"
      ]
     },
     "execution_count": 16,
     "metadata": {},
     "output_type": "execute_result"
    }
   ],
   "source": [
    "ori_test = pd.read_csv(\"/kaggle/input/dataset/test.csv\", index_col = 0)\n",
    "ori_test.head(1)"
   ]
  },
  {
   "cell_type": "code",
   "execution_count": 17,
   "metadata": {},
   "outputs": [],
   "source": [
    "def dateTimeVar(df):\n",
    "    df1 = pd.DataFrame(df.index)\n",
    "    df1.index = pd.to_datetime(df1.iloc[:,0])\n",
    "    df1 = df1.drop(columns=df1.columns)\n",
    "    # datetime을 사용한 파생변수\n",
    "    # 연도, 월, 일, 요일, 시간\n",
    "    df1['Mth']= df1.index.month\n",
    "    df1['Date']=df1.index.day\n",
    "    df1['Day']=df1.index.weekday\n",
    "    df1['hour']=df1.index.hour\n",
    "    \n",
    "    # Season 1: 봄 ~ 4: 겨울 \n",
    "    df1['season'] = df1.Mth.apply(lambda x: 4 if x in [12,1,2] else \n",
    "                1 if x in [3,4,5] else 2 if x in [6,7,8]\n",
    "               else 3)\n",
    "    # dayClass 1: 월, 2: 화~금, 3: 토, 일 \n",
    "    # 참조 from 실시간 수요예측 기법 개발 및 온라인 수요예측 방안 연구_KPX 한국전력거래소)\n",
    "    df1['dayClass'] = df1.Day.apply(lambda x: 1 if x ==0 else \n",
    "                2 if x in [1,2,3,4] else 3)\n",
    "    return df1"
   ]
  },
  {
   "cell_type": "code",
   "execution_count": 18,
   "metadata": {},
   "outputs": [],
   "source": [
    "TE_time_vars = dateTimeVar(test)"
   ]
  },
  {
   "cell_type": "code",
   "execution_count": 19,
   "metadata": {},
   "outputs": [
    {
     "data": {
      "text/html": [
       "<div>\n",
       "<style scoped>\n",
       "    .dataframe tbody tr th:only-of-type {\n",
       "        vertical-align: middle;\n",
       "    }\n",
       "\n",
       "    .dataframe tbody tr th {\n",
       "        vertical-align: top;\n",
       "    }\n",
       "\n",
       "    .dataframe thead th {\n",
       "        text-align: right;\n",
       "    }\n",
       "</style>\n",
       "<table border=\"1\" class=\"dataframe\">\n",
       "  <thead>\n",
       "    <tr style=\"text-align: right;\">\n",
       "      <th></th>\n",
       "      <th>Mth</th>\n",
       "      <th>Date</th>\n",
       "      <th>Day</th>\n",
       "      <th>hour</th>\n",
       "      <th>season</th>\n",
       "      <th>dayClass</th>\n",
       "    </tr>\n",
       "    <tr>\n",
       "      <th>Time</th>\n",
       "      <th></th>\n",
       "      <th></th>\n",
       "      <th></th>\n",
       "      <th></th>\n",
       "      <th></th>\n",
       "      <th></th>\n",
       "    </tr>\n",
       "  </thead>\n",
       "  <tbody>\n",
       "    <tr>\n",
       "      <th>2017-08-29 10:00:00</th>\n",
       "      <td>8</td>\n",
       "      <td>29</td>\n",
       "      <td>1</td>\n",
       "      <td>10</td>\n",
       "      <td>2</td>\n",
       "      <td>2</td>\n",
       "    </tr>\n",
       "  </tbody>\n",
       "</table>\n",
       "</div>"
      ],
      "text/plain": [
       "                     Mth  Date  Day  hour  season  dayClass\n",
       "Time                                                       \n",
       "2017-08-29 10:00:00    8    29    1    10       2         2"
      ]
     },
     "execution_count": 19,
     "metadata": {},
     "output_type": "execute_result"
    }
   ],
   "source": [
    "TE_time_vars.head(1)"
   ]
  },
  {
   "cell_type": "markdown",
   "metadata": {},
   "source": [
    "**파생변수와 TS관계 (클러스터별 random sample 3개씩)**"
   ]
  },
  {
   "cell_type": "code",
   "execution_count": null,
   "metadata": {},
   "outputs": [],
   "source": [
    "from random import seed,randint"
   ]
  },
  {
   "cell_type": "code",
   "execution_count": null,
   "metadata": {},
   "outputs": [],
   "source": [
    "test_timevars = pd.concat([test, TE_time_vars], axis=1)"
   ]
  },
  {
   "cell_type": "code",
   "execution_count": null,
   "metadata": {},
   "outputs": [],
   "source": [
    "rd_test1 = [] ; rd_test2 = [] ; rd_test3 = []\n",
    "# seed(2.83)\n",
    "# for _ in range(3):\n",
    "#     rd_test1.append(c1_testID[randint(0,len(c1_testID))])\n",
    "# for _ in range(3):\n",
    "#     rd_test2.append(c2_testID[randint(0,len(c2_testID))])\n",
    "# for _ in range(3):\n",
    "#     rd_test3.append(c3_testID[randint(0,len(c3_testID))])\n",
    "rd_test1 = ['X42', 'X111', 'X20']\n",
    "rd_test2 = ['X216', 'X248', 'X245']\n",
    "rd_test3 = ['X422', 'X398', 'X399']"
   ]
  },
  {
   "cell_type": "code",
   "execution_count": null,
   "metadata": {},
   "outputs": [],
   "source": [
    "test_timevars.groupby('Mth')[rd_test1].mean().plot()"
   ]
  },
  {
   "cell_type": "code",
   "execution_count": null,
   "metadata": {},
   "outputs": [],
   "source": [
    "test_timevars.groupby('Mth')[rd_test2].mean().plot()"
   ]
  },
  {
   "cell_type": "code",
   "execution_count": null,
   "metadata": {},
   "outputs": [],
   "source": [
    "test_timevars.groupby('Mth')[rd_test3].mean().plot()"
   ]
  },
  {
   "cell_type": "markdown",
   "metadata": {},
   "source": [
    "# 그래프그래프그으으으래래래ㅐㄹ프 그려라 "
   ]
  },
  {
   "cell_type": "code",
   "execution_count": null,
   "metadata": {},
   "outputs": [],
   "source": [
    "# plt.rcParams.update({'font.size': 15})\n",
    "# fig = plt.figure(figsize=(60,14))\n",
    "# clusters = [rd_test1, rd_test2, rd_test3]\n",
    "\n",
    "# for i in range(1,3):\n",
    "#     for k in range(1,4):\n",
    "#         ax = fig.add_subplot(i,3,k)\n",
    "#         ax.spines['top'].set_visible(False) ; ax.spines['right'].set_visible(False)\n",
    "#         if i==1:\n",
    "#             ax.set_title('월별 전력사용량_Cluster'+str(i))\n",
    "#             ax.plot(test1.groupby('Mth')[clusters[k-1]].mean(), linewidth=4.0)  \n",
    "#         else:\n",
    "#             ax.set_title('계절별 전력사용량_Cluster'+str(i))\n",
    "#             ax.plot(test1.groupby('season')[clusters[k-1]].mean())\n",
    "\n",
    "#         ax.legend(clusters[k-1])"
   ]
  },
  {
   "cell_type": "code",
   "execution_count": null,
   "metadata": {},
   "outputs": [],
   "source": [
    "# test1.groupby('Day')[clusters[0]].mean().plot()\n",
    "# test1.groupby('dayClass')[clusters[0]].mean().plot.bar()"
   ]
  },
  {
   "cell_type": "code",
   "execution_count": null,
   "metadata": {},
   "outputs": [],
   "source": [
    "# test1.groupby('Day')[clusters[1]].mean().plot()\n",
    "# test1.groupby('dayClass')[clusters[1]].mean().plot.bar()"
   ]
  },
  {
   "cell_type": "code",
   "execution_count": null,
   "metadata": {},
   "outputs": [],
   "source": [
    "# test1.groupby('Day')[clusters[2]].mean().plot()\n",
    "# test1.groupby('dayClass')[clusters[2]].mean().plot.bar()"
   ]
  },
  {
   "cell_type": "code",
   "execution_count": null,
   "metadata": {},
   "outputs": [],
   "source": []
  },
  {
   "cell_type": "markdown",
   "metadata": {},
   "source": [
    "## Make DUMMIES"
   ]
  },
  {
   "cell_type": "code",
   "execution_count": 20,
   "metadata": {},
   "outputs": [
    {
     "data": {
      "text/html": [
       "<div>\n",
       "<style scoped>\n",
       "    .dataframe tbody tr th:only-of-type {\n",
       "        vertical-align: middle;\n",
       "    }\n",
       "\n",
       "    .dataframe tbody tr th {\n",
       "        vertical-align: top;\n",
       "    }\n",
       "\n",
       "    .dataframe thead th {\n",
       "        text-align: right;\n",
       "    }\n",
       "</style>\n",
       "<table border=\"1\" class=\"dataframe\">\n",
       "  <thead>\n",
       "    <tr style=\"text-align: right;\">\n",
       "      <th></th>\n",
       "      <th>X26</th>\n",
       "      <th>X303</th>\n",
       "      <th>X241</th>\n",
       "      <th>X435</th>\n",
       "      <th>X402</th>\n",
       "      <th>X352</th>\n",
       "      <th>X305</th>\n",
       "      <th>X350</th>\n",
       "      <th>X326</th>\n",
       "      <th>X299</th>\n",
       "      <th>...</th>\n",
       "      <th>X283</th>\n",
       "      <th>X329</th>\n",
       "      <th>X223</th>\n",
       "      <th>X266</th>\n",
       "      <th>X20</th>\n",
       "      <th>X443</th>\n",
       "      <th>X347</th>\n",
       "      <th>X75</th>\n",
       "      <th>X107</th>\n",
       "      <th>X230</th>\n",
       "    </tr>\n",
       "    <tr>\n",
       "      <th>Time</th>\n",
       "      <th></th>\n",
       "      <th></th>\n",
       "      <th></th>\n",
       "      <th></th>\n",
       "      <th></th>\n",
       "      <th></th>\n",
       "      <th></th>\n",
       "      <th></th>\n",
       "      <th></th>\n",
       "      <th></th>\n",
       "      <th></th>\n",
       "      <th></th>\n",
       "      <th></th>\n",
       "      <th></th>\n",
       "      <th></th>\n",
       "      <th></th>\n",
       "      <th></th>\n",
       "      <th></th>\n",
       "      <th></th>\n",
       "      <th></th>\n",
       "      <th></th>\n",
       "    </tr>\n",
       "  </thead>\n",
       "  <tbody>\n",
       "    <tr>\n",
       "      <th>2017-08-29 10:00:00</th>\n",
       "      <td>1.453803</td>\n",
       "      <td>0.431</td>\n",
       "      <td>0.276</td>\n",
       "      <td>0.228</td>\n",
       "      <td>0.432</td>\n",
       "      <td>0.232</td>\n",
       "      <td>0.348</td>\n",
       "      <td>0.259</td>\n",
       "      <td>0.194</td>\n",
       "      <td>0.086</td>\n",
       "      <td>...</td>\n",
       "      <td>0.114</td>\n",
       "      <td>0.087</td>\n",
       "      <td>0.283</td>\n",
       "      <td>0.342142</td>\n",
       "      <td>1.148489</td>\n",
       "      <td>0.094</td>\n",
       "      <td>0.351</td>\n",
       "      <td>1.109</td>\n",
       "      <td>0.225</td>\n",
       "      <td>0.29667</td>\n",
       "    </tr>\n",
       "    <tr>\n",
       "      <th>2017-08-29 11:00:00</th>\n",
       "      <td>1.458903</td>\n",
       "      <td>0.398</td>\n",
       "      <td>0.293</td>\n",
       "      <td>0.358</td>\n",
       "      <td>0.350</td>\n",
       "      <td>0.232</td>\n",
       "      <td>0.253</td>\n",
       "      <td>0.260</td>\n",
       "      <td>0.168</td>\n",
       "      <td>0.084</td>\n",
       "      <td>...</td>\n",
       "      <td>0.163</td>\n",
       "      <td>0.086</td>\n",
       "      <td>0.288</td>\n",
       "      <td>0.342010</td>\n",
       "      <td>1.150483</td>\n",
       "      <td>0.196</td>\n",
       "      <td>0.343</td>\n",
       "      <td>1.109</td>\n",
       "      <td>0.225</td>\n",
       "      <td>0.29667</td>\n",
       "    </tr>\n",
       "  </tbody>\n",
       "</table>\n",
       "<p>2 rows × 200 columns</p>\n",
       "</div>"
      ],
      "text/plain": [
       "                          X26   X303   X241   X435   X402   X352   X305  \\\n",
       "Time                                                                      \n",
       "2017-08-29 10:00:00  1.453803  0.431  0.276  0.228  0.432  0.232  0.348   \n",
       "2017-08-29 11:00:00  1.458903  0.398  0.293  0.358  0.350  0.232  0.253   \n",
       "\n",
       "                      X350   X326   X299  ...   X283   X329   X223      X266  \\\n",
       "Time                                      ...                                  \n",
       "2017-08-29 10:00:00  0.259  0.194  0.086  ...  0.114  0.087  0.283  0.342142   \n",
       "2017-08-29 11:00:00  0.260  0.168  0.084  ...  0.163  0.086  0.288  0.342010   \n",
       "\n",
       "                          X20   X443   X347    X75   X107     X230  \n",
       "Time                                                                \n",
       "2017-08-29 10:00:00  1.148489  0.094  0.351  1.109  0.225  0.29667  \n",
       "2017-08-29 11:00:00  1.150483  0.196  0.343  1.109  0.225  0.29667  \n",
       "\n",
       "[2 rows x 200 columns]"
      ]
     },
     "execution_count": 20,
     "metadata": {},
     "output_type": "execute_result"
    }
   ],
   "source": [
    "test.head(2)"
   ]
  },
  {
   "cell_type": "code",
   "execution_count": 21,
   "metadata": {},
   "outputs": [
    {
     "data": {
      "text/html": [
       "<div>\n",
       "<style scoped>\n",
       "    .dataframe tbody tr th:only-of-type {\n",
       "        vertical-align: middle;\n",
       "    }\n",
       "\n",
       "    .dataframe tbody tr th {\n",
       "        vertical-align: top;\n",
       "    }\n",
       "\n",
       "    .dataframe thead th {\n",
       "        text-align: right;\n",
       "    }\n",
       "</style>\n",
       "<table border=\"1\" class=\"dataframe\">\n",
       "  <thead>\n",
       "    <tr style=\"text-align: right;\">\n",
       "      <th></th>\n",
       "      <th>Mth</th>\n",
       "      <th>Date</th>\n",
       "      <th>Day</th>\n",
       "      <th>hour</th>\n",
       "      <th>season</th>\n",
       "      <th>dayClass</th>\n",
       "    </tr>\n",
       "    <tr>\n",
       "      <th>Time</th>\n",
       "      <th></th>\n",
       "      <th></th>\n",
       "      <th></th>\n",
       "      <th></th>\n",
       "      <th></th>\n",
       "      <th></th>\n",
       "    </tr>\n",
       "  </thead>\n",
       "  <tbody>\n",
       "    <tr>\n",
       "      <th>2017-08-29 10:00:00</th>\n",
       "      <td>8</td>\n",
       "      <td>29</td>\n",
       "      <td>1</td>\n",
       "      <td>10</td>\n",
       "      <td>2</td>\n",
       "      <td>2</td>\n",
       "    </tr>\n",
       "    <tr>\n",
       "      <th>2017-08-29 11:00:00</th>\n",
       "      <td>8</td>\n",
       "      <td>29</td>\n",
       "      <td>1</td>\n",
       "      <td>11</td>\n",
       "      <td>2</td>\n",
       "      <td>2</td>\n",
       "    </tr>\n",
       "  </tbody>\n",
       "</table>\n",
       "</div>"
      ],
      "text/plain": [
       "                     Mth  Date  Day  hour  season  dayClass\n",
       "Time                                                       \n",
       "2017-08-29 10:00:00    8    29    1    10       2         2\n",
       "2017-08-29 11:00:00    8    29    1    11       2         2"
      ]
     },
     "execution_count": 21,
     "metadata": {},
     "output_type": "execute_result"
    }
   ],
   "source": [
    "TE_time_vars.head(2)"
   ]
  },
  {
   "cell_type": "code",
   "execution_count": 22,
   "metadata": {},
   "outputs": [],
   "source": [
    "def dummies(df, dum_lst):\n",
    "    df1 = df.copy()\n",
    "    # dum_lst에 들어있는 각각의 변수마다 \n",
    "    # tmp = get_dummies, 해당 original 변수는 drop\n",
    "    # tmp와 변수가 drop된 df를 join 후 리턴\n",
    "    for v in dum_lst:\n",
    "        tmp = pd.get_dummies(df1[v], prefix=v)\n",
    "        df1 = df1.drop(columns=v).join(tmp)\n",
    "    return df1"
   ]
  },
  {
   "cell_type": "code",
   "execution_count": 23,
   "metadata": {},
   "outputs": [],
   "source": [
    "TE_timeV_dum = dummies(TE_time_vars, ['season', 'dayClass'])"
   ]
  },
  {
   "cell_type": "code",
   "execution_count": 24,
   "metadata": {
    "scrolled": false
   },
   "outputs": [
    {
     "data": {
      "text/html": [
       "<div>\n",
       "<style scoped>\n",
       "    .dataframe tbody tr th:only-of-type {\n",
       "        vertical-align: middle;\n",
       "    }\n",
       "\n",
       "    .dataframe tbody tr th {\n",
       "        vertical-align: top;\n",
       "    }\n",
       "\n",
       "    .dataframe thead th {\n",
       "        text-align: right;\n",
       "    }\n",
       "</style>\n",
       "<table border=\"1\" class=\"dataframe\">\n",
       "  <thead>\n",
       "    <tr style=\"text-align: right;\">\n",
       "      <th></th>\n",
       "      <th>Mth</th>\n",
       "      <th>Date</th>\n",
       "      <th>Day</th>\n",
       "      <th>hour</th>\n",
       "      <th>season_1</th>\n",
       "      <th>season_2</th>\n",
       "      <th>season_3</th>\n",
       "      <th>season_4</th>\n",
       "      <th>dayClass_1</th>\n",
       "      <th>dayClass_2</th>\n",
       "      <th>dayClass_3</th>\n",
       "    </tr>\n",
       "    <tr>\n",
       "      <th>Time</th>\n",
       "      <th></th>\n",
       "      <th></th>\n",
       "      <th></th>\n",
       "      <th></th>\n",
       "      <th></th>\n",
       "      <th></th>\n",
       "      <th></th>\n",
       "      <th></th>\n",
       "      <th></th>\n",
       "      <th></th>\n",
       "      <th></th>\n",
       "    </tr>\n",
       "  </thead>\n",
       "  <tbody>\n",
       "    <tr>\n",
       "      <th>2017-08-29 10:00:00</th>\n",
       "      <td>8</td>\n",
       "      <td>29</td>\n",
       "      <td>1</td>\n",
       "      <td>10</td>\n",
       "      <td>0</td>\n",
       "      <td>1</td>\n",
       "      <td>0</td>\n",
       "      <td>0</td>\n",
       "      <td>0</td>\n",
       "      <td>1</td>\n",
       "      <td>0</td>\n",
       "    </tr>\n",
       "    <tr>\n",
       "      <th>2017-08-29 11:00:00</th>\n",
       "      <td>8</td>\n",
       "      <td>29</td>\n",
       "      <td>1</td>\n",
       "      <td>11</td>\n",
       "      <td>0</td>\n",
       "      <td>1</td>\n",
       "      <td>0</td>\n",
       "      <td>0</td>\n",
       "      <td>0</td>\n",
       "      <td>1</td>\n",
       "      <td>0</td>\n",
       "    </tr>\n",
       "    <tr>\n",
       "      <th>2017-08-29 12:00:00</th>\n",
       "      <td>8</td>\n",
       "      <td>29</td>\n",
       "      <td>1</td>\n",
       "      <td>12</td>\n",
       "      <td>0</td>\n",
       "      <td>1</td>\n",
       "      <td>0</td>\n",
       "      <td>0</td>\n",
       "      <td>0</td>\n",
       "      <td>1</td>\n",
       "      <td>0</td>\n",
       "    </tr>\n",
       "    <tr>\n",
       "      <th>2017-08-29 13:00:00</th>\n",
       "      <td>8</td>\n",
       "      <td>29</td>\n",
       "      <td>1</td>\n",
       "      <td>13</td>\n",
       "      <td>0</td>\n",
       "      <td>1</td>\n",
       "      <td>0</td>\n",
       "      <td>0</td>\n",
       "      <td>0</td>\n",
       "      <td>1</td>\n",
       "      <td>0</td>\n",
       "    </tr>\n",
       "    <tr>\n",
       "      <th>2017-08-29 14:00:00</th>\n",
       "      <td>8</td>\n",
       "      <td>29</td>\n",
       "      <td>1</td>\n",
       "      <td>14</td>\n",
       "      <td>0</td>\n",
       "      <td>1</td>\n",
       "      <td>0</td>\n",
       "      <td>0</td>\n",
       "      <td>0</td>\n",
       "      <td>1</td>\n",
       "      <td>0</td>\n",
       "    </tr>\n",
       "  </tbody>\n",
       "</table>\n",
       "</div>"
      ],
      "text/plain": [
       "                     Mth  Date  Day  hour  season_1  season_2  season_3  \\\n",
       "Time                                                                      \n",
       "2017-08-29 10:00:00    8    29    1    10         0         1         0   \n",
       "2017-08-29 11:00:00    8    29    1    11         0         1         0   \n",
       "2017-08-29 12:00:00    8    29    1    12         0         1         0   \n",
       "2017-08-29 13:00:00    8    29    1    13         0         1         0   \n",
       "2017-08-29 14:00:00    8    29    1    14         0         1         0   \n",
       "\n",
       "                     season_4  dayClass_1  dayClass_2  dayClass_3  \n",
       "Time                                                               \n",
       "2017-08-29 10:00:00         0           0           1           0  \n",
       "2017-08-29 11:00:00         0           0           1           0  \n",
       "2017-08-29 12:00:00         0           0           1           0  \n",
       "2017-08-29 13:00:00         0           0           1           0  \n",
       "2017-08-29 14:00:00         0           0           1           0  "
      ]
     },
     "execution_count": 24,
     "metadata": {},
     "output_type": "execute_result"
    }
   ],
   "source": [
    "TE_timeV_dum.head()"
   ]
  },
  {
   "cell_type": "code",
   "execution_count": 25,
   "metadata": {
    "scrolled": true
   },
   "outputs": [],
   "source": [
    "TE_timeV_dum_wthr= pd.concat([TE_timeV_dum, w_hr2], axis=1,join='inner')"
   ]
  },
  {
   "cell_type": "code",
   "execution_count": 27,
   "metadata": {},
   "outputs": [
    {
     "data": {
      "text/html": [
       "<div>\n",
       "<style scoped>\n",
       "    .dataframe tbody tr th:only-of-type {\n",
       "        vertical-align: middle;\n",
       "    }\n",
       "\n",
       "    .dataframe tbody tr th {\n",
       "        vertical-align: top;\n",
       "    }\n",
       "\n",
       "    .dataframe thead th {\n",
       "        text-align: right;\n",
       "    }\n",
       "</style>\n",
       "<table border=\"1\" class=\"dataframe\">\n",
       "  <thead>\n",
       "    <tr style=\"text-align: right;\">\n",
       "      <th></th>\n",
       "      <th>Mth</th>\n",
       "      <th>Date</th>\n",
       "      <th>Day</th>\n",
       "      <th>hour</th>\n",
       "      <th>season_1</th>\n",
       "      <th>season_2</th>\n",
       "      <th>season_3</th>\n",
       "      <th>season_4</th>\n",
       "      <th>dayClass_1</th>\n",
       "      <th>dayClass_2</th>\n",
       "      <th>dayClass_3</th>\n",
       "      <th>Temp</th>\n",
       "      <th>Humidity</th>\n",
       "      <th>WindSpeed</th>\n",
       "    </tr>\n",
       "    <tr>\n",
       "      <th>Time</th>\n",
       "      <th></th>\n",
       "      <th></th>\n",
       "      <th></th>\n",
       "      <th></th>\n",
       "      <th></th>\n",
       "      <th></th>\n",
       "      <th></th>\n",
       "      <th></th>\n",
       "      <th></th>\n",
       "      <th></th>\n",
       "      <th></th>\n",
       "      <th></th>\n",
       "      <th></th>\n",
       "      <th></th>\n",
       "    </tr>\n",
       "  </thead>\n",
       "  <tbody>\n",
       "    <tr>\n",
       "      <th>2017-08-29 10:00:00</th>\n",
       "      <td>8</td>\n",
       "      <td>29</td>\n",
       "      <td>1</td>\n",
       "      <td>10</td>\n",
       "      <td>0</td>\n",
       "      <td>1</td>\n",
       "      <td>0</td>\n",
       "      <td>0</td>\n",
       "      <td>0</td>\n",
       "      <td>1</td>\n",
       "      <td>0</td>\n",
       "      <td>19.3</td>\n",
       "      <td>0.0</td>\n",
       "      <td>5.0</td>\n",
       "    </tr>\n",
       "    <tr>\n",
       "      <th>2017-08-29 11:00:00</th>\n",
       "      <td>8</td>\n",
       "      <td>29</td>\n",
       "      <td>1</td>\n",
       "      <td>11</td>\n",
       "      <td>0</td>\n",
       "      <td>1</td>\n",
       "      <td>0</td>\n",
       "      <td>0</td>\n",
       "      <td>0</td>\n",
       "      <td>1</td>\n",
       "      <td>0</td>\n",
       "      <td>19.7</td>\n",
       "      <td>0.0</td>\n",
       "      <td>4.7</td>\n",
       "    </tr>\n",
       "  </tbody>\n",
       "</table>\n",
       "</div>"
      ],
      "text/plain": [
       "                     Mth  Date  Day  hour  season_1  season_2  season_3  \\\n",
       "Time                                                                      \n",
       "2017-08-29 10:00:00    8    29    1    10         0         1         0   \n",
       "2017-08-29 11:00:00    8    29    1    11         0         1         0   \n",
       "\n",
       "                     season_4  dayClass_1  dayClass_2  dayClass_3  Temp  \\\n",
       "Time                                                                      \n",
       "2017-08-29 10:00:00         0           0           1           0  19.3   \n",
       "2017-08-29 11:00:00         0           0           1           0  19.7   \n",
       "\n",
       "                     Humidity  WindSpeed  \n",
       "Time                                      \n",
       "2017-08-29 10:00:00       0.0        5.0  \n",
       "2017-08-29 11:00:00       0.0        4.7  "
      ]
     },
     "execution_count": 27,
     "metadata": {},
     "output_type": "execute_result"
    }
   ],
   "source": [
    "TE_timeV_dum_wthr.head(2)"
   ]
  },
  {
   "cell_type": "code",
   "execution_count": 28,
   "metadata": {},
   "outputs": [
    {
     "data": {
      "text/html": [
       "<div>\n",
       "<style scoped>\n",
       "    .dataframe tbody tr th:only-of-type {\n",
       "        vertical-align: middle;\n",
       "    }\n",
       "\n",
       "    .dataframe tbody tr th {\n",
       "        vertical-align: top;\n",
       "    }\n",
       "\n",
       "    .dataframe thead th {\n",
       "        text-align: right;\n",
       "    }\n",
       "</style>\n",
       "<table border=\"1\" class=\"dataframe\">\n",
       "  <thead>\n",
       "    <tr style=\"text-align: right;\">\n",
       "      <th></th>\n",
       "      <th>Mth</th>\n",
       "      <th>Date</th>\n",
       "      <th>Day</th>\n",
       "      <th>hour</th>\n",
       "      <th>season</th>\n",
       "      <th>dayClass</th>\n",
       "      <th>Temp</th>\n",
       "      <th>Humidity</th>\n",
       "      <th>WindSpeed</th>\n",
       "    </tr>\n",
       "    <tr>\n",
       "      <th>Time</th>\n",
       "      <th></th>\n",
       "      <th></th>\n",
       "      <th></th>\n",
       "      <th></th>\n",
       "      <th></th>\n",
       "      <th></th>\n",
       "      <th></th>\n",
       "      <th></th>\n",
       "      <th></th>\n",
       "    </tr>\n",
       "  </thead>\n",
       "  <tbody>\n",
       "    <tr>\n",
       "      <th>2017-08-29 10:00:00</th>\n",
       "      <td>8</td>\n",
       "      <td>29</td>\n",
       "      <td>1</td>\n",
       "      <td>10</td>\n",
       "      <td>2</td>\n",
       "      <td>2</td>\n",
       "      <td>19.3</td>\n",
       "      <td>0.0</td>\n",
       "      <td>5.0</td>\n",
       "    </tr>\n",
       "    <tr>\n",
       "      <th>2017-08-29 11:00:00</th>\n",
       "      <td>8</td>\n",
       "      <td>29</td>\n",
       "      <td>1</td>\n",
       "      <td>11</td>\n",
       "      <td>2</td>\n",
       "      <td>2</td>\n",
       "      <td>19.7</td>\n",
       "      <td>0.0</td>\n",
       "      <td>4.7</td>\n",
       "    </tr>\n",
       "  </tbody>\n",
       "</table>\n",
       "</div>"
      ],
      "text/plain": [
       "                     Mth  Date  Day  hour  season  dayClass  Temp  Humidity  \\\n",
       "Time                                                                          \n",
       "2017-08-29 10:00:00    8    29    1    10       2         2  19.3       0.0   \n",
       "2017-08-29 11:00:00    8    29    1    11       2         2  19.7       0.0   \n",
       "\n",
       "                     WindSpeed  \n",
       "Time                            \n",
       "2017-08-29 10:00:00        5.0  \n",
       "2017-08-29 11:00:00        4.7  "
      ]
     },
     "execution_count": 28,
     "metadata": {},
     "output_type": "execute_result"
    }
   ],
   "source": [
    "## No DUMMIES only 시간 파생 + 날씨!! (LGBM try용)\n",
    "\n",
    "TE_timeV_wthr= pd.concat([TE_time_vars, w_hr2], axis=1,join='inner')\n",
    "TE_timeV_wthr.head(2)"
   ]
  },
  {
   "cell_type": "markdown",
   "metadata": {},
   "source": [
    "# Modeling\n",
    "\n",
    "* test : TEST셋의 순수한 meterIDs Time series (NA값 채워짐) \n",
    "* TE_timeV_dum: TEST셋의 시간파생변수 + dummy variables "
   ]
  },
  {
   "cell_type": "code",
   "execution_count": 29,
   "metadata": {
    "scrolled": true
   },
   "outputs": [
    {
     "data": {
      "text/html": [
       "<div>\n",
       "<style scoped>\n",
       "    .dataframe tbody tr th:only-of-type {\n",
       "        vertical-align: middle;\n",
       "    }\n",
       "\n",
       "    .dataframe tbody tr th {\n",
       "        vertical-align: top;\n",
       "    }\n",
       "\n",
       "    .dataframe thead th {\n",
       "        text-align: right;\n",
       "    }\n",
       "</style>\n",
       "<table border=\"1\" class=\"dataframe\">\n",
       "  <thead>\n",
       "    <tr style=\"text-align: right;\">\n",
       "      <th></th>\n",
       "      <th>X26</th>\n",
       "      <th>X303</th>\n",
       "      <th>X241</th>\n",
       "      <th>X435</th>\n",
       "      <th>X402</th>\n",
       "      <th>X352</th>\n",
       "      <th>X305</th>\n",
       "      <th>X350</th>\n",
       "      <th>X326</th>\n",
       "      <th>X299</th>\n",
       "      <th>...</th>\n",
       "      <th>X283</th>\n",
       "      <th>X329</th>\n",
       "      <th>X223</th>\n",
       "      <th>X266</th>\n",
       "      <th>X20</th>\n",
       "      <th>X443</th>\n",
       "      <th>X347</th>\n",
       "      <th>X75</th>\n",
       "      <th>X107</th>\n",
       "      <th>X230</th>\n",
       "    </tr>\n",
       "    <tr>\n",
       "      <th>Time</th>\n",
       "      <th></th>\n",
       "      <th></th>\n",
       "      <th></th>\n",
       "      <th></th>\n",
       "      <th></th>\n",
       "      <th></th>\n",
       "      <th></th>\n",
       "      <th></th>\n",
       "      <th></th>\n",
       "      <th></th>\n",
       "      <th></th>\n",
       "      <th></th>\n",
       "      <th></th>\n",
       "      <th></th>\n",
       "      <th></th>\n",
       "      <th></th>\n",
       "      <th></th>\n",
       "      <th></th>\n",
       "      <th></th>\n",
       "      <th></th>\n",
       "      <th></th>\n",
       "    </tr>\n",
       "  </thead>\n",
       "  <tbody>\n",
       "    <tr>\n",
       "      <th>2017-08-29 10:00:00</th>\n",
       "      <td>1.453803</td>\n",
       "      <td>0.431</td>\n",
       "      <td>0.276</td>\n",
       "      <td>0.228</td>\n",
       "      <td>0.432</td>\n",
       "      <td>0.232</td>\n",
       "      <td>0.348</td>\n",
       "      <td>0.259</td>\n",
       "      <td>0.194</td>\n",
       "      <td>0.086</td>\n",
       "      <td>...</td>\n",
       "      <td>0.114</td>\n",
       "      <td>0.087</td>\n",
       "      <td>0.283</td>\n",
       "      <td>0.342142</td>\n",
       "      <td>1.148489</td>\n",
       "      <td>0.094</td>\n",
       "      <td>0.351</td>\n",
       "      <td>1.109</td>\n",
       "      <td>0.225</td>\n",
       "      <td>0.29667</td>\n",
       "    </tr>\n",
       "  </tbody>\n",
       "</table>\n",
       "<p>1 rows × 200 columns</p>\n",
       "</div>"
      ],
      "text/plain": [
       "                          X26   X303   X241   X435   X402   X352   X305  \\\n",
       "Time                                                                      \n",
       "2017-08-29 10:00:00  1.453803  0.431  0.276  0.228  0.432  0.232  0.348   \n",
       "\n",
       "                      X350   X326   X299  ...   X283   X329   X223      X266  \\\n",
       "Time                                      ...                                  \n",
       "2017-08-29 10:00:00  0.259  0.194  0.086  ...  0.114  0.087  0.283  0.342142   \n",
       "\n",
       "                          X20   X443   X347    X75   X107     X230  \n",
       "Time                                                                \n",
       "2017-08-29 10:00:00  1.148489  0.094  0.351  1.109  0.225  0.29667  \n",
       "\n",
       "[1 rows x 200 columns]"
      ]
     },
     "execution_count": 29,
     "metadata": {},
     "output_type": "execute_result"
    }
   ],
   "source": [
    "test.head(1)"
   ]
  },
  {
   "cell_type": "code",
   "execution_count": null,
   "metadata": {},
   "outputs": [],
   "source": [
    "TE_timeV_dum_wthr.head(1)"
   ]
  },
  {
   "cell_type": "code",
   "execution_count": 57,
   "metadata": {},
   "outputs": [],
   "source": [
    "data = pd.concat([pd.DataFrame(test.X303), TE_timeV_dum_wthr], axis=1)\n",
    "data = data.rename(columns={'X303':'y'})\n",
    "\n",
    "for i in [24, 168]:\n",
    "    data['lag_{}'.format(i)] = data.y.shift(i)"
   ]
  },
  {
   "cell_type": "code",
   "execution_count": 58,
   "metadata": {
    "scrolled": false
   },
   "outputs": [
    {
     "data": {
      "text/plain": [
       "(7334, 17)"
      ]
     },
     "execution_count": 58,
     "metadata": {},
     "output_type": "execute_result"
    }
   ],
   "source": [
    "data.shape"
   ]
  },
  {
   "cell_type": "code",
   "execution_count": 59,
   "metadata": {},
   "outputs": [],
   "source": [
    "y = data.dropna().y\n",
    "X = data.dropna().drop(['y'], axis=1)"
   ]
  },
  {
   "cell_type": "code",
   "execution_count": null,
   "metadata": {},
   "outputs": [],
   "source": [
    "y_2 = data['2018-04-18 00:00:00':].dropna().y\n",
    "X_2 = data['2018-04-18 00:00:00':].dropna().drop(['y'], axis=1)"
   ]
  },
  {
   "cell_type": "code",
   "execution_count": 50,
   "metadata": {},
   "outputs": [],
   "source": [
    "from sklearn.linear_model import LinearRegression\n",
    "from sklearn.model_selection import cross_val_score\n",
    "from sklearn.model_selection import TimeSeriesSplit\n",
    "\n",
    "# for time-series cross-validation set 5 folds \n",
    "tscv = TimeSeriesSplit(n_splits=5)\n",
    "\n",
    "def mean_absolute_percentage_error(y_true, y_pred): \n",
    "    return np.mean(np.abs((y_true - y_pred) / y_true)) * 100\n",
    "\n",
    "def timeseries_train_test_split(X, y, test_size):\n",
    "    \"\"\"\n",
    "        Perform train-test split with respect to time series structure\n",
    "    \"\"\"\n",
    "    # get the index after which test set starts\n",
    "    test_index = int(len(X)*(1-test_size))\n",
    "\n",
    "    X_train = X.iloc[:test_index]\n",
    "    y_train = y.iloc[:test_index]\n",
    "    X_test = X.iloc[test_index:]\n",
    "    y_test = y.iloc[test_index:]\n",
    "    \n",
    "    return X_train, X_test, y_train, y_test"
   ]
  },
  {
   "cell_type": "code",
   "execution_count": 51,
   "metadata": {},
   "outputs": [],
   "source": [
    "# def plotModelResults(model, X_train, X_test, plot_intervals=False, plot_anomalies=False, scale=1.96):\n",
    "#     \"\"\"\n",
    "#         Plots modelled vs fact values, prediction intervals and anomalies\n",
    "    \n",
    "#     \"\"\"\n",
    "#     prediction = model.predict(X_test)\n",
    "    \n",
    "#     plt.figure(figsize=(15, 7))\n",
    "#     plt.plot(prediction, \"g\", label=\"prediction\", linewidth=2.0)\n",
    "#     plt.plot(y_test.values, label=\"actual\", linewidth=2.0)\n",
    "    \n",
    "#     if plot_intervals:\n",
    "#         cv = cross_val_score(model, X_train, y_train, \n",
    "#                                     cv=tscv, \n",
    "#                                     scoring=\"neg_mean_squared_error\")\n",
    "#         #mae = cv.mean() * (-1)\n",
    "#         deviation = np.sqrt(cv.std())\n",
    "        \n",
    "#         lower = prediction - (scale * deviation)\n",
    "#         upper = prediction + (scale * deviation)\n",
    "        \n",
    "#         plt.plot(lower, \"r--\", label=\"upper bond / lower bond\", alpha=0.5)\n",
    "#         plt.plot(upper, \"r--\", alpha=0.5)\n",
    "        \n",
    "#         if plot_anomalies:\n",
    "#             anomalies = np.array([np.NaN]*len(y_test))\n",
    "#             anomalies[y_test<lower] = y_test[y_test<lower]\n",
    "#             anomalies[y_test>upper] = y_test[y_test>upper]\n",
    "#             plt.plot(anomalies, \"o\", markersize=10, label = \"Anomalies\")\n",
    "    \n",
    "#     error = mean_absolute_percentage_error(prediction, y_test)\n",
    "#     plt.title(\"Mean absolute percentage error {0:.2f}%\".format(error))\n",
    "#     plt.legend(loc=\"best\")\n",
    "#     plt.tight_layout()\n",
    "#     plt.grid(True);\n",
    "    \n",
    "# def plotCoefficients(model):\n",
    "#     \"\"\"\n",
    "#         Plots sorted coefficient values of the model\n",
    "#     \"\"\"\n",
    "    \n",
    "#     coefs = pd.DataFrame(model.coef_, X_train.columns)\n",
    "#     coefs.columns = [\"coef\"]\n",
    "#     coefs[\"abs\"] = coefs.coef.apply(np.abs)\n",
    "#     coefs = coefs.sort_values(by=\"abs\", ascending=False).drop([\"abs\"], axis=1)\n",
    "    \n",
    "#     plt.figure(figsize=(15, 7))\n",
    "#     coefs.coef.plot(kind='bar')\n",
    "#     plt.grid(True, axis='y')\n",
    "#     plt.hlines(y=0, xmin=0, xmax=len(coefs), linestyles='dashed');\n",
    "    "
   ]
  },
  {
   "cell_type": "code",
   "execution_count": 107,
   "metadata": {},
   "outputs": [],
   "source": [
    "def smape_fast(y_true, y_pred):\n",
    "    from numba import jit\n",
    "    import math\n",
    "    out = 0\n",
    "    for i in range(y_true.shape[0]):\n",
    "        a = y_true[i]\n",
    "        b = y_pred[i]\n",
    "        c = a+b\n",
    "        if c == 0:\n",
    "            continue\n",
    "        out += math.fabs(a - b) / c\n",
    "    out *= (200.0 / y_true.shape[0])\n",
    "    return out\n",
    "\n",
    "from sklearn.preprocessing import StandardScaler as sc"
   ]
  },
  {
   "cell_type": "code",
   "execution_count": 53,
   "metadata": {},
   "outputs": [],
   "source": [
    "def code_mean(data, cat_feature, real_feature):\n",
    "    \"\"\"\n",
    "    Returns a dictionary where keys are unique categories of the cat_feature,\n",
    "    and values are means over real_feature\n",
    "    \"\"\"\n",
    "    return dict(data.groupby(cat_feature)[real_feature].mean())\n",
    "\n",
    "def model_Validation (X, y,size, model):\n",
    "    model = model\n",
    "\n",
    "    # reserve 30% of data for testing\n",
    "    X_train, X_valid, y_train, y_valid = timeseries_train_test_split(X, y, test_size=size)\n",
    "    \n",
    "    valid_time = X_valid.index\n",
    "#     X_train = sc.fit_transform(X_train)\n",
    "#     X_valid = sc.transform(X_valid)   \n",
    "    model.fit(X_train, y_train)\n",
    "    \n",
    "    pred = model.predict(X_valid)\n",
    "    error = smape_fast(pred, y_valid)\n",
    "    print('SMAPE:',error)\n",
    "    return X_train, X_valid, y_train, y_valid, valid_time, pred"
   ]
  },
  {
   "cell_type": "code",
   "execution_count": 44,
   "metadata": {},
   "outputs": [
    {
     "data": {
      "text/html": [
       "<div>\n",
       "<style scoped>\n",
       "    .dataframe tbody tr th:only-of-type {\n",
       "        vertical-align: middle;\n",
       "    }\n",
       "\n",
       "    .dataframe tbody tr th {\n",
       "        vertical-align: top;\n",
       "    }\n",
       "\n",
       "    .dataframe thead th {\n",
       "        text-align: right;\n",
       "    }\n",
       "</style>\n",
       "<table border=\"1\" class=\"dataframe\">\n",
       "  <thead>\n",
       "    <tr style=\"text-align: right;\">\n",
       "      <th></th>\n",
       "      <th>y</th>\n",
       "      <th>Mth</th>\n",
       "      <th>Date</th>\n",
       "      <th>Day</th>\n",
       "      <th>hour</th>\n",
       "      <th>season_1</th>\n",
       "      <th>season_2</th>\n",
       "      <th>season_3</th>\n",
       "      <th>season_4</th>\n",
       "      <th>dayClass_1</th>\n",
       "      <th>dayClass_2</th>\n",
       "      <th>dayClass_3</th>\n",
       "      <th>Temp</th>\n",
       "      <th>Humidity</th>\n",
       "      <th>WindSpeed</th>\n",
       "      <th>lag_24</th>\n",
       "      <th>lag_168</th>\n",
       "    </tr>\n",
       "    <tr>\n",
       "      <th>Time</th>\n",
       "      <th></th>\n",
       "      <th></th>\n",
       "      <th></th>\n",
       "      <th></th>\n",
       "      <th></th>\n",
       "      <th></th>\n",
       "      <th></th>\n",
       "      <th></th>\n",
       "      <th></th>\n",
       "      <th></th>\n",
       "      <th></th>\n",
       "      <th></th>\n",
       "      <th></th>\n",
       "      <th></th>\n",
       "      <th></th>\n",
       "      <th></th>\n",
       "      <th></th>\n",
       "    </tr>\n",
       "  </thead>\n",
       "  <tbody>\n",
       "    <tr>\n",
       "      <th>2017-08-29 10:00:00</th>\n",
       "      <td>0.431</td>\n",
       "      <td>8</td>\n",
       "      <td>29</td>\n",
       "      <td>1</td>\n",
       "      <td>10</td>\n",
       "      <td>0</td>\n",
       "      <td>1</td>\n",
       "      <td>0</td>\n",
       "      <td>0</td>\n",
       "      <td>0</td>\n",
       "      <td>1</td>\n",
       "      <td>0</td>\n",
       "      <td>19.3</td>\n",
       "      <td>0.0</td>\n",
       "      <td>5.0</td>\n",
       "      <td>NaN</td>\n",
       "      <td>NaN</td>\n",
       "    </tr>\n",
       "  </tbody>\n",
       "</table>\n",
       "</div>"
      ],
      "text/plain": [
       "                         y  Mth  Date  Day  hour  season_1  season_2  \\\n",
       "Time                                                                   \n",
       "2017-08-29 10:00:00  0.431    8    29    1    10         0         1   \n",
       "\n",
       "                     season_3  season_4  dayClass_1  dayClass_2  dayClass_3  \\\n",
       "Time                                                                          \n",
       "2017-08-29 10:00:00         0         0           0           1           0   \n",
       "\n",
       "                     Temp  Humidity  WindSpeed  lag_24  lag_168  \n",
       "Time                                                             \n",
       "2017-08-29 10:00:00  19.3       0.0        5.0     NaN      NaN  "
      ]
     },
     "execution_count": 44,
     "metadata": {},
     "output_type": "execute_result"
    }
   ],
   "source": [
    "data.head(1)"
   ]
  },
  {
   "cell_type": "code",
   "execution_count": 60,
   "metadata": {},
   "outputs": [
    {
     "name": "stdout",
     "output_type": "stream",
     "text": [
      "SMAPE: 38.38744090546601\n"
     ]
    }
   ],
   "source": [
    "_,_,_,y_valid,valid_time, pred_X303_LR = model_Validation(X,y, 0.3, LinearRegression())"
   ]
  },
  {
   "cell_type": "code",
   "execution_count": 61,
   "metadata": {},
   "outputs": [],
   "source": [
    "from sklearn.linear_model import LassoCV, RidgeCV"
   ]
  },
  {
   "cell_type": "code",
   "execution_count": 62,
   "metadata": {},
   "outputs": [
    {
     "name": "stdout",
     "output_type": "stream",
     "text": [
      "SMAPE: 38.387631928105854\n"
     ]
    }
   ],
   "source": [
    "_,_,_,y_valid,valid_time, pred_X303_Ridge = model_Validation(X,y, 0.3, RidgeCV(cv=tscv))"
   ]
  },
  {
   "cell_type": "code",
   "execution_count": 63,
   "metadata": {},
   "outputs": [
    {
     "name": "stdout",
     "output_type": "stream",
     "text": [
      "SMAPE: 38.818674563873195\n"
     ]
    }
   ],
   "source": [
    "_,_,_,y_valid,valid_time,  pred_X303_Lasso = model_Validation(X,y, 0.3, LassoCV(cv=tscv))"
   ]
  },
  {
   "cell_type": "code",
   "execution_count": 65,
   "metadata": {},
   "outputs": [
    {
     "name": "stdout",
     "output_type": "stream",
     "text": [
      "SMAPE: 39.00068030294938\n"
     ]
    }
   ],
   "source": [
    "from xgboost import XGBRegressor \n",
    "xgb = XGBRegressor(verbosity=0)\n",
    "_,_,_,y_valid,valid_time, pred_X303_XG = model_Validation(X,y, 0.3, xgb)"
   ]
  },
  {
   "cell_type": "code",
   "execution_count": null,
   "metadata": {
    "collapsed": true
   },
   "outputs": [],
   "source": [
    "# ## 2018-4-18일부터\n",
    "\n",
    "# xgb = XGBRegressor(verbose=True)\n",
    "# _,_,_,y_valid,valid_time, pred_X303_XG = model_Validation(X_2,y_2, 0.3, xgb)\n",
    "\n",
    "# df = pd.DataFrame(pred_X303_XG, index = valid_time)\n",
    "# df['actual'] = y_valid\n",
    "# df.plot(figsize = (30,30))"
   ]
  },
  {
   "cell_type": "code",
   "execution_count": 71,
   "metadata": {},
   "outputs": [
    {
     "name": "stdout",
     "output_type": "stream",
     "text": [
      "SMAPE: 38.16624034007779\n"
     ]
    }
   ],
   "source": [
    "from lightgbm import LGBMRegressor\n",
    "lgb = LGBMRegressor()\n",
    "_,_,_,y_valid,valid_time, pred_X303_LGB = model_Validation(X,y, 0.3, lgb)"
   ]
  },
  {
   "cell_type": "code",
   "execution_count": 67,
   "metadata": {},
   "outputs": [],
   "source": [
    "####################\n",
    "## LGBM 더미 없는 경우\n",
    "\n",
    "dataT = pd.concat([pd.DataFrame(test.X303), TE_timeV_wthr], axis=1)\n",
    "dataT = dataT.rename(columns={'X303':'y'})\n",
    "\n",
    "for i in [24, 168]:\n",
    "    dataT['lag_{}'.format(i)] = dataT.y.shift(i)\n",
    "\n",
    "yT = dataT.dropna().y\n",
    "XT = dataT.dropna().drop(['y'], axis=1)"
   ]
  },
  {
   "cell_type": "code",
   "execution_count": 68,
   "metadata": {},
   "outputs": [
    {
     "name": "stdout",
     "output_type": "stream",
     "text": [
      "SMAPE: 38.77066855638999\n"
     ]
    }
   ],
   "source": [
    "from lightgbm import LGBMRegressor\n",
    "lgb = LGBMRegressor()\n",
    "_,_,_,y_valid,valid_time, pred_X303_LGB_T = model_Validation(XT,yT, 0.3, lgb)\n"
   ]
  },
  {
   "cell_type": "code",
   "execution_count": null,
   "metadata": {},
   "outputs": [],
   "source": []
  },
  {
   "cell_type": "code",
   "execution_count": 69,
   "metadata": {},
   "outputs": [
    {
     "name": "stderr",
     "output_type": "stream",
     "text": [
      "/opt/conda/lib/python3.6/site-packages/sklearn/ensemble/forest.py:245: FutureWarning: The default value of n_estimators will change from 10 in version 0.20 to 100 in 0.22.\n",
      "  \"10 in version 0.20 to 100 in 0.22.\", FutureWarning)\n"
     ]
    },
    {
     "name": "stdout",
     "output_type": "stream",
     "text": [
      "SMAPE: 40.61606026229266\n"
     ]
    }
   ],
   "source": [
    "from sklearn.ensemble import RandomForestRegressor\n",
    "rf = RandomForestRegressor()\n",
    "_,_,_,y_valid,valid_time, pred_X303_RF = model_Validation(X,y, 0.3, rf)"
   ]
  },
  {
   "cell_type": "code",
   "execution_count": 70,
   "metadata": {},
   "outputs": [
    {
     "name": "stdout",
     "output_type": "stream",
     "text": [
      "SMAPE: 38.95476427025396\n"
     ]
    }
   ],
   "source": [
    "from sklearn.ensemble import GradientBoostingRegressor\n",
    "gb = GradientBoostingRegressor()\n",
    "_,_,_,y_valid,valid_time, pred_X303_gb = model_Validation(X,y, 0.3, gb)\n"
   ]
  },
  {
   "cell_type": "code",
   "execution_count": null,
   "metadata": {},
   "outputs": [],
   "source": [
    "#     model_gb = GradientBoostingRegressor()\n",
    "#     gb_param = {\"loss\":['ls', 'quantile'],\n",
    "#         \"learning_rate\": [0.01,0.05, 0.1],\n",
    "#         \"max_depth\": np.arange(3,15),\n",
    "#         \"n_estimators\":[100, 1000],\n",
    "#         \"warm_start\":[True, False]\n",
    "#         }\n",
    "\n",
    "#     grid_gb = GridSearchCV(model_gb, gb_param, cv=3)\n",
    "#     grid_gb.fit(X_train, Y_trainLog)"
   ]
  },
  {
   "cell_type": "code",
   "execution_count": 72,
   "metadata": {},
   "outputs": [
    {
     "data": {
      "text/plain": [
       "Index(['meter_id', 'X2018_7_1_1h', 'X2018_7_1_2h', 'X2018_7_1_3h',\n",
       "       'X2018_7_1_4h', 'X2018_7_1_5h', 'X2018_7_1_6h', 'X2018_7_1_7h',\n",
       "       'X2018_7_1_8h', 'X2018_7_1_9h', 'X2018_7_1_10h', 'X2018_7_1_11h',\n",
       "       'X2018_7_1_12h', 'X2018_7_1_13h', 'X2018_7_1_14h', 'X2018_7_1_15h',\n",
       "       'X2018_7_1_16h', 'X2018_7_1_17h', 'X2018_7_1_18h', 'X2018_7_1_19h',\n",
       "       'X2018_7_1_20h', 'X2018_7_1_21h', 'X2018_7_1_22h', 'X2018_7_1_23h',\n",
       "       'X2018_7_1_24h', 'X2018_7_1_d', 'X2018_7_2_d', 'X2018_7_3_d',\n",
       "       'X2018_7_4_d', 'X2018_7_5_d', 'X2018_7_6_d', 'X2018_7_7_d',\n",
       "       'X2018_7_8_d', 'X2018_7_9_d', 'X2018_7_10_d', 'X2018_7_m', 'X2018_8_m',\n",
       "       'X2018_9_m', 'X2018_10_m', 'X2018_11_m'],\n",
       "      dtype='object')"
      ]
     },
     "execution_count": 72,
     "metadata": {},
     "output_type": "execute_result"
    }
   ],
   "source": [
    "# Make X_test데이터 셋\n",
    "submission.columns"
   ]
  },
  {
   "cell_type": "code",
   "execution_count": 73,
   "metadata": {},
   "outputs": [
    {
     "data": {
      "text/plain": [
       "DatetimeIndex(['2018-07-01', '2018-07-02', '2018-07-03', '2018-07-04',\n",
       "               '2018-07-05', '2018-07-06', '2018-07-07', '2018-07-08',\n",
       "               '2018-07-09', '2018-07-10'],\n",
       "              dtype='datetime64[ns]', freq='D')"
      ]
     },
     "execution_count": 73,
     "metadata": {},
     "output_type": "execute_result"
    }
   ],
   "source": [
    "submission_hourly = pd.date_range(start = pd.datetime(2018, 7, 1, 0),\n",
    "                             end = pd.datetime(2018, 7, 1, 23),\n",
    "                             freq = \"H\")\n",
    "submission_daily = pd.date_range(start = pd.datetime(2018, 7, 1),\n",
    "                             end = pd.datetime(2018, 7, 10),\n",
    "                             freq = \"D\")\n",
    "# submission_monthly = pd.date_range(start = pd.datetime(2018, 7),\n",
    "#                              end = pd.datetime(2018, 11),\n",
    "#                              freq = \"M\")\n",
    "submission_daily"
   ]
  },
  {
   "cell_type": "code",
   "execution_count": null,
   "metadata": {},
   "outputs": [],
   "source": [
    "data.shape[0] % 168"
   ]
  },
  {
   "cell_type": "code",
   "execution_count": null,
   "metadata": {},
   "outputs": [],
   "source": [
    "data.shape[0] - 110"
   ]
  },
  {
   "cell_type": "code",
   "execution_count": null,
   "metadata": {},
   "outputs": [],
   "source": [
    "# 마지막 lag_168 은 110개가 채워진다. \n",
    "data.loc[:,['y','lag_168']][7224:]"
   ]
  },
  {
   "cell_type": "code",
   "execution_count": null,
   "metadata": {},
   "outputs": [],
   "source": [
    "# 이전 168시간 데이터 확인 비교. 앞의 lag_168값과 일치한다. 중간의 110번쨰값(7166)은 위의 마지막 lag_!68값과 일치\n",
    "# 그러면 111번째(7167)부터  24개 뽑아 대입\n",
    "data.loc[:,['y','lag_168']][7056:7167]"
   ]
  },
  {
   "cell_type": "code",
   "execution_count": null,
   "metadata": {},
   "outputs": [],
   "source": [
    "data.columns"
   ]
  },
  {
   "cell_type": "code",
   "execution_count": 74,
   "metadata": {},
   "outputs": [],
   "source": [
    "y_testDaily = pd.DataFrame(index = submission_hourly)\n",
    "\n",
    "tmp = dummies(dateTimeVar(y_testDaily), ['season', 'dayClass'])\n",
    "tmp['season_1'] =0 ; tmp['season_3'] =0 ;tmp['season_4'] =0\n",
    "tmp['dayClass_1'] =0 ; tmp['dayClass_2'] =0 \n",
    "tmp['lag_24'] = y.tail(24).values\n",
    "tmp['lag_168'] = data.loc[:,'lag_168'][7166:7190].values\n",
    "\n",
    "X_test_H = pd.concat([tmp, w_hr2], axis=1,join='inner')"
   ]
  },
  {
   "cell_type": "code",
   "execution_count": 75,
   "metadata": {},
   "outputs": [
    {
     "data": {
      "text/html": [
       "<div>\n",
       "<style scoped>\n",
       "    .dataframe tbody tr th:only-of-type {\n",
       "        vertical-align: middle;\n",
       "    }\n",
       "\n",
       "    .dataframe tbody tr th {\n",
       "        vertical-align: top;\n",
       "    }\n",
       "\n",
       "    .dataframe thead th {\n",
       "        text-align: right;\n",
       "    }\n",
       "</style>\n",
       "<table border=\"1\" class=\"dataframe\">\n",
       "  <thead>\n",
       "    <tr style=\"text-align: right;\">\n",
       "      <th></th>\n",
       "      <th>Mth</th>\n",
       "      <th>Date</th>\n",
       "      <th>Day</th>\n",
       "      <th>hour</th>\n",
       "      <th>season_1</th>\n",
       "      <th>season_2</th>\n",
       "      <th>season_3</th>\n",
       "      <th>season_4</th>\n",
       "      <th>dayClass_1</th>\n",
       "      <th>dayClass_2</th>\n",
       "      <th>dayClass_3</th>\n",
       "      <th>Temp</th>\n",
       "      <th>Humidity</th>\n",
       "      <th>WindSpeed</th>\n",
       "      <th>lag_24</th>\n",
       "      <th>lag_168</th>\n",
       "    </tr>\n",
       "    <tr>\n",
       "      <th>Time</th>\n",
       "      <th></th>\n",
       "      <th></th>\n",
       "      <th></th>\n",
       "      <th></th>\n",
       "      <th></th>\n",
       "      <th></th>\n",
       "      <th></th>\n",
       "      <th></th>\n",
       "      <th></th>\n",
       "      <th></th>\n",
       "      <th></th>\n",
       "      <th></th>\n",
       "      <th></th>\n",
       "      <th></th>\n",
       "      <th></th>\n",
       "      <th></th>\n",
       "    </tr>\n",
       "  </thead>\n",
       "  <tbody>\n",
       "    <tr>\n",
       "      <th>2017-09-05 10:00:00</th>\n",
       "      <td>9</td>\n",
       "      <td>5</td>\n",
       "      <td>1</td>\n",
       "      <td>10</td>\n",
       "      <td>0</td>\n",
       "      <td>0</td>\n",
       "      <td>1</td>\n",
       "      <td>0</td>\n",
       "      <td>0</td>\n",
       "      <td>1</td>\n",
       "      <td>0</td>\n",
       "      <td>22.5</td>\n",
       "      <td>0.0</td>\n",
       "      <td>2.5</td>\n",
       "      <td>0.242</td>\n",
       "      <td>0.431</td>\n",
       "    </tr>\n",
       "    <tr>\n",
       "      <th>2017-09-05 11:00:00</th>\n",
       "      <td>9</td>\n",
       "      <td>5</td>\n",
       "      <td>1</td>\n",
       "      <td>11</td>\n",
       "      <td>0</td>\n",
       "      <td>0</td>\n",
       "      <td>1</td>\n",
       "      <td>0</td>\n",
       "      <td>0</td>\n",
       "      <td>1</td>\n",
       "      <td>0</td>\n",
       "      <td>23.0</td>\n",
       "      <td>0.0</td>\n",
       "      <td>2.3</td>\n",
       "      <td>0.247</td>\n",
       "      <td>0.398</td>\n",
       "    </tr>\n",
       "  </tbody>\n",
       "</table>\n",
       "</div>"
      ],
      "text/plain": [
       "                     Mth  Date  Day  hour  season_1  season_2  season_3  \\\n",
       "Time                                                                      \n",
       "2017-09-05 10:00:00    9     5    1    10         0         0         1   \n",
       "2017-09-05 11:00:00    9     5    1    11         0         0         1   \n",
       "\n",
       "                     season_4  dayClass_1  dayClass_2  dayClass_3  Temp  \\\n",
       "Time                                                                      \n",
       "2017-09-05 10:00:00         0           0           1           0  22.5   \n",
       "2017-09-05 11:00:00         0           0           1           0  23.0   \n",
       "\n",
       "                     Humidity  WindSpeed  lag_24  lag_168  \n",
       "Time                                                       \n",
       "2017-09-05 10:00:00       0.0        2.5   0.242    0.431  \n",
       "2017-09-05 11:00:00       0.0        2.3   0.247    0.398  "
      ]
     },
     "execution_count": 75,
     "metadata": {},
     "output_type": "execute_result"
    }
   ],
   "source": [
    "X_train_H = X\n",
    "X_train_H.head(2)"
   ]
  },
  {
   "cell_type": "code",
   "execution_count": 108,
   "metadata": {},
   "outputs": [
    {
     "ename": "TypeError",
     "evalue": "fit_transform() missing 1 required positional argument: 'X'",
     "output_type": "error",
     "traceback": [
      "\u001b[0;31m---------------------------------------------------------------------------\u001b[0m",
      "\u001b[0;31mTypeError\u001b[0m                                 Traceback (most recent call last)",
      "\u001b[0;32m<ipython-input-108-0b52d1a9c902>\u001b[0m in \u001b[0;36m<module>\u001b[0;34m\u001b[0m\n\u001b[0;32m----> 1\u001b[0;31m \u001b[0mX_train_H\u001b[0m \u001b[0;34m=\u001b[0m \u001b[0msc\u001b[0m\u001b[0;34m.\u001b[0m\u001b[0mfit_transform\u001b[0m\u001b[0;34m(\u001b[0m\u001b[0mX_train_H\u001b[0m\u001b[0;34m)\u001b[0m\u001b[0;34m\u001b[0m\u001b[0m\n\u001b[0m\u001b[1;32m      2\u001b[0m \u001b[0mX_test_H\u001b[0m \u001b[0;34m=\u001b[0m  \u001b[0msc\u001b[0m\u001b[0;34m.\u001b[0m\u001b[0mtransform\u001b[0m\u001b[0;34m(\u001b[0m\u001b[0mX_train_H\u001b[0m\u001b[0;34m)\u001b[0m\u001b[0;34m\u001b[0m\u001b[0m\n",
      "\u001b[0;31mTypeError\u001b[0m: fit_transform() missing 1 required positional argument: 'X'"
     ]
    }
   ],
   "source": [
    "# X_train_H = sc.fit_transform(X_train_H)\n",
    "# X_test_H =  sc.transform(X_train_H) "
   ]
  },
  {
   "cell_type": "code",
   "execution_count": 76,
   "metadata": {},
   "outputs": [],
   "source": [
    "y_train_H = y"
   ]
  },
  {
   "cell_type": "code",
   "execution_count": 77,
   "metadata": {},
   "outputs": [],
   "source": [
    "from sklearn.model_selection import GridSearchCV"
   ]
  },
  {
   "cell_type": "markdown",
   "metadata": {},
   "source": [
    "\n",
    "## LGBReg, GridSearch trials\n",
    "\n",
    "-1.17: boosting_type='goss', class_weight=None, colsample_bytree=1.0,\n",
    "              importance_type='split', learning_rate=0.05, max_depth=-1,\n",
    "              min_child_samples=20, min_child_weight=0.001, min_split_gain=0.0,\n",
    "              n_estimators=100, n_jobs=4, num_leaves=31, objective=None,\n",
    "              random_state=None, reg_alpha=0.0, reg_lambda=0.0, silent=True,\n",
    "              subsample=1.0, subsample_for_bin=20000, subsample_freq=0\n",
    "              \n",
    "32: boosting_type='goss', class_weight=None, colsample_bytree=1.0,\n",
    "              importance_type='split', learning_rate=0.05, max_depth=-1,\n",
    "              min_child_samples=20, min_child_weight=0.001, min_split_gain=0.0,\n",
    "              n_estimators=50, n_jobs=4, num_leaves=31, objective=None,\n",
    "              random_state=None, reg_alpha=0.0, reg_lambda=0.0, silent=True,\n",
    "              subsample=1.0, subsample_for_bin=20000, subsample_freq=0\n",
    "\n",
    "37: boosting_type='dart', class_weight=None, colsample_bytree=1.0,\n",
    "              importance_type='split', learning_rate=0.05, max_depth=-1,\n",
    "              min_child_samples=20, min_child_weight=0.001, min_split_gain=0.0,\n",
    "              n_estimators=  50~100  , n_jobs=4, num_leaves=31, objective=None,\n",
    "              random_state=None, reg_alpha=0.0, reg_lambda=0.0, silent=True,\n",
    "              subsample=1.0, subsample_for_bin=20000, subsample_freq=0"
   ]
  },
  {
   "cell_type": "code",
   "execution_count": 163,
   "metadata": {},
   "outputs": [
    {
     "name": "stdout",
     "output_type": "stream",
     "text": [
      "1572091302.0948794\n",
      "SMAPE: 39.46379689800117\n",
      "--- 25.16241979598999 seconds ---\n"
     ]
    }
   ],
   "source": [
    "# import time\n",
    "# start_time = time.time()\n",
    "# print(start_time)\n",
    "# lgb2 = LGBMRegressor(boosting_type='dart', class_weight=None, colsample_bytree=1.0,\n",
    "#               importance_type='split', learning_rate=0.15, max_depth=-1,\n",
    "#               min_child_samples=30, min_child_weight=0.1, min_split_gain=0.0,\n",
    "#               n_estimators=1000, n_jobs=4, num_leaves=31, objective=None,\n",
    "#               random_state=None, reg_alpha=0.0, reg_lambda=0.0, silent=True,\n",
    "#               subsample=1.0, subsample_for_bin=20000, subsample_freq=0, tree_learner='feature')\n",
    "\n",
    "# _,_,_,y_valid,valid_time, pred_X303_lgb2 = model_Validation(XT,yT, 0.3, lgb2)\n",
    "\n",
    "# print(\"--- %s seconds ---\" % (time.time() - start_time))"
   ]
  },
  {
   "cell_type": "markdown",
   "metadata": {},
   "source": [
    "X303 최적: cv=3, error_score='raise-deprecating',\n",
    "             estimator=LGBMRegressor(boosting_type='gbdt', class_weight=None,\n",
    "                                     colsample_bytree=1.0,\n",
    "                                     importance_type='split', learning_rate=0.1,\n",
    "                                     max_depth=-1, min_child_samples=20,\n",
    "                                     min_child_weight=0.001, min_split_gain=0.0,\n",
    "                                     n_estimators=100, n_jobs=4, num_leaves=31,\n",
    "                                     objective=None, random_state=None,\n",
    "                                     reg_alpha=0.0, reg_lambda=...\n",
    "                                     subsample=1.0, subsample_for_bin=200000,\n",
    "                                     subsample_freq=0, tree_learner='feature',\n",
    "                                     verbose=1),\n",
    "             iid='warn', n_jobs=4,"
   ]
  },
  {
   "cell_type": "code",
   "execution_count": 165,
   "metadata": {},
   "outputs": [
    {
     "name": "stdout",
     "output_type": "stream",
     "text": [
      "1572091385.926902\n",
      "Fitting 3 folds for each of 360 candidates, totalling 1080 fits\n"
     ]
    },
    {
     "name": "stderr",
     "output_type": "stream",
     "text": [
      "[Parallel(n_jobs=4)]: Using backend LokyBackend with 4 concurrent workers.\n",
      "[Parallel(n_jobs=4)]: Done   5 tasks      | elapsed:    7.9s\n",
      "[Parallel(n_jobs=4)]: Done  10 tasks      | elapsed:   15.7s\n",
      "[Parallel(n_jobs=4)]: Done  17 tasks      | elapsed:   25.2s\n",
      "[Parallel(n_jobs=4)]: Done  24 tasks      | elapsed:   34.8s\n",
      "[Parallel(n_jobs=4)]: Done  33 tasks      | elapsed:   49.6s\n",
      "[Parallel(n_jobs=4)]: Done  42 tasks      | elapsed:  1.1min\n",
      "[Parallel(n_jobs=4)]: Done  53 tasks      | elapsed:  1.4min\n",
      "[Parallel(n_jobs=4)]: Done  64 tasks      | elapsed:  1.7min\n",
      "[Parallel(n_jobs=4)]: Done  77 tasks      | elapsed:  2.0min\n",
      "[Parallel(n_jobs=4)]: Done  90 tasks      | elapsed:  2.4min\n",
      "[Parallel(n_jobs=4)]: Done 105 tasks      | elapsed:  2.7min\n",
      "[Parallel(n_jobs=4)]: Done 120 tasks      | elapsed:  3.2min\n",
      "[Parallel(n_jobs=4)]: Done 137 tasks      | elapsed:  3.6min\n",
      "[Parallel(n_jobs=4)]: Done 154 tasks      | elapsed:  4.1min\n",
      "[Parallel(n_jobs=4)]: Done 173 tasks      | elapsed:  4.5min\n",
      "[Parallel(n_jobs=4)]: Done 192 tasks      | elapsed:  5.0min\n",
      "[Parallel(n_jobs=4)]: Done 213 tasks      | elapsed:  5.6min\n",
      "[Parallel(n_jobs=4)]: Done 234 tasks      | elapsed:  6.1min\n",
      "[Parallel(n_jobs=4)]: Done 257 tasks      | elapsed:  6.7min\n",
      "[Parallel(n_jobs=4)]: Done 280 tasks      | elapsed:  7.3min\n",
      "[Parallel(n_jobs=4)]: Done 305 tasks      | elapsed:  7.9min\n",
      "[Parallel(n_jobs=4)]: Done 330 tasks      | elapsed:  8.5min\n",
      "[Parallel(n_jobs=4)]: Done 357 tasks      | elapsed:  9.3min\n",
      "[Parallel(n_jobs=4)]: Done 384 tasks      | elapsed: 10.2min\n",
      "[Parallel(n_jobs=4)]: Done 413 tasks      | elapsed: 11.4min\n",
      "[Parallel(n_jobs=4)]: Done 442 tasks      | elapsed: 12.6min\n",
      "[Parallel(n_jobs=4)]: Done 473 tasks      | elapsed: 13.8min\n",
      "[Parallel(n_jobs=4)]: Done 504 tasks      | elapsed: 15.0min\n",
      "[Parallel(n_jobs=4)]: Done 537 tasks      | elapsed: 16.3min\n",
      "[Parallel(n_jobs=4)]: Done 570 tasks      | elapsed: 17.5min\n",
      "[Parallel(n_jobs=4)]: Done 605 tasks      | elapsed: 18.9min\n",
      "[Parallel(n_jobs=4)]: Done 640 tasks      | elapsed: 20.3min\n",
      "[Parallel(n_jobs=4)]: Done 677 tasks      | elapsed: 21.7min\n",
      "[Parallel(n_jobs=4)]: Done 714 tasks      | elapsed: 23.1min\n",
      "[Parallel(n_jobs=4)]: Done 753 tasks      | elapsed: 24.4min\n",
      "[Parallel(n_jobs=4)]: Done 792 tasks      | elapsed: 25.3min\n",
      "[Parallel(n_jobs=4)]: Done 833 tasks      | elapsed: 26.3min\n",
      "[Parallel(n_jobs=4)]: Done 874 tasks      | elapsed: 27.4min\n",
      "[Parallel(n_jobs=4)]: Done 917 tasks      | elapsed: 28.3min\n",
      "[Parallel(n_jobs=4)]: Done 960 tasks      | elapsed: 29.0min\n",
      "[Parallel(n_jobs=4)]: Done 1005 tasks      | elapsed: 29.8min\n",
      "[Parallel(n_jobs=4)]: Done 1050 tasks      | elapsed: 30.5min\n",
      "[Parallel(n_jobs=4)]: Done 1080 out of 1080 | elapsed: 30.9min finished\n",
      "/opt/conda/lib/python3.6/site-packages/sklearn/model_selection/_search.py:814: DeprecationWarning: The default of the `iid` parameter will change from True to False in version 0.22 and will be removed in 0.24. This will change numeric results when test-set sizes are unequal.\n",
      "  DeprecationWarning)\n"
     ]
    },
    {
     "name": "stdout",
     "output_type": "stream",
     "text": [
      "--- 1855.5285897254944 seconds ---\n"
     ]
    }
   ],
   "source": [
    "lg_param = {\"boosting_type\":['gbdt', 'dart','goss'],\n",
    "    \"learning_rate\": [0.01,0.05,0.1,0.15],\n",
    "    \"min_child_samples\":[10, 20, 30, 50],       \n",
    "    \"n_estimators\":[50, 100, 200, 500],\n",
    "    }\n",
    "\n",
    "lgReg = LGBMRegressor(verbose=1,n_jobs=4, tree_learner='feature')\n",
    "grid_gb = GridSearchCV(lgReg, lg_param, cv=3, n_jobs=4, verbose=10)\n",
    "\n",
    "\n",
    "import time\n",
    "start_time = time.time()\n",
    "print(start_time)\n",
    "grid_gb.fit(X_train_H, y_train_H)\n",
    "print(\"--- %s seconds ---\" % (time.time() - start_time))"
   ]
  },
  {
   "cell_type": "code",
   "execution_count": 175,
   "metadata": {},
   "outputs": [
    {
     "data": {
      "text/plain": [
       "array([0.60239669, 0.60239669, 0.60239669, 0.45234894, 0.60239669,\n",
       "       0.63824301, 0.68578153, 0.60097243, 0.64094737, 0.80008631,\n",
       "       0.82044701, 0.82314306, 0.82314306, 0.88642931, 0.91882165,\n",
       "       0.91828641, 0.91828641, 0.91828641, 0.88117703, 0.8570603 ,\n",
       "       0.8570603 , 0.87456723, 0.84991377, 0.8414207 ])"
      ]
     },
     "execution_count": 175,
     "metadata": {},
     "output_type": "execute_result"
    }
   ],
   "source": [
    "pred_H_X303 = grid_gb.predict(X_test_H)\n",
    "pred_H_X303"
   ]
  },
  {
   "cell_type": "code",
   "execution_count": null,
   "metadata": {},
   "outputs": [],
   "source": [
    "agg = {}\n",
    "for i in range(24):\n",
    "    "
   ]
  },
  {
   "cell_type": "markdown",
   "metadata": {},
   "source": [
    "# 칼럼 50개 돌리기"
   ]
  },
  {
   "cell_type": "code",
   "execution_count": 215,
   "metadata": {},
   "outputs": [
    {
     "data": {
      "text/html": [
       "<div>\n",
       "<style scoped>\n",
       "    .dataframe tbody tr th:only-of-type {\n",
       "        vertical-align: middle;\n",
       "    }\n",
       "\n",
       "    .dataframe tbody tr th {\n",
       "        vertical-align: top;\n",
       "    }\n",
       "\n",
       "    .dataframe thead th {\n",
       "        text-align: right;\n",
       "    }\n",
       "</style>\n",
       "<table border=\"1\" class=\"dataframe\">\n",
       "  <thead>\n",
       "    <tr style=\"text-align: right;\">\n",
       "      <th></th>\n",
       "      <th>X26</th>\n",
       "      <th>X303</th>\n",
       "      <th>X241</th>\n",
       "      <th>X435</th>\n",
       "      <th>X402</th>\n",
       "      <th>X352</th>\n",
       "      <th>X305</th>\n",
       "      <th>X350</th>\n",
       "      <th>X326</th>\n",
       "      <th>X299</th>\n",
       "      <th>...</th>\n",
       "      <th>X371</th>\n",
       "      <th>X200</th>\n",
       "      <th>X111</th>\n",
       "      <th>X163</th>\n",
       "      <th>X364</th>\n",
       "      <th>X378</th>\n",
       "      <th>X271</th>\n",
       "      <th>X462</th>\n",
       "      <th>X427</th>\n",
       "      <th>X73</th>\n",
       "    </tr>\n",
       "    <tr>\n",
       "      <th>Time</th>\n",
       "      <th></th>\n",
       "      <th></th>\n",
       "      <th></th>\n",
       "      <th></th>\n",
       "      <th></th>\n",
       "      <th></th>\n",
       "      <th></th>\n",
       "      <th></th>\n",
       "      <th></th>\n",
       "      <th></th>\n",
       "      <th></th>\n",
       "      <th></th>\n",
       "      <th></th>\n",
       "      <th></th>\n",
       "      <th></th>\n",
       "      <th></th>\n",
       "      <th></th>\n",
       "      <th></th>\n",
       "      <th></th>\n",
       "      <th></th>\n",
       "      <th></th>\n",
       "    </tr>\n",
       "  </thead>\n",
       "  <tbody>\n",
       "    <tr>\n",
       "      <th>2017-08-29 10:00:00</th>\n",
       "      <td>1.453803</td>\n",
       "      <td>0.431</td>\n",
       "      <td>0.276</td>\n",
       "      <td>0.228</td>\n",
       "      <td>0.432</td>\n",
       "      <td>0.232</td>\n",
       "      <td>0.348</td>\n",
       "      <td>0.259</td>\n",
       "      <td>0.194</td>\n",
       "      <td>0.086</td>\n",
       "      <td>...</td>\n",
       "      <td>0.214</td>\n",
       "      <td>0.303754</td>\n",
       "      <td>0.445</td>\n",
       "      <td>0.203</td>\n",
       "      <td>0.249</td>\n",
       "      <td>0.22</td>\n",
       "      <td>0.311651</td>\n",
       "      <td>0.268794</td>\n",
       "      <td>0.27</td>\n",
       "      <td>0.008</td>\n",
       "    </tr>\n",
       "  </tbody>\n",
       "</table>\n",
       "<p>1 rows × 50 columns</p>\n",
       "</div>"
      ],
      "text/plain": [
       "                          X26   X303   X241   X435   X402   X352   X305  \\\n",
       "Time                                                                      \n",
       "2017-08-29 10:00:00  1.453803  0.431  0.276  0.228  0.432  0.232  0.348   \n",
       "\n",
       "                      X350   X326   X299  ...   X371      X200   X111   X163  \\\n",
       "Time                                      ...                                  \n",
       "2017-08-29 10:00:00  0.259  0.194  0.086  ...  0.214  0.303754  0.445  0.203   \n",
       "\n",
       "                      X364  X378      X271      X462  X427    X73  \n",
       "Time                                                               \n",
       "2017-08-29 10:00:00  0.249  0.22  0.311651  0.268794  0.27  0.008  \n",
       "\n",
       "[1 rows x 50 columns]"
      ]
     },
     "execution_count": 215,
     "metadata": {},
     "output_type": "execute_result"
    }
   ],
   "source": [
    "test50 = test.iloc[:,:50]\n",
    "test50.head(1)"
   ]
  },
  {
   "cell_type": "code",
   "execution_count": 218,
   "metadata": {},
   "outputs": [],
   "source": [
    "lg_param = {\"boosting_type\":['gbdt', 'dart','goss'],\n",
    "    \"learning_rate\": [0.01,0.05,0.1,0.15],\n",
    "    \"min_child_samples\":[10, 20, 30, 50],       \n",
    "    \"n_estimators\":[50, 100, 200, 500],\n",
    "    }\n",
    "\n",
    "def gsLGBR_Hrly_FitPred (model, params, mID, X_train, y_train, X_test):\n",
    "    grid_gb = GridSearchCV(model, params, cv=3, n_jobs=4, verbose=10)\n",
    "    grid_gb.fit(X_train, y_train)\n",
    "    fcsrt = grid_gb.predict(X_test)\n",
    "    a = pd.DataFrame([mID], columns=['meter_id'])\n",
    "    for i in range(24):\n",
    "        a['X2018_7_1_'+str(i+1)+'h']=[fcst[i]]\n",
    "    return a\n",
    "   \n",
    "def test50_Hrly_GS_LGBReg(train, X_test_H):\n",
    "    hrly_50 = pd.DataFrame\n",
    "    for mID in train.columns:\n",
    "        data = pd.concat([train.loc[:,[mID]], TE_timeV_dum_wthr], axis=1)\n",
    "        data = data.rename(columns={mID:'y'})\n",
    "        for i in [24, 168]:\n",
    "            data['lag_{}'.format(i)] = data.y.shift(i)\n",
    "        y_train = data.dropna().y\n",
    "        X_train = data.dropna().drop(['y'], axis=1)\n",
    "        \n",
    "        tmp = gsLGBR_Hrly_FitPred(LGBMRegressor(verbose=1,n_jobs=4, tree_learner='feature'), lg_param,\n",
    "                        mID, X_train, y_train, X_test_H)\n",
    "        hrly_50 = pd.concat([hrly_50, tmp], axis=0)\n",
    "    return hrly_50"
   ]
  },
  {
   "cell_type": "code",
   "execution_count": 219,
   "metadata": {},
   "outputs": [
    {
     "ename": "NameError",
     "evalue": "name 'X_test' is not defined",
     "output_type": "error",
     "traceback": [
      "\u001b[0;31m---------------------------------------------------------------------------\u001b[0m",
      "\u001b[0;31mNameError\u001b[0m                                 Traceback (most recent call last)",
      "\u001b[0;32m<ipython-input-219-a37adec215db>\u001b[0m in \u001b[0;36m<module>\u001b[0;34m\u001b[0m\n\u001b[0;32m----> 1\u001b[0;31m \u001b[0mpred_50\u001b[0m \u001b[0;34m=\u001b[0m \u001b[0mtest50_Hrly_GS_LGBReg\u001b[0m\u001b[0;34m(\u001b[0m\u001b[0mtest50\u001b[0m\u001b[0;34m,\u001b[0m \u001b[0mX_test_H\u001b[0m\u001b[0;34m)\u001b[0m\u001b[0;34m\u001b[0m\u001b[0m\n\u001b[0m",
      "\u001b[0;32m<ipython-input-218-4c005aebcda1>\u001b[0m in \u001b[0;36mtest50_Hrly_GS_LGBReg\u001b[0;34m(train, X_test_H)\u001b[0m\n\u001b[1;32m     25\u001b[0m \u001b[0;34m\u001b[0m\u001b[0m\n\u001b[1;32m     26\u001b[0m         tmp = gsLGBR_Hrly_FitPred(LGBMRegressor(verbose=1,n_jobs=4, tree_learner='feature'), lg_param,\n\u001b[0;32m---> 27\u001b[0;31m                         mID, X_train, y_train, X_test)\n\u001b[0m\u001b[1;32m     28\u001b[0m         \u001b[0mhrly_50\u001b[0m \u001b[0;34m=\u001b[0m \u001b[0mpd\u001b[0m\u001b[0;34m.\u001b[0m\u001b[0mconcat\u001b[0m\u001b[0;34m(\u001b[0m\u001b[0;34m[\u001b[0m\u001b[0mhrly_50\u001b[0m\u001b[0;34m,\u001b[0m \u001b[0mtmp\u001b[0m\u001b[0;34m]\u001b[0m\u001b[0;34m,\u001b[0m \u001b[0maxis\u001b[0m\u001b[0;34m=\u001b[0m\u001b[0;36m0\u001b[0m\u001b[0;34m)\u001b[0m\u001b[0;34m\u001b[0m\u001b[0m\n\u001b[1;32m     29\u001b[0m     \u001b[0;32mreturn\u001b[0m \u001b[0mhrly_50\u001b[0m\u001b[0;34m\u001b[0m\u001b[0m\n",
      "\u001b[0;31mNameError\u001b[0m: name 'X_test' is not defined"
     ]
    }
   ],
   "source": [
    "pred_50 = test50_Hrly_GS_LGBReg(test50, X_test_H)"
   ]
  },
  {
   "cell_type": "code",
   "execution_count": null,
   "metadata": {},
   "outputs": [],
   "source": [
    "import os\n",
    "os.chdir(r'kaggle/working')\n",
    "pred_50.to_csv(r'first50_Hrly.csv')\n",
    "\n",
    "from IPython.display import FileLink\n",
    "FileLink(r'first50_Hrly.csv')"
   ]
  }
 ],
 "metadata": {
  "kernelspec": {
   "display_name": "Python 3",
   "language": "python",
   "name": "python3"
  },
  "language_info": {
   "codemirror_mode": {
    "name": "ipython",
    "version": 3
   },
   "file_extension": ".py",
   "mimetype": "text/x-python",
   "name": "python",
   "nbconvert_exporter": "python",
   "pygments_lexer": "ipython3",
   "version": "3.7.3"
  }
 },
 "nbformat": 4,
 "nbformat_minor": 1
}
