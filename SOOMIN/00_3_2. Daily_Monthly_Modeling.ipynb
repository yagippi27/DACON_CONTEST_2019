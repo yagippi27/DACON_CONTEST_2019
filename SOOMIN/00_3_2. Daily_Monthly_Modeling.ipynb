{
 "cells": [
  {
   "cell_type": "code",
   "execution_count": null,
   "metadata": {},
   "outputs": [],
   "source": [
    "import numpy as np \n",
    "import pandas as pd \n",
    "from pandas import DataFrame \n",
    "\n",
    "import matplotlib.pyplot as plt \n",
    "import seaborn as sns\n",
    "import itertools\n",
    "%matplotlib inline\n",
    "from matplotlib.pyplot import figure\n",
    "import matplotlib as mpl\n",
    "import matplotlib.font_manager as fm\n",
    "mpl.rcParams['axes.unicode_minus'] = False\n",
    "plt.rcParams[\"font.family\"] = 'Malgun Gothic' \n",
    "plt.rcParams[\"font.size\"] = 10\n",
    "%matplotlib inline \n",
    "\n",
    "\n",
    "from datetime import datetime, timedelta \n",
    "from statsmodels.tsa.arima_model import ARIMA \n",
    "\n",
    "from sklearn.preprocessing import StandardScaler\n",
    "import os"
   ]
  },
  {
   "cell_type": "code",
   "execution_count": null,
   "metadata": {},
   "outputs": [],
   "source": [
    "import os\n",
    "for dirname, _, filenames in os.walk('/kaggle/input/'):\n",
    "    for filename in filenames:\n",
    "        print(os.path.join(dirname, filename))"
   ]
  },
  {
   "cell_type": "markdown",
   "metadata": {},
   "source": [
    "## Weather 추가변수\n",
    "- 나중에 모델 돌릴때마다 df에 추가하는 것"
   ]
  },
  {
   "cell_type": "code",
   "execution_count": null,
   "metadata": {},
   "outputs": [],
   "source": [
    "# Daily WEATHER data\n",
    "w_daily = pd.read_csv(\"/kaggle/input/weather/daily.csv\",encoding='euc-kr', sep=',')\n",
    "w_daily.head(2)"
   ]
  },
  {
   "cell_type": "code",
   "execution_count": null,
   "metadata": {},
   "outputs": [],
   "source": [
    "w_daily2 = w_daily.drop(columns='Location')\n",
    "w_daily2.head(2)"
   ]
  },
  {
   "cell_type": "code",
   "execution_count": null,
   "metadata": {},
   "outputs": [],
   "source": [
    "w_daily2['Time'] = pd.to_datetime(w_daily2.Time)\n",
    "w_daily2 = w_daily2.set_index('Time')\n",
    "w_daily2.tail(2)"
   ]
  },
  {
   "cell_type": "code",
   "execution_count": null,
   "metadata": {},
   "outputs": [],
   "source": [
    "######################\n",
    "# Monthly WEATHER data\n",
    "w_Monthly = pd.read_csv(\"/kaggle/input/weather/monthly.csv\",encoding='euc-kr', sep=',')\n",
    "w_Monthly.head(2)"
   ]
  },
  {
   "cell_type": "code",
   "execution_count": null,
   "metadata": {},
   "outputs": [],
   "source": [
    "w_MonthlyTemp = w_Monthly.drop(columns=['Location', 'MaxTemp','MinTemp'])\n",
    "w_Monthly2 = w_MonthlyTemp.iloc[12:,:]\n",
    "w_Monthly2.head(2)"
   ]
  },
  {
   "cell_type": "code",
   "execution_count": null,
   "metadata": {},
   "outputs": [],
   "source": [
    "w_Monthly2['Mth'] = pd.DataFrame([8, 9, 10,11,12, 1,2,3,4,5,6,7,8,9,10,11]).values\n",
    "w_Monthly2.head()"
   ]
  },
  {
   "cell_type": "code",
   "execution_count": null,
   "metadata": {},
   "outputs": [],
   "source": [
    "w_Monthly2 = w_Monthly2.drop(columns='Time')\n",
    "w_Monthly2"
   ]
  },
  {
   "cell_type": "markdown",
   "metadata": {},
   "source": [
    "## 파생 및 dummy변수"
   ]
  },
  {
   "cell_type": "code",
   "execution_count": null,
   "metadata": {},
   "outputs": [],
   "source": [
    "test = pd.read_csv(\"/kaggle/input/dataset/TEST_DHweightDaconArima_NAFilled.csv\", index_col=0, sep=',')"
   ]
  },
  {
   "cell_type": "code",
   "execution_count": null,
   "metadata": {},
   "outputs": [],
   "source": [
    "test.index = pd.to_datetime(test.index)\n",
    "test.index"
   ]
  },
  {
   "cell_type": "code",
   "execution_count": null,
   "metadata": {},
   "outputs": [],
   "source": [
    "### resampling by Day\n",
    "test_D = test.resample('D').sum()"
   ]
  },
  {
   "cell_type": "code",
   "execution_count": null,
   "metadata": {},
   "outputs": [],
   "source": [
    "def Daily_dateTimeVar(df):\n",
    "    df1 = pd.DataFrame(df.index)\n",
    "    df1.index = pd.to_datetime(df1.iloc[:,0])\n",
    "    df1 = df1.drop(columns=df1.columns)\n",
    "    # datetime을 사용한 파생변수\n",
    "    # 연도, 월, 일, 요일, 시간\n",
    "    df1['Mth']= df1.index.month\n",
    "    df1['Date']=df1.index.day\n",
    "    df1['Day']=df1.index.weekday\n",
    "#     df1['hour']=df1.index.hour\n",
    "    \n",
    "    # Season 1: 봄 ~ 4: 겨울 \n",
    "    df1['season'] = df1.Mth.apply(lambda x: 4 if x in [12,1,2] else \n",
    "                1 if x in [3,4,5] else 2 if x in [6,7,8]\n",
    "               else 3)\n",
    "    # dayClass 1: 월, 2: 화~금, 3: 토, 일 \n",
    "    # 참조 from 실시간 수요예측 기법 개발 및 온라인 수요예측 방안 연구_KPX 한국전력거래소)\n",
    "    df1['dayClass'] = df1.Day.apply(lambda x: 1 if x ==0 else \n",
    "                2 if x in [1,2,3,4] else 3)\n",
    "    return df1"
   ]
  },
  {
   "cell_type": "code",
   "execution_count": null,
   "metadata": {},
   "outputs": [],
   "source": [
    "TE_D_time_vars = Daily_dateTimeVar(test_D)"
   ]
  },
  {
   "cell_type": "code",
   "execution_count": null,
   "metadata": {},
   "outputs": [],
   "source": [
    "TE_D_time_vars.head(1)"
   ]
  },
  {
   "cell_type": "markdown",
   "metadata": {},
   "source": [
    "## Make DUMMIES"
   ]
  },
  {
   "cell_type": "code",
   "execution_count": null,
   "metadata": {},
   "outputs": [],
   "source": [
    "test_D.head(2)"
   ]
  },
  {
   "cell_type": "code",
   "execution_count": null,
   "metadata": {},
   "outputs": [],
   "source": [
    "TE_D_time_vars.head(2)"
   ]
  },
  {
   "cell_type": "code",
   "execution_count": null,
   "metadata": {},
   "outputs": [],
   "source": [
    "def dummies(df, dum_lst):\n",
    "    df1 = df.copy()\n",
    "    # dum_lst에 들어있는 각각의 변수마다 \n",
    "    # tmp = get_dummies, 해당 original 변수는 drop\n",
    "    # tmp와 변수가 drop된 df를 join 후 리턴\n",
    "    for v in dum_lst:\n",
    "        tmp = pd.get_dummies(df1[v], prefix=v)\n",
    "        df1 = df1.drop(columns=v).join(tmp)\n",
    "    return df1"
   ]
  },
  {
   "cell_type": "code",
   "execution_count": null,
   "metadata": {},
   "outputs": [],
   "source": [
    "TE_D_timeV_dum = dummies(TE_D_time_vars, ['season', 'dayClass'])"
   ]
  },
  {
   "cell_type": "code",
   "execution_count": null,
   "metadata": {},
   "outputs": [],
   "source": [
    "TE_D_timeV_dum.head(2)"
   ]
  },
  {
   "cell_type": "code",
   "execution_count": null,
   "metadata": {
    "scrolled": true
   },
   "outputs": [],
   "source": [
    "TE_timeV_Daily_dum_wthr= pd.concat([TE_D_timeV_dum, w_daily2], axis=1,join='inner')"
   ]
  },
  {
   "cell_type": "code",
   "execution_count": null,
   "metadata": {},
   "outputs": [],
   "source": [
    "TE_timeV_Daily_dum_wthr.head()"
   ]
  },
  {
   "cell_type": "code",
   "execution_count": null,
   "metadata": {},
   "outputs": [],
   "source": [
    "w_Monthly2Head = w_Monthly2.head(11)"
   ]
  },
  {
   "cell_type": "code",
   "execution_count": null,
   "metadata": {},
   "outputs": [],
   "source": [
    "TE_timeV_Monthly_dum_wthr= pd.merge(TE_D_timeV_dum, w_Monthly2Head, left_on = 'Mth', right_on='Mth')\n",
    "TE_timeV_Monthly_dum_wthr.shape"
   ]
  },
  {
   "cell_type": "code",
   "execution_count": null,
   "metadata": {},
   "outputs": [],
   "source": [
    "TE_timeV_Monthly_dum_wthr.index = pd.date_range(start = pd.datetime(2017, 8, 29),\n",
    "                             end = pd.datetime(2018, 6, 30),\n",
    "                             freq = \"D\")"
   ]
  },
  {
   "cell_type": "code",
   "execution_count": null,
   "metadata": {},
   "outputs": [],
   "source": [
    "TE_timeV_Monthly_dum_wthr.head()"
   ]
  },
  {
   "cell_type": "markdown",
   "metadata": {},
   "source": [
    "# Modeling\n",
    "\n",
    "* test : TEST셋의 순수한 meterIDs Time series (NA값 채워짐) \n",
    "* TE_timeV_dum: TEST셋의 시간파생변수 + dummy variables "
   ]
  },
  {
   "cell_type": "code",
   "execution_count": null,
   "metadata": {
    "scrolled": true
   },
   "outputs": [],
   "source": [
    "test_D.head(1)"
   ]
  },
  {
   "cell_type": "code",
   "execution_count": null,
   "metadata": {},
   "outputs": [],
   "source": [
    "TE_timeV_Daily_dum_wthr.head(1)"
   ]
  },
  {
   "cell_type": "markdown",
   "metadata": {},
   "source": [
    "**### 칼럼 10~50개 돌리기"
   ]
  },
  {
   "cell_type": "code",
   "execution_count": null,
   "metadata": {},
   "outputs": [],
   "source": [
    "##################################################\n",
    "#### 칼럼 바꾸기 ###################################\n",
    "\n",
    "test2 = test_D.iloc[:,:50]\n",
    "test2.head()"
   ]
  },
  {
   "cell_type": "code",
   "execution_count": null,
   "metadata": {},
   "outputs": [],
   "source": [
    "submission_daily = pd.date_range(start = pd.datetime(2018, 7, 1),\n",
    "                             end = pd.datetime(2018, 7, 10),\n",
    "                             freq = \"D\")\n",
    "submission_daily"
   ]
  },
  {
   "cell_type": "code",
   "execution_count": null,
   "metadata": {},
   "outputs": [],
   "source": [
    "tmp_test = pd.DataFrame(index = submission_daily)\n",
    "X_test_D = dummies(Daily_dateTimeVar(tmp_test), ['season', 'dayClass'])\n",
    "X_test_D['season_1'] =0 ; X_test_D['season_3'] =0 ;X_test_D['season_4'] =0\n",
    "X_test_D['dayClass_1'] =0 ; X_test_D['dayClass_2'] =0 \n",
    "X_test_D = pd.concat([X_test_D, w_daily2], axis=1,join='inner')"
   ]
  },
  {
   "cell_type": "code",
   "execution_count": null,
   "metadata": {},
   "outputs": [],
   "source": [
    "X_test_D.head(2)"
   ]
  },
  {
   "cell_type": "code",
   "execution_count": null,
   "metadata": {},
   "outputs": [],
   "source": [
    "submission_monthly = pd.date_range(start = pd.datetime(2018, 7, 1),\n",
    "                             end = pd.datetime(2018, 11, 30),\n",
    "                             freq = \"D\")\n",
    "submission_monthly"
   ]
  },
  {
   "cell_type": "code",
   "execution_count": null,
   "metadata": {},
   "outputs": [],
   "source": [
    "tmp_test = pd.DataFrame(index = submission_monthly)\n",
    "\n",
    "X_test_M = dummies(Daily_dateTimeVar(tmp_test), ['season', 'dayClass'])\n",
    "X_test_M['season_1'] =0 ; X_test_M['season_3'] =0 ;X_test_M['season_4'] =0\n",
    "X_test_M['dayClass_1'] =0 ; X_test_M['dayClass_2'] =0 \n",
    "X_test_M.head(2)"
   ]
  },
  {
   "cell_type": "code",
   "execution_count": null,
   "metadata": {},
   "outputs": [],
   "source": [
    "w_Monthly_T = w_Monthly2.tail(5)"
   ]
  },
  {
   "cell_type": "code",
   "execution_count": null,
   "metadata": {},
   "outputs": [],
   "source": [
    "X_test_M = pd.merge(X_test_M, w_Monthly_T, left_on = 'Mth', right_on='Mth', how='left')\n",
    "\n",
    "X_test_M = X_test_M.set_index(submission_monthly)\n",
    "X_test_M.index.name = 'Time'\n",
    "X_test_M.head()"
   ]
  },
  {
   "cell_type": "code",
   "execution_count": null,
   "metadata": {},
   "outputs": [],
   "source": [
    "train = test2 ; mID= 'X303'\n",
    "\n",
    "dataM = pd.concat([train.loc[:,[mID]], TE_timeV_Monthly_dum_wthr], axis=1)\n",
    "dataM = dataM.rename(columns={mID:'y'})\n",
    "y_trainM = dataM.dropna().y\n",
    "X_trainM = dataM.dropna().drop(['y'], axis=1)        \n",
    "X_trainM"
   ]
  },
  {
   "cell_type": "code",
   "execution_count": null,
   "metadata": {},
   "outputs": [],
   "source": [
    "from sklearn.model_selection import GridSearchCV\n",
    "from lightgbm import LGBMRegressor\n",
    "\n",
    "lg_param = {\"boosting_type\":['gbdt', 'dart','goss'],\n",
    "    \"learning_rate\": [0.01,0.05,0.1,0.15],\n",
    "    \"min_child_samples\":[10, 20, 30, 50],       \n",
    "    \"n_estimators\":[10, 50, 100],\n",
    "    }\n",
    "\n",
    "def gsLGBR_Daily_FitPred (model, params, mID, X_train, y_train, X_test):\n",
    "    grid_gb = GridSearchCV(model, params, cv=4, verbose=5)\n",
    "    grid_gb.fit(X_train, y_train)\n",
    "    fcst = grid_gb.predict(X_test)\n",
    "    a = pd.DataFrame([mID], columns=['meter_id'])\n",
    "    for i in range(10):\n",
    "        a['X2018_7_'+str(i+1)+'_d']=[fcst[i]]\n",
    "    return a\n",
    "\n",
    "def gsLGBR_Monthly_FitPred (model, params, mID, X_train, y_train, X_test):\n",
    "    grid_gb = GridSearchCV(model, params, cv=4, verbose=5)\n",
    "    grid_gb.fit(X_train, y_train)\n",
    "    fcst = grid_gb.predict(X_test)\n",
    "    a = pd.DataFrame([mID], columns=['meter_id'])\n",
    "    \n",
    "    a['X2018_7_m'] = [np.sum(fcst[:31])] # 7월 \n",
    "    a['X2018_8_m'] = [np.sum(fcst[31:62])] # 8월\n",
    "    a['X2018_9_m'] = [np.sum(fcst[62:92])] # 9월\n",
    "    a['X2018_10_m'] = [np.sum(fcst[92:123])] # 10월\n",
    "    a['X2018_11_m'] = [np.sum(fcst[123:153])]\n",
    "    \n",
    "    return a\n",
    "   \n",
    "def test50_Daily_GS_LGBReg(train, X_test_D, X_test_M):\n",
    "    daily = pd.DataFrame()\n",
    "    monthly = pd.DataFrame()\n",
    "    for mID in train.columns:\n",
    "#         # Day\n",
    "#         dataD = pd.concat([train.loc[:,[mID]], TE_timeV_Daily_dum_wthr], axis=1)\n",
    "#         dataD = dataD.rename(columns={mID:'y'})\n",
    "#         for i in [7]:\n",
    "#             dataD['lag_{}'.format(i)] = dataD.y.shift(i)\n",
    "#         y_trainD = dataD.dropna().y\n",
    "#         X_trainD = dataD.dropna().drop(['y'], axis=1)\n",
    "        \n",
    "#         X_test_D['lag_7'] = np.append(y_train[292:299].values, y_trainD[289:292].values)\n",
    "#         model = LGBMRegressor(verbose=1, tree_learner='feature')\n",
    "#         tmpD = gsLGBR_Daily_FitPred(model, lg_param,\n",
    "#                                     mID, X_trainD, y_trainD, X_test_D)\n",
    "#         daily = pd.concat([daily, tmpD], axis=0)\n",
    "        \n",
    "        ## Month\n",
    "        dataM = pd.concat([train.loc[:,[mID]], TE_timeV_Monthly_dum_wthr], axis=1)\n",
    "        dataM = dataM.rename(columns={mID:'y'})\n",
    "        y_trainM = dataM.dropna().y\n",
    "        X_trainM = dataM.dropna().drop(['y'], axis=1)        \n",
    "        \n",
    "        model = LGBMRegressor(verbose=1, tree_learner='feature')\n",
    "        tmpM = gsLGBR_Monthly_FitPred(model, lg_param,\n",
    "                            mID,X_trainM, y_trainM,X_test_M)\n",
    "        monthly = pd.concat([monthly, tmpM], axis=0)\n",
    "        \n",
    "    return  daily, monthly"
   ]
  },
  {
   "cell_type": "code",
   "execution_count": null,
   "metadata": {},
   "outputs": [],
   "source": [
    "test2.shape"
   ]
  },
  {
   "cell_type": "code",
   "execution_count": null,
   "metadata": {},
   "outputs": [],
   "source": [
    "pred_D100, pred_M100 = test50_Daily_GS_LGBReg(test2, X_test_D,X_test_M)"
   ]
  },
  {
   "cell_type": "code",
   "execution_count": null,
   "metadata": {},
   "outputs": [],
   "source": [
    "pred_D100.head()"
   ]
  },
  {
   "cell_type": "code",
   "execution_count": null,
   "metadata": {},
   "outputs": [],
   "source": [
    "pred_M100.head()"
   ]
  },
  {
   "cell_type": "code",
   "execution_count": null,
   "metadata": {},
   "outputs": [],
   "source": [
    "import os\n",
    "pred_D100.to_csv(r'100_daily.csv')\n",
    "pred_M100.to_csv(r'100_Monthy.csv')\n",
    "\n",
    "from IPython.display import FileLink\n",
    "FileLink(r'100_daily.csv')\n",
    "FileLink(r'100_Monthy.csv')"
   ]
  },
  {
   "cell_type": "code",
   "execution_count": null,
   "metadata": {},
   "outputs": [],
   "source": []
  }
 ],
 "metadata": {
  "kernelspec": {
   "display_name": "Python 3",
   "language": "python",
   "name": "python3"
  },
  "language_info": {
   "codemirror_mode": {
    "name": "ipython",
    "version": 3
   },
   "file_extension": ".py",
   "mimetype": "text/x-python",
   "name": "python",
   "nbconvert_exporter": "python",
   "pygments_lexer": "ipython3",
   "version": "3.7.3"
  }
 },
 "nbformat": 4,
 "nbformat_minor": 1
}
