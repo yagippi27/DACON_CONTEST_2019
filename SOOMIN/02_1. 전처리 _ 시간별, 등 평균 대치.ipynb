{
 "cells": [
  {
   "cell_type": "markdown",
   "metadata": {},
   "source": [
    "***\n",
    "\n",
    "TEST셋 사용\n",
    "* 시간별 평균 대입 (done)\n",
    "* 일별 시간별 평균 대입\n",
    "* 월별 일별 시간별 평균 대입"
   ]
  },
  {
   "cell_type": "code",
   "execution_count": 1,
   "metadata": {},
   "outputs": [],
   "source": [
    "import pandas as pd\n",
    "import numpy as np\n",
    "\n",
    "import matplotlib.pyplot as plt\n",
    "%matplotlib inline\n",
    "\n",
    "from datetime import datetime, timedelta # 시간 데이터 처리\n",
    "from statsmodels.tsa.arima_model import ARIMA # ARIMA 모델"
   ]
  },
  {
   "cell_type": "code",
   "execution_count": 2,
   "metadata": {},
   "outputs": [],
   "source": [
    "test = pd.read_csv(\"data/test.csv\", sep = \",\")\n",
    "submission = pd.read_csv(\"data/submission.csv\")"
   ]
  },
  {
   "cell_type": "code",
   "execution_count": 3,
   "metadata": {},
   "outputs": [],
   "source": [
    "# object 타입의 'Time'열을 datetime 타입으로 변환\n",
    "test['Time'] = pd.to_datetime(test.Time)\n",
    "\n",
    "# 'Time'열을 데이터프레임의 인덱스로 설정\n",
    "test = test.set_index('Time')"
   ]
  },
  {
   "cell_type": "code",
   "execution_count": 4,
   "metadata": {},
   "outputs": [],
   "source": [
    "# index에서 month, date, hour을 각각 뽑아내어 새로운 칼럼으로 설정\n",
    "test['month'] = test.index.month\n",
    "test['date'] = test.index.day\n",
    "test['hour'] = test.index.hour"
   ]
  },
  {
   "cell_type": "code",
   "execution_count": 5,
   "metadata": {},
   "outputs": [
    {
     "data": {
      "text/html": [
       "<div>\n",
       "<style scoped>\n",
       "    .dataframe tbody tr th:only-of-type {\n",
       "        vertical-align: middle;\n",
       "    }\n",
       "\n",
       "    .dataframe tbody tr th {\n",
       "        vertical-align: top;\n",
       "    }\n",
       "\n",
       "    .dataframe thead th {\n",
       "        text-align: right;\n",
       "    }\n",
       "</style>\n",
       "<table border=\"1\" class=\"dataframe\">\n",
       "  <thead>\n",
       "    <tr style=\"text-align: right;\">\n",
       "      <th></th>\n",
       "      <th>X26</th>\n",
       "      <th>X303</th>\n",
       "      <th>X241</th>\n",
       "      <th>X435</th>\n",
       "      <th>X402</th>\n",
       "      <th>X352</th>\n",
       "      <th>X305</th>\n",
       "      <th>X350</th>\n",
       "      <th>X326</th>\n",
       "      <th>X299</th>\n",
       "      <th>...</th>\n",
       "      <th>X266</th>\n",
       "      <th>X20</th>\n",
       "      <th>X443</th>\n",
       "      <th>X347</th>\n",
       "      <th>X75</th>\n",
       "      <th>X107</th>\n",
       "      <th>X230</th>\n",
       "      <th>month</th>\n",
       "      <th>date</th>\n",
       "      <th>hour</th>\n",
       "    </tr>\n",
       "    <tr>\n",
       "      <th>Time</th>\n",
       "      <th></th>\n",
       "      <th></th>\n",
       "      <th></th>\n",
       "      <th></th>\n",
       "      <th></th>\n",
       "      <th></th>\n",
       "      <th></th>\n",
       "      <th></th>\n",
       "      <th></th>\n",
       "      <th></th>\n",
       "      <th></th>\n",
       "      <th></th>\n",
       "      <th></th>\n",
       "      <th></th>\n",
       "      <th></th>\n",
       "      <th></th>\n",
       "      <th></th>\n",
       "      <th></th>\n",
       "      <th></th>\n",
       "      <th></th>\n",
       "      <th></th>\n",
       "    </tr>\n",
       "  </thead>\n",
       "  <tbody>\n",
       "    <tr>\n",
       "      <th>2017-07-01 00:00:00</th>\n",
       "      <td>NaN</td>\n",
       "      <td>NaN</td>\n",
       "      <td>NaN</td>\n",
       "      <td>NaN</td>\n",
       "      <td>NaN</td>\n",
       "      <td>NaN</td>\n",
       "      <td>NaN</td>\n",
       "      <td>NaN</td>\n",
       "      <td>NaN</td>\n",
       "      <td>NaN</td>\n",
       "      <td>...</td>\n",
       "      <td>NaN</td>\n",
       "      <td>NaN</td>\n",
       "      <td>NaN</td>\n",
       "      <td>NaN</td>\n",
       "      <td>0.275</td>\n",
       "      <td>0.021</td>\n",
       "      <td>NaN</td>\n",
       "      <td>7</td>\n",
       "      <td>1</td>\n",
       "      <td>0</td>\n",
       "    </tr>\n",
       "    <tr>\n",
       "      <th>2017-07-01 01:00:00</th>\n",
       "      <td>NaN</td>\n",
       "      <td>NaN</td>\n",
       "      <td>NaN</td>\n",
       "      <td>NaN</td>\n",
       "      <td>NaN</td>\n",
       "      <td>NaN</td>\n",
       "      <td>NaN</td>\n",
       "      <td>NaN</td>\n",
       "      <td>NaN</td>\n",
       "      <td>NaN</td>\n",
       "      <td>...</td>\n",
       "      <td>NaN</td>\n",
       "      <td>NaN</td>\n",
       "      <td>NaN</td>\n",
       "      <td>NaN</td>\n",
       "      <td>0.222</td>\n",
       "      <td>0.021</td>\n",
       "      <td>NaN</td>\n",
       "      <td>7</td>\n",
       "      <td>1</td>\n",
       "      <td>1</td>\n",
       "    </tr>\n",
       "    <tr>\n",
       "      <th>2017-07-01 02:00:00</th>\n",
       "      <td>NaN</td>\n",
       "      <td>NaN</td>\n",
       "      <td>NaN</td>\n",
       "      <td>NaN</td>\n",
       "      <td>NaN</td>\n",
       "      <td>NaN</td>\n",
       "      <td>NaN</td>\n",
       "      <td>NaN</td>\n",
       "      <td>NaN</td>\n",
       "      <td>NaN</td>\n",
       "      <td>...</td>\n",
       "      <td>NaN</td>\n",
       "      <td>NaN</td>\n",
       "      <td>NaN</td>\n",
       "      <td>NaN</td>\n",
       "      <td>0.237</td>\n",
       "      <td>0.021</td>\n",
       "      <td>NaN</td>\n",
       "      <td>7</td>\n",
       "      <td>1</td>\n",
       "      <td>2</td>\n",
       "    </tr>\n",
       "    <tr>\n",
       "      <th>2017-07-01 03:00:00</th>\n",
       "      <td>NaN</td>\n",
       "      <td>NaN</td>\n",
       "      <td>NaN</td>\n",
       "      <td>NaN</td>\n",
       "      <td>NaN</td>\n",
       "      <td>NaN</td>\n",
       "      <td>NaN</td>\n",
       "      <td>NaN</td>\n",
       "      <td>NaN</td>\n",
       "      <td>NaN</td>\n",
       "      <td>...</td>\n",
       "      <td>NaN</td>\n",
       "      <td>NaN</td>\n",
       "      <td>NaN</td>\n",
       "      <td>NaN</td>\n",
       "      <td>0.229</td>\n",
       "      <td>0.020</td>\n",
       "      <td>NaN</td>\n",
       "      <td>7</td>\n",
       "      <td>1</td>\n",
       "      <td>3</td>\n",
       "    </tr>\n",
       "    <tr>\n",
       "      <th>2017-07-01 04:00:00</th>\n",
       "      <td>NaN</td>\n",
       "      <td>NaN</td>\n",
       "      <td>NaN</td>\n",
       "      <td>NaN</td>\n",
       "      <td>NaN</td>\n",
       "      <td>NaN</td>\n",
       "      <td>NaN</td>\n",
       "      <td>NaN</td>\n",
       "      <td>NaN</td>\n",
       "      <td>NaN</td>\n",
       "      <td>...</td>\n",
       "      <td>NaN</td>\n",
       "      <td>NaN</td>\n",
       "      <td>NaN</td>\n",
       "      <td>NaN</td>\n",
       "      <td>0.202</td>\n",
       "      <td>0.021</td>\n",
       "      <td>NaN</td>\n",
       "      <td>7</td>\n",
       "      <td>1</td>\n",
       "      <td>4</td>\n",
       "    </tr>\n",
       "  </tbody>\n",
       "</table>\n",
       "<p>5 rows × 203 columns</p>\n",
       "</div>"
      ],
      "text/plain": [
       "                     X26  X303  X241  X435  X402  X352  X305  X350  X326  \\\n",
       "Time                                                                       \n",
       "2017-07-01 00:00:00  NaN   NaN   NaN   NaN   NaN   NaN   NaN   NaN   NaN   \n",
       "2017-07-01 01:00:00  NaN   NaN   NaN   NaN   NaN   NaN   NaN   NaN   NaN   \n",
       "2017-07-01 02:00:00  NaN   NaN   NaN   NaN   NaN   NaN   NaN   NaN   NaN   \n",
       "2017-07-01 03:00:00  NaN   NaN   NaN   NaN   NaN   NaN   NaN   NaN   NaN   \n",
       "2017-07-01 04:00:00  NaN   NaN   NaN   NaN   NaN   NaN   NaN   NaN   NaN   \n",
       "\n",
       "                     X299  ...  X266  X20  X443  X347    X75   X107  X230  \\\n",
       "Time                       ...                                              \n",
       "2017-07-01 00:00:00   NaN  ...   NaN  NaN   NaN   NaN  0.275  0.021   NaN   \n",
       "2017-07-01 01:00:00   NaN  ...   NaN  NaN   NaN   NaN  0.222  0.021   NaN   \n",
       "2017-07-01 02:00:00   NaN  ...   NaN  NaN   NaN   NaN  0.237  0.021   NaN   \n",
       "2017-07-01 03:00:00   NaN  ...   NaN  NaN   NaN   NaN  0.229  0.020   NaN   \n",
       "2017-07-01 04:00:00   NaN  ...   NaN  NaN   NaN   NaN  0.202  0.021   NaN   \n",
       "\n",
       "                     month  date  hour  \n",
       "Time                                    \n",
       "2017-07-01 00:00:00      7     1     0  \n",
       "2017-07-01 01:00:00      7     1     1  \n",
       "2017-07-01 02:00:00      7     1     2  \n",
       "2017-07-01 03:00:00      7     1     3  \n",
       "2017-07-01 04:00:00      7     1     4  \n",
       "\n",
       "[5 rows x 203 columns]"
      ]
     },
     "execution_count": 5,
     "metadata": {},
     "output_type": "execute_result"
    }
   ],
   "source": [
    "test.head()"
   ]
  },
  {
   "cell_type": "code",
   "execution_count": 6,
   "metadata": {},
   "outputs": [
    {
     "data": {
      "text/plain": [
       "1.1861232876712327"
      ]
     },
     "execution_count": 6,
     "metadata": {},
     "output_type": "execute_result"
    }
   ],
   "source": [
    "# 각 hour별로 groupby한 후 mean() 계산\n",
    "hourly = test.groupby('hour').mean()\n",
    "\n",
    "# c = 미터ID리스트 (즉 위 데이터프레임의 칼럼 level) (후에 for loop에서 사용하기 위해)\n",
    "c = hourly.columns\n",
    "\n",
    "# hourly 데이터프레임과 c 확인\n",
    "hourly[c[0]][1]"
   ]
  },
  {
   "cell_type": "code",
   "execution_count": 8,
   "metadata": {
    "scrolled": true
   },
   "outputs": [
    {
     "name": "stdout",
     "output_type": "stream",
     "text": [
      "1. current column: X26, NaN count: 7003\n",
      "2. current column: X303, NaN count: 1852\n",
      "3. current column: X241, NaN count: 1894\n",
      "4. current column: X435, NaN count: 2008\n",
      "5. current column: X402, NaN count: 2003\n",
      "6. current column: X352, NaN count: 1903\n",
      "7. current column: X305, NaN count: 2021\n",
      "8. current column: X350, NaN count: 1926\n",
      "9. current column: X326, NaN count: 2037\n",
      "10. current column: X299, NaN count: 2017\n",
      "11. current column: X160, NaN count: 2088\n",
      "12. current column: X125, NaN count: 0\n",
      "13. current column: X211, NaN count: 1905\n",
      "14. current column: X349, NaN count: 2016\n",
      "15. current column: X407, NaN count: 2006\n",
      "16. current column: X330, NaN count: 1985\n",
      "17. current column: X132, NaN count: 1886\n",
      "18. current column: X231, NaN count: 2094\n",
      "19. current column: X225, NaN count: 2065\n",
      "20. current column: X16, NaN count: 7003\n",
      "21. current column: X286, NaN count: 2040\n",
      "22. current column: X354, NaN count: 1969\n",
      "23. current column: X353, NaN count: 2024\n",
      "24. current column: X76, NaN count: 0\n",
      "25. current column: X255, NaN count: 1929\n",
      "26. current column: X106, NaN count: 0\n",
      "27. current column: X393, NaN count: 1979\n",
      "28. current column: X157, NaN count: 2121\n",
      "29. current column: X323, NaN count: 2021\n",
      "30. current column: X130, NaN count: 1923\n",
      "31. current column: X269, NaN count: 2122\n",
      "32. current column: X94, NaN count: 0\n",
      "33. current column: X172, NaN count: 2092\n",
      "34. current column: X289, NaN count: 2039\n",
      "35. current column: X216, NaN count: 1926\n",
      "36. current column: X123, NaN count: 0\n",
      "37. current column: X398, NaN count: 2003\n",
      "38. current column: X233, NaN count: 1930\n",
      "39. current column: X214, NaN count: 1895\n",
      "40. current column: X270, NaN count: 2093\n",
      "41. current column: X371, NaN count: 2024\n",
      "42. current column: X200, NaN count: 2096\n",
      "43. current column: X111, NaN count: 0\n",
      "44. current column: X163, NaN count: 1869\n",
      "45. current column: X364, NaN count: 1979\n",
      "46. current column: X378, NaN count: 1998\n",
      "47. current column: X271, NaN count: 2121\n",
      "48. current column: X462, NaN count: 2147\n",
      "49. current column: X427, NaN count: 2009\n",
      "50. current column: X73, NaN count: 112\n",
      "51. current column: X7, NaN count: 7003\n",
      "52. current column: X263, NaN count: 2065\n",
      "53. current column: X450, NaN count: 1878\n",
      "54. current column: X18, NaN count: 7003\n",
      "55. current column: X206, NaN count: 2089\n",
      "56. current column: X133, NaN count: 1822\n",
      "57. current column: X41, NaN count: 7003\n",
      "58. current column: X195, NaN count: 1927\n",
      "59. current column: X155, NaN count: 2675\n",
      "60. current column: X134, NaN count: 1926\n",
      "61. current column: X297, NaN count: 1969\n",
      "62. current column: X175, NaN count: 2090\n",
      "63. current column: X254, NaN count: 1932\n",
      "64. current column: X196, NaN count: 1897\n",
      "65. current column: X481, NaN count: 4583\n",
      "66. current column: X412, NaN count: 1863\n",
      "67. current column: X337, NaN count: 2022\n",
      "68. current column: X406, NaN count: 1871\n",
      "69. current column: X67, NaN count: 0\n",
      "70. current column: X414, NaN count: 1865\n",
      "71. current column: X55, NaN count: 7003\n",
      "72. current column: X91, NaN count: 0\n",
      "73. current column: X260, NaN count: 1892\n",
      "74. current column: X252, NaN count: 1927\n",
      "75. current column: X5, NaN count: 7003\n",
      "76. current column: X455, NaN count: 2232\n",
      "77. current column: X43, NaN count: 7003\n",
      "78. current column: X320, NaN count: 1945\n",
      "79. current column: X276, NaN count: 2274\n",
      "80. current column: X423, NaN count: 1987\n",
      "81. current column: X218, NaN count: 2087\n",
      "82. current column: X399, NaN count: 1875\n",
      "83. current column: X213, NaN count: 2120\n",
      "84. current column: X379, NaN count: 2015\n",
      "85. current column: X468, NaN count: 2123\n",
      "86. current column: X253, NaN count: 1930\n",
      "87. current column: X247, NaN count: 2044\n",
      "88. current column: X262, NaN count: 2085\n",
      "89. current column: X248, NaN count: 1895\n",
      "90. current column: X357, NaN count: 1981\n",
      "91. current column: X215, NaN count: 1897\n",
      "92. current column: X177, NaN count: 2091\n",
      "93. current column: X228, NaN count: 1883\n",
      "94. current column: X59, NaN count: 7003\n",
      "95. current column: X10, NaN count: 7003\n",
      "96. current column: X187, NaN count: 2076\n",
      "97. current column: X245, NaN count: 2111\n",
      "98. current column: X87, NaN count: 0\n",
      "99. current column: X242, NaN count: 2123\n",
      "100. current column: X376, NaN count: 1987\n",
      "101. current column: X166, NaN count: 1894\n",
      "102. current column: X472, NaN count: 2133\n",
      "103. current column: X275, NaN count: 2253\n",
      "104. current column: X126, NaN count: 0\n",
      "105. current column: X120, NaN count: 0\n",
      "106. current column: X313, NaN count: 1964\n",
      "107. current column: X201, NaN count: 2089\n",
      "108. current column: X110, NaN count: 0\n",
      "109. current column: X408, NaN count: 1857\n",
      "110. current column: X62, NaN count: 7003\n",
      "111. current column: X419, NaN count: 1901\n",
      "112. current column: X460, NaN count: 1850\n",
      "113. current column: X367, NaN count: 2111\n",
      "114. current column: X143, NaN count: 2096\n",
      "115. current column: X312, NaN count: 2460\n",
      "116. current column: X410, NaN count: 1998\n",
      "117. current column: X389, NaN count: 1875\n",
      "118. current column: X300, NaN count: 1961\n",
      "119. current column: X61, NaN count: 7003\n",
      "120. current column: X470, NaN count: 2131\n",
      "121. current column: X445, NaN count: 2009\n",
      "122. current column: X158, NaN count: 2099\n",
      "123. current column: X421, NaN count: 1874\n",
      "124. current column: X105, NaN count: 0\n",
      "125. current column: X32, NaN count: 7003\n",
      "126. current column: X178, NaN count: 2090\n",
      "127. current column: X308, NaN count: 2023\n",
      "128. current column: X217, NaN count: 1929\n",
      "129. current column: X229, NaN count: 1894\n",
      "130. current column: X358, NaN count: 2022\n",
      "131. current column: X31, NaN count: 7003\n",
      "132. current column: X148, NaN count: 2034\n",
      "133. current column: X397, NaN count: 1981\n",
      "134. current column: X363, NaN count: 1994\n",
      "135. current column: X165, NaN count: 2088\n",
      "136. current column: X30, NaN count: 7003\n",
      "137. current column: X88, NaN count: 0\n",
      "138. current column: X296, NaN count: 2045\n",
      "139. current column: X219, NaN count: 2089\n",
      "140. current column: X116, NaN count: 0\n",
      "141. current column: X68, NaN count: 0\n",
      "142. current column: X431, NaN count: 2003\n",
      "143. current column: X302, NaN count: 2040\n",
      "144. current column: X314, NaN count: 1992\n",
      "145. current column: X124, NaN count: 0\n",
      "146. current column: X405, NaN count: 2004\n",
      "147. current column: X315, NaN count: 2022\n",
      "148. current column: X51, NaN count: 7003\n",
      "149. current column: X176, NaN count: 2121\n",
      "150. current column: X396, NaN count: 2008\n",
      "151. current column: X449, NaN count: 2003\n",
      "152. current column: X383, NaN count: 2005\n",
      "153. current column: X473, NaN count: 1962\n",
      "154. current column: X205, NaN count: 2111\n",
      "155. current column: X35, NaN count: 7003\n",
      "156. current column: X161, NaN count: 2099\n",
      "157. current column: X403, NaN count: 2004\n",
      "158. current column: X341, NaN count: 2012\n",
      "159. current column: X149, NaN count: 2035\n",
      "160. current column: X82, NaN count: 0\n",
      "161. current column: X377, NaN count: 2017\n",
      "162. current column: X232, NaN count: 1924\n",
      "163. current column: X333, NaN count: 2014\n",
      "164. current column: X140, NaN count: 2084\n",
      "165. current column: X44, NaN count: 7003\n",
      "166. current column: X37, NaN count: 7003\n",
      "167. current column: X42, NaN count: 7005\n",
      "168. current column: X422, NaN count: 1879\n",
      "169. current column: X50, NaN count: 7003\n",
      "170. current column: X386, NaN count: 2005\n",
      "171. current column: X80, NaN count: 0\n",
      "172. current column: X250, NaN count: 1934\n",
      "173. current column: X142, NaN count: 2087\n",
      "174. current column: X235, NaN count: 2089\n",
      "175. current column: X446, NaN count: 2006\n",
      "176. current column: X331, NaN count: 1992\n",
      "177. current column: X102, NaN count: 0\n",
      "178. current column: X186, NaN count: 2061\n",
      "179. current column: X243, NaN count: 2108\n",
      "180. current column: X194, NaN count: 1931\n",
      "181. current column: X183, NaN count: 2090\n",
      "182. current column: X139, NaN count: 2087\n",
      "183. current column: X459, NaN count: 1981\n",
      "184. current column: X457, NaN count: 2003\n",
      "185. current column: X70, NaN count: 0\n",
      "186. current column: X368, NaN count: 2036\n",
      "187. current column: X282, NaN count: 2117\n",
      "188. current column: X426, NaN count: 1872\n",
      "189. current column: X47, NaN count: 7003\n",
      "190. current column: X192, NaN count: 1801\n",
      "191. current column: X283, NaN count: 1888\n",
      "192. current column: X329, NaN count: 1698\n",
      "193. current column: X223, NaN count: 1929\n",
      "194. current column: X266, NaN count: 2089\n",
      "195. current column: X20, NaN count: 7003\n",
      "196. current column: X443, NaN count: 1997\n",
      "197. current column: X347, NaN count: 2012\n"
     ]
    },
    {
     "name": "stdout",
     "output_type": "stream",
     "text": [
      "198. current column: X75, NaN count: 0\n",
      "199. current column: X107, NaN count: 0\n",
      "200. current column: X230, NaN count: 2109\n",
      "201. current column: month, NaN count: 0\n",
      "202. current column: date, NaN count: 0\n"
     ]
    }
   ],
   "source": [
    "# NaN 값인 셀들에 해당 미터ID의 시간별 평균 대입\n",
    "\n",
    "test2 = pd.DataFrame()   # 새로운 데이터프레임 생성\n",
    "n=0  # 현재 칼럼카운트를 보여주기 위한 변수\n",
    "\n",
    "# 미터ID 리스트 c에서 1개씩 for loop\n",
    "for i in c:  \n",
    "    n +=1   # 카운트 \n",
    "    li = test[test[i].isnull()].index   # li: test데이터프레임의 특정 열(i)에서 Null인 셀 index추출 \n",
    "    df = pd.DataFrame(test[i])    # df: test의 i열을 별개 데이터프레임으로 생성\n",
    "\n",
    "    print(\"%d. current column: %s, NaN count: %d\" %(n, i, len(li)))   \n",
    "    for t in li:    #  li(Null 인덱스)를 사용해 for loop\n",
    "        df.loc[t] = hourly[i][t.hour]  # null값에 t.hour 평균 대입\n",
    "    test2 = pd.concat([test2,df], axis=1)   # 평균 대치가 끝난 df를 test2에 concat해준다. "
   ]
  },
  {
   "cell_type": "code",
   "execution_count": 9,
   "metadata": {
    "scrolled": true
   },
   "outputs": [
    {
     "data": {
      "text/html": [
       "<div>\n",
       "<style scoped>\n",
       "    .dataframe tbody tr th:only-of-type {\n",
       "        vertical-align: middle;\n",
       "    }\n",
       "\n",
       "    .dataframe tbody tr th {\n",
       "        vertical-align: top;\n",
       "    }\n",
       "\n",
       "    .dataframe thead th {\n",
       "        text-align: right;\n",
       "    }\n",
       "</style>\n",
       "<table border=\"1\" class=\"dataframe\">\n",
       "  <thead>\n",
       "    <tr style=\"text-align: right;\">\n",
       "      <th></th>\n",
       "      <th>X26</th>\n",
       "      <th>X303</th>\n",
       "      <th>X241</th>\n",
       "      <th>X435</th>\n",
       "      <th>X402</th>\n",
       "      <th>X352</th>\n",
       "      <th>X305</th>\n",
       "      <th>X350</th>\n",
       "      <th>X326</th>\n",
       "      <th>X299</th>\n",
       "      <th>...</th>\n",
       "      <th>X223</th>\n",
       "      <th>X266</th>\n",
       "      <th>X20</th>\n",
       "      <th>X443</th>\n",
       "      <th>X347</th>\n",
       "      <th>X75</th>\n",
       "      <th>X107</th>\n",
       "      <th>X230</th>\n",
       "      <th>month</th>\n",
       "      <th>date</th>\n",
       "    </tr>\n",
       "    <tr>\n",
       "      <th>Time</th>\n",
       "      <th></th>\n",
       "      <th></th>\n",
       "      <th></th>\n",
       "      <th></th>\n",
       "      <th></th>\n",
       "      <th></th>\n",
       "      <th></th>\n",
       "      <th></th>\n",
       "      <th></th>\n",
       "      <th></th>\n",
       "      <th></th>\n",
       "      <th></th>\n",
       "      <th></th>\n",
       "      <th></th>\n",
       "      <th></th>\n",
       "      <th></th>\n",
       "      <th></th>\n",
       "      <th></th>\n",
       "      <th></th>\n",
       "      <th></th>\n",
       "      <th></th>\n",
       "    </tr>\n",
       "  </thead>\n",
       "  <tbody>\n",
       "    <tr>\n",
       "      <th>2018-06-30 19:00:00</th>\n",
       "      <td>1.255</td>\n",
       "      <td>0.175</td>\n",
       "      <td>0.430</td>\n",
       "      <td>0.429</td>\n",
       "      <td>0.169</td>\n",
       "      <td>0.739</td>\n",
       "      <td>0.573</td>\n",
       "      <td>0.341</td>\n",
       "      <td>0.127</td>\n",
       "      <td>0.286</td>\n",
       "      <td>...</td>\n",
       "      <td>0.479</td>\n",
       "      <td>0.858</td>\n",
       "      <td>11.546</td>\n",
       "      <td>0.428</td>\n",
       "      <td>0.134</td>\n",
       "      <td>3.519</td>\n",
       "      <td>0.027</td>\n",
       "      <td>0.286</td>\n",
       "      <td>6</td>\n",
       "      <td>30</td>\n",
       "    </tr>\n",
       "    <tr>\n",
       "      <th>2018-06-30 20:00:00</th>\n",
       "      <td>1.596</td>\n",
       "      <td>1.692</td>\n",
       "      <td>0.332</td>\n",
       "      <td>0.366</td>\n",
       "      <td>0.159</td>\n",
       "      <td>0.255</td>\n",
       "      <td>0.501</td>\n",
       "      <td>0.281</td>\n",
       "      <td>0.126</td>\n",
       "      <td>0.230</td>\n",
       "      <td>...</td>\n",
       "      <td>0.725</td>\n",
       "      <td>0.816</td>\n",
       "      <td>11.591</td>\n",
       "      <td>0.413</td>\n",
       "      <td>0.206</td>\n",
       "      <td>3.331</td>\n",
       "      <td>0.027</td>\n",
       "      <td>0.303</td>\n",
       "      <td>6</td>\n",
       "      <td>30</td>\n",
       "    </tr>\n",
       "    <tr>\n",
       "      <th>2018-06-30 21:00:00</th>\n",
       "      <td>1.379</td>\n",
       "      <td>0.883</td>\n",
       "      <td>0.435</td>\n",
       "      <td>0.497</td>\n",
       "      <td>0.166</td>\n",
       "      <td>0.233</td>\n",
       "      <td>0.634</td>\n",
       "      <td>0.401</td>\n",
       "      <td>0.439</td>\n",
       "      <td>0.346</td>\n",
       "      <td>...</td>\n",
       "      <td>0.426</td>\n",
       "      <td>0.659</td>\n",
       "      <td>10.766</td>\n",
       "      <td>0.466</td>\n",
       "      <td>0.324</td>\n",
       "      <td>3.416</td>\n",
       "      <td>0.026</td>\n",
       "      <td>0.253</td>\n",
       "      <td>6</td>\n",
       "      <td>30</td>\n",
       "    </tr>\n",
       "    <tr>\n",
       "      <th>2018-06-30 22:00:00</th>\n",
       "      <td>1.000</td>\n",
       "      <td>0.539</td>\n",
       "      <td>0.268</td>\n",
       "      <td>0.459</td>\n",
       "      <td>0.463</td>\n",
       "      <td>0.454</td>\n",
       "      <td>0.676</td>\n",
       "      <td>0.543</td>\n",
       "      <td>0.737</td>\n",
       "      <td>0.466</td>\n",
       "      <td>...</td>\n",
       "      <td>0.353</td>\n",
       "      <td>0.462</td>\n",
       "      <td>0.312</td>\n",
       "      <td>0.473</td>\n",
       "      <td>0.402</td>\n",
       "      <td>4.263</td>\n",
       "      <td>0.027</td>\n",
       "      <td>0.253</td>\n",
       "      <td>6</td>\n",
       "      <td>30</td>\n",
       "    </tr>\n",
       "    <tr>\n",
       "      <th>2018-06-30 23:00:00</th>\n",
       "      <td>0.976</td>\n",
       "      <td>0.481</td>\n",
       "      <td>0.220</td>\n",
       "      <td>0.418</td>\n",
       "      <td>0.646</td>\n",
       "      <td>0.419</td>\n",
       "      <td>0.680</td>\n",
       "      <td>0.499</td>\n",
       "      <td>0.304</td>\n",
       "      <td>0.405</td>\n",
       "      <td>...</td>\n",
       "      <td>0.349</td>\n",
       "      <td>0.792</td>\n",
       "      <td>0.309</td>\n",
       "      <td>0.519</td>\n",
       "      <td>0.334</td>\n",
       "      <td>0.784</td>\n",
       "      <td>0.027</td>\n",
       "      <td>0.310</td>\n",
       "      <td>6</td>\n",
       "      <td>30</td>\n",
       "    </tr>\n",
       "  </tbody>\n",
       "</table>\n",
       "<p>5 rows × 202 columns</p>\n",
       "</div>"
      ],
      "text/plain": [
       "                       X26   X303   X241   X435   X402   X352   X305   X350  \\\n",
       "Time                                                                          \n",
       "2018-06-30 19:00:00  1.255  0.175  0.430  0.429  0.169  0.739  0.573  0.341   \n",
       "2018-06-30 20:00:00  1.596  1.692  0.332  0.366  0.159  0.255  0.501  0.281   \n",
       "2018-06-30 21:00:00  1.379  0.883  0.435  0.497  0.166  0.233  0.634  0.401   \n",
       "2018-06-30 22:00:00  1.000  0.539  0.268  0.459  0.463  0.454  0.676  0.543   \n",
       "2018-06-30 23:00:00  0.976  0.481  0.220  0.418  0.646  0.419  0.680  0.499   \n",
       "\n",
       "                      X326   X299  ...   X223   X266     X20   X443   X347  \\\n",
       "Time                               ...                                       \n",
       "2018-06-30 19:00:00  0.127  0.286  ...  0.479  0.858  11.546  0.428  0.134   \n",
       "2018-06-30 20:00:00  0.126  0.230  ...  0.725  0.816  11.591  0.413  0.206   \n",
       "2018-06-30 21:00:00  0.439  0.346  ...  0.426  0.659  10.766  0.466  0.324   \n",
       "2018-06-30 22:00:00  0.737  0.466  ...  0.353  0.462   0.312  0.473  0.402   \n",
       "2018-06-30 23:00:00  0.304  0.405  ...  0.349  0.792   0.309  0.519  0.334   \n",
       "\n",
       "                       X75   X107   X230  month  date  \n",
       "Time                                                   \n",
       "2018-06-30 19:00:00  3.519  0.027  0.286      6    30  \n",
       "2018-06-30 20:00:00  3.331  0.027  0.303      6    30  \n",
       "2018-06-30 21:00:00  3.416  0.026  0.253      6    30  \n",
       "2018-06-30 22:00:00  4.263  0.027  0.253      6    30  \n",
       "2018-06-30 23:00:00  0.784  0.027  0.310      6    30  \n",
       "\n",
       "[5 rows x 202 columns]"
      ]
     },
     "execution_count": 9,
     "metadata": {},
     "output_type": "execute_result"
    }
   ],
   "source": [
    "test2.tail()"
   ]
  },
  {
   "cell_type": "code",
   "execution_count": 10,
   "metadata": {},
   "outputs": [],
   "source": [
    "test3 = test2.drop(columns=['month', 'date'])   # month, date 칼럼을 쓰지 않았으므로 그냥 지운다. (처음부터 안 만들어도 됨ㅎ)"
   ]
  },
  {
   "cell_type": "code",
   "execution_count": 11,
   "metadata": {},
   "outputs": [],
   "source": [
    "test3.to_csv(\"data/시간별평균대치.csv\")"
   ]
  },
  {
   "cell_type": "markdown",
   "metadata": {},
   "source": [
    "<br>\n",
    "\n",
    "Arima 모델 실행"
   ]
  },
  {
   "cell_type": "code",
   "execution_count": 72,
   "metadata": {},
   "outputs": [
    {
     "data": {
      "text/html": [
       "<div>\n",
       "<style scoped>\n",
       "    .dataframe tbody tr th:only-of-type {\n",
       "        vertical-align: middle;\n",
       "    }\n",
       "\n",
       "    .dataframe tbody tr th {\n",
       "        vertical-align: top;\n",
       "    }\n",
       "\n",
       "    .dataframe thead th {\n",
       "        text-align: right;\n",
       "    }\n",
       "</style>\n",
       "<table border=\"1\" class=\"dataframe\">\n",
       "  <thead>\n",
       "    <tr style=\"text-align: right;\">\n",
       "      <th></th>\n",
       "      <th>place_id</th>\n",
       "      <th>target</th>\n",
       "    </tr>\n",
       "    <tr>\n",
       "      <th>time</th>\n",
       "      <th></th>\n",
       "      <th></th>\n",
       "    </tr>\n",
       "  </thead>\n",
       "  <tbody>\n",
       "    <tr>\n",
       "      <th>2017-07-01 00:00:00</th>\n",
       "      <td>X26</td>\n",
       "      <td>1.187315</td>\n",
       "    </tr>\n",
       "    <tr>\n",
       "      <th>2017-07-01 01:00:00</th>\n",
       "      <td>X26</td>\n",
       "      <td>1.186123</td>\n",
       "    </tr>\n",
       "    <tr>\n",
       "      <th>2017-07-01 02:00:00</th>\n",
       "      <td>X26</td>\n",
       "      <td>1.168301</td>\n",
       "    </tr>\n",
       "    <tr>\n",
       "      <th>2017-07-01 03:00:00</th>\n",
       "      <td>X26</td>\n",
       "      <td>1.163425</td>\n",
       "    </tr>\n",
       "    <tr>\n",
       "      <th>2017-07-01 04:00:00</th>\n",
       "      <td>X26</td>\n",
       "      <td>1.398466</td>\n",
       "    </tr>\n",
       "  </tbody>\n",
       "</table>\n",
       "</div>"
      ],
      "text/plain": [
       "                    place_id    target\n",
       "time                                  \n",
       "2017-07-01 00:00:00      X26  1.187315\n",
       "2017-07-01 01:00:00      X26  1.186123\n",
       "2017-07-01 02:00:00      X26  1.168301\n",
       "2017-07-01 03:00:00      X26  1.163425\n",
       "2017-07-01 04:00:00      X26  1.398466"
      ]
     },
     "execution_count": 72,
     "metadata": {},
     "output_type": "execute_result"
    }
   ],
   "source": [
    "# 이하는 dacon 중급 baseline code 발췌(?)\n",
    "\n",
    "time = []; place_id = []; target = []  \n",
    "\n",
    "# test3 데이터프레임을 time인덱스, 미터ID(place_id)칼럼, 측정값(target)칼럼으로 정비\n",
    "for i in test3.columns:\n",
    "    for j in range(len(test3)):\n",
    "        place_id.append(i)\n",
    "        time.append(test3.index[j])\n",
    "        target.append(test3[i].iloc[j])\n",
    "new_df = pd.DataFrame({'place_id': place_id, 'time':time, 'target': target})\n",
    "new_df = new_df.dropna()\n",
    "new_df = new_df.set_index('time')\n",
    "new_df.head()"
   ]
  },
  {
   "cell_type": "code",
   "execution_count": 73,
   "metadata": {},
   "outputs": [],
   "source": [
    "import itertools"
   ]
  },
  {
   "cell_type": "code",
   "execution_count": 74,
   "metadata": {},
   "outputs": [
    {
     "data": {
      "text/plain": [
       "[(0, 0, 0),\n",
       " (0, 0, 1),\n",
       " (0, 1, 0),\n",
       " (0, 1, 1),\n",
       " (1, 0, 0),\n",
       " (1, 0, 1),\n",
       " (1, 1, 0),\n",
       " (1, 1, 1)]"
      ]
     },
     "execution_count": 74,
     "metadata": {},
     "output_type": "execute_result"
    }
   ],
   "source": [
    "# ARIMA에서 사용할 최적의 파라미터 선정을 위해 다양한 경우의 pdq 생성\n",
    "p=d=q = range(0,2)\n",
    "pdq = list(itertools.product(p,d,q))\n",
    "pdq"
   ]
  },
  {
   "cell_type": "code",
   "execution_count": 75,
   "metadata": {},
   "outputs": [],
   "source": [
    "# ARIMA 최적의 파라미터 선정 함수\n",
    "def get_optimal_params(y):\n",
    "    param_dict = {}\n",
    "    for param in pdq:\n",
    "        try:\n",
    "            model = ARIMA(y, order=param)\n",
    "            results_ARIMA = model.fit(disp=-1)\n",
    "            param_dict[results_ARIMA.aic] = param\n",
    "        except:\n",
    "            continue\n",
    "\n",
    "    min_aic = min(param_dict.keys())\n",
    "    optimal_params = param_dict[min_aic]\n",
    "    return optimal_params"
   ]
  },
  {
   "cell_type": "code",
   "execution_count": 76,
   "metadata": {},
   "outputs": [
    {
     "name": "stdout",
     "output_type": "stream",
     "text": [
      "X26\n"
     ]
    },
    {
     "name": "stderr",
     "output_type": "stream",
     "text": [
      "C:\\ProgramData\\Anaconda3\\lib\\site-packages\\statsmodels\\base\\model.py:508: ConvergenceWarning: Maximum Likelihood optimization failed to converge. Check mle_retvals\n",
      "  \"Check mle_retvals\", ConvergenceWarning)\n"
     ]
    },
    {
     "name": "stdout",
     "output_type": "stream",
     "text": [
      "X303\n",
      "X241\n",
      "X435\n",
      "X402\n",
      "X352\n",
      "X305\n",
      "X350\n",
      "X326\n",
      "X299\n",
      "X160\n",
      "X125\n"
     ]
    },
    {
     "name": "stderr",
     "output_type": "stream",
     "text": [
      "C:\\ProgramData\\Anaconda3\\lib\\site-packages\\statsmodels\\base\\model.py:508: ConvergenceWarning: Maximum Likelihood optimization failed to converge. Check mle_retvals\n",
      "  \"Check mle_retvals\", ConvergenceWarning)\n"
     ]
    },
    {
     "name": "stdout",
     "output_type": "stream",
     "text": [
      "X211\n",
      "X349\n",
      "X407\n",
      "X330\n",
      "X132\n",
      "X231\n",
      "X225\n",
      "X16\n",
      "X286\n",
      "X354\n",
      "X353\n",
      "X76\n",
      "X255\n",
      "X106\n",
      "X393\n",
      "X157\n",
      "X323\n",
      "X130\n",
      "X269\n",
      "X94\n",
      "X172\n",
      "X289\n",
      "X216\n",
      "X123\n",
      "X398\n",
      "X233\n",
      "X214\n",
      "X270\n",
      "X371\n",
      "X200\n",
      "X111\n",
      "X163\n",
      "X364\n",
      "X378\n",
      "X271\n",
      "X462\n",
      "X427\n"
     ]
    },
    {
     "name": "stderr",
     "output_type": "stream",
     "text": [
      "C:\\ProgramData\\Anaconda3\\lib\\site-packages\\statsmodels\\base\\model.py:508: ConvergenceWarning: Maximum Likelihood optimization failed to converge. Check mle_retvals\n",
      "  \"Check mle_retvals\", ConvergenceWarning)\n"
     ]
    },
    {
     "name": "stdout",
     "output_type": "stream",
     "text": [
      "X73\n",
      "X7\n",
      "X263\n",
      "X450\n",
      "X18\n",
      "X206\n",
      "X133\n",
      "X41\n"
     ]
    },
    {
     "name": "stderr",
     "output_type": "stream",
     "text": [
      "C:\\ProgramData\\Anaconda3\\lib\\site-packages\\statsmodels\\base\\model.py:508: ConvergenceWarning: Maximum Likelihood optimization failed to converge. Check mle_retvals\n",
      "  \"Check mle_retvals\", ConvergenceWarning)\n"
     ]
    },
    {
     "name": "stdout",
     "output_type": "stream",
     "text": [
      "X195\n",
      "X155\n",
      "X134\n",
      "X297\n",
      "X175\n",
      "X254\n",
      "X196\n",
      "X481\n",
      "X412\n",
      "X337\n",
      "X406\n",
      "X67\n",
      "X414\n",
      "X55\n",
      "X91\n",
      "X260\n",
      "X252\n"
     ]
    },
    {
     "name": "stderr",
     "output_type": "stream",
     "text": [
      "C:\\ProgramData\\Anaconda3\\lib\\site-packages\\statsmodels\\base\\model.py:508: ConvergenceWarning: Maximum Likelihood optimization failed to converge. Check mle_retvals\n",
      "  \"Check mle_retvals\", ConvergenceWarning)\n"
     ]
    },
    {
     "name": "stdout",
     "output_type": "stream",
     "text": [
      "X5\n",
      "X455\n"
     ]
    },
    {
     "name": "stderr",
     "output_type": "stream",
     "text": [
      "C:\\ProgramData\\Anaconda3\\lib\\site-packages\\statsmodels\\base\\model.py:508: ConvergenceWarning: Maximum Likelihood optimization failed to converge. Check mle_retvals\n",
      "  \"Check mle_retvals\", ConvergenceWarning)\n",
      "C:\\ProgramData\\Anaconda3\\lib\\site-packages\\statsmodels\\base\\model.py:488: HessianInversionWarning: Inverting hessian failed, no bse or cov_params available\n",
      "  'available', HessianInversionWarning)\n",
      "C:\\ProgramData\\Anaconda3\\lib\\site-packages\\statsmodels\\base\\model.py:488: HessianInversionWarning: Inverting hessian failed, no bse or cov_params available\n",
      "  'available', HessianInversionWarning)\n"
     ]
    },
    {
     "name": "stdout",
     "output_type": "stream",
     "text": [
      "X43\n"
     ]
    },
    {
     "name": "stderr",
     "output_type": "stream",
     "text": [
      "C:\\ProgramData\\Anaconda3\\lib\\site-packages\\statsmodels\\base\\model.py:508: ConvergenceWarning: Maximum Likelihood optimization failed to converge. Check mle_retvals\n",
      "  \"Check mle_retvals\", ConvergenceWarning)\n"
     ]
    },
    {
     "name": "stdout",
     "output_type": "stream",
     "text": [
      "X320\n",
      "X276\n",
      "X423\n",
      "X218\n",
      "X399\n",
      "X213\n",
      "X379\n",
      "X468\n",
      "X253\n",
      "X247\n",
      "X262\n"
     ]
    },
    {
     "name": "stderr",
     "output_type": "stream",
     "text": [
      "C:\\ProgramData\\Anaconda3\\lib\\site-packages\\statsmodels\\base\\model.py:508: ConvergenceWarning: Maximum Likelihood optimization failed to converge. Check mle_retvals\n",
      "  \"Check mle_retvals\", ConvergenceWarning)\n"
     ]
    },
    {
     "name": "stdout",
     "output_type": "stream",
     "text": [
      "X248\n",
      "X357\n",
      "X215\n"
     ]
    },
    {
     "name": "stderr",
     "output_type": "stream",
     "text": [
      "C:\\ProgramData\\Anaconda3\\lib\\site-packages\\statsmodels\\base\\model.py:508: ConvergenceWarning: Maximum Likelihood optimization failed to converge. Check mle_retvals\n",
      "  \"Check mle_retvals\", ConvergenceWarning)\n",
      "C:\\ProgramData\\Anaconda3\\lib\\site-packages\\statsmodels\\base\\model.py:508: ConvergenceWarning: Maximum Likelihood optimization failed to converge. Check mle_retvals\n",
      "  \"Check mle_retvals\", ConvergenceWarning)\n"
     ]
    },
    {
     "name": "stdout",
     "output_type": "stream",
     "text": [
      "X177\n"
     ]
    },
    {
     "name": "stderr",
     "output_type": "stream",
     "text": [
      "C:\\ProgramData\\Anaconda3\\lib\\site-packages\\statsmodels\\base\\model.py:508: ConvergenceWarning: Maximum Likelihood optimization failed to converge. Check mle_retvals\n",
      "  \"Check mle_retvals\", ConvergenceWarning)\n"
     ]
    },
    {
     "name": "stdout",
     "output_type": "stream",
     "text": [
      "X228\n",
      "X59\n",
      "X10\n",
      "X187\n",
      "X245\n",
      "X87\n",
      "X242\n",
      "X376\n",
      "X166\n",
      "X472\n",
      "X275\n",
      "X126\n",
      "X120\n",
      "X313\n"
     ]
    },
    {
     "name": "stderr",
     "output_type": "stream",
     "text": [
      "C:\\ProgramData\\Anaconda3\\lib\\site-packages\\statsmodels\\base\\model.py:508: ConvergenceWarning: Maximum Likelihood optimization failed to converge. Check mle_retvals\n",
      "  \"Check mle_retvals\", ConvergenceWarning)\n"
     ]
    },
    {
     "name": "stdout",
     "output_type": "stream",
     "text": [
      "X201\n",
      "X110\n",
      "X408\n",
      "X62\n",
      "X419\n",
      "X460\n",
      "X367\n",
      "X143\n",
      "X312\n",
      "X410\n",
      "X389\n",
      "X300\n"
     ]
    },
    {
     "name": "stderr",
     "output_type": "stream",
     "text": [
      "C:\\ProgramData\\Anaconda3\\lib\\site-packages\\statsmodels\\base\\model.py:508: ConvergenceWarning: Maximum Likelihood optimization failed to converge. Check mle_retvals\n",
      "  \"Check mle_retvals\", ConvergenceWarning)\n"
     ]
    },
    {
     "name": "stdout",
     "output_type": "stream",
     "text": [
      "X61\n",
      "X470\n",
      "X445\n",
      "X158\n",
      "X421\n",
      "X105\n"
     ]
    },
    {
     "name": "stderr",
     "output_type": "stream",
     "text": [
      "C:\\ProgramData\\Anaconda3\\lib\\site-packages\\statsmodels\\base\\model.py:508: ConvergenceWarning: Maximum Likelihood optimization failed to converge. Check mle_retvals\n",
      "  \"Check mle_retvals\", ConvergenceWarning)\n"
     ]
    },
    {
     "name": "stdout",
     "output_type": "stream",
     "text": [
      "X32\n",
      "X178\n",
      "X308\n",
      "X217\n",
      "X229\n"
     ]
    },
    {
     "name": "stderr",
     "output_type": "stream",
     "text": [
      "C:\\ProgramData\\Anaconda3\\lib\\site-packages\\statsmodels\\base\\model.py:488: HessianInversionWarning: Inverting hessian failed, no bse or cov_params available\n",
      "  'available', HessianInversionWarning)\n"
     ]
    },
    {
     "name": "stdout",
     "output_type": "stream",
     "text": [
      "X358\n",
      "X31\n",
      "X148\n",
      "X397\n",
      "X363\n",
      "X165\n"
     ]
    },
    {
     "name": "stderr",
     "output_type": "stream",
     "text": [
      "C:\\ProgramData\\Anaconda3\\lib\\site-packages\\statsmodels\\base\\model.py:508: ConvergenceWarning: Maximum Likelihood optimization failed to converge. Check mle_retvals\n",
      "  \"Check mle_retvals\", ConvergenceWarning)\n"
     ]
    },
    {
     "name": "stdout",
     "output_type": "stream",
     "text": [
      "X30\n",
      "X88\n",
      "X296\n",
      "X219\n"
     ]
    },
    {
     "name": "stderr",
     "output_type": "stream",
     "text": [
      "C:\\ProgramData\\Anaconda3\\lib\\site-packages\\statsmodels\\base\\model.py:508: ConvergenceWarning: Maximum Likelihood optimization failed to converge. Check mle_retvals\n",
      "  \"Check mle_retvals\", ConvergenceWarning)\n"
     ]
    },
    {
     "name": "stdout",
     "output_type": "stream",
     "text": [
      "X116\n",
      "X68\n",
      "X431\n",
      "X302\n"
     ]
    },
    {
     "name": "stderr",
     "output_type": "stream",
     "text": [
      "C:\\ProgramData\\Anaconda3\\lib\\site-packages\\statsmodels\\base\\model.py:508: ConvergenceWarning: Maximum Likelihood optimization failed to converge. Check mle_retvals\n",
      "  \"Check mle_retvals\", ConvergenceWarning)\n"
     ]
    },
    {
     "name": "stdout",
     "output_type": "stream",
     "text": [
      "X314\n",
      "X124\n",
      "X405\n"
     ]
    },
    {
     "name": "stderr",
     "output_type": "stream",
     "text": [
      "C:\\ProgramData\\Anaconda3\\lib\\site-packages\\statsmodels\\base\\model.py:508: ConvergenceWarning: Maximum Likelihood optimization failed to converge. Check mle_retvals\n",
      "  \"Check mle_retvals\", ConvergenceWarning)\n"
     ]
    },
    {
     "name": "stdout",
     "output_type": "stream",
     "text": [
      "X315\n",
      "X51\n",
      "X176\n",
      "X396\n",
      "X449\n",
      "X383\n",
      "X473\n",
      "X205\n"
     ]
    },
    {
     "name": "stderr",
     "output_type": "stream",
     "text": [
      "C:\\ProgramData\\Anaconda3\\lib\\site-packages\\statsmodels\\base\\model.py:508: ConvergenceWarning: Maximum Likelihood optimization failed to converge. Check mle_retvals\n",
      "  \"Check mle_retvals\", ConvergenceWarning)\n"
     ]
    },
    {
     "name": "stdout",
     "output_type": "stream",
     "text": [
      "X35\n"
     ]
    },
    {
     "name": "stderr",
     "output_type": "stream",
     "text": [
      "C:\\ProgramData\\Anaconda3\\lib\\site-packages\\statsmodels\\base\\model.py:508: ConvergenceWarning: Maximum Likelihood optimization failed to converge. Check mle_retvals\n",
      "  \"Check mle_retvals\", ConvergenceWarning)\n"
     ]
    },
    {
     "name": "stdout",
     "output_type": "stream",
     "text": [
      "X161\n",
      "X403\n"
     ]
    },
    {
     "name": "stderr",
     "output_type": "stream",
     "text": [
      "C:\\ProgramData\\Anaconda3\\lib\\site-packages\\statsmodels\\base\\model.py:508: ConvergenceWarning: Maximum Likelihood optimization failed to converge. Check mle_retvals\n",
      "  \"Check mle_retvals\", ConvergenceWarning)\n"
     ]
    },
    {
     "name": "stdout",
     "output_type": "stream",
     "text": [
      "X341\n",
      "X149\n",
      "X82\n",
      "X377\n"
     ]
    },
    {
     "name": "stderr",
     "output_type": "stream",
     "text": [
      "C:\\ProgramData\\Anaconda3\\lib\\site-packages\\statsmodels\\base\\model.py:508: ConvergenceWarning: Maximum Likelihood optimization failed to converge. Check mle_retvals\n",
      "  \"Check mle_retvals\", ConvergenceWarning)\n"
     ]
    },
    {
     "name": "stdout",
     "output_type": "stream",
     "text": [
      "X232\n"
     ]
    },
    {
     "name": "stderr",
     "output_type": "stream",
     "text": [
      "C:\\ProgramData\\Anaconda3\\lib\\site-packages\\statsmodels\\base\\model.py:508: ConvergenceWarning: Maximum Likelihood optimization failed to converge. Check mle_retvals\n",
      "  \"Check mle_retvals\", ConvergenceWarning)\n"
     ]
    },
    {
     "name": "stdout",
     "output_type": "stream",
     "text": [
      "X333\n",
      "X140\n",
      "X44\n"
     ]
    },
    {
     "name": "stderr",
     "output_type": "stream",
     "text": [
      "C:\\ProgramData\\Anaconda3\\lib\\site-packages\\statsmodels\\base\\model.py:508: ConvergenceWarning: Maximum Likelihood optimization failed to converge. Check mle_retvals\n",
      "  \"Check mle_retvals\", ConvergenceWarning)\n"
     ]
    },
    {
     "name": "stdout",
     "output_type": "stream",
     "text": [
      "X37\n"
     ]
    },
    {
     "name": "stderr",
     "output_type": "stream",
     "text": [
      "C:\\ProgramData\\Anaconda3\\lib\\site-packages\\statsmodels\\base\\model.py:508: ConvergenceWarning: Maximum Likelihood optimization failed to converge. Check mle_retvals\n",
      "  \"Check mle_retvals\", ConvergenceWarning)\n",
      "C:\\ProgramData\\Anaconda3\\lib\\site-packages\\statsmodels\\base\\model.py:508: ConvergenceWarning: Maximum Likelihood optimization failed to converge. Check mle_retvals\n",
      "  \"Check mle_retvals\", ConvergenceWarning)\n"
     ]
    },
    {
     "name": "stdout",
     "output_type": "stream",
     "text": [
      "X42\n",
      "X422\n",
      "X50\n",
      "X386\n",
      "X80\n",
      "X250\n",
      "X142\n",
      "X235\n",
      "X446\n",
      "X331\n",
      "X102\n",
      "X186\n",
      "X243\n",
      "X194\n"
     ]
    },
    {
     "name": "stderr",
     "output_type": "stream",
     "text": [
      "C:\\ProgramData\\Anaconda3\\lib\\site-packages\\statsmodels\\base\\model.py:508: ConvergenceWarning: Maximum Likelihood optimization failed to converge. Check mle_retvals\n",
      "  \"Check mle_retvals\", ConvergenceWarning)\n"
     ]
    },
    {
     "name": "stdout",
     "output_type": "stream",
     "text": [
      "X183\n",
      "X139\n",
      "X459\n",
      "X457\n",
      "X70\n"
     ]
    },
    {
     "name": "stderr",
     "output_type": "stream",
     "text": [
      "C:\\ProgramData\\Anaconda3\\lib\\site-packages\\statsmodels\\base\\model.py:508: ConvergenceWarning: Maximum Likelihood optimization failed to converge. Check mle_retvals\n",
      "  \"Check mle_retvals\", ConvergenceWarning)\n"
     ]
    },
    {
     "name": "stdout",
     "output_type": "stream",
     "text": [
      "X368\n",
      "X282\n",
      "X426\n"
     ]
    },
    {
     "name": "stderr",
     "output_type": "stream",
     "text": [
      "C:\\ProgramData\\Anaconda3\\lib\\site-packages\\statsmodels\\base\\model.py:508: ConvergenceWarning: Maximum Likelihood optimization failed to converge. Check mle_retvals\n",
      "  \"Check mle_retvals\", ConvergenceWarning)\n"
     ]
    },
    {
     "name": "stdout",
     "output_type": "stream",
     "text": [
      "X47\n",
      "X192\n",
      "X283\n"
     ]
    },
    {
     "name": "stderr",
     "output_type": "stream",
     "text": [
      "C:\\ProgramData\\Anaconda3\\lib\\site-packages\\statsmodels\\base\\model.py:508: ConvergenceWarning: Maximum Likelihood optimization failed to converge. Check mle_retvals\n",
      "  \"Check mle_retvals\", ConvergenceWarning)\n"
     ]
    },
    {
     "name": "stdout",
     "output_type": "stream",
     "text": [
      "X329\n",
      "X223\n",
      "X266\n",
      "X20\n",
      "X443\n",
      "X347\n",
      "X75\n",
      "X107\n",
      "X230\n",
      "---- Modeling Done ----\n"
     ]
    }
   ],
   "source": [
    "# agg라는 dictionary를 생성하여, 각 미터ID를 key로, 예측시간 및 값 리스트를 value로 저장\n",
    "agg={}\n",
    "\n",
    "for key in new_df['place_id'].unique(): # 미터ID리스트를 unique()함수로 추출, for loop\n",
    "    temp = new_df.loc[new_df['place_id']==key] # new_df에서 key와 일치하는 place_id를 가지는 부분을 temp에 할당\n",
    "    temp_1h=temp.resample('1h').sum() # 1시간 단위 resampling(일종의 timeseries압축)\n",
    "    temp_1day=temp.resample('D').sum() # 1일 단위 resampling\n",
    "\n",
    "    # 1 시간별 예측\n",
    "    model = ARIMA(temp_1h['target'],  # target 을 추측하고자 함\n",
    "                  order=get_optimal_params(temp_1h['target'])) # AIC를 최소화하는 최적의 파라미터 \n",
    "    results_ARIMA = model.fit(disp=-1)  \n",
    "    fcst = results_ARIMA.forecast(24) # 24시간 예측\n",
    "\n",
    "    a = pd.DataFrame() # a: 예측값을 담을 데이터프레임 생성\n",
    "    \n",
    "    for i in range(24):\n",
    "        a['X2018_7_1_'+str(i+1)+'h']=[fcst[0][i]] # column명 지정 및 예측값 대입\n",
    "\n",
    "        \n",
    "    # 1 일별 예측\n",
    "    model = ARIMA(temp_1day['target'], \n",
    "                  order=get_optimal_params(temp_1day['target'])) \n",
    "    results_ARIMA = model.fit(disp=-1)\n",
    "    fcst = results_ARIMA.forecast(10) # 10일을 예측\n",
    "\n",
    "    for i in range(10):\n",
    "        a['X2018_7_'+str(i+1)+'_d']=[fcst[0][i]] # column명 지정 및 예측값 대입\n",
    "    \n",
    "    \n",
    "    # 월별 예측\n",
    "    # 일별 예측의 sum 사용\n",
    "    fcst = results_ARIMA.forecast(153)\n",
    "    \n",
    "    # column명을 지정 및 예측값 대입\n",
    "    a['X2018_7_m'] = [np.sum(fcst[0][:31])] # 7월 \n",
    "    a['X2018_8_m'] = [np.sum(fcst[0][31:62])] # 8월\n",
    "    a['X2018_9_m'] = [np.sum(fcst[0][62:92])] # 9월\n",
    "    a['X2018_10_m'] = [np.sum(fcst[0][92:123])] # 10월\n",
    "    a['X2018_11_m'] = [np.sum(fcst[0][123:153])] # 11월\n",
    "    \n",
    "    # a 에 meter_id를 현재 예측하고 있는 열의 id(key)로 대입\n",
    "    a['meter_id'] = key \n",
    "    \n",
    "    # agg{ 미터ID: 시간별(subimssion.columns는 예측시간칼럼들) a의 예측값}\n",
    "    agg[key] = a[submission.columns.tolist()]\n",
    "    print(key)\n",
    "print('---- Modeling Done ----')"
   ]
  },
  {
   "cell_type": "code",
   "execution_count": 83,
   "metadata": {
    "scrolled": true
   },
   "outputs": [
    {
     "data": {
      "text/html": [
       "<div>\n",
       "<style scoped>\n",
       "    .dataframe tbody tr th:only-of-type {\n",
       "        vertical-align: middle;\n",
       "    }\n",
       "\n",
       "    .dataframe tbody tr th {\n",
       "        vertical-align: top;\n",
       "    }\n",
       "\n",
       "    .dataframe thead th {\n",
       "        text-align: right;\n",
       "    }\n",
       "</style>\n",
       "<table border=\"1\" class=\"dataframe\">\n",
       "  <thead>\n",
       "    <tr style=\"text-align: right;\">\n",
       "      <th></th>\n",
       "      <th>meter_id</th>\n",
       "      <th>X2018_7_1_1h</th>\n",
       "      <th>X2018_7_1_2h</th>\n",
       "      <th>X2018_7_1_3h</th>\n",
       "      <th>X2018_7_1_4h</th>\n",
       "      <th>X2018_7_1_5h</th>\n",
       "      <th>X2018_7_1_6h</th>\n",
       "      <th>X2018_7_1_7h</th>\n",
       "      <th>X2018_7_1_8h</th>\n",
       "      <th>X2018_7_1_9h</th>\n",
       "      <th>...</th>\n",
       "      <th>X2018_7_6_d</th>\n",
       "      <th>X2018_7_7_d</th>\n",
       "      <th>X2018_7_8_d</th>\n",
       "      <th>X2018_7_9_d</th>\n",
       "      <th>X2018_7_10_d</th>\n",
       "      <th>X2018_7_m</th>\n",
       "      <th>X2018_8_m</th>\n",
       "      <th>X2018_9_m</th>\n",
       "      <th>X2018_10_m</th>\n",
       "      <th>X2018_11_m</th>\n",
       "    </tr>\n",
       "  </thead>\n",
       "  <tbody>\n",
       "    <tr>\n",
       "      <th>0</th>\n",
       "      <td>X5</td>\n",
       "      <td>6.853865</td>\n",
       "      <td>6.662421</td>\n",
       "      <td>6.535229</td>\n",
       "      <td>6.450732</td>\n",
       "      <td>6.394607</td>\n",
       "      <td>6.357335</td>\n",
       "      <td>6.332590</td>\n",
       "      <td>6.316171</td>\n",
       "      <td>6.305283</td>\n",
       "      <td>...</td>\n",
       "      <td>151.158682</td>\n",
       "      <td>151.165311</td>\n",
       "      <td>151.188368</td>\n",
       "      <td>151.219685</td>\n",
       "      <td>151.255155</td>\n",
       "      <td>4700.315536</td>\n",
       "      <td>4734.280821</td>\n",
       "      <td>4617.861104</td>\n",
       "      <td>4809.298795</td>\n",
       "      <td>4690.459144</td>\n",
       "    </tr>\n",
       "    <tr>\n",
       "      <th>1</th>\n",
       "      <td>X7</td>\n",
       "      <td>1.258811</td>\n",
       "      <td>1.275497</td>\n",
       "      <td>1.289773</td>\n",
       "      <td>1.301985</td>\n",
       "      <td>1.312433</td>\n",
       "      <td>1.321371</td>\n",
       "      <td>1.329018</td>\n",
       "      <td>1.335560</td>\n",
       "      <td>1.341157</td>\n",
       "      <td>...</td>\n",
       "      <td>40.379061</td>\n",
       "      <td>40.218087</td>\n",
       "      <td>40.145692</td>\n",
       "      <td>40.118418</td>\n",
       "      <td>40.114128</td>\n",
       "      <td>1268.281828</td>\n",
       "      <td>1265.220143</td>\n",
       "      <td>1242.315902</td>\n",
       "      <td>1302.232722</td>\n",
       "      <td>1278.134528</td>\n",
       "    </tr>\n",
       "    <tr>\n",
       "      <th>2</th>\n",
       "      <td>X10</td>\n",
       "      <td>2.166754</td>\n",
       "      <td>2.297002</td>\n",
       "      <td>2.408626</td>\n",
       "      <td>2.504290</td>\n",
       "      <td>2.586275</td>\n",
       "      <td>2.656537</td>\n",
       "      <td>2.716753</td>\n",
       "      <td>2.768359</td>\n",
       "      <td>2.812586</td>\n",
       "      <td>...</td>\n",
       "      <td>73.933546</td>\n",
       "      <td>73.933546</td>\n",
       "      <td>73.933546</td>\n",
       "      <td>73.933546</td>\n",
       "      <td>73.933546</td>\n",
       "      <td>2303.938637</td>\n",
       "      <td>2291.939922</td>\n",
       "      <td>2218.006376</td>\n",
       "      <td>2291.939922</td>\n",
       "      <td>2218.006376</td>\n",
       "    </tr>\n",
       "    <tr>\n",
       "      <th>3</th>\n",
       "      <td>X16</td>\n",
       "      <td>3.294517</td>\n",
       "      <td>3.381436</td>\n",
       "      <td>3.454943</td>\n",
       "      <td>3.517108</td>\n",
       "      <td>3.569681</td>\n",
       "      <td>3.614141</td>\n",
       "      <td>3.651741</td>\n",
       "      <td>3.683540</td>\n",
       "      <td>3.710432</td>\n",
       "      <td>...</td>\n",
       "      <td>112.487417</td>\n",
       "      <td>112.467445</td>\n",
       "      <td>112.489421</td>\n",
       "      <td>112.529645</td>\n",
       "      <td>112.577808</td>\n",
       "      <td>3514.788138</td>\n",
       "      <td>3552.022654</td>\n",
       "      <td>3487.105398</td>\n",
       "      <td>3654.661835</td>\n",
       "      <td>3586.433638</td>\n",
       "    </tr>\n",
       "    <tr>\n",
       "      <th>4</th>\n",
       "      <td>X18</td>\n",
       "      <td>2.500810</td>\n",
       "      <td>2.510078</td>\n",
       "      <td>2.517351</td>\n",
       "      <td>2.523060</td>\n",
       "      <td>2.527539</td>\n",
       "      <td>2.531054</td>\n",
       "      <td>2.533812</td>\n",
       "      <td>2.535976</td>\n",
       "      <td>2.537673</td>\n",
       "      <td>...</td>\n",
       "      <td>61.992220</td>\n",
       "      <td>61.938487</td>\n",
       "      <td>61.909200</td>\n",
       "      <td>61.893237</td>\n",
       "      <td>61.884536</td>\n",
       "      <td>1923.494139</td>\n",
       "      <td>1918.097490</td>\n",
       "      <td>1856.223377</td>\n",
       "      <td>1918.097490</td>\n",
       "      <td>1856.223377</td>\n",
       "    </tr>\n",
       "  </tbody>\n",
       "</table>\n",
       "<p>5 rows × 40 columns</p>\n",
       "</div>"
      ],
      "text/plain": [
       "  meter_id  X2018_7_1_1h  X2018_7_1_2h  X2018_7_1_3h  X2018_7_1_4h  \\\n",
       "0       X5      6.853865      6.662421      6.535229      6.450732   \n",
       "1       X7      1.258811      1.275497      1.289773      1.301985   \n",
       "2      X10      2.166754      2.297002      2.408626      2.504290   \n",
       "3      X16      3.294517      3.381436      3.454943      3.517108   \n",
       "4      X18      2.500810      2.510078      2.517351      2.523060   \n",
       "\n",
       "   X2018_7_1_5h  X2018_7_1_6h  X2018_7_1_7h  X2018_7_1_8h  X2018_7_1_9h  ...  \\\n",
       "0      6.394607      6.357335      6.332590      6.316171      6.305283  ...   \n",
       "1      1.312433      1.321371      1.329018      1.335560      1.341157  ...   \n",
       "2      2.586275      2.656537      2.716753      2.768359      2.812586  ...   \n",
       "3      3.569681      3.614141      3.651741      3.683540      3.710432  ...   \n",
       "4      2.527539      2.531054      2.533812      2.535976      2.537673  ...   \n",
       "\n",
       "   X2018_7_6_d  X2018_7_7_d  X2018_7_8_d  X2018_7_9_d  X2018_7_10_d  \\\n",
       "0   151.158682   151.165311   151.188368   151.219685    151.255155   \n",
       "1    40.379061    40.218087    40.145692    40.118418     40.114128   \n",
       "2    73.933546    73.933546    73.933546    73.933546     73.933546   \n",
       "3   112.487417   112.467445   112.489421   112.529645    112.577808   \n",
       "4    61.992220    61.938487    61.909200    61.893237     61.884536   \n",
       "\n",
       "     X2018_7_m    X2018_8_m    X2018_9_m   X2018_10_m   X2018_11_m  \n",
       "0  4700.315536  4734.280821  4617.861104  4809.298795  4690.459144  \n",
       "1  1268.281828  1265.220143  1242.315902  1302.232722  1278.134528  \n",
       "2  2303.938637  2291.939922  2218.006376  2291.939922  2218.006376  \n",
       "3  3514.788138  3552.022654  3487.105398  3654.661835  3586.433638  \n",
       "4  1923.494139  1918.097490  1856.223377  1918.097490  1856.223377  \n",
       "\n",
       "[5 rows x 40 columns]"
      ]
     },
     "execution_count": 83,
     "metadata": {},
     "output_type": "execute_result"
    }
   ],
   "source": [
    "# 최종 output 마무리 및 확인\n",
    "output1 = pd.concat(agg, ignore_index = False)\n",
    "output2 = output1.reset_index().drop(['level_0', 'level_1'], axis=1)\n",
    "output2['id'] = output2['meter_id'].str.replace('X','').astype(int)\n",
    "output2 = output2.sort_values(by='id', ascending=True).drop(['id'], axis=1).reset_index(drop=True)\n",
    "output2.head()"
   ]
  },
  {
   "cell_type": "code",
   "execution_count": 85,
   "metadata": {},
   "outputs": [],
   "source": [
    "output2.to_csv('result/01.시간별평균.csv', index=False)"
   ]
  },
  {
   "cell_type": "code",
   "execution_count": null,
   "metadata": {},
   "outputs": [],
   "source": []
  },
  {
   "cell_type": "code",
   "execution_count": null,
   "metadata": {},
   "outputs": [],
   "source": []
  },
  {
   "cell_type": "code",
   "execution_count": null,
   "metadata": {},
   "outputs": [],
   "source": []
  },
  {
   "cell_type": "code",
   "execution_count": null,
   "metadata": {},
   "outputs": [],
   "source": []
  }
 ],
 "metadata": {
  "kernelspec": {
   "display_name": "Python 3",
   "language": "python",
   "name": "python3"
  },
  "language_info": {
   "codemirror_mode": {
    "name": "ipython",
    "version": 3
   },
   "file_extension": ".py",
   "mimetype": "text/x-python",
   "name": "python",
   "nbconvert_exporter": "python",
   "pygments_lexer": "ipython3",
   "version": "3.7.4"
  }
 },
 "nbformat": 4,
 "nbformat_minor": 2
}
