{
 "cells": [
  {
   "cell_type": "code",
   "execution_count": 2,
   "metadata": {},
   "outputs": [],
   "source": [
    "def smape_fast(df_y_true, df_y_pred):\n",
    "    \"\"\"\n",
    "    @jit\n",
    "    using SMAPE(Symmetric mean absolute percentage error)\n",
    "    :setting:install 'numba' in anaconda\n",
    "    :df_y_true: Real DateFrame\n",
    "    :df_y_pred: DataFrame you made    \n",
    "    \"\"\"\n",
    "    from numba import jit\n",
    "    import math\n",
    "    out = 0\n",
    "    y_true = df_y_true.drop(df_y_true.columns[0], axis=1).values.reshape(-1)\n",
    "    y_pred = df_y_pred.drop(df_y_pred.columns[0], axis=1).values.reshape(-1)    \n",
    "    for i in range(y_true.shape[0]):\n",
    "        a = y_true[i]\n",
    "        b = y_pred[i]\n",
    "        c = a+b\n",
    "        if c == 0:\n",
    "            continue\n",
    "        out += math.fabs(a - b) / c\n",
    "    out *= (200.0 / y_true.shape[0])\n",
    "    return out"
   ]
  },
  {
   "cell_type": "code",
   "execution_count": null,
   "metadata": {},
   "outputs": [],
   "source": []
  }
 ],
 "metadata": {
  "kernelspec": {
   "display_name": "Python 3",
   "language": "python",
   "name": "python3"
  },
  "language_info": {
   "codemirror_mode": {
    "name": "ipython",
    "version": 3
   },
   "file_extension": ".py",
   "mimetype": "text/x-python",
   "name": "python",
   "nbconvert_exporter": "python",
   "pygments_lexer": "ipython3",
   "version": "3.7.3"
  }
 },
 "nbformat": 4,
 "nbformat_minor": 2
}
