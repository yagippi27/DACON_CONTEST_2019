{
 "cells": [
  {
   "cell_type": "code",
   "execution_count": 13,
   "metadata": {},
   "outputs": [],
   "source": [
    "import pandas as pd # 데이터 전처리\n",
    "import numpy as np # 데이터 전처리\n",
    "import matplotlib.pyplot as plt # 데이터 시각화\n",
    "\n",
    "from datetime import datetime, timedelta # 시간 데이터 처리\n",
    "from statsmodels.tsa.arima_model import ARIMA # ARIMA 모델\n",
    "%matplotlib inline"
   ]
  },
  {
   "cell_type": "code",
   "execution_count": 23,
   "metadata": {},
   "outputs": [],
   "source": [
    "test = pd.read_csv(\"D:/workspace/DACON_2019/SUHYUN/rolling/test_NA/r48/med.csv\")\n",
    "submission = pd.read_csv(\"D:/workspace/DACON_2019/DACON_DATASET/submission_1002.csv\")\n",
    "\n",
    "test['Time'] = pd.to_datetime(test['Time']) \n",
    "test = test.set_index('Time')"
   ]
  },
  {
   "cell_type": "code",
   "execution_count": 24,
   "metadata": {},
   "outputs": [
    {
     "data": {
      "text/html": [
       "<div>\n",
       "<style scoped>\n",
       "    .dataframe tbody tr th:only-of-type {\n",
       "        vertical-align: middle;\n",
       "    }\n",
       "\n",
       "    .dataframe tbody tr th {\n",
       "        vertical-align: top;\n",
       "    }\n",
       "\n",
       "    .dataframe thead th {\n",
       "        text-align: right;\n",
       "    }\n",
       "</style>\n",
       "<table border=\"1\" class=\"dataframe\">\n",
       "  <thead>\n",
       "    <tr style=\"text-align: right;\">\n",
       "      <th></th>\n",
       "      <th>X26</th>\n",
       "      <th>X303</th>\n",
       "      <th>X241</th>\n",
       "      <th>X435</th>\n",
       "      <th>X402</th>\n",
       "      <th>X352</th>\n",
       "      <th>X305</th>\n",
       "      <th>X350</th>\n",
       "      <th>X326</th>\n",
       "      <th>X299</th>\n",
       "      <th>...</th>\n",
       "      <th>X283</th>\n",
       "      <th>X329</th>\n",
       "      <th>X223</th>\n",
       "      <th>X266</th>\n",
       "      <th>X20</th>\n",
       "      <th>X443</th>\n",
       "      <th>X347</th>\n",
       "      <th>X75</th>\n",
       "      <th>X107</th>\n",
       "      <th>X230</th>\n",
       "    </tr>\n",
       "    <tr>\n",
       "      <th>Time</th>\n",
       "      <th></th>\n",
       "      <th></th>\n",
       "      <th></th>\n",
       "      <th></th>\n",
       "      <th></th>\n",
       "      <th></th>\n",
       "      <th></th>\n",
       "      <th></th>\n",
       "      <th></th>\n",
       "      <th></th>\n",
       "      <th></th>\n",
       "      <th></th>\n",
       "      <th></th>\n",
       "      <th></th>\n",
       "      <th></th>\n",
       "      <th></th>\n",
       "      <th></th>\n",
       "      <th></th>\n",
       "      <th></th>\n",
       "      <th></th>\n",
       "      <th></th>\n",
       "    </tr>\n",
       "  </thead>\n",
       "  <tbody>\n",
       "    <tr>\n",
       "      <td>2017-07-01 00:00:00</td>\n",
       "      <td>NaN</td>\n",
       "      <td>NaN</td>\n",
       "      <td>NaN</td>\n",
       "      <td>NaN</td>\n",
       "      <td>NaN</td>\n",
       "      <td>NaN</td>\n",
       "      <td>NaN</td>\n",
       "      <td>NaN</td>\n",
       "      <td>NaN</td>\n",
       "      <td>NaN</td>\n",
       "      <td>...</td>\n",
       "      <td>NaN</td>\n",
       "      <td>NaN</td>\n",
       "      <td>NaN</td>\n",
       "      <td>NaN</td>\n",
       "      <td>NaN</td>\n",
       "      <td>NaN</td>\n",
       "      <td>NaN</td>\n",
       "      <td>0.2750</td>\n",
       "      <td>0.021</td>\n",
       "      <td>NaN</td>\n",
       "    </tr>\n",
       "    <tr>\n",
       "      <td>2017-07-01 01:00:00</td>\n",
       "      <td>NaN</td>\n",
       "      <td>NaN</td>\n",
       "      <td>NaN</td>\n",
       "      <td>NaN</td>\n",
       "      <td>NaN</td>\n",
       "      <td>NaN</td>\n",
       "      <td>NaN</td>\n",
       "      <td>NaN</td>\n",
       "      <td>NaN</td>\n",
       "      <td>NaN</td>\n",
       "      <td>...</td>\n",
       "      <td>NaN</td>\n",
       "      <td>NaN</td>\n",
       "      <td>NaN</td>\n",
       "      <td>NaN</td>\n",
       "      <td>NaN</td>\n",
       "      <td>NaN</td>\n",
       "      <td>NaN</td>\n",
       "      <td>0.2485</td>\n",
       "      <td>0.021</td>\n",
       "      <td>NaN</td>\n",
       "    </tr>\n",
       "    <tr>\n",
       "      <td>2017-07-01 02:00:00</td>\n",
       "      <td>NaN</td>\n",
       "      <td>NaN</td>\n",
       "      <td>NaN</td>\n",
       "      <td>NaN</td>\n",
       "      <td>NaN</td>\n",
       "      <td>NaN</td>\n",
       "      <td>NaN</td>\n",
       "      <td>NaN</td>\n",
       "      <td>NaN</td>\n",
       "      <td>NaN</td>\n",
       "      <td>...</td>\n",
       "      <td>NaN</td>\n",
       "      <td>NaN</td>\n",
       "      <td>NaN</td>\n",
       "      <td>NaN</td>\n",
       "      <td>NaN</td>\n",
       "      <td>NaN</td>\n",
       "      <td>NaN</td>\n",
       "      <td>0.2370</td>\n",
       "      <td>0.021</td>\n",
       "      <td>NaN</td>\n",
       "    </tr>\n",
       "    <tr>\n",
       "      <td>2017-07-01 03:00:00</td>\n",
       "      <td>NaN</td>\n",
       "      <td>NaN</td>\n",
       "      <td>NaN</td>\n",
       "      <td>NaN</td>\n",
       "      <td>NaN</td>\n",
       "      <td>NaN</td>\n",
       "      <td>NaN</td>\n",
       "      <td>NaN</td>\n",
       "      <td>NaN</td>\n",
       "      <td>NaN</td>\n",
       "      <td>...</td>\n",
       "      <td>NaN</td>\n",
       "      <td>NaN</td>\n",
       "      <td>NaN</td>\n",
       "      <td>NaN</td>\n",
       "      <td>NaN</td>\n",
       "      <td>NaN</td>\n",
       "      <td>NaN</td>\n",
       "      <td>0.2330</td>\n",
       "      <td>0.021</td>\n",
       "      <td>NaN</td>\n",
       "    </tr>\n",
       "    <tr>\n",
       "      <td>2017-07-01 04:00:00</td>\n",
       "      <td>NaN</td>\n",
       "      <td>NaN</td>\n",
       "      <td>NaN</td>\n",
       "      <td>NaN</td>\n",
       "      <td>NaN</td>\n",
       "      <td>NaN</td>\n",
       "      <td>NaN</td>\n",
       "      <td>NaN</td>\n",
       "      <td>NaN</td>\n",
       "      <td>NaN</td>\n",
       "      <td>...</td>\n",
       "      <td>NaN</td>\n",
       "      <td>NaN</td>\n",
       "      <td>NaN</td>\n",
       "      <td>NaN</td>\n",
       "      <td>NaN</td>\n",
       "      <td>NaN</td>\n",
       "      <td>NaN</td>\n",
       "      <td>0.2290</td>\n",
       "      <td>0.021</td>\n",
       "      <td>NaN</td>\n",
       "    </tr>\n",
       "  </tbody>\n",
       "</table>\n",
       "<p>5 rows × 200 columns</p>\n",
       "</div>"
      ],
      "text/plain": [
       "                     X26  X303  X241  X435  X402  X352  X305  X350  X326  \\\n",
       "Time                                                                       \n",
       "2017-07-01 00:00:00  NaN   NaN   NaN   NaN   NaN   NaN   NaN   NaN   NaN   \n",
       "2017-07-01 01:00:00  NaN   NaN   NaN   NaN   NaN   NaN   NaN   NaN   NaN   \n",
       "2017-07-01 02:00:00  NaN   NaN   NaN   NaN   NaN   NaN   NaN   NaN   NaN   \n",
       "2017-07-01 03:00:00  NaN   NaN   NaN   NaN   NaN   NaN   NaN   NaN   NaN   \n",
       "2017-07-01 04:00:00  NaN   NaN   NaN   NaN   NaN   NaN   NaN   NaN   NaN   \n",
       "\n",
       "                     X299  ...  X283  X329  X223  X266  X20  X443  X347  \\\n",
       "Time                       ...                                            \n",
       "2017-07-01 00:00:00   NaN  ...   NaN   NaN   NaN   NaN  NaN   NaN   NaN   \n",
       "2017-07-01 01:00:00   NaN  ...   NaN   NaN   NaN   NaN  NaN   NaN   NaN   \n",
       "2017-07-01 02:00:00   NaN  ...   NaN   NaN   NaN   NaN  NaN   NaN   NaN   \n",
       "2017-07-01 03:00:00   NaN  ...   NaN   NaN   NaN   NaN  NaN   NaN   NaN   \n",
       "2017-07-01 04:00:00   NaN  ...   NaN   NaN   NaN   NaN  NaN   NaN   NaN   \n",
       "\n",
       "                        X75   X107  X230  \n",
       "Time                                      \n",
       "2017-07-01 00:00:00  0.2750  0.021   NaN  \n",
       "2017-07-01 01:00:00  0.2485  0.021   NaN  \n",
       "2017-07-01 02:00:00  0.2370  0.021   NaN  \n",
       "2017-07-01 03:00:00  0.2330  0.021   NaN  \n",
       "2017-07-01 04:00:00  0.2290  0.021   NaN  \n",
       "\n",
       "[5 rows x 200 columns]"
      ]
     },
     "execution_count": 24,
     "metadata": {},
     "output_type": "execute_result"
    }
   ],
   "source": [
    "test.head()"
   ]
  },
  {
   "cell_type": "code",
   "execution_count": 25,
   "metadata": {},
   "outputs": [
    {
     "data": {
      "text/html": [
       "<div>\n",
       "<style scoped>\n",
       "    .dataframe tbody tr th:only-of-type {\n",
       "        vertical-align: middle;\n",
       "    }\n",
       "\n",
       "    .dataframe tbody tr th {\n",
       "        vertical-align: top;\n",
       "    }\n",
       "\n",
       "    .dataframe thead th {\n",
       "        text-align: right;\n",
       "    }\n",
       "</style>\n",
       "<table border=\"1\" class=\"dataframe\">\n",
       "  <thead>\n",
       "    <tr style=\"text-align: right;\">\n",
       "      <th></th>\n",
       "      <th>place_id</th>\n",
       "      <th>target</th>\n",
       "    </tr>\n",
       "    <tr>\n",
       "      <th>time</th>\n",
       "      <th></th>\n",
       "      <th></th>\n",
       "    </tr>\n",
       "  </thead>\n",
       "  <tbody>\n",
       "    <tr>\n",
       "      <td>2018-04-18 19:00:00</td>\n",
       "      <td>X26</td>\n",
       "      <td>2.5270</td>\n",
       "    </tr>\n",
       "    <tr>\n",
       "      <td>2018-04-18 20:00:00</td>\n",
       "      <td>X26</td>\n",
       "      <td>2.5840</td>\n",
       "    </tr>\n",
       "    <tr>\n",
       "      <td>2018-04-18 21:00:00</td>\n",
       "      <td>X26</td>\n",
       "      <td>2.5270</td>\n",
       "    </tr>\n",
       "    <tr>\n",
       "      <td>2018-04-18 22:00:00</td>\n",
       "      <td>X26</td>\n",
       "      <td>2.4475</td>\n",
       "    </tr>\n",
       "    <tr>\n",
       "      <td>2018-04-18 23:00:00</td>\n",
       "      <td>X26</td>\n",
       "      <td>2.3680</td>\n",
       "    </tr>\n",
       "  </tbody>\n",
       "</table>\n",
       "</div>"
      ],
      "text/plain": [
       "                    place_id  target\n",
       "time                                \n",
       "2018-04-18 19:00:00      X26  2.5270\n",
       "2018-04-18 20:00:00      X26  2.5840\n",
       "2018-04-18 21:00:00      X26  2.5270\n",
       "2018-04-18 22:00:00      X26  2.4475\n",
       "2018-04-18 23:00:00      X26  2.3680"
      ]
     },
     "execution_count": 25,
     "metadata": {},
     "output_type": "execute_result"
    }
   ],
   "source": [
    "place_id=[]; time=[] ; target=[] # 빈 리스트를 생성합니다.\n",
    "for i in test.columns:\n",
    "    for j in range(len(test)):\n",
    "        place_id.append(i) # place_id에 미터 ID를 정리합니다.\n",
    "        time.append(test.index[j]) # time에 시간대를 정리합니다.\n",
    "        target.append(test[i].iloc[j]) # target에 전력량을 정리합니다.\n",
    "\n",
    "new_df=pd.DataFrame({'place_id':place_id,'time':time,'target':target})\n",
    "new_df=new_df.dropna() # 결측치를 제거합니다.\n",
    "new_df=new_df.set_index('time') # time을 인덱스로 저장합니다.\n",
    "new_df.head()"
   ]
  },
  {
   "cell_type": "code",
   "execution_count": 26,
   "metadata": {},
   "outputs": [
    {
     "data": {
      "text/plain": [
       "[(0, 0, 0),\n",
       " (0, 0, 1),\n",
       " (0, 1, 0),\n",
       " (0, 1, 1),\n",
       " (1, 0, 0),\n",
       " (1, 0, 1),\n",
       " (1, 1, 0),\n",
       " (1, 1, 1)]"
      ]
     },
     "execution_count": 26,
     "metadata": {},
     "output_type": "execute_result"
    }
   ],
   "source": [
    "import itertools\n",
    "p = d = q = range(0, 2)\n",
    "pdq = list(itertools.product(p, d, q))\n",
    "pdq"
   ]
  },
  {
   "cell_type": "code",
   "execution_count": 27,
   "metadata": {},
   "outputs": [],
   "source": [
    "def get_optimal_params(y):\n",
    "\n",
    "    param_dict = {}\n",
    "    for param in pdq:\n",
    "        try:\n",
    "            model = ARIMA(y, order=param)\n",
    "            results_ARIMA = model.fit(disp=-1)\n",
    "            param_dict[results_ARIMA.aic] = param\n",
    "        except:\n",
    "            continue\n",
    "\n",
    "    min_aic = min(param_dict.keys())\n",
    "    optimal_params = param_dict[min_aic]\n",
    "    return optimal_params"
   ]
  },
  {
   "cell_type": "code",
   "execution_count": 28,
   "metadata": {},
   "outputs": [
    {
     "name": "stdout",
     "output_type": "stream",
     "text": [
      "X26\n",
      "X303\n",
      "X241\n",
      "X435\n",
      "X402\n",
      "X352\n",
      "X305\n"
     ]
    },
    {
     "name": "stderr",
     "output_type": "stream",
     "text": [
      "C:\\Anaconda3\\lib\\site-packages\\statsmodels\\base\\model.py:512: ConvergenceWarning: Maximum Likelihood optimization failed to converge. Check mle_retvals\n",
      "  \"Check mle_retvals\", ConvergenceWarning)\n"
     ]
    },
    {
     "name": "stdout",
     "output_type": "stream",
     "text": [
      "X350\n"
     ]
    },
    {
     "name": "stderr",
     "output_type": "stream",
     "text": [
      "C:\\Anaconda3\\lib\\site-packages\\statsmodels\\base\\model.py:512: ConvergenceWarning: Maximum Likelihood optimization failed to converge. Check mle_retvals\n",
      "  \"Check mle_retvals\", ConvergenceWarning)\n"
     ]
    },
    {
     "name": "stdout",
     "output_type": "stream",
     "text": [
      "X326\n",
      "X299\n",
      "X160\n",
      "X125\n"
     ]
    },
    {
     "name": "stderr",
     "output_type": "stream",
     "text": [
      "C:\\Anaconda3\\lib\\site-packages\\statsmodels\\base\\model.py:512: ConvergenceWarning: Maximum Likelihood optimization failed to converge. Check mle_retvals\n",
      "  \"Check mle_retvals\", ConvergenceWarning)\n"
     ]
    },
    {
     "name": "stdout",
     "output_type": "stream",
     "text": [
      "X211\n",
      "X349\n",
      "X407\n",
      "X330\n",
      "X132\n",
      "X231\n",
      "X225\n",
      "X16\n",
      "X286\n",
      "X354\n",
      "X353\n",
      "X76\n",
      "X255\n",
      "X106\n",
      "X393\n",
      "X157\n"
     ]
    },
    {
     "name": "stderr",
     "output_type": "stream",
     "text": [
      "C:\\Anaconda3\\lib\\site-packages\\statsmodels\\base\\model.py:512: ConvergenceWarning: Maximum Likelihood optimization failed to converge. Check mle_retvals\n",
      "  \"Check mle_retvals\", ConvergenceWarning)\n"
     ]
    },
    {
     "name": "stdout",
     "output_type": "stream",
     "text": [
      "X323\n",
      "X130\n",
      "X269\n",
      "X94\n",
      "X172\n",
      "X289\n",
      "X216\n"
     ]
    },
    {
     "name": "stderr",
     "output_type": "stream",
     "text": [
      "C:\\Anaconda3\\lib\\site-packages\\statsmodels\\base\\model.py:512: ConvergenceWarning: Maximum Likelihood optimization failed to converge. Check mle_retvals\n",
      "  \"Check mle_retvals\", ConvergenceWarning)\n"
     ]
    },
    {
     "name": "stdout",
     "output_type": "stream",
     "text": [
      "X123\n",
      "X398\n"
     ]
    },
    {
     "name": "stderr",
     "output_type": "stream",
     "text": [
      "C:\\Anaconda3\\lib\\site-packages\\statsmodels\\base\\model.py:512: ConvergenceWarning: Maximum Likelihood optimization failed to converge. Check mle_retvals\n",
      "  \"Check mle_retvals\", ConvergenceWarning)\n"
     ]
    },
    {
     "name": "stdout",
     "output_type": "stream",
     "text": [
      "X233\n"
     ]
    },
    {
     "name": "stderr",
     "output_type": "stream",
     "text": [
      "C:\\Anaconda3\\lib\\site-packages\\statsmodels\\base\\model.py:512: ConvergenceWarning: Maximum Likelihood optimization failed to converge. Check mle_retvals\n",
      "  \"Check mle_retvals\", ConvergenceWarning)\n"
     ]
    },
    {
     "name": "stdout",
     "output_type": "stream",
     "text": [
      "X214\n",
      "X270\n",
      "X371\n"
     ]
    },
    {
     "name": "stderr",
     "output_type": "stream",
     "text": [
      "C:\\Anaconda3\\lib\\site-packages\\statsmodels\\base\\model.py:512: ConvergenceWarning: Maximum Likelihood optimization failed to converge. Check mle_retvals\n",
      "  \"Check mle_retvals\", ConvergenceWarning)\n"
     ]
    },
    {
     "name": "stdout",
     "output_type": "stream",
     "text": [
      "X200\n",
      "X111\n",
      "X163\n",
      "X364\n"
     ]
    },
    {
     "name": "stderr",
     "output_type": "stream",
     "text": [
      "C:\\Anaconda3\\lib\\site-packages\\statsmodels\\base\\model.py:512: ConvergenceWarning: Maximum Likelihood optimization failed to converge. Check mle_retvals\n",
      "  \"Check mle_retvals\", ConvergenceWarning)\n"
     ]
    },
    {
     "name": "stdout",
     "output_type": "stream",
     "text": [
      "X378\n",
      "X271\n",
      "X462\n",
      "X427\n",
      "X73\n",
      "X7\n",
      "X263\n",
      "X450\n"
     ]
    },
    {
     "name": "stderr",
     "output_type": "stream",
     "text": [
      "C:\\Anaconda3\\lib\\site-packages\\statsmodels\\base\\model.py:512: ConvergenceWarning: Maximum Likelihood optimization failed to converge. Check mle_retvals\n",
      "  \"Check mle_retvals\", ConvergenceWarning)\n"
     ]
    },
    {
     "name": "stdout",
     "output_type": "stream",
     "text": [
      "X18\n",
      "X206\n",
      "X133\n",
      "X41\n"
     ]
    },
    {
     "name": "stderr",
     "output_type": "stream",
     "text": [
      "C:\\Anaconda3\\lib\\site-packages\\statsmodels\\base\\model.py:512: ConvergenceWarning: Maximum Likelihood optimization failed to converge. Check mle_retvals\n",
      "  \"Check mle_retvals\", ConvergenceWarning)\n"
     ]
    },
    {
     "name": "stdout",
     "output_type": "stream",
     "text": [
      "X195\n",
      "X155\n",
      "X134\n",
      "X297\n",
      "X175\n",
      "X254\n",
      "X196\n",
      "X481\n",
      "X412\n",
      "X337\n"
     ]
    },
    {
     "name": "stderr",
     "output_type": "stream",
     "text": [
      "C:\\Anaconda3\\lib\\site-packages\\statsmodels\\base\\model.py:512: ConvergenceWarning: Maximum Likelihood optimization failed to converge. Check mle_retvals\n",
      "  \"Check mle_retvals\", ConvergenceWarning)\n",
      "C:\\Anaconda3\\lib\\site-packages\\statsmodels\\base\\model.py:512: ConvergenceWarning: Maximum Likelihood optimization failed to converge. Check mle_retvals\n",
      "  \"Check mle_retvals\", ConvergenceWarning)\n"
     ]
    },
    {
     "name": "stdout",
     "output_type": "stream",
     "text": [
      "X406\n",
      "X67\n",
      "X414\n",
      "X55\n",
      "X91\n",
      "X260\n",
      "X252\n"
     ]
    },
    {
     "name": "stderr",
     "output_type": "stream",
     "text": [
      "C:\\Anaconda3\\lib\\site-packages\\statsmodels\\base\\model.py:492: HessianInversionWarning: Inverting hessian failed, no bse or cov_params available\n",
      "  'available', HessianInversionWarning)\n"
     ]
    },
    {
     "name": "stdout",
     "output_type": "stream",
     "text": [
      "X5\n",
      "X455\n"
     ]
    },
    {
     "name": "stderr",
     "output_type": "stream",
     "text": [
      "C:\\Anaconda3\\lib\\site-packages\\statsmodels\\base\\model.py:492: HessianInversionWarning: Inverting hessian failed, no bse or cov_params available\n",
      "  'available', HessianInversionWarning)\n"
     ]
    },
    {
     "name": "stdout",
     "output_type": "stream",
     "text": [
      "X43\n",
      "X320\n",
      "X276\n",
      "X423\n",
      "X218\n",
      "X399\n"
     ]
    },
    {
     "name": "stderr",
     "output_type": "stream",
     "text": [
      "C:\\Anaconda3\\lib\\site-packages\\statsmodels\\base\\model.py:512: ConvergenceWarning: Maximum Likelihood optimization failed to converge. Check mle_retvals\n",
      "  \"Check mle_retvals\", ConvergenceWarning)\n"
     ]
    },
    {
     "name": "stdout",
     "output_type": "stream",
     "text": [
      "X213\n",
      "X379\n",
      "X468\n",
      "X253\n",
      "X247\n",
      "X262\n",
      "X248\n",
      "X357\n",
      "X215\n",
      "X177\n",
      "X228\n",
      "X59\n"
     ]
    },
    {
     "name": "stderr",
     "output_type": "stream",
     "text": [
      "C:\\Anaconda3\\lib\\site-packages\\statsmodels\\base\\model.py:512: ConvergenceWarning: Maximum Likelihood optimization failed to converge. Check mle_retvals\n",
      "  \"Check mle_retvals\", ConvergenceWarning)\n"
     ]
    },
    {
     "name": "stdout",
     "output_type": "stream",
     "text": [
      "X10\n",
      "X187\n",
      "X245\n",
      "X87\n",
      "X242\n",
      "X376\n",
      "X166\n",
      "X472\n"
     ]
    },
    {
     "name": "stderr",
     "output_type": "stream",
     "text": [
      "C:\\Anaconda3\\lib\\site-packages\\statsmodels\\base\\model.py:512: ConvergenceWarning: Maximum Likelihood optimization failed to converge. Check mle_retvals\n",
      "  \"Check mle_retvals\", ConvergenceWarning)\n"
     ]
    },
    {
     "name": "stdout",
     "output_type": "stream",
     "text": [
      "X275\n",
      "X126\n",
      "X120\n",
      "X313\n",
      "X201\n",
      "X110\n",
      "X408\n",
      "X62\n",
      "X419\n",
      "X460\n",
      "X367\n"
     ]
    },
    {
     "name": "stderr",
     "output_type": "stream",
     "text": [
      "C:\\Anaconda3\\lib\\site-packages\\statsmodels\\base\\model.py:512: ConvergenceWarning: Maximum Likelihood optimization failed to converge. Check mle_retvals\n",
      "  \"Check mle_retvals\", ConvergenceWarning)\n"
     ]
    },
    {
     "name": "stdout",
     "output_type": "stream",
     "text": [
      "X143\n",
      "X312\n",
      "X410\n",
      "X389\n",
      "X300\n",
      "X61\n",
      "X470\n",
      "X445\n",
      "X158\n",
      "X421\n",
      "X105\n",
      "X32\n",
      "X178\n",
      "X308\n",
      "X217\n",
      "X229\n"
     ]
    },
    {
     "name": "stderr",
     "output_type": "stream",
     "text": [
      "C:\\Anaconda3\\lib\\site-packages\\statsmodels\\base\\model.py:512: ConvergenceWarning: Maximum Likelihood optimization failed to converge. Check mle_retvals\n",
      "  \"Check mle_retvals\", ConvergenceWarning)\n"
     ]
    },
    {
     "name": "stdout",
     "output_type": "stream",
     "text": [
      "X358\n",
      "X31\n",
      "X148\n",
      "X397\n",
      "X363\n",
      "X165\n",
      "X30\n"
     ]
    },
    {
     "name": "stderr",
     "output_type": "stream",
     "text": [
      "C:\\Anaconda3\\lib\\site-packages\\statsmodels\\base\\model.py:512: ConvergenceWarning: Maximum Likelihood optimization failed to converge. Check mle_retvals\n",
      "  \"Check mle_retvals\", ConvergenceWarning)\n"
     ]
    },
    {
     "name": "stdout",
     "output_type": "stream",
     "text": [
      "X88\n",
      "X296\n",
      "X219\n",
      "X116\n",
      "X68\n",
      "X431\n"
     ]
    },
    {
     "name": "stderr",
     "output_type": "stream",
     "text": [
      "C:\\Anaconda3\\lib\\site-packages\\statsmodels\\base\\model.py:512: ConvergenceWarning: Maximum Likelihood optimization failed to converge. Check mle_retvals\n",
      "  \"Check mle_retvals\", ConvergenceWarning)\n"
     ]
    },
    {
     "name": "stdout",
     "output_type": "stream",
     "text": [
      "X302\n"
     ]
    },
    {
     "name": "stderr",
     "output_type": "stream",
     "text": [
      "C:\\Anaconda3\\lib\\site-packages\\statsmodels\\base\\model.py:512: ConvergenceWarning: Maximum Likelihood optimization failed to converge. Check mle_retvals\n",
      "  \"Check mle_retvals\", ConvergenceWarning)\n"
     ]
    },
    {
     "name": "stdout",
     "output_type": "stream",
     "text": [
      "X314\n"
     ]
    },
    {
     "name": "stderr",
     "output_type": "stream",
     "text": [
      "C:\\Anaconda3\\lib\\site-packages\\statsmodels\\base\\model.py:512: ConvergenceWarning: Maximum Likelihood optimization failed to converge. Check mle_retvals\n",
      "  \"Check mle_retvals\", ConvergenceWarning)\n"
     ]
    },
    {
     "name": "stdout",
     "output_type": "stream",
     "text": [
      "X124\n",
      "X405\n",
      "X315\n",
      "X51\n",
      "X176\n"
     ]
    },
    {
     "name": "stderr",
     "output_type": "stream",
     "text": [
      "C:\\Anaconda3\\lib\\site-packages\\statsmodels\\base\\model.py:512: ConvergenceWarning: Maximum Likelihood optimization failed to converge. Check mle_retvals\n",
      "  \"Check mle_retvals\", ConvergenceWarning)\n"
     ]
    },
    {
     "name": "stdout",
     "output_type": "stream",
     "text": [
      "X396\n",
      "X449\n",
      "X383\n",
      "X473\n",
      "X205\n"
     ]
    },
    {
     "name": "stderr",
     "output_type": "stream",
     "text": [
      "C:\\Anaconda3\\lib\\site-packages\\statsmodels\\base\\model.py:512: ConvergenceWarning: Maximum Likelihood optimization failed to converge. Check mle_retvals\n",
      "  \"Check mle_retvals\", ConvergenceWarning)\n",
      "C:\\Anaconda3\\lib\\site-packages\\statsmodels\\tsa\\arima_model.py:811: RuntimeWarning: divide by zero encountered in log\n",
      "  llf = -nobs/2.*(log(2*pi) + log(sigma2)) - ssr/(2*sigma2)\n",
      "C:\\Anaconda3\\lib\\site-packages\\statsmodels\\tsa\\arima_model.py:811: RuntimeWarning: invalid value encountered in double_scalars\n",
      "  llf = -nobs/2.*(log(2*pi) + log(sigma2)) - ssr/(2*sigma2)\n",
      "C:\\Anaconda3\\lib\\site-packages\\statsmodels\\base\\model.py:492: HessianInversionWarning: Inverting hessian failed, no bse or cov_params available\n",
      "  'available', HessianInversionWarning)\n",
      "C:\\Anaconda3\\lib\\site-packages\\statsmodels\\base\\model.py:512: ConvergenceWarning: Maximum Likelihood optimization failed to converge. Check mle_retvals\n",
      "  \"Check mle_retvals\", ConvergenceWarning)\n",
      "C:\\Anaconda3\\lib\\site-packages\\statsmodels\\tsa\\ar_model.py:763: RuntimeWarning: divide by zero encountered in log\n",
      "  return np.log(self.sigma2) + (1 + self.df_model) * np.log(nobs)/nobs\n",
      "C:\\Anaconda3\\lib\\site-packages\\statsmodels\\base\\model.py:492: HessianInversionWarning: Inverting hessian failed, no bse or cov_params available\n",
      "  'available', HessianInversionWarning)\n",
      "C:\\Anaconda3\\lib\\site-packages\\statsmodels\\base\\model.py:512: ConvergenceWarning: Maximum Likelihood optimization failed to converge. Check mle_retvals\n",
      "  \"Check mle_retvals\", ConvergenceWarning)\n"
     ]
    },
    {
     "name": "stdout",
     "output_type": "stream",
     "text": [
      "X35\n",
      "X161\n",
      "X403\n",
      "X341\n",
      "X149\n"
     ]
    },
    {
     "name": "stderr",
     "output_type": "stream",
     "text": [
      "C:\\Anaconda3\\lib\\site-packages\\statsmodels\\base\\model.py:512: ConvergenceWarning: Maximum Likelihood optimization failed to converge. Check mle_retvals\n",
      "  \"Check mle_retvals\", ConvergenceWarning)\n"
     ]
    },
    {
     "name": "stdout",
     "output_type": "stream",
     "text": [
      "X82\n",
      "X377\n",
      "X232\n",
      "X333\n",
      "X140\n"
     ]
    },
    {
     "name": "stderr",
     "output_type": "stream",
     "text": [
      "C:\\Anaconda3\\lib\\site-packages\\statsmodels\\base\\model.py:512: ConvergenceWarning: Maximum Likelihood optimization failed to converge. Check mle_retvals\n",
      "  \"Check mle_retvals\", ConvergenceWarning)\n"
     ]
    },
    {
     "name": "stdout",
     "output_type": "stream",
     "text": [
      "X44\n",
      "X37\n"
     ]
    },
    {
     "name": "stderr",
     "output_type": "stream",
     "text": [
      "C:\\Anaconda3\\lib\\site-packages\\statsmodels\\base\\model.py:492: HessianInversionWarning: Inverting hessian failed, no bse or cov_params available\n",
      "  'available', HessianInversionWarning)\n"
     ]
    },
    {
     "name": "stdout",
     "output_type": "stream",
     "text": [
      "X42\n"
     ]
    },
    {
     "name": "stderr",
     "output_type": "stream",
     "text": [
      "C:\\Anaconda3\\lib\\site-packages\\statsmodels\\base\\model.py:512: ConvergenceWarning: Maximum Likelihood optimization failed to converge. Check mle_retvals\n",
      "  \"Check mle_retvals\", ConvergenceWarning)\n"
     ]
    },
    {
     "name": "stdout",
     "output_type": "stream",
     "text": [
      "X422\n"
     ]
    },
    {
     "name": "stderr",
     "output_type": "stream",
     "text": [
      "C:\\Anaconda3\\lib\\site-packages\\statsmodels\\base\\model.py:512: ConvergenceWarning: Maximum Likelihood optimization failed to converge. Check mle_retvals\n",
      "  \"Check mle_retvals\", ConvergenceWarning)\n"
     ]
    },
    {
     "name": "stdout",
     "output_type": "stream",
     "text": [
      "X50\n",
      "X386\n"
     ]
    },
    {
     "name": "stderr",
     "output_type": "stream",
     "text": [
      "C:\\Anaconda3\\lib\\site-packages\\statsmodels\\base\\model.py:512: ConvergenceWarning: Maximum Likelihood optimization failed to converge. Check mle_retvals\n",
      "  \"Check mle_retvals\", ConvergenceWarning)\n"
     ]
    },
    {
     "name": "stdout",
     "output_type": "stream",
     "text": [
      "X80\n",
      "X250\n",
      "X142\n",
      "X235\n",
      "X446\n",
      "X331\n",
      "X102\n",
      "X186\n",
      "X243\n",
      "X194\n",
      "X183\n",
      "X139\n"
     ]
    },
    {
     "name": "stderr",
     "output_type": "stream",
     "text": [
      "C:\\Anaconda3\\lib\\site-packages\\statsmodels\\base\\model.py:512: ConvergenceWarning: Maximum Likelihood optimization failed to converge. Check mle_retvals\n",
      "  \"Check mle_retvals\", ConvergenceWarning)\n"
     ]
    },
    {
     "name": "stdout",
     "output_type": "stream",
     "text": [
      "X459\n",
      "X457\n",
      "X70\n",
      "X368\n"
     ]
    },
    {
     "name": "stderr",
     "output_type": "stream",
     "text": [
      "C:\\Anaconda3\\lib\\site-packages\\statsmodels\\base\\model.py:512: ConvergenceWarning: Maximum Likelihood optimization failed to converge. Check mle_retvals\n",
      "  \"Check mle_retvals\", ConvergenceWarning)\n"
     ]
    },
    {
     "name": "stdout",
     "output_type": "stream",
     "text": [
      "X282\n",
      "X426\n"
     ]
    },
    {
     "name": "stderr",
     "output_type": "stream",
     "text": [
      "C:\\Anaconda3\\lib\\site-packages\\statsmodels\\base\\model.py:492: HessianInversionWarning: Inverting hessian failed, no bse or cov_params available\n",
      "  'available', HessianInversionWarning)\n"
     ]
    },
    {
     "name": "stdout",
     "output_type": "stream",
     "text": [
      "X47\n"
     ]
    },
    {
     "name": "stderr",
     "output_type": "stream",
     "text": [
      "C:\\Anaconda3\\lib\\site-packages\\statsmodels\\base\\model.py:512: ConvergenceWarning: Maximum Likelihood optimization failed to converge. Check mle_retvals\n",
      "  \"Check mle_retvals\", ConvergenceWarning)\n"
     ]
    },
    {
     "name": "stdout",
     "output_type": "stream",
     "text": [
      "X192\n",
      "X283\n",
      "X329\n",
      "X223\n",
      "X266\n",
      "X20\n",
      "X443\n",
      "X347\n",
      "X75\n"
     ]
    },
    {
     "name": "stderr",
     "output_type": "stream",
     "text": [
      "C:\\Anaconda3\\lib\\site-packages\\statsmodels\\base\\model.py:512: ConvergenceWarning: Maximum Likelihood optimization failed to converge. Check mle_retvals\n",
      "  \"Check mle_retvals\", ConvergenceWarning)\n",
      "C:\\Anaconda3\\lib\\site-packages\\statsmodels\\base\\model.py:512: ConvergenceWarning: Maximum Likelihood optimization failed to converge. Check mle_retvals\n",
      "  \"Check mle_retvals\", ConvergenceWarning)\n"
     ]
    },
    {
     "name": "stdout",
     "output_type": "stream",
     "text": [
      "X107\n"
     ]
    },
    {
     "name": "stderr",
     "output_type": "stream",
     "text": [
      "C:\\Anaconda3\\lib\\site-packages\\statsmodels\\base\\model.py:512: ConvergenceWarning: Maximum Likelihood optimization failed to converge. Check mle_retvals\n",
      "  \"Check mle_retvals\", ConvergenceWarning)\n"
     ]
    },
    {
     "name": "stdout",
     "output_type": "stream",
     "text": [
      "X230\n",
      "---- Modeling Done ----\n"
     ]
    }
   ],
   "source": [
    "agg={}\n",
    "for key in new_df['place_id'].unique(): # 미터ID 200개의 리스트를 unique()함수를 통해 추출합니다.\n",
    "    temp = new_df.loc[new_df['place_id']==key] # 미터ID 하나를 할당합니다.\n",
    "    temp_1h=temp.resample('1h').sum() # 1시간 단위로 정리합니다.\n",
    "    temp_1day=temp.resample('D').sum() # 1일 단위로 정리합니다.\n",
    "\n",
    "    # 시간별 예측\n",
    "    model = ARIMA(temp_1h['target'], order=get_optimal_params(temp_1h['target'])) # AIC를 최소화하는 최적의 파라미터로 모델링합니다.\n",
    "    results_ARIMA = model.fit(disp=-1)\n",
    "    fcst = results_ARIMA.forecast(24) # 24시간을 예측합니다.\n",
    "\n",
    "    a = pd.DataFrame() # a라는 데이터프레임에 예측값을 정리합니다.\n",
    "    \n",
    "    for i in range(24):\n",
    "        a['X2018_7_1_'+str(i+1)+'h']=[fcst[0][i]] # column명을 submission 형태에 맞게 지정합니다.\n",
    "\n",
    "        \n",
    "    # 일별 예측\n",
    "    model = ARIMA(temp_1day['target'], order=get_optimal_params(temp_1day['target'])) # AIC를 최소화하는 최적의 파라미터로 모델링합니다.\n",
    "    results_ARIMA = model.fit(disp=-1)\n",
    "    fcst = results_ARIMA.forecast(10) # 10일을 예측합니다.\n",
    "\n",
    "    for i in range(10):\n",
    "        a['X2018_7_'+str(i+1)+'_d']=[fcst[0][i]] # column명을 submission 형태에 맞게 지정합니다.\n",
    "    \n",
    "    \n",
    "    # 월별 예측\n",
    "    # 일별로 예측하여 7월 ~ 11월의 일 수에 맞게 나누어 합산합니다.\n",
    "    fcst = results_ARIMA.forecast(153)\n",
    "    a['X2018_7_m'] = [np.sum(fcst[0][:31])] # 7월 \n",
    "    a['X2018_8_m'] = [np.sum(fcst[0][31:62])] # 8월\n",
    "    a['X2018_9_m'] = [np.sum(fcst[0][62:92])] # 9월\n",
    "    a['X2018_10_m'] = [np.sum(fcst[0][92:123])] # 10월\n",
    "    a['X2018_11_m'] = [np.sum(fcst[0][123:153])] # 11월\n",
    "    \n",
    "    a['meter_id'] = key \n",
    "    agg[key] = a[submission.columns.tolist()]\n",
    "    print(key)\n",
    "print('---- Modeling Done ----')"
   ]
  },
  {
   "cell_type": "code",
   "execution_count": 29,
   "metadata": {},
   "outputs": [],
   "source": [
    "output1 = pd.concat(agg, ignore_index=False)\n",
    "output2 = output1.reset_index().drop(['level_0','level_1'], axis=1)\n",
    "output2['id'] = output2['meter_id'].str.replace('X','').astype(int)\n",
    "output2 =  output2.sort_values(by='id', ascending=True).drop(['id'], axis=1).reset_index(drop=True)\n",
    "output2.to_csv('D:/workspace/DACON_2019/SUHYUN/output/test/NA_DACON_method_r48_med_ARIMA.csv', index=False)"
   ]
  },
  {
   "cell_type": "code",
   "execution_count": 30,
   "metadata": {},
   "outputs": [
    {
     "data": {
      "text/html": [
       "<div>\n",
       "<style scoped>\n",
       "    .dataframe tbody tr th:only-of-type {\n",
       "        vertical-align: middle;\n",
       "    }\n",
       "\n",
       "    .dataframe tbody tr th {\n",
       "        vertical-align: top;\n",
       "    }\n",
       "\n",
       "    .dataframe thead th {\n",
       "        text-align: right;\n",
       "    }\n",
       "</style>\n",
       "<table border=\"1\" class=\"dataframe\">\n",
       "  <thead>\n",
       "    <tr style=\"text-align: right;\">\n",
       "      <th></th>\n",
       "      <th>meter_id</th>\n",
       "      <th>X2018_7_1_1h</th>\n",
       "      <th>X2018_7_1_2h</th>\n",
       "      <th>X2018_7_1_3h</th>\n",
       "      <th>X2018_7_1_4h</th>\n",
       "      <th>X2018_7_1_5h</th>\n",
       "      <th>X2018_7_1_6h</th>\n",
       "      <th>X2018_7_1_7h</th>\n",
       "      <th>X2018_7_1_8h</th>\n",
       "      <th>X2018_7_1_9h</th>\n",
       "      <th>...</th>\n",
       "      <th>X2018_7_6_d</th>\n",
       "      <th>X2018_7_7_d</th>\n",
       "      <th>X2018_7_8_d</th>\n",
       "      <th>X2018_7_9_d</th>\n",
       "      <th>X2018_7_10_d</th>\n",
       "      <th>X2018_7_m</th>\n",
       "      <th>X2018_8_m</th>\n",
       "      <th>X2018_9_m</th>\n",
       "      <th>X2018_10_m</th>\n",
       "      <th>X2018_11_m</th>\n",
       "    </tr>\n",
       "  </thead>\n",
       "  <tbody>\n",
       "    <tr>\n",
       "      <td>0</td>\n",
       "      <td>X5</td>\n",
       "      <td>6.414162</td>\n",
       "      <td>6.415860</td>\n",
       "      <td>6.416758</td>\n",
       "      <td>6.417495</td>\n",
       "      <td>6.418199</td>\n",
       "      <td>6.418896</td>\n",
       "      <td>6.419592</td>\n",
       "      <td>6.420288</td>\n",
       "      <td>6.420984</td>\n",
       "      <td>...</td>\n",
       "      <td>161.044958</td>\n",
       "      <td>162.751451</td>\n",
       "      <td>164.457943</td>\n",
       "      <td>166.164436</td>\n",
       "      <td>167.870929</td>\n",
       "      <td>5521.406496</td>\n",
       "      <td>7161.346208</td>\n",
       "      <td>8491.776077</td>\n",
       "      <td>10388.324351</td>\n",
       "      <td>11614.658151</td>\n",
       "    </tr>\n",
       "    <tr>\n",
       "      <td>1</td>\n",
       "      <td>X7</td>\n",
       "      <td>1.485958</td>\n",
       "      <td>1.484842</td>\n",
       "      <td>1.484238</td>\n",
       "      <td>1.483917</td>\n",
       "      <td>1.483752</td>\n",
       "      <td>1.483673</td>\n",
       "      <td>1.483642</td>\n",
       "      <td>1.483637</td>\n",
       "      <td>1.483647</td>\n",
       "      <td>...</td>\n",
       "      <td>29.247671</td>\n",
       "      <td>29.144665</td>\n",
       "      <td>29.092827</td>\n",
       "      <td>29.066739</td>\n",
       "      <td>29.053610</td>\n",
       "      <td>913.181362</td>\n",
       "      <td>900.249586</td>\n",
       "      <td>871.209277</td>\n",
       "      <td>900.249586</td>\n",
       "      <td>871.209277</td>\n",
       "    </tr>\n",
       "    <tr>\n",
       "      <td>2</td>\n",
       "      <td>X10</td>\n",
       "      <td>3.226025</td>\n",
       "      <td>3.226370</td>\n",
       "      <td>3.227080</td>\n",
       "      <td>3.227890</td>\n",
       "      <td>3.228728</td>\n",
       "      <td>3.229574</td>\n",
       "      <td>3.230422</td>\n",
       "      <td>3.231271</td>\n",
       "      <td>3.232120</td>\n",
       "      <td>...</td>\n",
       "      <td>58.575876</td>\n",
       "      <td>58.575876</td>\n",
       "      <td>58.575876</td>\n",
       "      <td>58.575876</td>\n",
       "      <td>58.575876</td>\n",
       "      <td>1823.965576</td>\n",
       "      <td>1815.852148</td>\n",
       "      <td>1757.276272</td>\n",
       "      <td>1815.852148</td>\n",
       "      <td>1757.276272</td>\n",
       "    </tr>\n",
       "    <tr>\n",
       "      <td>3</td>\n",
       "      <td>X16</td>\n",
       "      <td>5.026338</td>\n",
       "      <td>5.027509</td>\n",
       "      <td>5.028437</td>\n",
       "      <td>5.029315</td>\n",
       "      <td>5.030183</td>\n",
       "      <td>5.031048</td>\n",
       "      <td>5.031913</td>\n",
       "      <td>5.032777</td>\n",
       "      <td>5.033642</td>\n",
       "      <td>...</td>\n",
       "      <td>84.751884</td>\n",
       "      <td>84.563229</td>\n",
       "      <td>84.483585</td>\n",
       "      <td>84.449961</td>\n",
       "      <td>84.435766</td>\n",
       "      <td>2659.320541</td>\n",
       "      <td>2617.187240</td>\n",
       "      <td>2532.761845</td>\n",
       "      <td>2617.187240</td>\n",
       "      <td>2532.761845</td>\n",
       "    </tr>\n",
       "    <tr>\n",
       "      <td>4</td>\n",
       "      <td>X18</td>\n",
       "      <td>2.578535</td>\n",
       "      <td>2.578574</td>\n",
       "      <td>2.578614</td>\n",
       "      <td>2.578656</td>\n",
       "      <td>2.578700</td>\n",
       "      <td>2.578744</td>\n",
       "      <td>2.578789</td>\n",
       "      <td>2.578835</td>\n",
       "      <td>2.578881</td>\n",
       "      <td>...</td>\n",
       "      <td>65.035048</td>\n",
       "      <td>65.693973</td>\n",
       "      <td>66.352897</td>\n",
       "      <td>67.011822</td>\n",
       "      <td>67.670747</td>\n",
       "      <td>2220.353130</td>\n",
       "      <td>2853.579726</td>\n",
       "      <td>3364.444829</td>\n",
       "      <td>4099.606253</td>\n",
       "      <td>4570.276952</td>\n",
       "    </tr>\n",
       "  </tbody>\n",
       "</table>\n",
       "<p>5 rows × 40 columns</p>\n",
       "</div>"
      ],
      "text/plain": [
       "  meter_id  X2018_7_1_1h  X2018_7_1_2h  X2018_7_1_3h  X2018_7_1_4h  \\\n",
       "0       X5      6.414162      6.415860      6.416758      6.417495   \n",
       "1       X7      1.485958      1.484842      1.484238      1.483917   \n",
       "2      X10      3.226025      3.226370      3.227080      3.227890   \n",
       "3      X16      5.026338      5.027509      5.028437      5.029315   \n",
       "4      X18      2.578535      2.578574      2.578614      2.578656   \n",
       "\n",
       "   X2018_7_1_5h  X2018_7_1_6h  X2018_7_1_7h  X2018_7_1_8h  X2018_7_1_9h  ...  \\\n",
       "0      6.418199      6.418896      6.419592      6.420288      6.420984  ...   \n",
       "1      1.483752      1.483673      1.483642      1.483637      1.483647  ...   \n",
       "2      3.228728      3.229574      3.230422      3.231271      3.232120  ...   \n",
       "3      5.030183      5.031048      5.031913      5.032777      5.033642  ...   \n",
       "4      2.578700      2.578744      2.578789      2.578835      2.578881  ...   \n",
       "\n",
       "   X2018_7_6_d  X2018_7_7_d  X2018_7_8_d  X2018_7_9_d  X2018_7_10_d  \\\n",
       "0   161.044958   162.751451   164.457943   166.164436    167.870929   \n",
       "1    29.247671    29.144665    29.092827    29.066739     29.053610   \n",
       "2    58.575876    58.575876    58.575876    58.575876     58.575876   \n",
       "3    84.751884    84.563229    84.483585    84.449961     84.435766   \n",
       "4    65.035048    65.693973    66.352897    67.011822     67.670747   \n",
       "\n",
       "     X2018_7_m    X2018_8_m    X2018_9_m    X2018_10_m    X2018_11_m  \n",
       "0  5521.406496  7161.346208  8491.776077  10388.324351  11614.658151  \n",
       "1   913.181362   900.249586   871.209277    900.249586    871.209277  \n",
       "2  1823.965576  1815.852148  1757.276272   1815.852148   1757.276272  \n",
       "3  2659.320541  2617.187240  2532.761845   2617.187240   2532.761845  \n",
       "4  2220.353130  2853.579726  3364.444829   4099.606253   4570.276952  \n",
       "\n",
       "[5 rows x 40 columns]"
      ]
     },
     "execution_count": 30,
     "metadata": {},
     "output_type": "execute_result"
    }
   ],
   "source": [
    "output2.head()"
   ]
  },
  {
   "cell_type": "code",
   "execution_count": 31,
   "metadata": {},
   "outputs": [],
   "source": [
    "test = pd.read_csv(\"D:/workspace/DACON_2019/SUHYUN/rolling/test_NA/r48/mean.csv\")\n",
    "submission = pd.read_csv(\"D:/workspace/DACON_2019/DACON_DATASET/submission_1002.csv\")\n",
    "\n",
    "test['Time'] = pd.to_datetime(test['Time']) \n",
    "test = test.set_index('Time')"
   ]
  },
  {
   "cell_type": "code",
   "execution_count": 32,
   "metadata": {},
   "outputs": [
    {
     "data": {
      "text/html": [
       "<div>\n",
       "<style scoped>\n",
       "    .dataframe tbody tr th:only-of-type {\n",
       "        vertical-align: middle;\n",
       "    }\n",
       "\n",
       "    .dataframe tbody tr th {\n",
       "        vertical-align: top;\n",
       "    }\n",
       "\n",
       "    .dataframe thead th {\n",
       "        text-align: right;\n",
       "    }\n",
       "</style>\n",
       "<table border=\"1\" class=\"dataframe\">\n",
       "  <thead>\n",
       "    <tr style=\"text-align: right;\">\n",
       "      <th></th>\n",
       "      <th>X26</th>\n",
       "      <th>X303</th>\n",
       "      <th>X241</th>\n",
       "      <th>X435</th>\n",
       "      <th>X402</th>\n",
       "      <th>X352</th>\n",
       "      <th>X305</th>\n",
       "      <th>X350</th>\n",
       "      <th>X326</th>\n",
       "      <th>X299</th>\n",
       "      <th>...</th>\n",
       "      <th>X283</th>\n",
       "      <th>X329</th>\n",
       "      <th>X223</th>\n",
       "      <th>X266</th>\n",
       "      <th>X20</th>\n",
       "      <th>X443</th>\n",
       "      <th>X347</th>\n",
       "      <th>X75</th>\n",
       "      <th>X107</th>\n",
       "      <th>X230</th>\n",
       "    </tr>\n",
       "    <tr>\n",
       "      <th>Time</th>\n",
       "      <th></th>\n",
       "      <th></th>\n",
       "      <th></th>\n",
       "      <th></th>\n",
       "      <th></th>\n",
       "      <th></th>\n",
       "      <th></th>\n",
       "      <th></th>\n",
       "      <th></th>\n",
       "      <th></th>\n",
       "      <th></th>\n",
       "      <th></th>\n",
       "      <th></th>\n",
       "      <th></th>\n",
       "      <th></th>\n",
       "      <th></th>\n",
       "      <th></th>\n",
       "      <th></th>\n",
       "      <th></th>\n",
       "      <th></th>\n",
       "      <th></th>\n",
       "    </tr>\n",
       "  </thead>\n",
       "  <tbody>\n",
       "    <tr>\n",
       "      <td>2017-07-01 00:00:00</td>\n",
       "      <td>NaN</td>\n",
       "      <td>NaN</td>\n",
       "      <td>NaN</td>\n",
       "      <td>NaN</td>\n",
       "      <td>NaN</td>\n",
       "      <td>NaN</td>\n",
       "      <td>NaN</td>\n",
       "      <td>NaN</td>\n",
       "      <td>NaN</td>\n",
       "      <td>NaN</td>\n",
       "      <td>...</td>\n",
       "      <td>NaN</td>\n",
       "      <td>NaN</td>\n",
       "      <td>NaN</td>\n",
       "      <td>NaN</td>\n",
       "      <td>NaN</td>\n",
       "      <td>NaN</td>\n",
       "      <td>NaN</td>\n",
       "      <td>0.275000</td>\n",
       "      <td>0.02100</td>\n",
       "      <td>NaN</td>\n",
       "    </tr>\n",
       "    <tr>\n",
       "      <td>2017-07-01 01:00:00</td>\n",
       "      <td>NaN</td>\n",
       "      <td>NaN</td>\n",
       "      <td>NaN</td>\n",
       "      <td>NaN</td>\n",
       "      <td>NaN</td>\n",
       "      <td>NaN</td>\n",
       "      <td>NaN</td>\n",
       "      <td>NaN</td>\n",
       "      <td>NaN</td>\n",
       "      <td>NaN</td>\n",
       "      <td>...</td>\n",
       "      <td>NaN</td>\n",
       "      <td>NaN</td>\n",
       "      <td>NaN</td>\n",
       "      <td>NaN</td>\n",
       "      <td>NaN</td>\n",
       "      <td>NaN</td>\n",
       "      <td>NaN</td>\n",
       "      <td>0.248500</td>\n",
       "      <td>0.02100</td>\n",
       "      <td>NaN</td>\n",
       "    </tr>\n",
       "    <tr>\n",
       "      <td>2017-07-01 02:00:00</td>\n",
       "      <td>NaN</td>\n",
       "      <td>NaN</td>\n",
       "      <td>NaN</td>\n",
       "      <td>NaN</td>\n",
       "      <td>NaN</td>\n",
       "      <td>NaN</td>\n",
       "      <td>NaN</td>\n",
       "      <td>NaN</td>\n",
       "      <td>NaN</td>\n",
       "      <td>NaN</td>\n",
       "      <td>...</td>\n",
       "      <td>NaN</td>\n",
       "      <td>NaN</td>\n",
       "      <td>NaN</td>\n",
       "      <td>NaN</td>\n",
       "      <td>NaN</td>\n",
       "      <td>NaN</td>\n",
       "      <td>NaN</td>\n",
       "      <td>0.244667</td>\n",
       "      <td>0.02100</td>\n",
       "      <td>NaN</td>\n",
       "    </tr>\n",
       "    <tr>\n",
       "      <td>2017-07-01 03:00:00</td>\n",
       "      <td>NaN</td>\n",
       "      <td>NaN</td>\n",
       "      <td>NaN</td>\n",
       "      <td>NaN</td>\n",
       "      <td>NaN</td>\n",
       "      <td>NaN</td>\n",
       "      <td>NaN</td>\n",
       "      <td>NaN</td>\n",
       "      <td>NaN</td>\n",
       "      <td>NaN</td>\n",
       "      <td>...</td>\n",
       "      <td>NaN</td>\n",
       "      <td>NaN</td>\n",
       "      <td>NaN</td>\n",
       "      <td>NaN</td>\n",
       "      <td>NaN</td>\n",
       "      <td>NaN</td>\n",
       "      <td>NaN</td>\n",
       "      <td>0.240750</td>\n",
       "      <td>0.02075</td>\n",
       "      <td>NaN</td>\n",
       "    </tr>\n",
       "    <tr>\n",
       "      <td>2017-07-01 04:00:00</td>\n",
       "      <td>NaN</td>\n",
       "      <td>NaN</td>\n",
       "      <td>NaN</td>\n",
       "      <td>NaN</td>\n",
       "      <td>NaN</td>\n",
       "      <td>NaN</td>\n",
       "      <td>NaN</td>\n",
       "      <td>NaN</td>\n",
       "      <td>NaN</td>\n",
       "      <td>NaN</td>\n",
       "      <td>...</td>\n",
       "      <td>NaN</td>\n",
       "      <td>NaN</td>\n",
       "      <td>NaN</td>\n",
       "      <td>NaN</td>\n",
       "      <td>NaN</td>\n",
       "      <td>NaN</td>\n",
       "      <td>NaN</td>\n",
       "      <td>0.233000</td>\n",
       "      <td>0.02080</td>\n",
       "      <td>NaN</td>\n",
       "    </tr>\n",
       "  </tbody>\n",
       "</table>\n",
       "<p>5 rows × 200 columns</p>\n",
       "</div>"
      ],
      "text/plain": [
       "                     X26  X303  X241  X435  X402  X352  X305  X350  X326  \\\n",
       "Time                                                                       \n",
       "2017-07-01 00:00:00  NaN   NaN   NaN   NaN   NaN   NaN   NaN   NaN   NaN   \n",
       "2017-07-01 01:00:00  NaN   NaN   NaN   NaN   NaN   NaN   NaN   NaN   NaN   \n",
       "2017-07-01 02:00:00  NaN   NaN   NaN   NaN   NaN   NaN   NaN   NaN   NaN   \n",
       "2017-07-01 03:00:00  NaN   NaN   NaN   NaN   NaN   NaN   NaN   NaN   NaN   \n",
       "2017-07-01 04:00:00  NaN   NaN   NaN   NaN   NaN   NaN   NaN   NaN   NaN   \n",
       "\n",
       "                     X299  ...  X283  X329  X223  X266  X20  X443  X347  \\\n",
       "Time                       ...                                            \n",
       "2017-07-01 00:00:00   NaN  ...   NaN   NaN   NaN   NaN  NaN   NaN   NaN   \n",
       "2017-07-01 01:00:00   NaN  ...   NaN   NaN   NaN   NaN  NaN   NaN   NaN   \n",
       "2017-07-01 02:00:00   NaN  ...   NaN   NaN   NaN   NaN  NaN   NaN   NaN   \n",
       "2017-07-01 03:00:00   NaN  ...   NaN   NaN   NaN   NaN  NaN   NaN   NaN   \n",
       "2017-07-01 04:00:00   NaN  ...   NaN   NaN   NaN   NaN  NaN   NaN   NaN   \n",
       "\n",
       "                          X75     X107  X230  \n",
       "Time                                          \n",
       "2017-07-01 00:00:00  0.275000  0.02100   NaN  \n",
       "2017-07-01 01:00:00  0.248500  0.02100   NaN  \n",
       "2017-07-01 02:00:00  0.244667  0.02100   NaN  \n",
       "2017-07-01 03:00:00  0.240750  0.02075   NaN  \n",
       "2017-07-01 04:00:00  0.233000  0.02080   NaN  \n",
       "\n",
       "[5 rows x 200 columns]"
      ]
     },
     "execution_count": 32,
     "metadata": {},
     "output_type": "execute_result"
    }
   ],
   "source": [
    "test.head()"
   ]
  },
  {
   "cell_type": "code",
   "execution_count": 33,
   "metadata": {},
   "outputs": [
    {
     "data": {
      "text/html": [
       "<div>\n",
       "<style scoped>\n",
       "    .dataframe tbody tr th:only-of-type {\n",
       "        vertical-align: middle;\n",
       "    }\n",
       "\n",
       "    .dataframe tbody tr th {\n",
       "        vertical-align: top;\n",
       "    }\n",
       "\n",
       "    .dataframe thead th {\n",
       "        text-align: right;\n",
       "    }\n",
       "</style>\n",
       "<table border=\"1\" class=\"dataframe\">\n",
       "  <thead>\n",
       "    <tr style=\"text-align: right;\">\n",
       "      <th></th>\n",
       "      <th>place_id</th>\n",
       "      <th>target</th>\n",
       "    </tr>\n",
       "    <tr>\n",
       "      <th>time</th>\n",
       "      <th></th>\n",
       "      <th></th>\n",
       "    </tr>\n",
       "  </thead>\n",
       "  <tbody>\n",
       "    <tr>\n",
       "      <td>2018-04-18 19:00:00</td>\n",
       "      <td>X26</td>\n",
       "      <td>2.52700</td>\n",
       "    </tr>\n",
       "    <tr>\n",
       "      <td>2018-04-18 20:00:00</td>\n",
       "      <td>X26</td>\n",
       "      <td>2.58400</td>\n",
       "    </tr>\n",
       "    <tr>\n",
       "      <td>2018-04-18 21:00:00</td>\n",
       "      <td>X26</td>\n",
       "      <td>2.51200</td>\n",
       "    </tr>\n",
       "    <tr>\n",
       "      <td>2018-04-18 22:00:00</td>\n",
       "      <td>X26</td>\n",
       "      <td>2.35875</td>\n",
       "    </tr>\n",
       "    <tr>\n",
       "      <td>2018-04-18 23:00:00</td>\n",
       "      <td>X26</td>\n",
       "      <td>2.27820</td>\n",
       "    </tr>\n",
       "  </tbody>\n",
       "</table>\n",
       "</div>"
      ],
      "text/plain": [
       "                    place_id   target\n",
       "time                                 \n",
       "2018-04-18 19:00:00      X26  2.52700\n",
       "2018-04-18 20:00:00      X26  2.58400\n",
       "2018-04-18 21:00:00      X26  2.51200\n",
       "2018-04-18 22:00:00      X26  2.35875\n",
       "2018-04-18 23:00:00      X26  2.27820"
      ]
     },
     "execution_count": 33,
     "metadata": {},
     "output_type": "execute_result"
    }
   ],
   "source": [
    "place_id=[]; time=[] ; target=[] # 빈 리스트를 생성합니다.\n",
    "for i in test.columns:\n",
    "    for j in range(len(test)):\n",
    "        place_id.append(i) # place_id에 미터 ID를 정리합니다.\n",
    "        time.append(test.index[j]) # time에 시간대를 정리합니다.\n",
    "        target.append(test[i].iloc[j]) # target에 전력량을 정리합니다.\n",
    "\n",
    "new_df=pd.DataFrame({'place_id':place_id,'time':time,'target':target})\n",
    "new_df=new_df.dropna() # 결측치를 제거합니다.\n",
    "new_df=new_df.set_index('time') # time을 인덱스로 저장합니다.\n",
    "new_df.head()"
   ]
  },
  {
   "cell_type": "code",
   "execution_count": 34,
   "metadata": {},
   "outputs": [
    {
     "data": {
      "text/plain": [
       "[(0, 0, 0),\n",
       " (0, 0, 1),\n",
       " (0, 1, 0),\n",
       " (0, 1, 1),\n",
       " (1, 0, 0),\n",
       " (1, 0, 1),\n",
       " (1, 1, 0),\n",
       " (1, 1, 1)]"
      ]
     },
     "execution_count": 34,
     "metadata": {},
     "output_type": "execute_result"
    }
   ],
   "source": [
    "import itertools\n",
    "p = d = q = range(0, 2)\n",
    "pdq = list(itertools.product(p, d, q))\n",
    "pdq"
   ]
  },
  {
   "cell_type": "code",
   "execution_count": 35,
   "metadata": {},
   "outputs": [],
   "source": [
    "def get_optimal_params(y):\n",
    "\n",
    "    param_dict = {}\n",
    "    for param in pdq:\n",
    "        try:\n",
    "            model = ARIMA(y, order=param)\n",
    "            results_ARIMA = model.fit(disp=-1)\n",
    "            param_dict[results_ARIMA.aic] = param\n",
    "        except:\n",
    "            continue\n",
    "\n",
    "    min_aic = min(param_dict.keys())\n",
    "    optimal_params = param_dict[min_aic]\n",
    "    return optimal_params"
   ]
  },
  {
   "cell_type": "code",
   "execution_count": 36,
   "metadata": {},
   "outputs": [
    {
     "name": "stderr",
     "output_type": "stream",
     "text": [
      "C:\\Anaconda3\\lib\\site-packages\\statsmodels\\base\\model.py:492: HessianInversionWarning: Inverting hessian failed, no bse or cov_params available\n",
      "  'available', HessianInversionWarning)\n"
     ]
    },
    {
     "name": "stdout",
     "output_type": "stream",
     "text": [
      "X26\n",
      "X303\n",
      "X241\n",
      "X435\n",
      "X402\n"
     ]
    },
    {
     "name": "stderr",
     "output_type": "stream",
     "text": [
      "C:\\Anaconda3\\lib\\site-packages\\statsmodels\\base\\model.py:512: ConvergenceWarning: Maximum Likelihood optimization failed to converge. Check mle_retvals\n",
      "  \"Check mle_retvals\", ConvergenceWarning)\n"
     ]
    },
    {
     "name": "stdout",
     "output_type": "stream",
     "text": [
      "X352\n",
      "X305\n",
      "X350\n"
     ]
    },
    {
     "name": "stderr",
     "output_type": "stream",
     "text": [
      "C:\\Anaconda3\\lib\\site-packages\\statsmodels\\base\\model.py:512: ConvergenceWarning: Maximum Likelihood optimization failed to converge. Check mle_retvals\n",
      "  \"Check mle_retvals\", ConvergenceWarning)\n",
      "C:\\Anaconda3\\lib\\site-packages\\statsmodels\\base\\model.py:512: ConvergenceWarning: Maximum Likelihood optimization failed to converge. Check mle_retvals\n",
      "  \"Check mle_retvals\", ConvergenceWarning)\n"
     ]
    },
    {
     "name": "stdout",
     "output_type": "stream",
     "text": [
      "X326\n",
      "X299\n",
      "X160\n",
      "X125\n",
      "X211\n"
     ]
    },
    {
     "name": "stderr",
     "output_type": "stream",
     "text": [
      "C:\\Anaconda3\\lib\\site-packages\\statsmodels\\base\\model.py:492: HessianInversionWarning: Inverting hessian failed, no bse or cov_params available\n",
      "  'available', HessianInversionWarning)\n"
     ]
    },
    {
     "name": "stdout",
     "output_type": "stream",
     "text": [
      "X349\n"
     ]
    },
    {
     "name": "stderr",
     "output_type": "stream",
     "text": [
      "C:\\Anaconda3\\lib\\site-packages\\statsmodels\\base\\model.py:512: ConvergenceWarning: Maximum Likelihood optimization failed to converge. Check mle_retvals\n",
      "  \"Check mle_retvals\", ConvergenceWarning)\n"
     ]
    },
    {
     "name": "stdout",
     "output_type": "stream",
     "text": [
      "X407\n",
      "X330\n",
      "X132\n"
     ]
    },
    {
     "name": "stderr",
     "output_type": "stream",
     "text": [
      "C:\\Anaconda3\\lib\\site-packages\\statsmodels\\base\\model.py:512: ConvergenceWarning: Maximum Likelihood optimization failed to converge. Check mle_retvals\n",
      "  \"Check mle_retvals\", ConvergenceWarning)\n"
     ]
    },
    {
     "name": "stdout",
     "output_type": "stream",
     "text": [
      "X231\n",
      "X225\n"
     ]
    },
    {
     "name": "stderr",
     "output_type": "stream",
     "text": [
      "C:\\Anaconda3\\lib\\site-packages\\statsmodels\\base\\model.py:492: HessianInversionWarning: Inverting hessian failed, no bse or cov_params available\n",
      "  'available', HessianInversionWarning)\n",
      "C:\\Anaconda3\\lib\\site-packages\\statsmodels\\base\\model.py:492: HessianInversionWarning: Inverting hessian failed, no bse or cov_params available\n",
      "  'available', HessianInversionWarning)\n",
      "C:\\Anaconda3\\lib\\site-packages\\statsmodels\\base\\model.py:492: HessianInversionWarning: Inverting hessian failed, no bse or cov_params available\n",
      "  'available', HessianInversionWarning)\n"
     ]
    },
    {
     "name": "stdout",
     "output_type": "stream",
     "text": [
      "X16\n",
      "X286\n",
      "X354\n",
      "X353\n",
      "X76\n",
      "X255\n",
      "X106\n",
      "X393\n",
      "X157\n",
      "X323\n",
      "X130\n",
      "X269\n",
      "X94\n",
      "X172\n",
      "X289\n",
      "X216\n",
      "X123\n",
      "X398\n",
      "X233\n",
      "X214\n",
      "X270\n",
      "X371\n",
      "X200\n"
     ]
    },
    {
     "name": "stderr",
     "output_type": "stream",
     "text": [
      "C:\\Anaconda3\\lib\\site-packages\\statsmodels\\base\\model.py:512: ConvergenceWarning: Maximum Likelihood optimization failed to converge. Check mle_retvals\n",
      "  \"Check mle_retvals\", ConvergenceWarning)\n"
     ]
    },
    {
     "name": "stdout",
     "output_type": "stream",
     "text": [
      "X111\n",
      "X163\n",
      "X364\n",
      "X378\n",
      "X271\n",
      "X462\n",
      "X427\n",
      "X73\n"
     ]
    },
    {
     "name": "stderr",
     "output_type": "stream",
     "text": [
      "C:\\Anaconda3\\lib\\site-packages\\statsmodels\\base\\model.py:492: HessianInversionWarning: Inverting hessian failed, no bse or cov_params available\n",
      "  'available', HessianInversionWarning)\n",
      "C:\\Anaconda3\\lib\\site-packages\\statsmodels\\base\\model.py:492: HessianInversionWarning: Inverting hessian failed, no bse or cov_params available\n",
      "  'available', HessianInversionWarning)\n",
      "C:\\Anaconda3\\lib\\site-packages\\statsmodels\\base\\model.py:492: HessianInversionWarning: Inverting hessian failed, no bse or cov_params available\n",
      "  'available', HessianInversionWarning)\n"
     ]
    },
    {
     "name": "stdout",
     "output_type": "stream",
     "text": [
      "X7\n",
      "X263\n",
      "X450\n"
     ]
    },
    {
     "name": "stderr",
     "output_type": "stream",
     "text": [
      "C:\\Anaconda3\\lib\\site-packages\\statsmodels\\base\\model.py:492: HessianInversionWarning: Inverting hessian failed, no bse or cov_params available\n",
      "  'available', HessianInversionWarning)\n"
     ]
    },
    {
     "name": "stdout",
     "output_type": "stream",
     "text": [
      "X18\n",
      "X206\n",
      "X133\n",
      "X41\n"
     ]
    },
    {
     "name": "stderr",
     "output_type": "stream",
     "text": [
      "C:\\Anaconda3\\lib\\site-packages\\statsmodels\\base\\model.py:512: ConvergenceWarning: Maximum Likelihood optimization failed to converge. Check mle_retvals\n",
      "  \"Check mle_retvals\", ConvergenceWarning)\n"
     ]
    },
    {
     "name": "stdout",
     "output_type": "stream",
     "text": [
      "X195\n",
      "X155\n"
     ]
    },
    {
     "name": "stderr",
     "output_type": "stream",
     "text": [
      "C:\\Anaconda3\\lib\\site-packages\\statsmodels\\base\\model.py:492: HessianInversionWarning: Inverting hessian failed, no bse or cov_params available\n",
      "  'available', HessianInversionWarning)\n"
     ]
    },
    {
     "name": "stdout",
     "output_type": "stream",
     "text": [
      "X134\n",
      "X297\n",
      "X175\n",
      "X254\n",
      "X196\n"
     ]
    },
    {
     "name": "stderr",
     "output_type": "stream",
     "text": [
      "C:\\Anaconda3\\lib\\site-packages\\statsmodels\\base\\model.py:492: HessianInversionWarning: Inverting hessian failed, no bse or cov_params available\n",
      "  'available', HessianInversionWarning)\n"
     ]
    },
    {
     "name": "stdout",
     "output_type": "stream",
     "text": [
      "X481\n"
     ]
    },
    {
     "name": "stderr",
     "output_type": "stream",
     "text": [
      "C:\\Anaconda3\\lib\\site-packages\\statsmodels\\base\\model.py:512: ConvergenceWarning: Maximum Likelihood optimization failed to converge. Check mle_retvals\n",
      "  \"Check mle_retvals\", ConvergenceWarning)\n"
     ]
    },
    {
     "name": "stdout",
     "output_type": "stream",
     "text": [
      "X412\n",
      "X337\n",
      "X406\n",
      "X67\n",
      "X414\n"
     ]
    },
    {
     "name": "stderr",
     "output_type": "stream",
     "text": [
      "C:\\Anaconda3\\lib\\site-packages\\statsmodels\\base\\model.py:492: HessianInversionWarning: Inverting hessian failed, no bse or cov_params available\n",
      "  'available', HessianInversionWarning)\n"
     ]
    },
    {
     "name": "stdout",
     "output_type": "stream",
     "text": [
      "X55\n",
      "X91\n",
      "X260\n",
      "X252\n"
     ]
    },
    {
     "name": "stderr",
     "output_type": "stream",
     "text": [
      "C:\\Anaconda3\\lib\\site-packages\\statsmodels\\base\\model.py:492: HessianInversionWarning: Inverting hessian failed, no bse or cov_params available\n",
      "  'available', HessianInversionWarning)\n",
      "C:\\Anaconda3\\lib\\site-packages\\statsmodels\\base\\model.py:492: HessianInversionWarning: Inverting hessian failed, no bse or cov_params available\n",
      "  'available', HessianInversionWarning)\n",
      "C:\\Anaconda3\\lib\\site-packages\\statsmodels\\base\\model.py:492: HessianInversionWarning: Inverting hessian failed, no bse or cov_params available\n",
      "  'available', HessianInversionWarning)\n"
     ]
    },
    {
     "name": "stdout",
     "output_type": "stream",
     "text": [
      "X5\n",
      "X455\n",
      "X43\n",
      "X320\n",
      "X276\n"
     ]
    },
    {
     "name": "stderr",
     "output_type": "stream",
     "text": [
      "C:\\Anaconda3\\lib\\site-packages\\statsmodels\\base\\model.py:512: ConvergenceWarning: Maximum Likelihood optimization failed to converge. Check mle_retvals\n",
      "  \"Check mle_retvals\", ConvergenceWarning)\n"
     ]
    },
    {
     "name": "stdout",
     "output_type": "stream",
     "text": [
      "X423\n",
      "X218\n",
      "X399\n",
      "X213\n"
     ]
    },
    {
     "name": "stderr",
     "output_type": "stream",
     "text": [
      "C:\\Anaconda3\\lib\\site-packages\\statsmodels\\base\\model.py:492: HessianInversionWarning: Inverting hessian failed, no bse or cov_params available\n",
      "  'available', HessianInversionWarning)\n"
     ]
    },
    {
     "name": "stdout",
     "output_type": "stream",
     "text": [
      "X379\n",
      "X468\n",
      "X253\n"
     ]
    },
    {
     "name": "stderr",
     "output_type": "stream",
     "text": [
      "C:\\Anaconda3\\lib\\site-packages\\statsmodels\\base\\model.py:512: ConvergenceWarning: Maximum Likelihood optimization failed to converge. Check mle_retvals\n",
      "  \"Check mle_retvals\", ConvergenceWarning)\n"
     ]
    },
    {
     "name": "stdout",
     "output_type": "stream",
     "text": [
      "X247\n",
      "X262\n",
      "X248\n"
     ]
    },
    {
     "name": "stderr",
     "output_type": "stream",
     "text": [
      "C:\\Anaconda3\\lib\\site-packages\\statsmodels\\base\\model.py:512: ConvergenceWarning: Maximum Likelihood optimization failed to converge. Check mle_retvals\n",
      "  \"Check mle_retvals\", ConvergenceWarning)\n",
      "C:\\Anaconda3\\lib\\site-packages\\statsmodels\\base\\model.py:512: ConvergenceWarning: Maximum Likelihood optimization failed to converge. Check mle_retvals\n",
      "  \"Check mle_retvals\", ConvergenceWarning)\n"
     ]
    },
    {
     "name": "stdout",
     "output_type": "stream",
     "text": [
      "X357\n",
      "X215\n",
      "X177\n",
      "X228\n",
      "X59\n",
      "X10\n",
      "X187\n",
      "X245\n",
      "X87\n",
      "X242\n",
      "X376\n",
      "X166\n",
      "X472\n",
      "X275\n",
      "X126\n",
      "X120\n",
      "X313\n",
      "X201\n",
      "X110\n",
      "X408\n",
      "X62\n"
     ]
    },
    {
     "name": "stderr",
     "output_type": "stream",
     "text": [
      "C:\\Anaconda3\\lib\\site-packages\\statsmodels\\base\\model.py:512: ConvergenceWarning: Maximum Likelihood optimization failed to converge. Check mle_retvals\n",
      "  \"Check mle_retvals\", ConvergenceWarning)\n"
     ]
    },
    {
     "name": "stdout",
     "output_type": "stream",
     "text": [
      "X419\n",
      "X460\n"
     ]
    },
    {
     "name": "stderr",
     "output_type": "stream",
     "text": [
      "C:\\Anaconda3\\lib\\site-packages\\statsmodels\\base\\model.py:512: ConvergenceWarning: Maximum Likelihood optimization failed to converge. Check mle_retvals\n",
      "  \"Check mle_retvals\", ConvergenceWarning)\n"
     ]
    },
    {
     "name": "stdout",
     "output_type": "stream",
     "text": [
      "X367\n"
     ]
    },
    {
     "name": "stderr",
     "output_type": "stream",
     "text": [
      "C:\\Anaconda3\\lib\\site-packages\\statsmodels\\base\\model.py:512: ConvergenceWarning: Maximum Likelihood optimization failed to converge. Check mle_retvals\n",
      "  \"Check mle_retvals\", ConvergenceWarning)\n"
     ]
    },
    {
     "name": "stdout",
     "output_type": "stream",
     "text": [
      "X143\n",
      "X312\n",
      "X410\n",
      "X389\n",
      "X300\n",
      "X61\n",
      "X470\n",
      "X445\n",
      "X158\n"
     ]
    },
    {
     "name": "stderr",
     "output_type": "stream",
     "text": [
      "C:\\Anaconda3\\lib\\site-packages\\statsmodels\\base\\model.py:512: ConvergenceWarning: Maximum Likelihood optimization failed to converge. Check mle_retvals\n",
      "  \"Check mle_retvals\", ConvergenceWarning)\n"
     ]
    },
    {
     "name": "stdout",
     "output_type": "stream",
     "text": [
      "X421\n",
      "X105\n"
     ]
    },
    {
     "name": "stderr",
     "output_type": "stream",
     "text": [
      "C:\\Anaconda3\\lib\\site-packages\\statsmodels\\base\\model.py:492: HessianInversionWarning: Inverting hessian failed, no bse or cov_params available\n",
      "  'available', HessianInversionWarning)\n",
      "C:\\Anaconda3\\lib\\site-packages\\statsmodels\\base\\model.py:492: HessianInversionWarning: Inverting hessian failed, no bse or cov_params available\n",
      "  'available', HessianInversionWarning)\n"
     ]
    },
    {
     "name": "stdout",
     "output_type": "stream",
     "text": [
      "X32\n",
      "X178\n",
      "X308\n",
      "X217\n",
      "X229\n",
      "X358\n"
     ]
    },
    {
     "name": "stderr",
     "output_type": "stream",
     "text": [
      "C:\\Anaconda3\\lib\\site-packages\\statsmodels\\base\\model.py:492: HessianInversionWarning: Inverting hessian failed, no bse or cov_params available\n",
      "  'available', HessianInversionWarning)\n",
      "C:\\Anaconda3\\lib\\site-packages\\statsmodels\\base\\model.py:492: HessianInversionWarning: Inverting hessian failed, no bse or cov_params available\n",
      "  'available', HessianInversionWarning)\n"
     ]
    },
    {
     "name": "stdout",
     "output_type": "stream",
     "text": [
      "X31\n",
      "X148\n",
      "X397\n",
      "X363\n"
     ]
    },
    {
     "name": "stderr",
     "output_type": "stream",
     "text": [
      "C:\\Anaconda3\\lib\\site-packages\\statsmodels\\base\\model.py:512: ConvergenceWarning: Maximum Likelihood optimization failed to converge. Check mle_retvals\n",
      "  \"Check mle_retvals\", ConvergenceWarning)\n"
     ]
    },
    {
     "name": "stdout",
     "output_type": "stream",
     "text": [
      "X165\n"
     ]
    },
    {
     "name": "stderr",
     "output_type": "stream",
     "text": [
      "C:\\Anaconda3\\lib\\site-packages\\statsmodels\\base\\model.py:492: HessianInversionWarning: Inverting hessian failed, no bse or cov_params available\n",
      "  'available', HessianInversionWarning)\n"
     ]
    },
    {
     "name": "stdout",
     "output_type": "stream",
     "text": [
      "X30\n",
      "X88\n",
      "X296\n",
      "X219\n",
      "X116\n",
      "X68\n",
      "X431\n",
      "X302\n",
      "X314\n"
     ]
    },
    {
     "name": "stderr",
     "output_type": "stream",
     "text": [
      "C:\\Anaconda3\\lib\\site-packages\\statsmodels\\base\\model.py:512: ConvergenceWarning: Maximum Likelihood optimization failed to converge. Check mle_retvals\n",
      "  \"Check mle_retvals\", ConvergenceWarning)\n"
     ]
    },
    {
     "name": "stdout",
     "output_type": "stream",
     "text": [
      "X124\n",
      "X405\n",
      "X315\n"
     ]
    },
    {
     "name": "stderr",
     "output_type": "stream",
     "text": [
      "C:\\Anaconda3\\lib\\site-packages\\statsmodels\\base\\model.py:492: HessianInversionWarning: Inverting hessian failed, no bse or cov_params available\n",
      "  'available', HessianInversionWarning)\n"
     ]
    },
    {
     "name": "stdout",
     "output_type": "stream",
     "text": [
      "X51\n",
      "X176\n",
      "X396\n",
      "X449\n"
     ]
    },
    {
     "name": "stderr",
     "output_type": "stream",
     "text": [
      "C:\\Anaconda3\\lib\\site-packages\\statsmodels\\base\\model.py:512: ConvergenceWarning: Maximum Likelihood optimization failed to converge. Check mle_retvals\n",
      "  \"Check mle_retvals\", ConvergenceWarning)\n",
      "C:\\Anaconda3\\lib\\site-packages\\statsmodels\\base\\model.py:512: ConvergenceWarning: Maximum Likelihood optimization failed to converge. Check mle_retvals\n",
      "  \"Check mle_retvals\", ConvergenceWarning)\n"
     ]
    },
    {
     "name": "stdout",
     "output_type": "stream",
     "text": [
      "X383\n",
      "X473\n",
      "X205\n"
     ]
    },
    {
     "name": "stderr",
     "output_type": "stream",
     "text": [
      "C:\\Anaconda3\\lib\\site-packages\\statsmodels\\base\\model.py:512: ConvergenceWarning: Maximum Likelihood optimization failed to converge. Check mle_retvals\n",
      "  \"Check mle_retvals\", ConvergenceWarning)\n",
      "C:\\Anaconda3\\lib\\site-packages\\statsmodels\\base\\model.py:512: ConvergenceWarning: Maximum Likelihood optimization failed to converge. Check mle_retvals\n",
      "  \"Check mle_retvals\", ConvergenceWarning)\n",
      "C:\\Anaconda3\\lib\\site-packages\\statsmodels\\base\\model.py:492: HessianInversionWarning: Inverting hessian failed, no bse or cov_params available\n",
      "  'available', HessianInversionWarning)\n"
     ]
    },
    {
     "name": "stdout",
     "output_type": "stream",
     "text": [
      "X35\n",
      "X161\n",
      "X403\n",
      "X341\n",
      "X149\n",
      "X82\n",
      "X377\n",
      "X232\n",
      "X333\n"
     ]
    },
    {
     "name": "stderr",
     "output_type": "stream",
     "text": [
      "C:\\Anaconda3\\lib\\site-packages\\statsmodels\\base\\model.py:512: ConvergenceWarning: Maximum Likelihood optimization failed to converge. Check mle_retvals\n",
      "  \"Check mle_retvals\", ConvergenceWarning)\n"
     ]
    },
    {
     "name": "stdout",
     "output_type": "stream",
     "text": [
      "X140\n",
      "X44\n"
     ]
    },
    {
     "name": "stderr",
     "output_type": "stream",
     "text": [
      "C:\\Anaconda3\\lib\\site-packages\\statsmodels\\base\\model.py:492: HessianInversionWarning: Inverting hessian failed, no bse or cov_params available\n",
      "  'available', HessianInversionWarning)\n",
      "C:\\Anaconda3\\lib\\site-packages\\statsmodels\\base\\model.py:492: HessianInversionWarning: Inverting hessian failed, no bse or cov_params available\n",
      "  'available', HessianInversionWarning)\n"
     ]
    },
    {
     "name": "stdout",
     "output_type": "stream",
     "text": [
      "X37\n"
     ]
    },
    {
     "name": "stderr",
     "output_type": "stream",
     "text": [
      "C:\\Anaconda3\\lib\\site-packages\\statsmodels\\base\\model.py:492: HessianInversionWarning: Inverting hessian failed, no bse or cov_params available\n",
      "  'available', HessianInversionWarning)\n",
      "C:\\Anaconda3\\lib\\site-packages\\statsmodels\\base\\model.py:492: HessianInversionWarning: Inverting hessian failed, no bse or cov_params available\n",
      "  'available', HessianInversionWarning)\n",
      "C:\\Anaconda3\\lib\\site-packages\\statsmodels\\base\\model.py:492: HessianInversionWarning: Inverting hessian failed, no bse or cov_params available\n",
      "  'available', HessianInversionWarning)\n"
     ]
    },
    {
     "name": "stdout",
     "output_type": "stream",
     "text": [
      "X42\n"
     ]
    },
    {
     "name": "stderr",
     "output_type": "stream",
     "text": [
      "C:\\Anaconda3\\lib\\site-packages\\statsmodels\\base\\model.py:512: ConvergenceWarning: Maximum Likelihood optimization failed to converge. Check mle_retvals\n",
      "  \"Check mle_retvals\", ConvergenceWarning)\n"
     ]
    },
    {
     "name": "stdout",
     "output_type": "stream",
     "text": [
      "X422\n"
     ]
    },
    {
     "name": "stderr",
     "output_type": "stream",
     "text": [
      "C:\\Anaconda3\\lib\\site-packages\\statsmodels\\base\\model.py:512: ConvergenceWarning: Maximum Likelihood optimization failed to converge. Check mle_retvals\n",
      "  \"Check mle_retvals\", ConvergenceWarning)\n"
     ]
    },
    {
     "name": "stdout",
     "output_type": "stream",
     "text": [
      "X50\n",
      "X386\n",
      "X80\n",
      "X250\n",
      "X142\n",
      "X235\n",
      "X446\n",
      "X331\n",
      "X102\n",
      "X186\n",
      "X243\n",
      "X194\n",
      "X183\n",
      "X139\n",
      "X459\n",
      "X457\n",
      "X70\n",
      "X368\n",
      "X282\n",
      "X426\n",
      "X47\n",
      "X192\n",
      "X283\n"
     ]
    },
    {
     "name": "stderr",
     "output_type": "stream",
     "text": [
      "C:\\Anaconda3\\lib\\site-packages\\statsmodels\\base\\model.py:512: ConvergenceWarning: Maximum Likelihood optimization failed to converge. Check mle_retvals\n",
      "  \"Check mle_retvals\", ConvergenceWarning)\n"
     ]
    },
    {
     "name": "stdout",
     "output_type": "stream",
     "text": [
      "X329\n",
      "X223\n",
      "X266\n"
     ]
    },
    {
     "name": "stderr",
     "output_type": "stream",
     "text": [
      "C:\\Anaconda3\\lib\\site-packages\\statsmodels\\base\\model.py:492: HessianInversionWarning: Inverting hessian failed, no bse or cov_params available\n",
      "  'available', HessianInversionWarning)\n",
      "C:\\Anaconda3\\lib\\site-packages\\statsmodels\\base\\model.py:492: HessianInversionWarning: Inverting hessian failed, no bse or cov_params available\n",
      "  'available', HessianInversionWarning)\n"
     ]
    },
    {
     "name": "stdout",
     "output_type": "stream",
     "text": [
      "X20\n",
      "X443\n",
      "X347\n",
      "X75\n",
      "X107\n",
      "X230\n",
      "---- Modeling Done ----\n"
     ]
    }
   ],
   "source": [
    "agg={}\n",
    "for key in new_df['place_id'].unique(): # 미터ID 200개의 리스트를 unique()함수를 통해 추출합니다.\n",
    "    temp = new_df.loc[new_df['place_id']==key] # 미터ID 하나를 할당합니다.\n",
    "    temp_1h=temp.resample('1h').sum() # 1시간 단위로 정리합니다.\n",
    "    temp_1day=temp.resample('D').sum() # 1일 단위로 정리합니다.\n",
    "\n",
    "    # 시간별 예측\n",
    "    model = ARIMA(temp_1h['target'], order=get_optimal_params(temp_1h['target'])) # AIC를 최소화하는 최적의 파라미터로 모델링합니다.\n",
    "    results_ARIMA = model.fit(disp=-1)\n",
    "    fcst = results_ARIMA.forecast(24) # 24시간을 예측합니다.\n",
    "\n",
    "    a = pd.DataFrame() # a라는 데이터프레임에 예측값을 정리합니다.\n",
    "    \n",
    "    for i in range(24):\n",
    "        a['X2018_7_1_'+str(i+1)+'h']=[fcst[0][i]] # column명을 submission 형태에 맞게 지정합니다.\n",
    "\n",
    "        \n",
    "    # 일별 예측\n",
    "    model = ARIMA(temp_1day['target'], order=get_optimal_params(temp_1day['target'])) # AIC를 최소화하는 최적의 파라미터로 모델링합니다.\n",
    "    results_ARIMA = model.fit(disp=-1)\n",
    "    fcst = results_ARIMA.forecast(10) # 10일을 예측합니다.\n",
    "\n",
    "    for i in range(10):\n",
    "        a['X2018_7_'+str(i+1)+'_d']=[fcst[0][i]] # column명을 submission 형태에 맞게 지정합니다.\n",
    "    \n",
    "    \n",
    "    # 월별 예측\n",
    "    # 일별로 예측하여 7월 ~ 11월의 일 수에 맞게 나누어 합산합니다.\n",
    "    fcst = results_ARIMA.forecast(153)\n",
    "    a['X2018_7_m'] = [np.sum(fcst[0][:31])] # 7월 \n",
    "    a['X2018_8_m'] = [np.sum(fcst[0][31:62])] # 8월\n",
    "    a['X2018_9_m'] = [np.sum(fcst[0][62:92])] # 9월\n",
    "    a['X2018_10_m'] = [np.sum(fcst[0][92:123])] # 10월\n",
    "    a['X2018_11_m'] = [np.sum(fcst[0][123:153])] # 11월\n",
    "    \n",
    "    a['meter_id'] = key \n",
    "    agg[key] = a[submission.columns.tolist()]\n",
    "    print(key)\n",
    "print('---- Modeling Done ----')"
   ]
  },
  {
   "cell_type": "code",
   "execution_count": 37,
   "metadata": {},
   "outputs": [],
   "source": [
    "output3 = pd.concat(agg, ignore_index=False)\n",
    "output4 = output3.reset_index().drop(['level_0','level_1'], axis=1)\n",
    "output4['id'] = output4['meter_id'].str.replace('X','').astype(int)\n",
    "output4 =  output4.sort_values(by='id', ascending=True).drop(['id'], axis=1).reset_index(drop=True)\n",
    "output4.to_csv('D:/workspace/DACON_2019/SUHYUN/output/test/NA_DACON_method_r48_mean_ARIMA.csv', index=False)"
   ]
  },
  {
   "cell_type": "code",
   "execution_count": 38,
   "metadata": {},
   "outputs": [
    {
     "data": {
      "text/html": [
       "<div>\n",
       "<style scoped>\n",
       "    .dataframe tbody tr th:only-of-type {\n",
       "        vertical-align: middle;\n",
       "    }\n",
       "\n",
       "    .dataframe tbody tr th {\n",
       "        vertical-align: top;\n",
       "    }\n",
       "\n",
       "    .dataframe thead th {\n",
       "        text-align: right;\n",
       "    }\n",
       "</style>\n",
       "<table border=\"1\" class=\"dataframe\">\n",
       "  <thead>\n",
       "    <tr style=\"text-align: right;\">\n",
       "      <th></th>\n",
       "      <th>meter_id</th>\n",
       "      <th>X2018_7_1_1h</th>\n",
       "      <th>X2018_7_1_2h</th>\n",
       "      <th>X2018_7_1_3h</th>\n",
       "      <th>X2018_7_1_4h</th>\n",
       "      <th>X2018_7_1_5h</th>\n",
       "      <th>X2018_7_1_6h</th>\n",
       "      <th>X2018_7_1_7h</th>\n",
       "      <th>X2018_7_1_8h</th>\n",
       "      <th>X2018_7_1_9h</th>\n",
       "      <th>...</th>\n",
       "      <th>X2018_7_6_d</th>\n",
       "      <th>X2018_7_7_d</th>\n",
       "      <th>X2018_7_8_d</th>\n",
       "      <th>X2018_7_9_d</th>\n",
       "      <th>X2018_7_10_d</th>\n",
       "      <th>X2018_7_m</th>\n",
       "      <th>X2018_8_m</th>\n",
       "      <th>X2018_9_m</th>\n",
       "      <th>X2018_10_m</th>\n",
       "      <th>X2018_11_m</th>\n",
       "    </tr>\n",
       "  </thead>\n",
       "  <tbody>\n",
       "    <tr>\n",
       "      <td>0</td>\n",
       "      <td>X5</td>\n",
       "      <td>6.412657</td>\n",
       "      <td>6.420777</td>\n",
       "      <td>6.425877</td>\n",
       "      <td>6.429190</td>\n",
       "      <td>6.431443</td>\n",
       "      <td>6.433070</td>\n",
       "      <td>6.434325</td>\n",
       "      <td>6.435360</td>\n",
       "      <td>6.436266</td>\n",
       "      <td>...</td>\n",
       "      <td>160.577478</td>\n",
       "      <td>162.275613</td>\n",
       "      <td>163.973748</td>\n",
       "      <td>165.671883</td>\n",
       "      <td>167.370018</td>\n",
       "      <td>5504.323706</td>\n",
       "      <td>7136.231595</td>\n",
       "      <td>8459.824247</td>\n",
       "      <td>10347.405182</td>\n",
       "      <td>11567.411589</td>\n",
       "    </tr>\n",
       "    <tr>\n",
       "      <td>1</td>\n",
       "      <td>X7</td>\n",
       "      <td>2.132067</td>\n",
       "      <td>2.131349</td>\n",
       "      <td>2.130759</td>\n",
       "      <td>2.130279</td>\n",
       "      <td>2.129891</td>\n",
       "      <td>2.129584</td>\n",
       "      <td>2.129343</td>\n",
       "      <td>2.129160</td>\n",
       "      <td>2.129026</td>\n",
       "      <td>...</td>\n",
       "      <td>62.073966</td>\n",
       "      <td>63.434107</td>\n",
       "      <td>64.771126</td>\n",
       "      <td>66.097536</td>\n",
       "      <td>67.419077</td>\n",
       "      <td>2327.965351</td>\n",
       "      <td>3601.173532</td>\n",
       "      <td>4690.440280</td>\n",
       "      <td>6092.403047</td>\n",
       "      <td>7101.307553</td>\n",
       "    </tr>\n",
       "    <tr>\n",
       "      <td>2</td>\n",
       "      <td>X10</td>\n",
       "      <td>4.718981</td>\n",
       "      <td>4.716739</td>\n",
       "      <td>4.715346</td>\n",
       "      <td>4.714612</td>\n",
       "      <td>4.714392</td>\n",
       "      <td>4.714571</td>\n",
       "      <td>4.715061</td>\n",
       "      <td>4.715792</td>\n",
       "      <td>4.716711</td>\n",
       "      <td>...</td>\n",
       "      <td>133.355785</td>\n",
       "      <td>135.613550</td>\n",
       "      <td>137.866717</td>\n",
       "      <td>140.118654</td>\n",
       "      <td>142.370261</td>\n",
       "      <td>4823.756020</td>\n",
       "      <td>6995.934111</td>\n",
       "      <td>8830.368686</td>\n",
       "      <td>11253.494508</td>\n",
       "      <td>12950.588425</td>\n",
       "    </tr>\n",
       "    <tr>\n",
       "      <td>3</td>\n",
       "      <td>X16</td>\n",
       "      <td>5.285298</td>\n",
       "      <td>5.288478</td>\n",
       "      <td>5.290728</td>\n",
       "      <td>5.292478</td>\n",
       "      <td>5.293957</td>\n",
       "      <td>5.295290</td>\n",
       "      <td>5.296545</td>\n",
       "      <td>5.297757</td>\n",
       "      <td>5.298946</td>\n",
       "      <td>...</td>\n",
       "      <td>139.876167</td>\n",
       "      <td>142.039438</td>\n",
       "      <td>144.202710</td>\n",
       "      <td>146.365981</td>\n",
       "      <td>148.529253</td>\n",
       "      <td>5006.775333</td>\n",
       "      <td>7085.679262</td>\n",
       "      <td>8836.502402</td>\n",
       "      <td>11176.425702</td>\n",
       "      <td>12795.289279</td>\n",
       "    </tr>\n",
       "    <tr>\n",
       "      <td>4</td>\n",
       "      <td>X18</td>\n",
       "      <td>2.638968</td>\n",
       "      <td>2.638332</td>\n",
       "      <td>2.637785</td>\n",
       "      <td>2.637319</td>\n",
       "      <td>2.636924</td>\n",
       "      <td>2.636591</td>\n",
       "      <td>2.636312</td>\n",
       "      <td>2.636082</td>\n",
       "      <td>2.635894</td>\n",
       "      <td>...</td>\n",
       "      <td>65.944913</td>\n",
       "      <td>66.615690</td>\n",
       "      <td>67.286467</td>\n",
       "      <td>67.957245</td>\n",
       "      <td>68.628022</td>\n",
       "      <td>2252.233226</td>\n",
       "      <td>2896.850085</td>\n",
       "      <td>3417.164418</td>\n",
       "      <td>4165.289712</td>\n",
       "      <td>4644.686637</td>\n",
       "    </tr>\n",
       "  </tbody>\n",
       "</table>\n",
       "<p>5 rows × 40 columns</p>\n",
       "</div>"
      ],
      "text/plain": [
       "  meter_id  X2018_7_1_1h  X2018_7_1_2h  X2018_7_1_3h  X2018_7_1_4h  \\\n",
       "0       X5      6.412657      6.420777      6.425877      6.429190   \n",
       "1       X7      2.132067      2.131349      2.130759      2.130279   \n",
       "2      X10      4.718981      4.716739      4.715346      4.714612   \n",
       "3      X16      5.285298      5.288478      5.290728      5.292478   \n",
       "4      X18      2.638968      2.638332      2.637785      2.637319   \n",
       "\n",
       "   X2018_7_1_5h  X2018_7_1_6h  X2018_7_1_7h  X2018_7_1_8h  X2018_7_1_9h  ...  \\\n",
       "0      6.431443      6.433070      6.434325      6.435360      6.436266  ...   \n",
       "1      2.129891      2.129584      2.129343      2.129160      2.129026  ...   \n",
       "2      4.714392      4.714571      4.715061      4.715792      4.716711  ...   \n",
       "3      5.293957      5.295290      5.296545      5.297757      5.298946  ...   \n",
       "4      2.636924      2.636591      2.636312      2.636082      2.635894  ...   \n",
       "\n",
       "   X2018_7_6_d  X2018_7_7_d  X2018_7_8_d  X2018_7_9_d  X2018_7_10_d  \\\n",
       "0   160.577478   162.275613   163.973748   165.671883    167.370018   \n",
       "1    62.073966    63.434107    64.771126    66.097536     67.419077   \n",
       "2   133.355785   135.613550   137.866717   140.118654    142.370261   \n",
       "3   139.876167   142.039438   144.202710   146.365981    148.529253   \n",
       "4    65.944913    66.615690    67.286467    67.957245     68.628022   \n",
       "\n",
       "     X2018_7_m    X2018_8_m    X2018_9_m    X2018_10_m    X2018_11_m  \n",
       "0  5504.323706  7136.231595  8459.824247  10347.405182  11567.411589  \n",
       "1  2327.965351  3601.173532  4690.440280   6092.403047   7101.307553  \n",
       "2  4823.756020  6995.934111  8830.368686  11253.494508  12950.588425  \n",
       "3  5006.775333  7085.679262  8836.502402  11176.425702  12795.289279  \n",
       "4  2252.233226  2896.850085  3417.164418   4165.289712   4644.686637  \n",
       "\n",
       "[5 rows x 40 columns]"
      ]
     },
     "execution_count": 38,
     "metadata": {},
     "output_type": "execute_result"
    }
   ],
   "source": [
    "output4.head()"
   ]
  },
  {
   "cell_type": "code",
   "execution_count": null,
   "metadata": {},
   "outputs": [],
   "source": []
  },
  {
   "cell_type": "code",
   "execution_count": null,
   "metadata": {},
   "outputs": [],
   "source": []
  }
 ],
 "metadata": {
  "kernelspec": {
   "display_name": "Python 3",
   "language": "python",
   "name": "python3"
  },
  "language_info": {
   "codemirror_mode": {
    "name": "ipython",
    "version": 3
   },
   "file_extension": ".py",
   "mimetype": "text/x-python",
   "name": "python",
   "nbconvert_exporter": "python",
   "pygments_lexer": "ipython3",
   "version": "3.7.3"
  }
 },
 "nbformat": 4,
 "nbformat_minor": 2
}
