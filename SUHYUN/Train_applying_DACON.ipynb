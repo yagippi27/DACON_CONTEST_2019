{
 "cells": [
  {
   "cell_type": "code",
   "execution_count": 1,
   "metadata": {},
   "outputs": [],
   "source": [
    "import pandas as pd # 데이터 전처리\n",
    "import numpy as np # 데이터 전처리\n",
    "import matplotlib.pyplot as plt # 데이터 시각화\n",
    "\n",
    "from datetime import datetime, timedelta # 시간 데이터 처리\n",
    "from statsmodels.tsa.arima_model import ARIMA # ARIMA 모델\n",
    "%matplotlib inline"
   ]
  },
  {
   "cell_type": "code",
   "execution_count": 2,
   "metadata": {},
   "outputs": [],
   "source": [
    "train = pd.read_csv(\"./DACON_DATASET/train.csv\")\n",
    "submission = pd.read_csv(\"./DACON_DATASET/submission_1002.csv\")\n",
    "\n",
    "train['Time'] = pd.to_datetime(train['Time']) \n",
    "train = train.set_index('Time')"
   ]
  },
  {
   "cell_type": "code",
   "execution_count": 4,
   "metadata": {},
   "outputs": [
    {
     "data": {
      "text/html": [
       "<div>\n",
       "<style scoped>\n",
       "    .dataframe tbody tr th:only-of-type {\n",
       "        vertical-align: middle;\n",
       "    }\n",
       "\n",
       "    .dataframe tbody tr th {\n",
       "        vertical-align: top;\n",
       "    }\n",
       "\n",
       "    .dataframe thead th {\n",
       "        text-align: right;\n",
       "    }\n",
       "</style>\n",
       "<table border=\"1\" class=\"dataframe\">\n",
       "  <thead>\n",
       "    <tr style=\"text-align: right;\">\n",
       "      <th></th>\n",
       "      <th>X692</th>\n",
       "      <th>X1272</th>\n",
       "      <th>X553</th>\n",
       "      <th>X1299</th>\n",
       "      <th>X4</th>\n",
       "      <th>X598</th>\n",
       "      <th>X1003</th>\n",
       "      <th>X1010</th>\n",
       "      <th>X1216</th>\n",
       "      <th>X1047</th>\n",
       "      <th>...</th>\n",
       "      <th>X1164</th>\n",
       "      <th>X656</th>\n",
       "      <th>X1287</th>\n",
       "      <th>X324</th>\n",
       "      <th>X767</th>\n",
       "      <th>X1271</th>\n",
       "      <th>X1288</th>\n",
       "      <th>X58</th>\n",
       "      <th>X1033</th>\n",
       "      <th>X1163</th>\n",
       "    </tr>\n",
       "    <tr>\n",
       "      <th>Time</th>\n",
       "      <th></th>\n",
       "      <th></th>\n",
       "      <th></th>\n",
       "      <th></th>\n",
       "      <th></th>\n",
       "      <th></th>\n",
       "      <th></th>\n",
       "      <th></th>\n",
       "      <th></th>\n",
       "      <th></th>\n",
       "      <th></th>\n",
       "      <th></th>\n",
       "      <th></th>\n",
       "      <th></th>\n",
       "      <th></th>\n",
       "      <th></th>\n",
       "      <th></th>\n",
       "      <th></th>\n",
       "      <th></th>\n",
       "      <th></th>\n",
       "      <th></th>\n",
       "    </tr>\n",
       "  </thead>\n",
       "  <tbody>\n",
       "    <tr>\n",
       "      <th>2016-07-26 11:00:00</th>\n",
       "      <td>NaN</td>\n",
       "      <td>NaN</td>\n",
       "      <td>NaN</td>\n",
       "      <td>NaN</td>\n",
       "      <td>NaN</td>\n",
       "      <td>NaN</td>\n",
       "      <td>NaN</td>\n",
       "      <td>NaN</td>\n",
       "      <td>NaN</td>\n",
       "      <td>NaN</td>\n",
       "      <td>...</td>\n",
       "      <td>NaN</td>\n",
       "      <td>NaN</td>\n",
       "      <td>NaN</td>\n",
       "      <td>NaN</td>\n",
       "      <td>NaN</td>\n",
       "      <td>NaN</td>\n",
       "      <td>NaN</td>\n",
       "      <td>NaN</td>\n",
       "      <td>NaN</td>\n",
       "      <td>NaN</td>\n",
       "    </tr>\n",
       "    <tr>\n",
       "      <th>2016-07-26 12:00:00</th>\n",
       "      <td>NaN</td>\n",
       "      <td>NaN</td>\n",
       "      <td>NaN</td>\n",
       "      <td>NaN</td>\n",
       "      <td>NaN</td>\n",
       "      <td>NaN</td>\n",
       "      <td>NaN</td>\n",
       "      <td>NaN</td>\n",
       "      <td>NaN</td>\n",
       "      <td>NaN</td>\n",
       "      <td>...</td>\n",
       "      <td>NaN</td>\n",
       "      <td>NaN</td>\n",
       "      <td>NaN</td>\n",
       "      <td>NaN</td>\n",
       "      <td>NaN</td>\n",
       "      <td>NaN</td>\n",
       "      <td>NaN</td>\n",
       "      <td>NaN</td>\n",
       "      <td>NaN</td>\n",
       "      <td>NaN</td>\n",
       "    </tr>\n",
       "    <tr>\n",
       "      <th>2016-07-26 13:00:00</th>\n",
       "      <td>NaN</td>\n",
       "      <td>NaN</td>\n",
       "      <td>NaN</td>\n",
       "      <td>NaN</td>\n",
       "      <td>NaN</td>\n",
       "      <td>NaN</td>\n",
       "      <td>NaN</td>\n",
       "      <td>NaN</td>\n",
       "      <td>NaN</td>\n",
       "      <td>NaN</td>\n",
       "      <td>...</td>\n",
       "      <td>NaN</td>\n",
       "      <td>NaN</td>\n",
       "      <td>NaN</td>\n",
       "      <td>NaN</td>\n",
       "      <td>NaN</td>\n",
       "      <td>NaN</td>\n",
       "      <td>NaN</td>\n",
       "      <td>NaN</td>\n",
       "      <td>NaN</td>\n",
       "      <td>NaN</td>\n",
       "    </tr>\n",
       "    <tr>\n",
       "      <th>2016-07-26 14:00:00</th>\n",
       "      <td>NaN</td>\n",
       "      <td>NaN</td>\n",
       "      <td>NaN</td>\n",
       "      <td>NaN</td>\n",
       "      <td>NaN</td>\n",
       "      <td>NaN</td>\n",
       "      <td>NaN</td>\n",
       "      <td>NaN</td>\n",
       "      <td>NaN</td>\n",
       "      <td>NaN</td>\n",
       "      <td>...</td>\n",
       "      <td>NaN</td>\n",
       "      <td>NaN</td>\n",
       "      <td>NaN</td>\n",
       "      <td>NaN</td>\n",
       "      <td>NaN</td>\n",
       "      <td>NaN</td>\n",
       "      <td>NaN</td>\n",
       "      <td>NaN</td>\n",
       "      <td>NaN</td>\n",
       "      <td>NaN</td>\n",
       "    </tr>\n",
       "    <tr>\n",
       "      <th>2016-07-26 15:00:00</th>\n",
       "      <td>NaN</td>\n",
       "      <td>NaN</td>\n",
       "      <td>NaN</td>\n",
       "      <td>NaN</td>\n",
       "      <td>NaN</td>\n",
       "      <td>NaN</td>\n",
       "      <td>NaN</td>\n",
       "      <td>NaN</td>\n",
       "      <td>NaN</td>\n",
       "      <td>NaN</td>\n",
       "      <td>...</td>\n",
       "      <td>NaN</td>\n",
       "      <td>NaN</td>\n",
       "      <td>NaN</td>\n",
       "      <td>NaN</td>\n",
       "      <td>NaN</td>\n",
       "      <td>NaN</td>\n",
       "      <td>NaN</td>\n",
       "      <td>NaN</td>\n",
       "      <td>NaN</td>\n",
       "      <td>NaN</td>\n",
       "    </tr>\n",
       "  </tbody>\n",
       "</table>\n",
       "<p>5 rows × 1300 columns</p>\n",
       "</div>"
      ],
      "text/plain": [
       "                     X692  X1272  X553  X1299  X4  X598  X1003  X1010  X1216  \\\n",
       "Time                                                                           \n",
       "2016-07-26 11:00:00   NaN    NaN   NaN    NaN NaN   NaN    NaN    NaN    NaN   \n",
       "2016-07-26 12:00:00   NaN    NaN   NaN    NaN NaN   NaN    NaN    NaN    NaN   \n",
       "2016-07-26 13:00:00   NaN    NaN   NaN    NaN NaN   NaN    NaN    NaN    NaN   \n",
       "2016-07-26 14:00:00   NaN    NaN   NaN    NaN NaN   NaN    NaN    NaN    NaN   \n",
       "2016-07-26 15:00:00   NaN    NaN   NaN    NaN NaN   NaN    NaN    NaN    NaN   \n",
       "\n",
       "                     X1047  ...  X1164  X656  X1287  X324  X767  X1271  X1288  \\\n",
       "Time                        ...                                                 \n",
       "2016-07-26 11:00:00    NaN  ...    NaN   NaN    NaN   NaN   NaN    NaN    NaN   \n",
       "2016-07-26 12:00:00    NaN  ...    NaN   NaN    NaN   NaN   NaN    NaN    NaN   \n",
       "2016-07-26 13:00:00    NaN  ...    NaN   NaN    NaN   NaN   NaN    NaN    NaN   \n",
       "2016-07-26 14:00:00    NaN  ...    NaN   NaN    NaN   NaN   NaN    NaN    NaN   \n",
       "2016-07-26 15:00:00    NaN  ...    NaN   NaN    NaN   NaN   NaN    NaN    NaN   \n",
       "\n",
       "                     X58  X1033  X1163  \n",
       "Time                                    \n",
       "2016-07-26 11:00:00  NaN    NaN    NaN  \n",
       "2016-07-26 12:00:00  NaN    NaN    NaN  \n",
       "2016-07-26 13:00:00  NaN    NaN    NaN  \n",
       "2016-07-26 14:00:00  NaN    NaN    NaN  \n",
       "2016-07-26 15:00:00  NaN    NaN    NaN  \n",
       "\n",
       "[5 rows x 1300 columns]"
      ]
     },
     "execution_count": 4,
     "metadata": {},
     "output_type": "execute_result"
    }
   ],
   "source": [
    "train.head()"
   ]
  },
  {
   "cell_type": "code",
   "execution_count": 9,
   "metadata": {},
   "outputs": [
    {
     "data": {
      "text/html": [
       "<div>\n",
       "<style scoped>\n",
       "    .dataframe tbody tr th:only-of-type {\n",
       "        vertical-align: middle;\n",
       "    }\n",
       "\n",
       "    .dataframe tbody tr th {\n",
       "        vertical-align: top;\n",
       "    }\n",
       "\n",
       "    .dataframe thead th {\n",
       "        text-align: right;\n",
       "    }\n",
       "</style>\n",
       "<table border=\"1\" class=\"dataframe\">\n",
       "  <thead>\n",
       "    <tr style=\"text-align: right;\">\n",
       "      <th></th>\n",
       "      <th>place_id</th>\n",
       "      <th>target</th>\n",
       "    </tr>\n",
       "    <tr>\n",
       "      <th>time</th>\n",
       "      <th></th>\n",
       "      <th></th>\n",
       "    </tr>\n",
       "  </thead>\n",
       "  <tbody>\n",
       "    <tr>\n",
       "      <th>2018-02-15 00:00:00</th>\n",
       "      <td>X692</td>\n",
       "      <td>0.150</td>\n",
       "    </tr>\n",
       "    <tr>\n",
       "      <th>2018-02-15 01:00:00</th>\n",
       "      <td>X692</td>\n",
       "      <td>0.422</td>\n",
       "    </tr>\n",
       "    <tr>\n",
       "      <th>2018-02-15 02:00:00</th>\n",
       "      <td>X692</td>\n",
       "      <td>0.314</td>\n",
       "    </tr>\n",
       "    <tr>\n",
       "      <th>2018-02-15 03:00:00</th>\n",
       "      <td>X692</td>\n",
       "      <td>0.309</td>\n",
       "    </tr>\n",
       "    <tr>\n",
       "      <th>2018-02-15 04:00:00</th>\n",
       "      <td>X692</td>\n",
       "      <td>0.327</td>\n",
       "    </tr>\n",
       "  </tbody>\n",
       "</table>\n",
       "</div>"
      ],
      "text/plain": [
       "                    place_id  target\n",
       "time                                \n",
       "2018-02-15 00:00:00     X692   0.150\n",
       "2018-02-15 01:00:00     X692   0.422\n",
       "2018-02-15 02:00:00     X692   0.314\n",
       "2018-02-15 03:00:00     X692   0.309\n",
       "2018-02-15 04:00:00     X692   0.327"
      ]
     },
     "execution_count": 9,
     "metadata": {},
     "output_type": "execute_result"
    }
   ],
   "source": [
    "place_id=[]; time=[] ; target=[] # 빈 리스트를 생성합니다.\n",
    "for i in train.columns:\n",
    "    for j in range(len(train)):\n",
    "        place_id.append(i) # place_id에 미터 ID를 정리합니다.\n",
    "        time.append(train.index[j]) # time에 시간대를 정리합니다.\n",
    "        target.append(train[i].iloc[j]) # target에 전력량을 정리합니다.\n",
    "\n",
    "new_df=pd.DataFrame({'place_id':place_id,'time':time,'target':target})\n",
    "new_df=new_df.dropna() # 결측치를 제거합니다.\n",
    "new_df=new_df.set_index('time') # time을 인덱스로 저장합니다.\n",
    "new_df.head()"
   ]
  },
  {
   "cell_type": "code",
   "execution_count": 15,
   "metadata": {},
   "outputs": [
    {
     "data": {
      "text/plain": [
       "[(0, 0, 0),\n",
       " (0, 0, 1),\n",
       " (0, 1, 0),\n",
       " (0, 1, 1),\n",
       " (1, 0, 0),\n",
       " (1, 0, 1),\n",
       " (1, 1, 0),\n",
       " (1, 1, 1)]"
      ]
     },
     "execution_count": 15,
     "metadata": {},
     "output_type": "execute_result"
    }
   ],
   "source": [
    "import itertools\n",
    "p = d = q = range(0, 2)\n",
    "pdq = list(itertools.product(p, d, q))\n",
    "pdq"
   ]
  },
  {
   "cell_type": "code",
   "execution_count": 18,
   "metadata": {},
   "outputs": [],
   "source": [
    "def get_optimal_params(y):\n",
    "\n",
    "    param_dict = {}\n",
    "    for param in pdq:\n",
    "        try:\n",
    "            model = ARIMA(y, order=param)\n",
    "            results_ARIMA = model.fit(disp=-1)\n",
    "            param_dict[results_ARIMA.aic] = param\n",
    "        except:\n",
    "            continue\n",
    "\n",
    "    min_aic = min(param_dict.keys())\n",
    "    optimal_params = param_dict[min_aic]\n",
    "    return optimal_params"
   ]
  },
  {
   "cell_type": "code",
   "execution_count": 19,
   "metadata": {},
   "outputs": [
    {
     "name": "stdout",
     "output_type": "stream",
     "text": [
      "X692\n",
      "X1272\n",
      "X553\n",
      "X1299\n",
      "X598\n",
      "X1003\n"
     ]
    },
    {
     "name": "stderr",
     "output_type": "stream",
     "text": [
      "C:\\Anaconda3\\lib\\site-packages\\statsmodels\\base\\model.py:512: ConvergenceWarning: Maximum Likelihood optimization failed to converge. Check mle_retvals\n",
      "  \"Check mle_retvals\", ConvergenceWarning)\n"
     ]
    },
    {
     "name": "stdout",
     "output_type": "stream",
     "text": [
      "X1010\n",
      "X1216\n",
      "X1047\n",
      "X381\n",
      "X466\n",
      "X1420\n"
     ]
    },
    {
     "name": "stderr",
     "output_type": "stream",
     "text": [
      "C:\\Anaconda3\\lib\\site-packages\\statsmodels\\base\\model.py:512: ConvergenceWarning: Maximum Likelihood optimization failed to converge. Check mle_retvals\n",
      "  \"Check mle_retvals\", ConvergenceWarning)\n"
     ]
    },
    {
     "name": "stdout",
     "output_type": "stream",
     "text": [
      "X686\n",
      "X711\n",
      "X1251\n",
      "X828\n",
      "X1350\n",
      "X1066\n"
     ]
    },
    {
     "name": "stderr",
     "output_type": "stream",
     "text": [
      "C:\\Anaconda3\\lib\\site-packages\\statsmodels\\base\\model.py:512: ConvergenceWarning: Maximum Likelihood optimization failed to converge. Check mle_retvals\n",
      "  \"Check mle_retvals\", ConvergenceWarning)\n",
      "C:\\Anaconda3\\lib\\site-packages\\statsmodels\\base\\model.py:512: ConvergenceWarning: Maximum Likelihood optimization failed to converge. Check mle_retvals\n",
      "  \"Check mle_retvals\", ConvergenceWarning)\n"
     ]
    },
    {
     "name": "stdout",
     "output_type": "stream",
     "text": [
      "X1293\n",
      "X1148\n",
      "X451\n",
      "X174\n",
      "X74\n",
      "X626\n",
      "X1083\n",
      "X1000\n",
      "X632\n",
      "X1380\n",
      "X607\n",
      "X680\n",
      "X977\n",
      "X492\n",
      "X968\n",
      "X891\n",
      "X122\n",
      "X489\n",
      "X86\n",
      "X392\n",
      "X1007\n",
      "X549\n",
      "X1343\n",
      "X437\n",
      "X551\n",
      "X287\n",
      "X138\n",
      "X339\n"
     ]
    },
    {
     "name": "stderr",
     "output_type": "stream",
     "text": [
      "C:\\Anaconda3\\lib\\site-packages\\statsmodels\\base\\model.py:512: ConvergenceWarning: Maximum Likelihood optimization failed to converge. Check mle_retvals\n",
      "  \"Check mle_retvals\", ConvergenceWarning)\n"
     ]
    },
    {
     "name": "stdout",
     "output_type": "stream",
     "text": [
      "X1210\n",
      "X127\n",
      "X644\n",
      "X1472\n"
     ]
    },
    {
     "name": "stderr",
     "output_type": "stream",
     "text": [
      "C:\\Anaconda3\\lib\\site-packages\\statsmodels\\base\\model.py:512: ConvergenceWarning: Maximum Likelihood optimization failed to converge. Check mle_retvals\n",
      "  \"Check mle_retvals\", ConvergenceWarning)\n"
     ]
    },
    {
     "name": "stdout",
     "output_type": "stream",
     "text": [
      "X604\n"
     ]
    },
    {
     "name": "stderr",
     "output_type": "stream",
     "text": [
      "C:\\Anaconda3\\lib\\site-packages\\statsmodels\\base\\model.py:512: ConvergenceWarning: Maximum Likelihood optimization failed to converge. Check mle_retvals\n",
      "  \"Check mle_retvals\", ConvergenceWarning)\n"
     ]
    },
    {
     "name": "stdout",
     "output_type": "stream",
     "text": [
      "X1356\n",
      "X173\n",
      "X1399\n",
      "X859\n",
      "X281\n",
      "X514\n",
      "X345\n",
      "X997\n",
      "X657\n",
      "X1495\n"
     ]
    },
    {
     "name": "stderr",
     "output_type": "stream",
     "text": [
      "C:\\Anaconda3\\lib\\site-packages\\statsmodels\\base\\model.py:512: ConvergenceWarning: Maximum Likelihood optimization failed to converge. Check mle_retvals\n",
      "  \"Check mle_retvals\", ConvergenceWarning)\n"
     ]
    },
    {
     "name": "stdout",
     "output_type": "stream",
     "text": [
      "X9\n",
      "X894\n",
      "X577\n",
      "X1178\n",
      "X81\n",
      "X853\n",
      "X1455\n",
      "X494\n",
      "X759\n"
     ]
    },
    {
     "name": "stderr",
     "output_type": "stream",
     "text": [
      "C:\\Anaconda3\\lib\\site-packages\\statsmodels\\base\\model.py:512: ConvergenceWarning: Maximum Likelihood optimization failed to converge. Check mle_retvals\n",
      "  \"Check mle_retvals\", ConvergenceWarning)\n"
     ]
    },
    {
     "name": "stdout",
     "output_type": "stream",
     "text": [
      "X1471\n"
     ]
    },
    {
     "name": "stderr",
     "output_type": "stream",
     "text": [
      "C:\\Anaconda3\\lib\\site-packages\\statsmodels\\base\\model.py:512: ConvergenceWarning: Maximum Likelihood optimization failed to converge. Check mle_retvals\n",
      "  \"Check mle_retvals\", ConvergenceWarning)\n"
     ]
    },
    {
     "name": "stdout",
     "output_type": "stream",
     "text": [
      "X1263\n",
      "X96\n",
      "X631\n",
      "X1050\n"
     ]
    },
    {
     "name": "stderr",
     "output_type": "stream",
     "text": [
      "C:\\Anaconda3\\lib\\site-packages\\statsmodels\\base\\model.py:512: ConvergenceWarning: Maximum Likelihood optimization failed to converge. Check mle_retvals\n",
      "  \"Check mle_retvals\", ConvergenceWarning)\n"
     ]
    },
    {
     "name": "stdout",
     "output_type": "stream",
     "text": [
      "X137\n",
      "X659\n"
     ]
    },
    {
     "name": "stderr",
     "output_type": "stream",
     "text": [
      "C:\\Anaconda3\\lib\\site-packages\\statsmodels\\base\\model.py:512: ConvergenceWarning: Maximum Likelihood optimization failed to converge. Check mle_retvals\n",
      "  \"Check mle_retvals\", ConvergenceWarning)\n"
     ]
    },
    {
     "name": "stdout",
     "output_type": "stream",
     "text": [
      "X565\n",
      "X995\n",
      "X1145\n",
      "X683\n",
      "X953\n",
      "X1309\n",
      "X1493\n",
      "X701\n",
      "X1499\n",
      "X1146\n",
      "X1408\n",
      "X615\n",
      "X866\n",
      "X1364\n",
      "X1218\n",
      "X1333\n",
      "X1445\n",
      "X79\n",
      "X327\n",
      "X1362\n",
      "X743\n",
      "X899\n"
     ]
    },
    {
     "name": "stderr",
     "output_type": "stream",
     "text": [
      "C:\\Anaconda3\\lib\\site-packages\\statsmodels\\base\\model.py:512: ConvergenceWarning: Maximum Likelihood optimization failed to converge. Check mle_retvals\n",
      "  \"Check mle_retvals\", ConvergenceWarning)\n"
     ]
    },
    {
     "name": "stdout",
     "output_type": "stream",
     "text": [
      "X1111\n",
      "X528\n",
      "X1371\n",
      "X851\n",
      "X1274\n",
      "X1005\n",
      "X1057\n",
      "X209\n",
      "X1363\n",
      "X491\n",
      "X164\n",
      "X803\n",
      "X277\n",
      "X774\n",
      "X288\n",
      "X388\n",
      "X924\n",
      "X495\n",
      "X1132\n",
      "X261\n",
      "X1336\n",
      "X1429\n",
      "X749\n",
      "X929\n"
     ]
    },
    {
     "name": "stderr",
     "output_type": "stream",
     "text": [
      "C:\\Anaconda3\\lib\\site-packages\\statsmodels\\base\\model.py:512: ConvergenceWarning: Maximum Likelihood optimization failed to converge. Check mle_retvals\n",
      "  \"Check mle_retvals\", ConvergenceWarning)\n"
     ]
    },
    {
     "name": "stdout",
     "output_type": "stream",
     "text": [
      "X833\n",
      "X885\n",
      "X1107\n",
      "X1228\n",
      "X1258\n"
     ]
    },
    {
     "name": "stderr",
     "output_type": "stream",
     "text": [
      "C:\\Anaconda3\\lib\\site-packages\\statsmodels\\base\\model.py:512: ConvergenceWarning: Maximum Likelihood optimization failed to converge. Check mle_retvals\n",
      "  \"Check mle_retvals\", ConvergenceWarning)\n"
     ]
    },
    {
     "name": "stdout",
     "output_type": "stream",
     "text": [
      "X1261\n"
     ]
    },
    {
     "name": "stderr",
     "output_type": "stream",
     "text": [
      "C:\\Anaconda3\\lib\\site-packages\\statsmodels\\base\\model.py:512: ConvergenceWarning: Maximum Likelihood optimization failed to converge. Check mle_retvals\n",
      "  \"Check mle_retvals\", ConvergenceWarning)\n"
     ]
    },
    {
     "name": "stdout",
     "output_type": "stream",
     "text": [
      "X622\n",
      "X104\n",
      "X981\n",
      "X824\n"
     ]
    },
    {
     "name": "stderr",
     "output_type": "stream",
     "text": [
      "C:\\Anaconda3\\lib\\site-packages\\statsmodels\\base\\model.py:512: ConvergenceWarning: Maximum Likelihood optimization failed to converge. Check mle_retvals\n",
      "  \"Check mle_retvals\", ConvergenceWarning)\n"
     ]
    },
    {
     "name": "stdout",
     "output_type": "stream",
     "text": [
      "X424\n",
      "X765\n",
      "X1002\n"
     ]
    },
    {
     "name": "stderr",
     "output_type": "stream",
     "text": [
      "C:\\Anaconda3\\lib\\site-packages\\statsmodels\\base\\model.py:492: HessianInversionWarning: Inverting hessian failed, no bse or cov_params available\n",
      "  'available', HessianInversionWarning)\n"
     ]
    },
    {
     "name": "stdout",
     "output_type": "stream",
     "text": [
      "X1014\n",
      "X1342\n",
      "X1346\n",
      "X902\n"
     ]
    },
    {
     "name": "stderr",
     "output_type": "stream",
     "text": [
      "C:\\Anaconda3\\lib\\site-packages\\statsmodels\\base\\model.py:512: ConvergenceWarning: Maximum Likelihood optimization failed to converge. Check mle_retvals\n",
      "  \"Check mle_retvals\", ConvergenceWarning)\n",
      "C:\\Anaconda3\\lib\\site-packages\\statsmodels\\base\\model.py:512: ConvergenceWarning: Maximum Likelihood optimization failed to converge. Check mle_retvals\n",
      "  \"Check mle_retvals\", ConvergenceWarning)\n"
     ]
    },
    {
     "name": "stdout",
     "output_type": "stream",
     "text": [
      "X1486\n",
      "X413\n"
     ]
    },
    {
     "name": "stderr",
     "output_type": "stream",
     "text": [
      "C:\\Anaconda3\\lib\\site-packages\\statsmodels\\base\\model.py:512: ConvergenceWarning: Maximum Likelihood optimization failed to converge. Check mle_retvals\n",
      "  \"Check mle_retvals\", ConvergenceWarning)\n"
     ]
    },
    {
     "name": "stdout",
     "output_type": "stream",
     "text": [
      "X928\n",
      "X1303\n",
      "X600\n",
      "X674\n",
      "X608\n",
      "X220\n"
     ]
    },
    {
     "name": "stderr",
     "output_type": "stream",
     "text": [
      "C:\\Anaconda3\\lib\\site-packages\\statsmodels\\base\\model.py:512: ConvergenceWarning: Maximum Likelihood optimization failed to converge. Check mle_retvals\n",
      "  \"Check mle_retvals\", ConvergenceWarning)\n"
     ]
    },
    {
     "name": "stdout",
     "output_type": "stream",
     "text": [
      "X1378\n",
      "X733\n",
      "X227\n",
      "X1130\n",
      "X1256\n",
      "X202\n",
      "X384\n",
      "X1129\n",
      "X1447\n",
      "X1352\n",
      "X516\n",
      "X1269\n",
      "X845\n",
      "X646\n",
      "X725\n",
      "X1094\n",
      "X790\n",
      "X65\n",
      "X990\n",
      "X988\n",
      "X369\n",
      "X906\n",
      "X208\n",
      "X1474\n",
      "X54\n",
      "X818\n",
      "X643\n",
      "X1187\n",
      "X797\n",
      "X306\n",
      "X321\n",
      "X203\n",
      "X1401\n",
      "X365\n",
      "X432\n"
     ]
    },
    {
     "name": "stderr",
     "output_type": "stream",
     "text": [
      "C:\\Anaconda3\\lib\\site-packages\\statsmodels\\base\\model.py:512: ConvergenceWarning: Maximum Likelihood optimization failed to converge. Check mle_retvals\n",
      "  \"Check mle_retvals\", ConvergenceWarning)\n"
     ]
    },
    {
     "name": "stdout",
     "output_type": "stream",
     "text": [
      "X1207\n",
      "X789\n",
      "X555\n",
      "X904\n",
      "X285\n",
      "X1253\n",
      "X1383\n",
      "X860\n",
      "X295\n",
      "X1031\n",
      "X1232\n",
      "X258\n",
      "X13\n",
      "X267\n",
      "X951\n",
      "X965\n",
      "X772\n",
      "X886\n",
      "X593\n",
      "X1121\n",
      "X1171\n"
     ]
    },
    {
     "name": "stderr",
     "output_type": "stream",
     "text": [
      "C:\\Anaconda3\\lib\\site-packages\\statsmodels\\base\\model.py:512: ConvergenceWarning: Maximum Likelihood optimization failed to converge. Check mle_retvals\n",
      "  \"Check mle_retvals\", ConvergenceWarning)\n"
     ]
    },
    {
     "name": "stdout",
     "output_type": "stream",
     "text": [
      "X888\n",
      "X1332\n",
      "X690\n",
      "X1087\n",
      "X1213\n",
      "X665\n",
      "X795\n",
      "X430\n",
      "X484\n",
      "X114\n",
      "X1296\n",
      "X843\n",
      "X280\n"
     ]
    },
    {
     "name": "stderr",
     "output_type": "stream",
     "text": [
      "C:\\Anaconda3\\lib\\site-packages\\statsmodels\\base\\model.py:512: ConvergenceWarning: Maximum Likelihood optimization failed to converge. Check mle_retvals\n",
      "  \"Check mle_retvals\", ConvergenceWarning)\n"
     ]
    },
    {
     "name": "stdout",
     "output_type": "stream",
     "text": [
      "X1158\n",
      "X1090\n",
      "X355\n",
      "X290\n",
      "X930\n",
      "X978\n",
      "X961\n",
      "X439\n",
      "X728\n",
      "X103\n",
      "X518\n",
      "X1108\n"
     ]
    },
    {
     "name": "stderr",
     "output_type": "stream",
     "text": [
      "C:\\Anaconda3\\lib\\site-packages\\statsmodels\\base\\model.py:512: ConvergenceWarning: Maximum Likelihood optimization failed to converge. Check mle_retvals\n",
      "  \"Check mle_retvals\", ConvergenceWarning)\n"
     ]
    },
    {
     "name": "stdout",
     "output_type": "stream",
     "text": [
      "X1221\n",
      "X831\n",
      "X53\n",
      "X973\n"
     ]
    },
    {
     "name": "stderr",
     "output_type": "stream",
     "text": [
      "C:\\Anaconda3\\lib\\site-packages\\statsmodels\\base\\model.py:512: ConvergenceWarning: Maximum Likelihood optimization failed to converge. Check mle_retvals\n",
      "  \"Check mle_retvals\", ConvergenceWarning)\n"
     ]
    },
    {
     "name": "stdout",
     "output_type": "stream",
     "text": [
      "X1436\n"
     ]
    },
    {
     "name": "stderr",
     "output_type": "stream",
     "text": [
      "C:\\Anaconda3\\lib\\site-packages\\statsmodels\\base\\model.py:512: ConvergenceWarning: Maximum Likelihood optimization failed to converge. Check mle_retvals\n",
      "  \"Check mle_retvals\", ConvergenceWarning)\n"
     ]
    },
    {
     "name": "stdout",
     "output_type": "stream",
     "text": [
      "X796\n"
     ]
    },
    {
     "name": "stderr",
     "output_type": "stream",
     "text": [
      "C:\\Anaconda3\\lib\\site-packages\\statsmodels\\base\\model.py:512: ConvergenceWarning: Maximum Likelihood optimization failed to converge. Check mle_retvals\n",
      "  \"Check mle_retvals\", ConvergenceWarning)\n"
     ]
    },
    {
     "name": "stdout",
     "output_type": "stream",
     "text": [
      "X1161\n",
      "X69\n",
      "X1082\n",
      "X1240\n",
      "X1181\n",
      "X895\n",
      "X1285\n",
      "X1112\n",
      "X136\n",
      "X535\n",
      "X1043\n",
      "X1282\n",
      "X922\n",
      "X1255\n",
      "X1311\n",
      "X128\n",
      "X1097\n",
      "X1131\n",
      "X1088\n",
      "X226\n"
     ]
    },
    {
     "name": "stderr",
     "output_type": "stream",
     "text": [
      "C:\\Anaconda3\\lib\\site-packages\\statsmodels\\base\\model.py:512: ConvergenceWarning: Maximum Likelihood optimization failed to converge. Check mle_retvals\n",
      "  \"Check mle_retvals\", ConvergenceWarning)\n"
     ]
    },
    {
     "name": "stdout",
     "output_type": "stream",
     "text": [
      "X1428\n",
      "X1006\n",
      "X864\n",
      "X571\n",
      "X1465\n",
      "X989\n",
      "X1068\n",
      "X592\n",
      "X664\n"
     ]
    },
    {
     "name": "stderr",
     "output_type": "stream",
     "text": [
      "C:\\Anaconda3\\lib\\site-packages\\statsmodels\\base\\model.py:512: ConvergenceWarning: Maximum Likelihood optimization failed to converge. Check mle_retvals\n",
      "  \"Check mle_retvals\", ConvergenceWarning)\n"
     ]
    },
    {
     "name": "stdout",
     "output_type": "stream",
     "text": [
      "X1075\n"
     ]
    },
    {
     "name": "stderr",
     "output_type": "stream",
     "text": [
      "C:\\Anaconda3\\lib\\site-packages\\statsmodels\\base\\model.py:512: ConvergenceWarning: Maximum Likelihood optimization failed to converge. Check mle_retvals\n",
      "  \"Check mle_retvals\", ConvergenceWarning)\n"
     ]
    },
    {
     "name": "stdout",
     "output_type": "stream",
     "text": [
      "X1078\n",
      "X509\n",
      "X1224\n",
      "X346\n",
      "X1011\n",
      "X633\n",
      "X325\n",
      "X1229\n",
      "X1061\n",
      "X770\n",
      "X1120\n",
      "X1478\n",
      "X1018\n",
      "X1415\n",
      "X1191\n"
     ]
    },
    {
     "name": "stderr",
     "output_type": "stream",
     "text": [
      "C:\\Anaconda3\\lib\\site-packages\\statsmodels\\base\\model.py:512: ConvergenceWarning: Maximum Likelihood optimization failed to converge. Check mle_retvals\n",
      "  \"Check mle_retvals\", ConvergenceWarning)\n"
     ]
    },
    {
     "name": "stdout",
     "output_type": "stream",
     "text": [
      "X945\n",
      "X77\n",
      "X703\n",
      "X557\n",
      "X1160\n"
     ]
    },
    {
     "name": "stderr",
     "output_type": "stream",
     "text": [
      "C:\\Anaconda3\\lib\\site-packages\\statsmodels\\base\\model.py:492: HessianInversionWarning: Inverting hessian failed, no bse or cov_params available\n",
      "  'available', HessianInversionWarning)\n",
      "C:\\Anaconda3\\lib\\site-packages\\statsmodels\\base\\model.py:512: ConvergenceWarning: Maximum Likelihood optimization failed to converge. Check mle_retvals\n",
      "  \"Check mle_retvals\", ConvergenceWarning)\n",
      "C:\\Anaconda3\\lib\\site-packages\\statsmodels\\base\\model.py:492: HessianInversionWarning: Inverting hessian failed, no bse or cov_params available\n",
      "  'available', HessianInversionWarning)\n",
      "C:\\Anaconda3\\lib\\site-packages\\statsmodels\\base\\model.py:512: ConvergenceWarning: Maximum Likelihood optimization failed to converge. Check mle_retvals\n",
      "  \"Check mle_retvals\", ConvergenceWarning)\n"
     ]
    },
    {
     "name": "stdout",
     "output_type": "stream",
     "text": [
      "X1276\n",
      "X560\n",
      "X1396\n",
      "X1426\n",
      "X966\n",
      "X1012\n",
      "X471\n",
      "X179\n",
      "X17\n",
      "X1139\n",
      "X1142\n",
      "X800\n",
      "X279\n",
      "X1144\n"
     ]
    },
    {
     "name": "stderr",
     "output_type": "stream",
     "text": [
      "C:\\Anaconda3\\lib\\site-packages\\statsmodels\\base\\model.py:512: ConvergenceWarning: Maximum Likelihood optimization failed to converge. Check mle_retvals\n",
      "  \"Check mle_retvals\", ConvergenceWarning)\n"
     ]
    },
    {
     "name": "stdout",
     "output_type": "stream",
     "text": [
      "X1316\n",
      "X741\n",
      "X732\n",
      "X750\n",
      "X1027\n",
      "X476\n",
      "X1026\n",
      "X677\n",
      "X1266\n"
     ]
    },
    {
     "name": "stderr",
     "output_type": "stream",
     "text": [
      "C:\\Anaconda3\\lib\\site-packages\\statsmodels\\base\\model.py:512: ConvergenceWarning: Maximum Likelihood optimization failed to converge. Check mle_retvals\n",
      "  \"Check mle_retvals\", ConvergenceWarning)\n"
     ]
    },
    {
     "name": "stdout",
     "output_type": "stream",
     "text": [
      "X756\n",
      "X746\n",
      "X259\n",
      "X877\n",
      "X1234\n",
      "X298\n",
      "X537\n"
     ]
    },
    {
     "name": "stderr",
     "output_type": "stream",
     "text": [
      "C:\\Anaconda3\\lib\\site-packages\\statsmodels\\base\\model.py:512: ConvergenceWarning: Maximum Likelihood optimization failed to converge. Check mle_retvals\n",
      "  \"Check mle_retvals\", ConvergenceWarning)\n"
     ]
    },
    {
     "name": "stdout",
     "output_type": "stream",
     "text": [
      "X1093\n",
      "X1141\n",
      "X506\n",
      "X975\n",
      "X1246\n",
      "X1190\n",
      "X361\n",
      "X14\n",
      "X48\n",
      "X1414\n",
      "X391\n",
      "X348\n"
     ]
    },
    {
     "name": "stderr",
     "output_type": "stream",
     "text": [
      "C:\\Anaconda3\\lib\\site-packages\\statsmodels\\base\\model.py:512: ConvergenceWarning: Maximum Likelihood optimization failed to converge. Check mle_retvals\n",
      "  \"Check mle_retvals\", ConvergenceWarning)\n"
     ]
    },
    {
     "name": "stdout",
     "output_type": "stream",
     "text": [
      "X1236\n",
      "X99\n",
      "X1168\n",
      "X1159\n",
      "X1184\n",
      "X775\n",
      "X390\n",
      "X724\n",
      "X2\n"
     ]
    },
    {
     "name": "stderr",
     "output_type": "stream",
     "text": [
      "C:\\Anaconda3\\lib\\site-packages\\statsmodels\\base\\model.py:512: ConvergenceWarning: Maximum Likelihood optimization failed to converge. Check mle_retvals\n",
      "  \"Check mle_retvals\", ConvergenceWarning)\n"
     ]
    },
    {
     "name": "stdout",
     "output_type": "stream",
     "text": [
      "X778\n",
      "X370\n",
      "X144\n",
      "X1483\n",
      "X691\n",
      "X934\n",
      "X611\n",
      "X409\n",
      "X952\n"
     ]
    },
    {
     "name": "stderr",
     "output_type": "stream",
     "text": [
      "C:\\Anaconda3\\lib\\site-packages\\statsmodels\\base\\model.py:492: HessianInversionWarning: Inverting hessian failed, no bse or cov_params available\n",
      "  'available', HessianInversionWarning)\n"
     ]
    },
    {
     "name": "stdout",
     "output_type": "stream",
     "text": [
      "X1297\n",
      "X641\n",
      "X629\n",
      "X900\n",
      "X1500\n",
      "X72\n"
     ]
    },
    {
     "name": "stderr",
     "output_type": "stream",
     "text": [
      "C:\\Anaconda3\\lib\\site-packages\\statsmodels\\base\\model.py:512: ConvergenceWarning: Maximum Likelihood optimization failed to converge. Check mle_retvals\n",
      "  \"Check mle_retvals\", ConvergenceWarning)\n"
     ]
    },
    {
     "name": "stdout",
     "output_type": "stream",
     "text": [
      "X1222\n",
      "X1459\n",
      "X115\n",
      "X1456\n",
      "X1382\n",
      "X1065\n",
      "X613\n",
      "X482\n",
      "X559\n",
      "X1283\n",
      "X310\n",
      "X1086\n",
      "X955\n",
      "X534\n",
      "X1430\n",
      "X1073\n",
      "X452\n",
      "X740\n",
      "X197\n",
      "X1046\n"
     ]
    },
    {
     "name": "stderr",
     "output_type": "stream",
     "text": [
      "C:\\Anaconda3\\lib\\site-packages\\statsmodels\\base\\model.py:492: HessianInversionWarning: Inverting hessian failed, no bse or cov_params available\n",
      "  'available', HessianInversionWarning)\n"
     ]
    },
    {
     "name": "stdout",
     "output_type": "stream",
     "text": [
      "X897\n",
      "X1322\n"
     ]
    },
    {
     "name": "stderr",
     "output_type": "stream",
     "text": [
      "C:\\Anaconda3\\lib\\site-packages\\statsmodels\\base\\model.py:512: ConvergenceWarning: Maximum Likelihood optimization failed to converge. Check mle_retvals\n",
      "  \"Check mle_retvals\", ConvergenceWarning)\n"
     ]
    },
    {
     "name": "stdout",
     "output_type": "stream",
     "text": [
      "X947\n",
      "X671\n",
      "X1404\n",
      "X100\n",
      "X1034\n",
      "X1295\n",
      "X1150\n",
      "X83\n",
      "X1052\n"
     ]
    },
    {
     "name": "stderr",
     "output_type": "stream",
     "text": [
      "C:\\Anaconda3\\lib\\site-packages\\statsmodels\\base\\model.py:512: ConvergenceWarning: Maximum Likelihood optimization failed to converge. Check mle_retvals\n",
      "  \"Check mle_retvals\", ConvergenceWarning)\n"
     ]
    },
    {
     "name": "stdout",
     "output_type": "stream",
     "text": [
      "X539\n",
      "X820\n",
      "X826\n",
      "X786\n",
      "X294\n",
      "X382\n",
      "X783\n",
      "X623\n",
      "X757\n",
      "X1326\n",
      "X19\n",
      "X351\n",
      "X938\n",
      "X771\n",
      "X927\n",
      "X1402\n",
      "X1400\n",
      "X1434\n",
      "X921\n",
      "X1340\n",
      "X1250\n",
      "X236\n",
      "X890\n",
      "X1202\n",
      "X1247\n",
      "X180\n",
      "X662\n",
      "X415\n",
      "X198\n",
      "X805\n",
      "X360\n"
     ]
    },
    {
     "name": "stderr",
     "output_type": "stream",
     "text": [
      "C:\\Anaconda3\\lib\\site-packages\\statsmodels\\base\\model.py:512: ConvergenceWarning: Maximum Likelihood optimization failed to converge. Check mle_retvals\n",
      "  \"Check mle_retvals\", ConvergenceWarning)\n",
      "C:\\Anaconda3\\lib\\site-packages\\statsmodels\\base\\model.py:512: ConvergenceWarning: Maximum Likelihood optimization failed to converge. Check mle_retvals\n",
      "  \"Check mle_retvals\", ConvergenceWarning)\n"
     ]
    },
    {
     "name": "stdout",
     "output_type": "stream",
     "text": [
      "X526\n",
      "X1154\n",
      "X1153\n",
      "X956\n",
      "X702\n",
      "X590\n",
      "X1151\n",
      "X401\n",
      "X36\n",
      "X1239\n",
      "X454\n",
      "X594\n",
      "X681\n"
     ]
    },
    {
     "name": "stderr",
     "output_type": "stream",
     "text": [
      "C:\\Anaconda3\\lib\\site-packages\\statsmodels\\base\\model.py:512: ConvergenceWarning: Maximum Likelihood optimization failed to converge. Check mle_retvals\n",
      "  \"Check mle_retvals\", ConvergenceWarning)\n"
     ]
    },
    {
     "name": "stdout",
     "output_type": "stream",
     "text": [
      "X850\n",
      "X153\n",
      "X1355\n",
      "X602\n",
      "X781\n",
      "X1479\n",
      "X1262\n",
      "X903\n",
      "X874\n",
      "X1254\n",
      "X273\n",
      "X318\n"
     ]
    },
    {
     "name": "stderr",
     "output_type": "stream",
     "text": [
      "C:\\Anaconda3\\lib\\site-packages\\statsmodels\\base\\model.py:512: ConvergenceWarning: Maximum Likelihood optimization failed to converge. Check mle_retvals\n",
      "  \"Check mle_retvals\", ConvergenceWarning)\n"
     ]
    },
    {
     "name": "stdout",
     "output_type": "stream",
     "text": [
      "X748\n",
      "X599\n",
      "X636\n",
      "X837\n",
      "X1237\n",
      "X1032\n",
      "X1208\n",
      "X1101\n",
      "X751\n",
      "X1411\n",
      "X946\n",
      "X1443\n",
      "X1480\n",
      "X1488\n",
      "X1036\n",
      "X821\n",
      "X332\n",
      "X501\n",
      "X1245\n",
      "X760\n",
      "X849\n",
      "X1366\n",
      "X695\n",
      "X433\n"
     ]
    },
    {
     "name": "stderr",
     "output_type": "stream",
     "text": [
      "C:\\Anaconda3\\lib\\site-packages\\statsmodels\\base\\model.py:512: ConvergenceWarning: Maximum Likelihood optimization failed to converge. Check mle_retvals\n",
      "  \"Check mle_retvals\", ConvergenceWarning)\n"
     ]
    },
    {
     "name": "stdout",
     "output_type": "stream",
     "text": [
      "X1467\n",
      "X541\n",
      "X788\n",
      "X918\n",
      "X923\n"
     ]
    },
    {
     "name": "stderr",
     "output_type": "stream",
     "text": [
      "C:\\Anaconda3\\lib\\site-packages\\statsmodels\\base\\model.py:492: HessianInversionWarning: Inverting hessian failed, no bse or cov_params available\n",
      "  'available', HessianInversionWarning)\n"
     ]
    },
    {
     "name": "stdout",
     "output_type": "stream",
     "text": [
      "X639\n",
      "X581\n"
     ]
    },
    {
     "name": "stderr",
     "output_type": "stream",
     "text": [
      "C:\\Anaconda3\\lib\\site-packages\\statsmodels\\base\\model.py:512: ConvergenceWarning: Maximum Likelihood optimization failed to converge. Check mle_retvals\n",
      "  \"Check mle_retvals\", ConvergenceWarning)\n"
     ]
    },
    {
     "name": "stdout",
     "output_type": "stream",
     "text": [
      "X256\n",
      "X688\n",
      "X1492\n",
      "X521\n",
      "X1334\n",
      "X1064\n",
      "X1437\n",
      "X416\n",
      "X1115\n",
      "X670\n",
      "X836\n",
      "X872\n",
      "X28\n",
      "X996\n",
      "X498\n",
      "X1177\n",
      "X1241\n",
      "X385\n",
      "X121\n",
      "X1290\n",
      "X152\n",
      "X908\n"
     ]
    },
    {
     "name": "stderr",
     "output_type": "stream",
     "text": [
      "C:\\Anaconda3\\lib\\site-packages\\statsmodels\\base\\model.py:512: ConvergenceWarning: Maximum Likelihood optimization failed to converge. Check mle_retvals\n",
      "  \"Check mle_retvals\", ConvergenceWarning)\n"
     ]
    },
    {
     "name": "stdout",
     "output_type": "stream",
     "text": [
      "X816\n",
      "X1180\n",
      "X896\n",
      "X627\n",
      "X822\n",
      "X768\n",
      "X1040\n",
      "X1348\n",
      "X1021\n",
      "X804\n",
      "X477\n",
      "X169\n",
      "X884\n",
      "X1314\n",
      "X879\n",
      "X1106\n"
     ]
    },
    {
     "name": "stderr",
     "output_type": "stream",
     "text": [
      "C:\\Anaconda3\\lib\\site-packages\\statsmodels\\base\\model.py:512: ConvergenceWarning: Maximum Likelihood optimization failed to converge. Check mle_retvals\n",
      "  \"Check mle_retvals\", ConvergenceWarning)\n"
     ]
    },
    {
     "name": "stdout",
     "output_type": "stream",
     "text": [
      "X601\n",
      "X151\n",
      "X810\n",
      "X366\n",
      "X467\n",
      "X653\n",
      "X1468\n",
      "X668\n"
     ]
    },
    {
     "name": "stderr",
     "output_type": "stream",
     "text": [
      "C:\\Anaconda3\\lib\\site-packages\\statsmodels\\base\\model.py:512: ConvergenceWarning: Maximum Likelihood optimization failed to converge. Check mle_retvals\n",
      "  \"Check mle_retvals\", ConvergenceWarning)\n"
     ]
    },
    {
     "name": "stdout",
     "output_type": "stream",
     "text": [
      "X716\n",
      "X63\n",
      "X500\n",
      "X823\n",
      "X1113\n",
      "X1454\n",
      "X141\n",
      "X744\n"
     ]
    },
    {
     "name": "stderr",
     "output_type": "stream",
     "text": [
      "C:\\Anaconda3\\lib\\site-packages\\statsmodels\\base\\model.py:512: ConvergenceWarning: Maximum Likelihood optimization failed to converge. Check mle_retvals\n",
      "  \"Check mle_retvals\", ConvergenceWarning)\n",
      "C:\\Anaconda3\\lib\\site-packages\\statsmodels\\base\\model.py:492: HessianInversionWarning: Inverting hessian failed, no bse or cov_params available\n",
      "  'available', HessianInversionWarning)\n",
      "C:\\Anaconda3\\lib\\site-packages\\statsmodels\\base\\model.py:492: HessianInversionWarning: Inverting hessian failed, no bse or cov_params available\n",
      "  'available', HessianInversionWarning)\n"
     ]
    },
    {
     "name": "stdout",
     "output_type": "stream",
     "text": [
      "X834\n",
      "X372\n",
      "X986\n",
      "X731\n"
     ]
    },
    {
     "name": "stderr",
     "output_type": "stream",
     "text": [
      "C:\\Anaconda3\\lib\\site-packages\\statsmodels\\base\\model.py:512: ConvergenceWarning: Maximum Likelihood optimization failed to converge. Check mle_retvals\n",
      "  \"Check mle_retvals\", ConvergenceWarning)\n"
     ]
    },
    {
     "name": "stdout",
     "output_type": "stream",
     "text": [
      "X1127\n",
      "X1136\n",
      "X1347\n",
      "X475\n",
      "X1244\n",
      "X428\n",
      "X181\n",
      "X941\n",
      "X606\n",
      "X38\n",
      "X762\n",
      "X1302\n",
      "X574\n",
      "X544\n",
      "X240\n",
      "X317\n",
      "X694\n",
      "X108\n"
     ]
    },
    {
     "name": "stderr",
     "output_type": "stream",
     "text": [
      "C:\\Anaconda3\\lib\\site-packages\\statsmodels\\tsa\\kalmanf\\kalmanfilter.py:221: RuntimeWarning: divide by zero encountered in true_divide\n",
      "  Z_mat, R_mat, T_mat)\n",
      "C:\\Anaconda3\\lib\\site-packages\\statsmodels\\tsa\\tsatools.py:668: RuntimeWarning: invalid value encountered in true_divide\n",
      "  newparams = ((1-np.exp(-params))/(1+np.exp(-params))).copy()\n",
      "C:\\Anaconda3\\lib\\site-packages\\statsmodels\\tsa\\tsatools.py:669: RuntimeWarning: invalid value encountered in true_divide\n",
      "  tmp = ((1-np.exp(-params))/(1+np.exp(-params))).copy()\n"
     ]
    },
    {
     "name": "stdout",
     "output_type": "stream",
     "text": [
      "X580\n",
      "X1481\n",
      "X1395\n",
      "X429\n"
     ]
    },
    {
     "name": "stderr",
     "output_type": "stream",
     "text": [
      "C:\\Anaconda3\\lib\\site-packages\\statsmodels\\base\\model.py:512: ConvergenceWarning: Maximum Likelihood optimization failed to converge. Check mle_retvals\n",
      "  \"Check mle_retvals\", ConvergenceWarning)\n"
     ]
    },
    {
     "name": "stdout",
     "output_type": "stream",
     "text": [
      "X1242\n",
      "X926\n"
     ]
    },
    {
     "name": "stderr",
     "output_type": "stream",
     "text": [
      "C:\\Anaconda3\\lib\\site-packages\\statsmodels\\base\\model.py:512: ConvergenceWarning: Maximum Likelihood optimization failed to converge. Check mle_retvals\n",
      "  \"Check mle_retvals\", ConvergenceWarning)\n"
     ]
    },
    {
     "name": "stdout",
     "output_type": "stream",
     "text": [
      "X1071\n",
      "X1206\n",
      "X909\n",
      "X893\n",
      "X359\n",
      "X1423\n",
      "X773\n",
      "X814\n",
      "X959\n",
      "X1162\n"
     ]
    },
    {
     "name": "stderr",
     "output_type": "stream",
     "text": [
      "C:\\Anaconda3\\lib\\site-packages\\statsmodels\\base\\model.py:512: ConvergenceWarning: Maximum Likelihood optimization failed to converge. Check mle_retvals\n",
      "  \"Check mle_retvals\", ConvergenceWarning)\n",
      "C:\\Anaconda3\\lib\\site-packages\\statsmodels\\base\\model.py:512: ConvergenceWarning: Maximum Likelihood optimization failed to converge. Check mle_retvals\n",
      "  \"Check mle_retvals\", ConvergenceWarning)\n"
     ]
    },
    {
     "name": "stdout",
     "output_type": "stream",
     "text": [
      "X540\n"
     ]
    },
    {
     "name": "stderr",
     "output_type": "stream",
     "text": [
      "C:\\Anaconda3\\lib\\site-packages\\statsmodels\\base\\model.py:512: ConvergenceWarning: Maximum Likelihood optimization failed to converge. Check mle_retvals\n",
      "  \"Check mle_retvals\", ConvergenceWarning)\n"
     ]
    },
    {
     "name": "stdout",
     "output_type": "stream",
     "text": [
      "X612\n",
      "X752\n",
      "X949\n",
      "X784\n",
      "X815\n"
     ]
    },
    {
     "name": "stderr",
     "output_type": "stream",
     "text": [
      "C:\\Anaconda3\\lib\\site-packages\\statsmodels\\base\\model.py:512: ConvergenceWarning: Maximum Likelihood optimization failed to converge. Check mle_retvals\n",
      "  \"Check mle_retvals\", ConvergenceWarning)\n"
     ]
    },
    {
     "name": "stdout",
     "output_type": "stream",
     "text": [
      "X791\n"
     ]
    },
    {
     "name": "stderr",
     "output_type": "stream",
     "text": [
      "C:\\Anaconda3\\lib\\site-packages\\statsmodels\\base\\model.py:512: ConvergenceWarning: Maximum Likelihood optimization failed to converge. Check mle_retvals\n",
      "  \"Check mle_retvals\", ConvergenceWarning)\n"
     ]
    },
    {
     "name": "stdout",
     "output_type": "stream",
     "text": [
      "X905\n",
      "X185\n",
      "X469\n",
      "X1103\n",
      "X159\n",
      "X39\n",
      "X1462\n",
      "X970\n",
      "X1186\n",
      "X647\n",
      "X1329\n",
      "X736\n",
      "X244\n",
      "X1209\n",
      "X839\n",
      "X1337\n",
      "X502\n",
      "X265\n",
      "X478\n",
      "X278\n",
      "X522\n",
      "X792\n",
      "X1219\n"
     ]
    },
    {
     "name": "stderr",
     "output_type": "stream",
     "text": [
      "C:\\Anaconda3\\lib\\site-packages\\statsmodels\\base\\model.py:512: ConvergenceWarning: Maximum Likelihood optimization failed to converge. Check mle_retvals\n",
      "  \"Check mle_retvals\", ConvergenceWarning)\n"
     ]
    },
    {
     "name": "stdout",
     "output_type": "stream",
     "text": [
      "X1182\n",
      "X658\n",
      "X1059\n"
     ]
    },
    {
     "name": "stderr",
     "output_type": "stream",
     "text": [
      "C:\\Anaconda3\\lib\\site-packages\\statsmodels\\base\\model.py:512: ConvergenceWarning: Maximum Likelihood optimization failed to converge. Check mle_retvals\n",
      "  \"Check mle_retvals\", ConvergenceWarning)\n"
     ]
    },
    {
     "name": "stdout",
     "output_type": "stream",
     "text": [
      "X1243\n",
      "X844\n",
      "X292\n",
      "X1410\n",
      "X1379\n",
      "X589\n",
      "X1140\n",
      "X1305\n",
      "X1359\n",
      "X684\n",
      "X999\n",
      "X871\n",
      "X829\n",
      "X1084\n",
      "X638\n",
      "X1409\n",
      "X510\n",
      "X8\n",
      "X987\n",
      "X1019\n",
      "X425\n",
      "X617\n",
      "X1476\n",
      "X1496\n",
      "X563\n",
      "X568\n"
     ]
    },
    {
     "name": "stderr",
     "output_type": "stream",
     "text": [
      "C:\\Anaconda3\\lib\\site-packages\\statsmodels\\base\\model.py:512: ConvergenceWarning: Maximum Likelihood optimization failed to converge. Check mle_retvals\n",
      "  \"Check mle_retvals\", ConvergenceWarning)\n"
     ]
    },
    {
     "name": "stdout",
     "output_type": "stream",
     "text": [
      "X958\n",
      "X984\n",
      "X655\n",
      "X1220\n"
     ]
    },
    {
     "name": "stderr",
     "output_type": "stream",
     "text": [
      "C:\\Anaconda3\\lib\\site-packages\\statsmodels\\base\\model.py:512: ConvergenceWarning: Maximum Likelihood optimization failed to converge. Check mle_retvals\n",
      "  \"Check mle_retvals\", ConvergenceWarning)\n"
     ]
    },
    {
     "name": "stdout",
     "output_type": "stream",
     "text": [
      "X1042\n",
      "X1485\n"
     ]
    },
    {
     "name": "stderr",
     "output_type": "stream",
     "text": [
      "C:\\Anaconda3\\lib\\site-packages\\statsmodels\\base\\model.py:512: ConvergenceWarning: Maximum Likelihood optimization failed to converge. Check mle_retvals\n",
      "  \"Check mle_retvals\", ConvergenceWarning)\n"
     ]
    },
    {
     "name": "stdout",
     "output_type": "stream",
     "text": [
      "X610\n",
      "X1267\n",
      "X735\n",
      "X525\n",
      "X129\n",
      "X1170\n"
     ]
    },
    {
     "name": "stderr",
     "output_type": "stream",
     "text": [
      "C:\\Anaconda3\\lib\\site-packages\\statsmodels\\base\\model.py:512: ConvergenceWarning: Maximum Likelihood optimization failed to converge. Check mle_retvals\n",
      "  \"Check mle_retvals\", ConvergenceWarning)\n"
     ]
    },
    {
     "name": "stdout",
     "output_type": "stream",
     "text": [
      "X1405\n",
      "X1211\n",
      "X812\n",
      "X587\n",
      "X825\n",
      "X957\n",
      "X112\n"
     ]
    },
    {
     "name": "stderr",
     "output_type": "stream",
     "text": [
      "C:\\Anaconda3\\lib\\site-packages\\statsmodels\\base\\model.py:512: ConvergenceWarning: Maximum Likelihood optimization failed to converge. Check mle_retvals\n",
      "  \"Check mle_retvals\", ConvergenceWarning)\n"
     ]
    },
    {
     "name": "stdout",
     "output_type": "stream",
     "text": [
      "X654\n",
      "X524\n",
      "X901\n",
      "X1394\n",
      "X545\n",
      "X1099\n",
      "X936\n",
      "X1341\n",
      "X1200\n",
      "X914\n",
      "X679\n"
     ]
    },
    {
     "name": "stderr",
     "output_type": "stream",
     "text": [
      "C:\\Anaconda3\\lib\\site-packages\\statsmodels\\base\\model.py:512: ConvergenceWarning: Maximum Likelihood optimization failed to converge. Check mle_retvals\n",
      "  \"Check mle_retvals\", ConvergenceWarning)\n"
     ]
    },
    {
     "name": "stdout",
     "output_type": "stream",
     "text": [
      "X564\n",
      "X798\n",
      "X793\n",
      "X442\n",
      "X479\n",
      "X635\n",
      "X1089\n"
     ]
    },
    {
     "name": "stderr",
     "output_type": "stream",
     "text": [
      "C:\\Anaconda3\\lib\\site-packages\\statsmodels\\base\\model.py:512: ConvergenceWarning: Maximum Likelihood optimization failed to converge. Check mle_retvals\n",
      "  \"Check mle_retvals\", ConvergenceWarning)\n"
     ]
    },
    {
     "name": "stdout",
     "output_type": "stream",
     "text": [
      "X917\n",
      "X1215\n",
      "X1257\n"
     ]
    },
    {
     "name": "stderr",
     "output_type": "stream",
     "text": [
      "C:\\Anaconda3\\lib\\site-packages\\statsmodels\\base\\model.py:512: ConvergenceWarning: Maximum Likelihood optimization failed to converge. Check mle_retvals\n",
      "  \"Check mle_retvals\", ConvergenceWarning)\n"
     ]
    },
    {
     "name": "stdout",
     "output_type": "stream",
     "text": [
      "X586\n",
      "X119\n",
      "X726\n",
      "X954\n",
      "X883\n",
      "X29\n",
      "X1119\n",
      "X1463\n",
      "X1286\n",
      "X517\n",
      "X1260\n"
     ]
    },
    {
     "name": "stderr",
     "output_type": "stream",
     "text": [
      "C:\\Anaconda3\\lib\\site-packages\\statsmodels\\base\\model.py:512: ConvergenceWarning: Maximum Likelihood optimization failed to converge. Check mle_retvals\n",
      "  \"Check mle_retvals\", ConvergenceWarning)\n"
     ]
    },
    {
     "name": "stdout",
     "output_type": "stream",
     "text": [
      "X1039\n",
      "X380\n",
      "X1327\n",
      "X1020\n",
      "X595\n",
      "X910\n",
      "X101\n",
      "X878\n",
      "X1233\n",
      "X246\n",
      "X57\n",
      "X1374\n",
      "X464\n",
      "X486\n",
      "X1008\n",
      "X529\n",
      "X167\n",
      "X1231\n",
      "X979\n",
      "X766\n"
     ]
    },
    {
     "name": "stderr",
     "output_type": "stream",
     "text": [
      "C:\\Anaconda3\\lib\\site-packages\\statsmodels\\base\\model.py:512: ConvergenceWarning: Maximum Likelihood optimization failed to converge. Check mle_retvals\n",
      "  \"Check mle_retvals\", ConvergenceWarning)\n"
     ]
    },
    {
     "name": "stdout",
     "output_type": "stream",
     "text": [
      "X1435\n",
      "X705\n",
      "X1458\n",
      "X569\n",
      "X1466\n",
      "X1214\n",
      "X508\n",
      "X334\n",
      "X1227\n"
     ]
    },
    {
     "name": "stderr",
     "output_type": "stream",
     "text": [
      "C:\\Anaconda3\\lib\\site-packages\\statsmodels\\base\\model.py:512: ConvergenceWarning: Maximum Likelihood optimization failed to converge. Check mle_retvals\n",
      "  \"Check mle_retvals\", ConvergenceWarning)\n"
     ]
    },
    {
     "name": "stdout",
     "output_type": "stream",
     "text": [
      "X983\n",
      "X548\n",
      "X1104\n",
      "X1226\n",
      "X400\n",
      "X585\n",
      "X962\n",
      "X1116\n",
      "X1473\n",
      "X527\n"
     ]
    },
    {
     "name": "stderr",
     "output_type": "stream",
     "text": [
      "C:\\Anaconda3\\lib\\site-packages\\statsmodels\\base\\model.py:512: ConvergenceWarning: Maximum Likelihood optimization failed to converge. Check mle_retvals\n",
      "  \"Check mle_retvals\", ConvergenceWarning)\n"
     ]
    },
    {
     "name": "stdout",
     "output_type": "stream",
     "text": [
      "X1338\n"
     ]
    },
    {
     "name": "stderr",
     "output_type": "stream",
     "text": [
      "C:\\Anaconda3\\lib\\site-packages\\statsmodels\\base\\model.py:512: ConvergenceWarning: Maximum Likelihood optimization failed to converge. Check mle_retvals\n",
      "  \"Check mle_retvals\", ConvergenceWarning)\n",
      "C:\\Anaconda3\\lib\\site-packages\\statsmodels\\base\\model.py:512: ConvergenceWarning: Maximum Likelihood optimization failed to converge. Check mle_retvals\n",
      "  \"Check mle_retvals\", ConvergenceWarning)\n"
     ]
    },
    {
     "name": "stdout",
     "output_type": "stream",
     "text": [
      "X131\n",
      "X591\n",
      "X1440\n",
      "X1351\n",
      "X937\n",
      "X418\n",
      "X1412\n",
      "X913\n",
      "X855\n",
      "X496\n",
      "X189\n",
      "X721\n",
      "X697\n",
      "X738\n",
      "X533\n"
     ]
    },
    {
     "name": "stderr",
     "output_type": "stream",
     "text": [
      "C:\\Anaconda3\\lib\\site-packages\\statsmodels\\base\\model.py:512: ConvergenceWarning: Maximum Likelihood optimization failed to converge. Check mle_retvals\n",
      "  \"Check mle_retvals\", ConvergenceWarning)\n"
     ]
    },
    {
     "name": "stdout",
     "output_type": "stream",
     "text": [
      "X1024\n",
      "X204\n",
      "X71\n",
      "X1235\n",
      "X637\n",
      "X92\n",
      "X1049\n",
      "X1114\n",
      "X1183\n"
     ]
    },
    {
     "name": "stderr",
     "output_type": "stream",
     "text": [
      "C:\\Anaconda3\\lib\\site-packages\\statsmodels\\base\\model.py:512: ConvergenceWarning: Maximum Likelihood optimization failed to converge. Check mle_retvals\n",
      "  \"Check mle_retvals\", ConvergenceWarning)\n"
     ]
    },
    {
     "name": "stdout",
     "output_type": "stream",
     "text": [
      "X340\n",
      "X1169\n",
      "X1212\n",
      "X1238\n"
     ]
    },
    {
     "name": "stderr",
     "output_type": "stream",
     "text": [
      "C:\\Anaconda3\\lib\\site-packages\\statsmodels\\base\\model.py:512: ConvergenceWarning: Maximum Likelihood optimization failed to converge. Check mle_retvals\n",
      "  \"Check mle_retvals\", ConvergenceWarning)\n"
     ]
    },
    {
     "name": "stdout",
     "output_type": "stream",
     "text": [
      "X1372\n"
     ]
    },
    {
     "name": "stderr",
     "output_type": "stream",
     "text": [
      "C:\\Anaconda3\\lib\\site-packages\\statsmodels\\base\\model.py:512: ConvergenceWarning: Maximum Likelihood optimization failed to converge. Check mle_retvals\n",
      "  \"Check mle_retvals\", ConvergenceWarning)\n"
     ]
    },
    {
     "name": "stdout",
     "output_type": "stream",
     "text": [
      "X667\n",
      "X480\n",
      "X154\n",
      "X940\n",
      "X713\n",
      "X719\n",
      "X939\n"
     ]
    },
    {
     "name": "stderr",
     "output_type": "stream",
     "text": [
      "C:\\Anaconda3\\lib\\site-packages\\statsmodels\\base\\model.py:512: ConvergenceWarning: Maximum Likelihood optimization failed to converge. Check mle_retvals\n",
      "  \"Check mle_retvals\", ConvergenceWarning)\n"
     ]
    },
    {
     "name": "stdout",
     "output_type": "stream",
     "text": [
      "X870\n",
      "X1318\n",
      "X251\n",
      "X556\n",
      "X739\n",
      "X704\n",
      "X992\n",
      "X1427\n",
      "X621\n",
      "X98\n"
     ]
    },
    {
     "name": "stderr",
     "output_type": "stream",
     "text": [
      "C:\\Anaconda3\\lib\\site-packages\\statsmodels\\base\\model.py:512: ConvergenceWarning: Maximum Likelihood optimization failed to converge. Check mle_retvals\n",
      "  \"Check mle_retvals\", ConvergenceWarning)\n"
     ]
    },
    {
     "name": "stdout",
     "output_type": "stream",
     "text": [
      "X1470\n",
      "X1091\n",
      "X648\n"
     ]
    },
    {
     "name": "stderr",
     "output_type": "stream",
     "text": [
      "C:\\Anaconda3\\lib\\site-packages\\statsmodels\\base\\model.py:512: ConvergenceWarning: Maximum Likelihood optimization failed to converge. Check mle_retvals\n",
      "  \"Check mle_retvals\", ConvergenceWarning)\n"
     ]
    },
    {
     "name": "stdout",
     "output_type": "stream",
     "text": [
      "X1123\n",
      "X1196\n",
      "X448\n",
      "X1155\n"
     ]
    },
    {
     "name": "stderr",
     "output_type": "stream",
     "text": [
      "C:\\Anaconda3\\lib\\site-packages\\statsmodels\\base\\model.py:512: ConvergenceWarning: Maximum Likelihood optimization failed to converge. Check mle_retvals\n",
      "  \"Check mle_retvals\", ConvergenceWarning)\n"
     ]
    },
    {
     "name": "stdout",
     "output_type": "stream",
     "text": [
      "X706\n",
      "X1029\n",
      "X1284\n",
      "X420\n",
      "X642\n",
      "X1281\n",
      "X1147\n",
      "X835\n",
      "X1230\n",
      "X1390\n",
      "X487\n",
      "X117\n",
      "X838\n"
     ]
    },
    {
     "name": "stderr",
     "output_type": "stream",
     "text": [
      "C:\\Anaconda3\\lib\\site-packages\\statsmodels\\base\\model.py:512: ConvergenceWarning: Maximum Likelihood optimization failed to converge. Check mle_retvals\n",
      "  \"Check mle_retvals\", ConvergenceWarning)\n"
     ]
    },
    {
     "name": "stdout",
     "output_type": "stream",
     "text": [
      "X991\n",
      "X857\n",
      "X268\n",
      "X1422\n",
      "X488\n",
      "X1497\n",
      "X1413\n"
     ]
    },
    {
     "name": "stderr",
     "output_type": "stream",
     "text": [
      "C:\\Anaconda3\\lib\\site-packages\\statsmodels\\base\\model.py:512: ConvergenceWarning: Maximum Likelihood optimization failed to converge. Check mle_retvals\n",
      "  \"Check mle_retvals\", ConvergenceWarning)\n"
     ]
    },
    {
     "name": "stdout",
     "output_type": "stream",
     "text": [
      "X854\n",
      "X458\n",
      "X708\n",
      "X27\n",
      "X867\n",
      "X777\n",
      "X145\n",
      "X1403\n",
      "X531\n"
     ]
    },
    {
     "name": "stderr",
     "output_type": "stream",
     "text": [
      "C:\\Anaconda3\\lib\\site-packages\\statsmodels\\base\\model.py:512: ConvergenceWarning: Maximum Likelihood optimization failed to converge. Check mle_retvals\n",
      "  \"Check mle_retvals\", ConvergenceWarning)\n"
     ]
    },
    {
     "name": "stdout",
     "output_type": "stream",
     "text": [
      "X507\n",
      "X575\n"
     ]
    },
    {
     "name": "stderr",
     "output_type": "stream",
     "text": [
      "C:\\Anaconda3\\lib\\site-packages\\statsmodels\\base\\model.py:512: ConvergenceWarning: Maximum Likelihood optimization failed to converge. Check mle_retvals\n",
      "  \"Check mle_retvals\", ConvergenceWarning)\n"
     ]
    },
    {
     "name": "stdout",
     "output_type": "stream",
     "text": [
      "X1072\n",
      "X311\n",
      "X1038\n"
     ]
    },
    {
     "name": "stderr",
     "output_type": "stream",
     "text": [
      "C:\\Anaconda3\\lib\\site-packages\\statsmodels\\base\\model.py:512: ConvergenceWarning: Maximum Likelihood optimization failed to converge. Check mle_retvals\n",
      "  \"Check mle_retvals\", ConvergenceWarning)\n"
     ]
    },
    {
     "name": "stdout",
     "output_type": "stream",
     "text": [
      "X1013\n",
      "X863\n"
     ]
    },
    {
     "name": "stderr",
     "output_type": "stream",
     "text": [
      "C:\\Anaconda3\\lib\\site-packages\\statsmodels\\base\\model.py:512: ConvergenceWarning: Maximum Likelihood optimization failed to converge. Check mle_retvals\n",
      "  \"Check mle_retvals\", ConvergenceWarning)\n"
     ]
    },
    {
     "name": "stdout",
     "output_type": "stream",
     "text": [
      "X199\n",
      "X503\n",
      "X301\n"
     ]
    },
    {
     "name": "stderr",
     "output_type": "stream",
     "text": [
      "C:\\Anaconda3\\lib\\site-packages\\statsmodels\\base\\model.py:512: ConvergenceWarning: Maximum Likelihood optimization failed to converge. Check mle_retvals\n",
      "  \"Check mle_retvals\", ConvergenceWarning)\n"
     ]
    },
    {
     "name": "stdout",
     "output_type": "stream",
     "text": [
      "X319\n",
      "X1045\n",
      "X1321\n",
      "X1117\n",
      "X168\n",
      "X1172\n",
      "X1418\n",
      "X1475\n",
      "X620\n",
      "X474\n",
      "X1432\n",
      "X463\n",
      "X1325\n"
     ]
    },
    {
     "name": "stderr",
     "output_type": "stream",
     "text": [
      "C:\\Anaconda3\\lib\\site-packages\\statsmodels\\base\\model.py:512: ConvergenceWarning: Maximum Likelihood optimization failed to converge. Check mle_retvals\n",
      "  \"Check mle_retvals\", ConvergenceWarning)\n"
     ]
    },
    {
     "name": "stdout",
     "output_type": "stream",
     "text": [
      "X1105\n",
      "X1055\n"
     ]
    },
    {
     "name": "stderr",
     "output_type": "stream",
     "text": [
      "C:\\Anaconda3\\lib\\site-packages\\statsmodels\\base\\model.py:512: ConvergenceWarning: Maximum Likelihood optimization failed to converge. Check mle_retvals\n",
      "  \"Check mle_retvals\", ConvergenceWarning)\n"
     ]
    },
    {
     "name": "stdout",
     "output_type": "stream",
     "text": [
      "X1354\n",
      "X1058\n",
      "X1449\n",
      "X147\n",
      "X753\n",
      "X583\n",
      "X1001\n",
      "X97\n",
      "X1489\n",
      "X806\n",
      "X1310\n",
      "X881\n",
      "X1273\n",
      "X1398\n",
      "X809\n",
      "X861\n",
      "X1461\n",
      "X907\n",
      "X188\n",
      "X1315\n",
      "X394\n",
      "X1494\n",
      "X745\n"
     ]
    },
    {
     "name": "stderr",
     "output_type": "stream",
     "text": [
      "C:\\Anaconda3\\lib\\site-packages\\statsmodels\\base\\model.py:492: HessianInversionWarning: Inverting hessian failed, no bse or cov_params available\n",
      "  'available', HessianInversionWarning)\n",
      "C:\\Anaconda3\\lib\\site-packages\\statsmodels\\base\\model.py:492: HessianInversionWarning: Inverting hessian failed, no bse or cov_params available\n",
      "  'available', HessianInversionWarning)\n"
     ]
    },
    {
     "name": "stdout",
     "output_type": "stream",
     "text": [
      "X1122\n",
      "X497\n",
      "X847\n",
      "X817\n",
      "X1300\n",
      "X264\n"
     ]
    },
    {
     "name": "stderr",
     "output_type": "stream",
     "text": [
      "C:\\Anaconda3\\lib\\site-packages\\statsmodels\\base\\model.py:512: ConvergenceWarning: Maximum Likelihood optimization failed to converge. Check mle_retvals\n",
      "  \"Check mle_retvals\", ConvergenceWarning)\n"
     ]
    },
    {
     "name": "stdout",
     "output_type": "stream",
     "text": [
      "X395\n",
      "X584\n",
      "X1205\n",
      "X645\n",
      "X322\n",
      "X335\n",
      "X1385\n"
     ]
    },
    {
     "name": "stderr",
     "output_type": "stream",
     "text": [
      "C:\\Anaconda3\\lib\\site-packages\\statsmodels\\base\\model.py:512: ConvergenceWarning: Maximum Likelihood optimization failed to converge. Check mle_retvals\n",
      "  \"Check mle_retvals\", ConvergenceWarning)\n",
      "C:\\Anaconda3\\lib\\site-packages\\statsmodels\\base\\model.py:512: ConvergenceWarning: Maximum Likelihood optimization failed to converge. Check mle_retvals\n",
      "  \"Check mle_retvals\", ConvergenceWarning)\n"
     ]
    },
    {
     "name": "stdout",
     "output_type": "stream",
     "text": [
      "X1092\n",
      "X1016\n",
      "X1452\n",
      "X1460\n",
      "X193\n",
      "X624\n",
      "X1030\n",
      "X1424\n",
      "X969\n",
      "X1313\n"
     ]
    },
    {
     "name": "stderr",
     "output_type": "stream",
     "text": [
      "C:\\Anaconda3\\lib\\site-packages\\statsmodels\\base\\model.py:512: ConvergenceWarning: Maximum Likelihood optimization failed to converge. Check mle_retvals\n",
      "  \"Check mle_retvals\", ConvergenceWarning)\n"
     ]
    },
    {
     "name": "stdout",
     "output_type": "stream",
     "text": [
      "X755\n",
      "X925\n",
      "X1109\n",
      "X651\n",
      "X504\n",
      "X1278\n"
     ]
    },
    {
     "name": "stderr",
     "output_type": "stream",
     "text": [
      "C:\\Anaconda3\\lib\\site-packages\\statsmodels\\base\\model.py:512: ConvergenceWarning: Maximum Likelihood optimization failed to converge. Check mle_retvals\n",
      "  \"Check mle_retvals\", ConvergenceWarning)\n"
     ]
    },
    {
     "name": "stdout",
     "output_type": "stream",
     "text": [
      "X1134\n",
      "X808\n",
      "X21\n",
      "X1298\n"
     ]
    },
    {
     "ename": "ValueError",
     "evalue": "min() arg is an empty sequence",
     "output_type": "error",
     "traceback": [
      "\u001b[1;31m---------------------------------------------------------------------------\u001b[0m",
      "\u001b[1;31mValueError\u001b[0m                                Traceback (most recent call last)",
      "\u001b[1;32m<ipython-input-19-25802041095a>\u001b[0m in \u001b[0;36m<module>\u001b[1;34m\u001b[0m\n\u001b[0;32m      6\u001b[0m \u001b[1;33m\u001b[0m\u001b[0m\n\u001b[0;32m      7\u001b[0m     \u001b[1;31m# 시간별 예측\u001b[0m\u001b[1;33m\u001b[0m\u001b[1;33m\u001b[0m\u001b[1;33m\u001b[0m\u001b[0m\n\u001b[1;32m----> 8\u001b[1;33m     \u001b[0mmodel\u001b[0m \u001b[1;33m=\u001b[0m \u001b[0mARIMA\u001b[0m\u001b[1;33m(\u001b[0m\u001b[0mtemp_1h\u001b[0m\u001b[1;33m[\u001b[0m\u001b[1;34m'target'\u001b[0m\u001b[1;33m]\u001b[0m\u001b[1;33m,\u001b[0m \u001b[0morder\u001b[0m\u001b[1;33m=\u001b[0m\u001b[0mget_optimal_params\u001b[0m\u001b[1;33m(\u001b[0m\u001b[0mtemp_1h\u001b[0m\u001b[1;33m[\u001b[0m\u001b[1;34m'target'\u001b[0m\u001b[1;33m]\u001b[0m\u001b[1;33m)\u001b[0m\u001b[1;33m)\u001b[0m \u001b[1;31m# AIC를 최소화하는 최적의 파라미터로 모델링합니다.\u001b[0m\u001b[1;33m\u001b[0m\u001b[1;33m\u001b[0m\u001b[0m\n\u001b[0m\u001b[0;32m      9\u001b[0m     \u001b[0mresults_ARIMA\u001b[0m \u001b[1;33m=\u001b[0m \u001b[0mmodel\u001b[0m\u001b[1;33m.\u001b[0m\u001b[0mfit\u001b[0m\u001b[1;33m(\u001b[0m\u001b[0mdisp\u001b[0m\u001b[1;33m=\u001b[0m\u001b[1;33m-\u001b[0m\u001b[1;36m1\u001b[0m\u001b[1;33m)\u001b[0m\u001b[1;33m\u001b[0m\u001b[1;33m\u001b[0m\u001b[0m\n\u001b[0;32m     10\u001b[0m     \u001b[0mfcst\u001b[0m \u001b[1;33m=\u001b[0m \u001b[0mresults_ARIMA\u001b[0m\u001b[1;33m.\u001b[0m\u001b[0mforecast\u001b[0m\u001b[1;33m(\u001b[0m\u001b[1;36m24\u001b[0m\u001b[1;33m)\u001b[0m \u001b[1;31m# 24시간을 예측합니다.\u001b[0m\u001b[1;33m\u001b[0m\u001b[1;33m\u001b[0m\u001b[0m\n",
      "\u001b[1;32m<ipython-input-18-491586927875>\u001b[0m in \u001b[0;36mget_optimal_params\u001b[1;34m(y)\u001b[0m\n\u001b[0;32m     10\u001b[0m             \u001b[1;32mcontinue\u001b[0m\u001b[1;33m\u001b[0m\u001b[1;33m\u001b[0m\u001b[0m\n\u001b[0;32m     11\u001b[0m \u001b[1;33m\u001b[0m\u001b[0m\n\u001b[1;32m---> 12\u001b[1;33m     \u001b[0mmin_aic\u001b[0m \u001b[1;33m=\u001b[0m \u001b[0mmin\u001b[0m\u001b[1;33m(\u001b[0m\u001b[0mparam_dict\u001b[0m\u001b[1;33m.\u001b[0m\u001b[0mkeys\u001b[0m\u001b[1;33m(\u001b[0m\u001b[1;33m)\u001b[0m\u001b[1;33m)\u001b[0m\u001b[1;33m\u001b[0m\u001b[1;33m\u001b[0m\u001b[0m\n\u001b[0m\u001b[0;32m     13\u001b[0m     \u001b[0moptimal_params\u001b[0m \u001b[1;33m=\u001b[0m \u001b[0mparam_dict\u001b[0m\u001b[1;33m[\u001b[0m\u001b[0mmin_aic\u001b[0m\u001b[1;33m]\u001b[0m\u001b[1;33m\u001b[0m\u001b[1;33m\u001b[0m\u001b[0m\n\u001b[0;32m     14\u001b[0m     \u001b[1;32mreturn\u001b[0m \u001b[0moptimal_params\u001b[0m\u001b[1;33m\u001b[0m\u001b[1;33m\u001b[0m\u001b[0m\n",
      "\u001b[1;31mValueError\u001b[0m: min() arg is an empty sequence"
     ]
    }
   ],
   "source": [
    "agg={}\n",
    "for key in new_df['place_id'].unique(): # 미터ID 200개의 리스트를 unique()함수를 통해 추출합니다.\n",
    "    temp = new_df.loc[new_df['place_id']==key] # 미터ID 하나를 할당합니다.\n",
    "    temp_1h=temp.resample('1h').sum() # 1시간 단위로 정리합니다.\n",
    "    temp_1day=temp.resample('D').sum() # 1일 단위로 정리합니다.\n",
    "\n",
    "    # 시간별 예측\n",
    "    model = ARIMA(temp_1h['target'], order=get_optimal_params(temp_1h['target'])) # AIC를 최소화하는 최적의 파라미터로 모델링합니다.\n",
    "    results_ARIMA = model.fit(disp=-1)\n",
    "    fcst = results_ARIMA.forecast(24) # 24시간을 예측합니다.\n",
    "\n",
    "    a = pd.DataFrame() # a라는 데이터프레임에 예측값을 정리합니다.\n",
    "    \n",
    "    for i in range(24):\n",
    "        a['X2018_7_1_'+str(i+1)+'h']=[fcst[0][i]] # column명을 submission 형태에 맞게 지정합니다.\n",
    "\n",
    "        \n",
    "    # 일별 예측\n",
    "    model = ARIMA(temp_1day['target'], order=get_optimal_params(temp_1day['target'])) # AIC를 최소화하는 최적의 파라미터로 모델링합니다.\n",
    "    results_ARIMA = model.fit(disp=-1)\n",
    "    fcst = results_ARIMA.forecast(10) # 10일을 예측합니다.\n",
    "\n",
    "    for i in range(10):\n",
    "        a['X2018_7_'+str(i+1)+'_d']=[fcst[0][i]] # column명을 submission 형태에 맞게 지정합니다.\n",
    "    \n",
    "    \n",
    "    # 월별 예측\n",
    "    # 일별로 예측하여 7월 ~ 11월의 일 수에 맞게 나누어 합산합니다.\n",
    "    fcst = results_ARIMA.forecast(153)\n",
    "    a['X2018_7_m'] = [np.sum(fcst[0][:31])] # 7월 \n",
    "    a['X2018_8_m'] = [np.sum(fcst[0][31:62])] # 8월\n",
    "    a['X2018_9_m'] = [np.sum(fcst[0][62:92])] # 9월\n",
    "    a['X2018_10_m'] = [np.sum(fcst[0][92:123])] # 10월\n",
    "    a['X2018_11_m'] = [np.sum(fcst[0][123:153])] # 11월\n",
    "    \n",
    "    a['meter_id'] = key \n",
    "    agg[key] = a[submission.columns.tolist()]\n",
    "    print(key)\n",
    "print('---- Modeling Done ----')"
   ]
  },
  {
   "cell_type": "code",
   "execution_count": 24,
   "metadata": {},
   "outputs": [],
   "source": [
    "output1 = pd.concat(agg, ignore_index=False)\n",
    "output2 = output1.reset_index().drop(['level_0','level_1'], axis=1)\n",
    "output2['id'] = output2['meter_id'].str.replace('X','').astype(int)\n",
    "output2 =  output2.sort_values(by='id', ascending=True).drop(['id'], axis=1).reset_index(drop=True)\n",
    "output2.to_csv('./SUHYUN/sub_baseline.csv', index=False)"
   ]
  },
  {
   "cell_type": "code",
   "execution_count": 25,
   "metadata": {},
   "outputs": [
    {
     "data": {
      "text/html": [
       "<div>\n",
       "<style scoped>\n",
       "    .dataframe tbody tr th:only-of-type {\n",
       "        vertical-align: middle;\n",
       "    }\n",
       "\n",
       "    .dataframe tbody tr th {\n",
       "        vertical-align: top;\n",
       "    }\n",
       "\n",
       "    .dataframe thead th {\n",
       "        text-align: right;\n",
       "    }\n",
       "</style>\n",
       "<table border=\"1\" class=\"dataframe\">\n",
       "  <thead>\n",
       "    <tr style=\"text-align: right;\">\n",
       "      <th></th>\n",
       "      <th>meter_id</th>\n",
       "      <th>X2018_7_1_1h</th>\n",
       "      <th>X2018_7_1_2h</th>\n",
       "      <th>X2018_7_1_3h</th>\n",
       "      <th>X2018_7_1_4h</th>\n",
       "      <th>X2018_7_1_5h</th>\n",
       "      <th>X2018_7_1_6h</th>\n",
       "      <th>X2018_7_1_7h</th>\n",
       "      <th>X2018_7_1_8h</th>\n",
       "      <th>X2018_7_1_9h</th>\n",
       "      <th>...</th>\n",
       "      <th>X2018_7_6_d</th>\n",
       "      <th>X2018_7_7_d</th>\n",
       "      <th>X2018_7_8_d</th>\n",
       "      <th>X2018_7_9_d</th>\n",
       "      <th>X2018_7_10_d</th>\n",
       "      <th>X2018_7_m</th>\n",
       "      <th>X2018_8_m</th>\n",
       "      <th>X2018_9_m</th>\n",
       "      <th>X2018_10_m</th>\n",
       "      <th>X2018_11_m</th>\n",
       "    </tr>\n",
       "  </thead>\n",
       "  <tbody>\n",
       "    <tr>\n",
       "      <th>0</th>\n",
       "      <td>X2</td>\n",
       "      <td>0.901058</td>\n",
       "      <td>1.069870</td>\n",
       "      <td>1.203352</td>\n",
       "      <td>1.308897</td>\n",
       "      <td>1.392353</td>\n",
       "      <td>1.458343</td>\n",
       "      <td>1.510522</td>\n",
       "      <td>1.551780</td>\n",
       "      <td>1.584403</td>\n",
       "      <td>...</td>\n",
       "      <td>58.142752</td>\n",
       "      <td>58.563014</td>\n",
       "      <td>58.983277</td>\n",
       "      <td>59.403540</td>\n",
       "      <td>59.823803</td>\n",
       "      <td>1932.706751</td>\n",
       "      <td>2336.579243</td>\n",
       "      <td>2645.746124</td>\n",
       "      <td>3131.296081</td>\n",
       "      <td>3414.826936</td>\n",
       "    </tr>\n",
       "    <tr>\n",
       "      <th>1</th>\n",
       "      <td>X8</td>\n",
       "      <td>0.000225</td>\n",
       "      <td>0.000225</td>\n",
       "      <td>0.000225</td>\n",
       "      <td>0.000225</td>\n",
       "      <td>0.000225</td>\n",
       "      <td>0.000225</td>\n",
       "      <td>0.000225</td>\n",
       "      <td>0.000225</td>\n",
       "      <td>0.000225</td>\n",
       "      <td>...</td>\n",
       "      <td>0.005278</td>\n",
       "      <td>0.005278</td>\n",
       "      <td>0.005278</td>\n",
       "      <td>0.005278</td>\n",
       "      <td>0.005278</td>\n",
       "      <td>0.163611</td>\n",
       "      <td>0.163611</td>\n",
       "      <td>0.158333</td>\n",
       "      <td>0.163611</td>\n",
       "      <td>0.158333</td>\n",
       "    </tr>\n",
       "    <tr>\n",
       "      <th>2</th>\n",
       "      <td>X9</td>\n",
       "      <td>0.210877</td>\n",
       "      <td>0.146053</td>\n",
       "      <td>0.103223</td>\n",
       "      <td>0.074921</td>\n",
       "      <td>0.056213</td>\n",
       "      <td>0.043843</td>\n",
       "      <td>0.035658</td>\n",
       "      <td>0.030238</td>\n",
       "      <td>0.026643</td>\n",
       "      <td>...</td>\n",
       "      <td>0.301531</td>\n",
       "      <td>0.287763</td>\n",
       "      <td>0.273994</td>\n",
       "      <td>0.260226</td>\n",
       "      <td>0.246457</td>\n",
       "      <td>5.079222</td>\n",
       "      <td>-8.152329</td>\n",
       "      <td>-20.487549</td>\n",
       "      <td>-34.188606</td>\n",
       "      <td>-45.683946</td>\n",
       "    </tr>\n",
       "    <tr>\n",
       "      <th>3</th>\n",
       "      <td>X13</td>\n",
       "      <td>0.010546</td>\n",
       "      <td>0.008725</td>\n",
       "      <td>0.007336</td>\n",
       "      <td>0.006276</td>\n",
       "      <td>0.005466</td>\n",
       "      <td>0.004848</td>\n",
       "      <td>0.004377</td>\n",
       "      <td>0.004017</td>\n",
       "      <td>0.003742</td>\n",
       "      <td>...</td>\n",
       "      <td>0.058800</td>\n",
       "      <td>0.058800</td>\n",
       "      <td>0.058800</td>\n",
       "      <td>0.058800</td>\n",
       "      <td>0.058800</td>\n",
       "      <td>1.822800</td>\n",
       "      <td>1.822800</td>\n",
       "      <td>1.764000</td>\n",
       "      <td>1.822800</td>\n",
       "      <td>1.764000</td>\n",
       "    </tr>\n",
       "    <tr>\n",
       "      <th>4</th>\n",
       "      <td>X14</td>\n",
       "      <td>0.470240</td>\n",
       "      <td>0.463562</td>\n",
       "      <td>0.458882</td>\n",
       "      <td>0.455603</td>\n",
       "      <td>0.453306</td>\n",
       "      <td>0.451696</td>\n",
       "      <td>0.450568</td>\n",
       "      <td>0.449777</td>\n",
       "      <td>0.449224</td>\n",
       "      <td>...</td>\n",
       "      <td>13.092867</td>\n",
       "      <td>13.135800</td>\n",
       "      <td>13.188322</td>\n",
       "      <td>13.244921</td>\n",
       "      <td>13.303254</td>\n",
       "      <td>427.093130</td>\n",
       "      <td>480.749937</td>\n",
       "      <td>519.789644</td>\n",
       "      <td>593.481995</td>\n",
       "      <td>628.885184</td>\n",
       "    </tr>\n",
       "  </tbody>\n",
       "</table>\n",
       "<p>5 rows × 40 columns</p>\n",
       "</div>"
      ],
      "text/plain": [
       "  meter_id  X2018_7_1_1h  X2018_7_1_2h  X2018_7_1_3h  X2018_7_1_4h  \\\n",
       "0       X2      0.901058      1.069870      1.203352      1.308897   \n",
       "1       X8      0.000225      0.000225      0.000225      0.000225   \n",
       "2       X9      0.210877      0.146053      0.103223      0.074921   \n",
       "3      X13      0.010546      0.008725      0.007336      0.006276   \n",
       "4      X14      0.470240      0.463562      0.458882      0.455603   \n",
       "\n",
       "   X2018_7_1_5h  X2018_7_1_6h  X2018_7_1_7h  X2018_7_1_8h  X2018_7_1_9h  ...  \\\n",
       "0      1.392353      1.458343      1.510522      1.551780      1.584403  ...   \n",
       "1      0.000225      0.000225      0.000225      0.000225      0.000225  ...   \n",
       "2      0.056213      0.043843      0.035658      0.030238      0.026643  ...   \n",
       "3      0.005466      0.004848      0.004377      0.004017      0.003742  ...   \n",
       "4      0.453306      0.451696      0.450568      0.449777      0.449224  ...   \n",
       "\n",
       "   X2018_7_6_d  X2018_7_7_d  X2018_7_8_d  X2018_7_9_d  X2018_7_10_d  \\\n",
       "0    58.142752    58.563014    58.983277    59.403540     59.823803   \n",
       "1     0.005278     0.005278     0.005278     0.005278      0.005278   \n",
       "2     0.301531     0.287763     0.273994     0.260226      0.246457   \n",
       "3     0.058800     0.058800     0.058800     0.058800      0.058800   \n",
       "4    13.092867    13.135800    13.188322    13.244921     13.303254   \n",
       "\n",
       "     X2018_7_m    X2018_8_m    X2018_9_m   X2018_10_m   X2018_11_m  \n",
       "0  1932.706751  2336.579243  2645.746124  3131.296081  3414.826936  \n",
       "1     0.163611     0.163611     0.158333     0.163611     0.158333  \n",
       "2     5.079222    -8.152329   -20.487549   -34.188606   -45.683946  \n",
       "3     1.822800     1.822800     1.764000     1.822800     1.764000  \n",
       "4   427.093130   480.749937   519.789644   593.481995   628.885184  \n",
       "\n",
       "[5 rows x 40 columns]"
      ]
     },
     "execution_count": 25,
     "metadata": {},
     "output_type": "execute_result"
    }
   ],
   "source": [
    "output2.head()"
   ]
  },
  {
   "cell_type": "code",
   "execution_count": null,
   "metadata": {},
   "outputs": [],
   "source": []
  },
  {
   "cell_type": "code",
   "execution_count": null,
   "metadata": {},
   "outputs": [],
   "source": []
  },
  {
   "cell_type": "code",
   "execution_count": null,
   "metadata": {},
   "outputs": [],
   "source": []
  },
  {
   "cell_type": "code",
   "execution_count": null,
   "metadata": {},
   "outputs": [],
   "source": []
  }
 ],
 "metadata": {
  "kernelspec": {
   "display_name": "Python 3",
   "language": "python",
   "name": "python3"
  },
  "language_info": {
   "codemirror_mode": {
    "name": "ipython",
    "version": 3
   },
   "file_extension": ".py",
   "mimetype": "text/x-python",
   "name": "python",
   "nbconvert_exporter": "python",
   "pygments_lexer": "ipython3",
   "version": "3.7.4"
  }
 },
 "nbformat": 4,
 "nbformat_minor": 2
}
