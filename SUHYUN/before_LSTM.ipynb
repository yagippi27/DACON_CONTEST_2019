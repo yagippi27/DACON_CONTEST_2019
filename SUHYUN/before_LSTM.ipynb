{
 "cells": [
  {
   "cell_type": "code",
   "execution_count": 2,
   "metadata": {},
   "outputs": [],
   "source": [
    "def before_LSTM(Series_data):\n",
    "    \"\"\"\n",
    "    :usage1: Use this with like 'dataframe_name.iloc[:, col_number]' ex) train.iloc[:, 0]\n",
    "    :usage2: You can get X_dataset_t, and y_dataset from this for LSTM. Also those are global variable.\n",
    "    :caution: ONLY use SERIES type with ONE COLUMN!!!\n",
    "    :who made this: SUHYUN AN ^^\n",
    "    \"\"\"\n",
    "    \n",
    "    import pandas as pd\n",
    "    import numpy as np\n",
    "    \n",
    "    global X_dataset_t\n",
    "    global y_dataset\n",
    "    making_shift_count = 25\n",
    "\n",
    "    dataset = Series_data.to_frame()\n",
    "\n",
    "    from sklearn.preprocessing import MinMaxScaler\n",
    "    dataset_sc=MinMaxScaler().fit_transform(dataset)\n",
    "    dataset_sc_df = pd.DataFrame(dataset_sc, columns=dataset.columns, index = dataset.index)\n",
    "\n",
    "    for s in range(1, making_shift_count):\n",
    "        dataset_sc_df['shift_{}'.format(s)] = dataset_sc_df[dataset.columns].shift(s)\n",
    "\n",
    "    X_dataset = dataset_sc_df.dropna().drop(dataset.columns, axis=1)\n",
    "    y_dataset = dataset_sc_df.dropna()[dataset.columns]\n",
    "\n",
    "    X_dataset = X_dataset.values\n",
    "    y_dataset = y_dataset.values\n",
    "\n",
    "    X_dataset_t = X_dataset.reshape(X_dataset.shape[0], making_shift_count-1, 1)\n",
    "\n",
    "    return X_dataset_t.shape, X_dataset_t, y_dataset.shape, y_dataset"
   ]
  },
  {
   "cell_type": "code",
   "execution_count": null,
   "metadata": {},
   "outputs": [],
   "source": []
  }
 ],
 "metadata": {
  "kernelspec": {
   "display_name": "Python 3",
   "language": "python",
   "name": "python3"
  },
  "language_info": {
   "codemirror_mode": {
    "name": "ipython",
    "version": 3
   },
   "file_extension": ".py",
   "mimetype": "text/x-python",
   "name": "python",
   "nbconvert_exporter": "python",
   "pygments_lexer": "ipython3",
   "version": "3.7.3"
  }
 },
 "nbformat": 4,
 "nbformat_minor": 2
}
