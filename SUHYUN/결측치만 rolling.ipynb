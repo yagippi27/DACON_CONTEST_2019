{
 "cells": [
  {
   "cell_type": "code",
   "execution_count": 133,
   "metadata": {},
   "outputs": [],
   "source": [
    "import pandas as pd # 데이터 전처리\n",
    "import numpy as np # 데이터 전처리\n",
    "import matplotlib.pyplot as plt # 데이터 시각화\n",
    "import os\n",
    "from datetime import datetime, timedelta # 시간 데이터 처리\n",
    "from statsmodels.tsa.arima_model import ARIMA # ARIMA 모델\n",
    "import math\n",
    "%matplotlib inline"
   ]
  },
  {
   "cell_type": "code",
   "execution_count": 134,
   "metadata": {},
   "outputs": [
    {
     "data": {
      "text/plain": [
       "'D:\\\\Mywork\\\\DACON_CONTEST_2019'"
      ]
     },
     "execution_count": 134,
     "metadata": {},
     "output_type": "execute_result"
    }
   ],
   "source": [
    "os.getcwd()"
   ]
  },
  {
   "cell_type": "code",
   "execution_count": 135,
   "metadata": {},
   "outputs": [],
   "source": [
    "os.chdir('D:\\\\Mywork\\\\DACON_CONTEST_2019')"
   ]
  },
  {
   "cell_type": "code",
   "execution_count": 138,
   "metadata": {},
   "outputs": [],
   "source": [
    "train = pd.read_csv('./DACON_DATASET/train.csv')"
   ]
  },
  {
   "cell_type": "code",
   "execution_count": 136,
   "metadata": {},
   "outputs": [],
   "source": [
    "test = pd.read_csv('./DACON_DATASET/test.csv')"
   ]
  },
  {
   "cell_type": "code",
   "execution_count": 139,
   "metadata": {},
   "outputs": [],
   "source": [
    "train['Time'] = pd.to_datetime(train.Time)\n",
    "train = train.set_index('Time')\n",
    "\n",
    "test['Time'] = pd.to_datetime(test.Time)\n",
    "test = test.set_index('Time')"
   ]
  },
  {
   "cell_type": "code",
   "execution_count": 140,
   "metadata": {},
   "outputs": [],
   "source": [
    "r48 = test.rolling(window=48, min_periods= 1) # 2일"
   ]
  },
  {
   "cell_type": "code",
   "execution_count": 141,
   "metadata": {},
   "outputs": [],
   "source": [
    "r48_med=r48.median()"
   ]
  },
  {
   "cell_type": "code",
   "execution_count": 142,
   "metadata": {},
   "outputs": [],
   "source": [
    "test2 = test.copy()"
   ]
  },
  {
   "cell_type": "code",
   "execution_count": null,
   "metadata": {},
   "outputs": [],
   "source": [
    "train2 = train.copy()"
   ]
  },
  {
   "cell_type": "code",
   "execution_count": 143,
   "metadata": {
    "scrolled": true
   },
   "outputs": [
    {
     "name": "stdout",
     "output_type": "stream",
     "text": [
      "0 열, 8759 행, 대체 nan 수: 0\n",
      "1 열, 8759 행, 대체 nan 수: 498\n",
      "2 열, 8759 행, 대체 nan 수: 516\n",
      "3 열, 8759 행, 대체 nan 수: 548\n",
      "4 열, 8759 행, 대체 nan 수: 540\n",
      "5 열, 8759 행, 대체 nan 수: 454\n",
      "6 열, 8759 행, 대체 nan 수: 561\n",
      "7 열, 8759 행, 대체 nan 수: 477\n",
      "8 열, 8759 행, 대체 nan 수: 577\n",
      "9 열, 8759 행, 대체 nan 수: 529\n",
      "10 열, 8759 행, 대체 nan 수: 486\n",
      "11 열, 8759 행, 대체 nan 수: 0\n",
      "12 열, 8759 행, 대체 nan 수: 513\n",
      "13 열, 8759 행, 대체 nan 수: 554\n",
      "14 열, 8759 행, 대체 nan 수: 546\n",
      "15 열, 8759 행, 대체 nan 수: 542\n",
      "16 열, 8759 행, 대체 nan 수: 508\n",
      "17 열, 8759 행, 대체 nan 수: 474\n",
      "18 열, 8759 행, 대체 nan 수: 484\n",
      "19 열, 8759 행, 대체 nan 수: 0\n",
      "20 열, 8759 행, 대체 nan 수: 500\n",
      "21 열, 8759 행, 대체 nan 수: 521\n",
      "22 열, 8759 행, 대체 nan 수: 564\n",
      "23 열, 8759 행, 대체 nan 수: 0\n",
      "24 열, 8759 행, 대체 nan 수: 549\n",
      "25 열, 8759 행, 대체 nan 수: 0\n",
      "26 열, 8759 행, 대체 nan 수: 538\n",
      "27 열, 8759 행, 대체 nan 수: 465\n",
      "28 열, 8759 행, 대체 nan 수: 559\n",
      "29 열, 8759 행, 대체 nan 수: 511\n",
      "30 열, 8759 행, 대체 nan 수: 479\n",
      "31 열, 8759 행, 대체 nan 수: 0\n",
      "32 열, 8759 행, 대체 nan 수: 467\n",
      "33 열, 8759 행, 대체 nan 수: 502\n",
      "34 열, 8759 행, 대체 nan 수: 510\n",
      "35 열, 8759 행, 대체 nan 수: 0\n",
      "36 열, 8759 행, 대체 nan 수: 540\n",
      "37 열, 8759 행, 대체 nan 수: 511\n",
      "38 열, 8759 행, 대체 nan 수: 517\n",
      "39 열, 8759 행, 대체 nan 수: 468\n",
      "40 열, 8759 행, 대체 nan 수: 554\n",
      "41 열, 8759 행, 대체 nan 수: 479\n",
      "42 열, 8759 행, 대체 nan 수: 0\n",
      "43 열, 8759 행, 대체 nan 수: 491\n",
      "44 열, 8759 행, 대체 nan 수: 531\n",
      "45 열, 8759 행, 대체 nan 수: 550\n",
      "46 열, 8759 행, 대체 nan 수: 483\n",
      "47 열, 8759 행, 대체 nan 수: 439\n",
      "48 열, 8759 행, 대체 nan 수: 549\n",
      "49 열, 8759 행, 대체 nan 수: 112\n",
      "50 열, 8759 행, 대체 nan 수: 0\n",
      "51 열, 8759 행, 대체 nan 수: 484\n",
      "52 열, 8759 행, 대체 nan 수: 538\n",
      "53 열, 8759 행, 대체 nan 수: 0\n",
      "54 열, 8759 행, 대체 nan 수: 488\n",
      "55 열, 8759 행, 대체 nan 수: 444\n",
      "56 열, 8759 행, 대체 nan 수: 0\n",
      "57 열, 8759 행, 대체 nan 수: 551\n",
      "58 열, 8759 행, 대체 nan 수: 556\n",
      "59 열, 8759 행, 대체 nan 수: 549\n",
      "60 열, 8759 행, 대체 nan 수: 496\n",
      "61 열, 8759 행, 대체 nan 수: 465\n",
      "62 열, 8759 행, 대체 nan 수: 508\n",
      "63 열, 8759 행, 대체 nan 수: 517\n",
      "64 열, 8759 행, 대체 nan 수: 299\n",
      "65 열, 8759 행, 대체 nan 수: 522\n",
      "66 열, 8759 행, 대체 nan 수: 560\n",
      "67 열, 8759 행, 대체 nan 수: 530\n",
      "68 열, 8759 행, 대체 nan 수: 0\n",
      "69 열, 8759 행, 대체 nan 수: 524\n",
      "70 열, 8759 행, 대체 nan 수: 0\n",
      "71 열, 8759 행, 대체 nan 수: 0\n",
      "72 열, 8759 행, 대체 nan 수: 514\n",
      "73 열, 8759 행, 대체 nan 수: 548\n",
      "74 열, 8759 행, 대체 nan 수: 0\n",
      "75 열, 8759 행, 대체 nan 수: 608\n",
      "76 열, 8759 행, 대체 nan 수: 0\n",
      "77 열, 8759 행, 대체 nan 수: 496\n",
      "78 열, 8759 행, 대체 nan 수: 519\n",
      "79 열, 8759 행, 대체 nan 수: 546\n",
      "80 열, 8759 행, 대체 nan 수: 492\n",
      "81 열, 8759 행, 대체 nan 수: 540\n",
      "82 열, 8759 행, 대체 nan 수: 459\n",
      "83 열, 8759 행, 대체 nan 수: 553\n",
      "84 열, 8759 행, 대체 nan 수: 434\n",
      "85 열, 8759 행, 대체 nan 수: 554\n",
      "86 열, 8759 행, 대체 nan 수: 494\n",
      "87 열, 8759 행, 대체 nan 수: 489\n",
      "88 열, 8759 행, 대체 nan 수: 517\n",
      "89 열, 8759 행, 대체 nan 수: 533\n",
      "90 열, 8759 행, 대체 nan 수: 519\n",
      "91 열, 8759 행, 대체 nan 수: 467\n",
      "92 열, 8759 행, 대체 nan 수: 505\n",
      "93 열, 8759 행, 대체 nan 수: 0\n",
      "94 열, 8759 행, 대체 nan 수: 0\n",
      "95 열, 8759 행, 대체 nan 수: 499\n",
      "96 열, 8759 행, 대체 nan 수: 438\n",
      "97 열, 8759 행, 대체 nan 수: 0\n",
      "98 열, 8759 행, 대체 nan 수: 470\n",
      "99 열, 8759 행, 대체 nan 수: 539\n",
      "100 열, 8759 행, 대체 nan 수: 516\n",
      "101 열, 8759 행, 대체 nan 수: 434\n",
      "102 열, 8759 행, 대체 nan 수: 518\n",
      "103 열, 8759 행, 대체 nan 수: 0\n",
      "104 열, 8759 행, 대체 nan 수: 0\n",
      "105 열, 8759 행, 대체 nan 수: 504\n",
      "106 열, 8759 행, 대체 nan 수: 487\n",
      "107 열, 8759 행, 대체 nan 수: 0\n",
      "108 열, 8759 행, 대체 nan 수: 516\n",
      "109 열, 8759 행, 대체 nan 수: 0\n",
      "110 열, 8759 행, 대체 nan 수: 560\n",
      "111 열, 8759 행, 대체 nan 수: 509\n",
      "112 열, 8759 행, 대체 nan 수: 658\n",
      "113 열, 8759 행, 대체 nan 수: 482\n",
      "114 열, 8759 행, 대체 nan 수: 623\n",
      "115 열, 8759 행, 대체 nan 수: 557\n",
      "116 열, 8759 행, 대체 nan 수: 534\n",
      "117 열, 8759 행, 대체 nan 수: 499\n",
      "118 열, 8759 행, 대체 nan 수: 0\n",
      "119 열, 8759 행, 대체 nan 수: 432\n",
      "120 열, 8759 행, 대체 nan 수: 549\n",
      "121 열, 8759 행, 대체 nan 수: 472\n",
      "122 열, 8759 행, 대체 nan 수: 533\n",
      "123 열, 8759 행, 대체 nan 수: 0\n",
      "124 열, 8759 행, 대체 nan 수: 0\n",
      "125 열, 8759 행, 대체 nan 수: 496\n",
      "126 열, 8759 행, 대체 nan 수: 561\n",
      "127 열, 8759 행, 대체 nan 수: 512\n",
      "128 열, 8759 행, 대체 nan 수: 516\n",
      "129 열, 8759 행, 대체 nan 수: 562\n",
      "130 열, 8759 행, 대체 nan 수: 0\n",
      "131 열, 8759 행, 대체 nan 수: 499\n",
      "132 열, 8759 행, 대체 nan 수: 521\n",
      "133 열, 8759 행, 대체 nan 수: 551\n",
      "134 열, 8759 행, 대체 nan 수: 485\n",
      "135 열, 8759 행, 대체 nan 수: 0\n",
      "136 열, 8759 행, 대체 nan 수: 0\n",
      "137 열, 8759 행, 대체 nan 수: 503\n",
      "138 열, 8759 행, 대체 nan 수: 488\n",
      "139 열, 8759 행, 대체 nan 수: 0\n",
      "140 열, 8759 행, 대체 nan 수: 0\n",
      "141 열, 8759 행, 대체 nan 수: 540\n",
      "142 열, 8759 행, 대체 nan 수: 599\n",
      "143 열, 8759 행, 대체 nan 수: 549\n",
      "144 열, 8759 행, 대체 nan 수: 0\n",
      "145 열, 8759 행, 대체 nan 수: 543\n",
      "146 열, 8759 행, 대체 nan 수: 560\n",
      "147 열, 8759 행, 대체 nan 수: 0\n",
      "148 열, 8759 행, 대체 nan 수: 474\n",
      "149 열, 8759 행, 대체 nan 수: 548\n",
      "150 열, 8759 행, 대체 nan 수: 543\n",
      "151 열, 8759 행, 대체 nan 수: 544\n",
      "152 열, 8759 행, 대체 nan 수: 464\n",
      "153 열, 8759 행, 대체 nan 수: 438\n",
      "154 열, 8759 행, 대체 nan 수: 0\n",
      "155 열, 8759 행, 대체 nan 수: 480\n",
      "156 열, 8759 행, 대체 nan 수: 544\n",
      "157 열, 8759 행, 대체 nan 수: 567\n",
      "158 열, 8759 행, 대체 nan 수: 500\n",
      "159 열, 8759 행, 대체 nan 수: 0\n",
      "160 열, 8759 행, 대체 nan 수: 531\n",
      "161 열, 8759 행, 대체 nan 수: 511\n",
      "162 열, 8759 행, 대체 nan 수: 535\n",
      "163 열, 8759 행, 대체 nan 수: 502\n",
      "164 열, 8759 행, 대체 nan 수: 0\n",
      "165 열, 8759 행, 대체 nan 수: 0\n",
      "166 열, 8759 행, 대체 nan 수: 2\n",
      "167 열, 8759 행, 대체 nan 수: 542\n",
      "168 열, 8759 행, 대체 nan 수: 0\n",
      "169 열, 8759 행, 대체 nan 수: 544\n",
      "170 열, 8759 행, 대체 nan 수: 0\n",
      "171 열, 8759 행, 대체 nan 수: 510\n",
      "172 열, 8759 행, 대체 nan 수: 486\n",
      "173 열, 8759 행, 대체 nan 수: 486\n",
      "174 열, 8759 행, 대체 nan 수: 546\n",
      "175 열, 8759 행, 대체 nan 수: 544\n",
      "176 열, 8759 행, 대체 nan 수: 0\n",
      "177 열, 8759 행, 대체 nan 수: 533\n",
      "178 열, 8759 행, 대체 nan 수: 471\n",
      "179 열, 8759 행, 대체 nan 수: 509\n",
      "180 열, 8759 행, 대체 nan 수: 469\n",
      "181 열, 8759 행, 대체 nan 수: 486\n",
      "182 열, 8759 행, 대체 nan 수: 535\n",
      "183 열, 8759 행, 대체 nan 수: 543\n",
      "184 열, 8759 행, 대체 nan 수: 0\n",
      "185 열, 8759 행, 대체 nan 수: 574\n",
      "186 열, 8759 행, 대체 nan 수: 457\n",
      "187 열, 8759 행, 대체 nan 수: 531\n",
      "188 열, 8759 행, 대체 nan 수: 0\n",
      "189 열, 8759 행, 대체 nan 수: 423\n",
      "190 열, 8759 행, 대체 nan 수: 510\n",
      "191 열, 8759 행, 대체 nan 수: 273\n",
      "192 열, 8759 행, 대체 nan 수: 549\n",
      "193 열, 8759 행, 대체 nan 수: 498\n",
      "194 열, 8759 행, 대체 nan 수: 0\n",
      "195 열, 8759 행, 대체 nan 수: 568\n",
      "196 열, 8759 행, 대체 nan 수: 567\n",
      "197 열, 8759 행, 대체 nan 수: 0\n",
      "198 열, 8759 행, 대체 nan 수: 0\n",
      "199 열, 8759 행, 대체 nan 수: 435\n"
     ]
    }
   ],
   "source": [
    "total_nan = []\n",
    "replace_nan = []\n",
    "for k in range(len(test2.columns)):\n",
    "    total_nan.append(test2.iloc[:, k].isna().sum())\n",
    "    n = 0\n",
    "    for i in range(len(test2.index)):\n",
    "        if math.isnan(test2.iloc[i, k]) == True:\n",
    "            test2.iloc[i,k] = r48_med.iloc[i,k]\n",
    "            if math.isnan(test2.iloc[i,k]) == False:\n",
    "                n += 1\n",
    "        else:\n",
    "            pass\n",
    "    replace_nan.append(n)    \n",
    "    print(k, \"열,\", i, \"행, 대체 nan 수:\", n)"
   ]
  },
  {
   "cell_type": "code",
   "execution_count": 127,
   "metadata": {},
   "outputs": [],
   "source": [
    "train2.to_csv('./SUHYUN/rolling/train_r48_med_onlyNAN.csv')"
   ]
  },
  {
   "cell_type": "code",
   "execution_count": 144,
   "metadata": {},
   "outputs": [],
   "source": [
    "test2.to_csv('./SUHYUN/rolling/test_r48_med_onlyNAN.csv')"
   ]
  },
  {
   "cell_type": "code",
   "execution_count": null,
   "metadata": {},
   "outputs": [],
   "source": []
  }
 ],
 "metadata": {
  "kernelspec": {
   "display_name": "Python 3",
   "language": "python",
   "name": "python3"
  },
  "language_info": {
   "codemirror_mode": {
    "name": "ipython",
    "version": 3
   },
   "file_extension": ".py",
   "mimetype": "text/x-python",
   "name": "python",
   "nbconvert_exporter": "python",
   "pygments_lexer": "ipython3",
   "version": "3.6.9"
  }
 },
 "nbformat": 4,
 "nbformat_minor": 2
}
