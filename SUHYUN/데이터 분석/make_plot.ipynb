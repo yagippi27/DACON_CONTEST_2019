{
 "cells": [
  {
   "cell_type": "code",
   "execution_count": null,
   "metadata": {},
   "outputs": [],
   "source": [
    "def make_plot(df, i):\n",
    "    \"\"\"\n",
    "    import matplotlib.pyplot as plt\n",
    "    \n",
    "    plt.figure(figsize=(20,10))\n",
    "    plt.plot(df.iloc[:, i], label = df.iloc[:, i].name)\n",
    "    plt.plot(df.iloc[:, i+1], label = df.iloc[:, i+1].name)\n",
    "    plt.plot(df.iloc[:, i+2], label = df.iloc[:, i+2].name)\n",
    "    plt.plot(df.iloc[:, i+3], label = df.iloc[:, i+3].name)\n",
    "    plt.plot(df.iloc[:, i+4], label = df.iloc[:, i+4].name)\n",
    "\n",
    "    plt.xlabel('Time-hour')\n",
    "    plt.ylabel('Amount')\n",
    "    plt.title('Power demand(kwh)')\n",
    "    plt.legend()\n",
    "    return plt.show()\n",
    "    \"\"\"\n",
    "    \n",
    "    import matplotlib.pyplot as plt\n",
    "    \n",
    "    plt.figure(figsize=(20,10))\n",
    "    plt.plot(df.iloc[:, i], label = df.iloc[:, i].name)\n",
    "    plt.plot(df.iloc[:, i+1], label = df.iloc[:, i+1].name)\n",
    "    plt.plot(df.iloc[:, i+2], label = df.iloc[:, i+2].name)\n",
    "    plt.plot(df.iloc[:, i+3], label = df.iloc[:, i+3].name)\n",
    "    plt.plot(df.iloc[:, i+4], label = df.iloc[:, i+4].name)\n",
    "\n",
    "    plt.xlabel('Time-hour')\n",
    "    plt.ylabel('Amount')\n",
    "    plt.title('Power demand(kwh)')\n",
    "    plt.legend()\n",
    "    return plt.show()"
   ]
  }
 ],
 "metadata": {
  "kernelspec": {
   "display_name": "Python 3",
   "language": "python",
   "name": "python3"
  },
  "language_info": {
   "codemirror_mode": {
    "name": "ipython",
    "version": 3
   },
   "file_extension": ".py",
   "mimetype": "text/x-python",
   "name": "python",
   "nbconvert_exporter": "python",
   "pygments_lexer": "ipython3",
   "version": "3.7.3"
  }
 },
 "nbformat": 4,
 "nbformat_minor": 2
}
