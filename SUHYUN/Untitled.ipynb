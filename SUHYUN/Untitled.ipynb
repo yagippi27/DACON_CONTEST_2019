{
 "cells": [
  {
   "cell_type": "code",
   "execution_count": 33,
   "metadata": {},
   "outputs": [],
   "source": [
    "import pandas as pd\n",
    "import numpy as np\n",
    "import os"
   ]
  },
  {
   "cell_type": "code",
   "execution_count": 26,
   "metadata": {},
   "outputs": [
    {
     "data": {
      "text/plain": [
       "'D:\\\\workspace\\\\DACON_2019'"
      ]
     },
     "execution_count": 26,
     "metadata": {},
     "output_type": "execute_result"
    }
   ],
   "source": [
    "os.getcwd()"
   ]
  },
  {
   "cell_type": "code",
   "execution_count": 27,
   "metadata": {},
   "outputs": [],
   "source": [
    "os.chdir('D:\\\\workspace\\\\DACON_2019')"
   ]
  },
  {
   "cell_type": "code",
   "execution_count": 28,
   "metadata": {},
   "outputs": [
    {
     "data": {
      "text/html": [
       "<div>\n",
       "<style scoped>\n",
       "    .dataframe tbody tr th:only-of-type {\n",
       "        vertical-align: middle;\n",
       "    }\n",
       "\n",
       "    .dataframe tbody tr th {\n",
       "        vertical-align: top;\n",
       "    }\n",
       "\n",
       "    .dataframe thead th {\n",
       "        text-align: right;\n",
       "    }\n",
       "</style>\n",
       "<table border=\"1\" class=\"dataframe\">\n",
       "  <thead>\n",
       "    <tr style=\"text-align: right;\">\n",
       "      <th></th>\n",
       "      <th>Time</th>\n",
       "      <th>X26</th>\n",
       "      <th>X303</th>\n",
       "      <th>X241</th>\n",
       "      <th>X435</th>\n",
       "      <th>X402</th>\n",
       "      <th>X352</th>\n",
       "      <th>X305</th>\n",
       "      <th>X350</th>\n",
       "      <th>X326</th>\n",
       "      <th>...</th>\n",
       "      <th>X283</th>\n",
       "      <th>X329</th>\n",
       "      <th>X223</th>\n",
       "      <th>X266</th>\n",
       "      <th>X20</th>\n",
       "      <th>X443</th>\n",
       "      <th>X347</th>\n",
       "      <th>X75</th>\n",
       "      <th>X107</th>\n",
       "      <th>X230</th>\n",
       "    </tr>\n",
       "  </thead>\n",
       "  <tbody>\n",
       "    <tr>\n",
       "      <td>0</td>\n",
       "      <td>2017-07-01 00:00:00</td>\n",
       "      <td>1.187315</td>\n",
       "      <td>0.351692</td>\n",
       "      <td>0.264282</td>\n",
       "      <td>0.253713</td>\n",
       "      <td>0.176311</td>\n",
       "      <td>0.146826</td>\n",
       "      <td>0.307492</td>\n",
       "      <td>0.229566</td>\n",
       "      <td>0.061527</td>\n",
       "      <td>...</td>\n",
       "      <td>0.260910</td>\n",
       "      <td>0.317195</td>\n",
       "      <td>0.321455</td>\n",
       "      <td>0.367367</td>\n",
       "      <td>0.159644</td>\n",
       "      <td>0.204865</td>\n",
       "      <td>0.153908</td>\n",
       "      <td>0.275</td>\n",
       "      <td>0.021</td>\n",
       "      <td>0.303634</td>\n",
       "    </tr>\n",
       "    <tr>\n",
       "      <td>1</td>\n",
       "      <td>2017-07-01 01:00:00</td>\n",
       "      <td>1.186123</td>\n",
       "      <td>0.462480</td>\n",
       "      <td>0.287727</td>\n",
       "      <td>0.313939</td>\n",
       "      <td>0.184959</td>\n",
       "      <td>0.161964</td>\n",
       "      <td>0.394632</td>\n",
       "      <td>0.278938</td>\n",
       "      <td>0.071040</td>\n",
       "      <td>...</td>\n",
       "      <td>0.246349</td>\n",
       "      <td>0.289677</td>\n",
       "      <td>0.279606</td>\n",
       "      <td>0.295989</td>\n",
       "      <td>0.159288</td>\n",
       "      <td>0.246143</td>\n",
       "      <td>0.172024</td>\n",
       "      <td>0.222</td>\n",
       "      <td>0.021</td>\n",
       "      <td>0.323445</td>\n",
       "    </tr>\n",
       "    <tr>\n",
       "      <td>2</td>\n",
       "      <td>2017-07-01 02:00:00</td>\n",
       "      <td>1.168301</td>\n",
       "      <td>0.439076</td>\n",
       "      <td>0.295718</td>\n",
       "      <td>0.305454</td>\n",
       "      <td>0.187243</td>\n",
       "      <td>0.155218</td>\n",
       "      <td>0.374071</td>\n",
       "      <td>0.283294</td>\n",
       "      <td>0.073194</td>\n",
       "      <td>...</td>\n",
       "      <td>0.218539</td>\n",
       "      <td>0.236890</td>\n",
       "      <td>0.268077</td>\n",
       "      <td>0.243984</td>\n",
       "      <td>0.157027</td>\n",
       "      <td>0.247709</td>\n",
       "      <td>0.157602</td>\n",
       "      <td>0.237</td>\n",
       "      <td>0.021</td>\n",
       "      <td>0.326541</td>\n",
       "    </tr>\n",
       "    <tr>\n",
       "      <td>3</td>\n",
       "      <td>2017-07-01 03:00:00</td>\n",
       "      <td>1.163425</td>\n",
       "      <td>0.393705</td>\n",
       "      <td>0.292820</td>\n",
       "      <td>0.303389</td>\n",
       "      <td>0.181969</td>\n",
       "      <td>0.153222</td>\n",
       "      <td>0.352247</td>\n",
       "      <td>0.280866</td>\n",
       "      <td>0.071465</td>\n",
       "      <td>...</td>\n",
       "      <td>0.195375</td>\n",
       "      <td>0.198678</td>\n",
       "      <td>0.247191</td>\n",
       "      <td>0.206447</td>\n",
       "      <td>0.154466</td>\n",
       "      <td>0.239162</td>\n",
       "      <td>0.146758</td>\n",
       "      <td>0.229</td>\n",
       "      <td>0.020</td>\n",
       "      <td>0.320604</td>\n",
       "    </tr>\n",
       "    <tr>\n",
       "      <td>4</td>\n",
       "      <td>2017-07-01 04:00:00</td>\n",
       "      <td>1.398466</td>\n",
       "      <td>0.370926</td>\n",
       "      <td>0.295090</td>\n",
       "      <td>0.308605</td>\n",
       "      <td>0.181614</td>\n",
       "      <td>0.150549</td>\n",
       "      <td>0.336359</td>\n",
       "      <td>0.290058</td>\n",
       "      <td>0.073235</td>\n",
       "      <td>...</td>\n",
       "      <td>0.174982</td>\n",
       "      <td>0.173972</td>\n",
       "      <td>0.245303</td>\n",
       "      <td>0.216265</td>\n",
       "      <td>0.152014</td>\n",
       "      <td>0.234301</td>\n",
       "      <td>0.141317</td>\n",
       "      <td>0.202</td>\n",
       "      <td>0.021</td>\n",
       "      <td>0.336269</td>\n",
       "    </tr>\n",
       "  </tbody>\n",
       "</table>\n",
       "<p>5 rows × 201 columns</p>\n",
       "</div>"
      ],
      "text/plain": [
       "                  Time       X26      X303      X241      X435      X402  \\\n",
       "0  2017-07-01 00:00:00  1.187315  0.351692  0.264282  0.253713  0.176311   \n",
       "1  2017-07-01 01:00:00  1.186123  0.462480  0.287727  0.313939  0.184959   \n",
       "2  2017-07-01 02:00:00  1.168301  0.439076  0.295718  0.305454  0.187243   \n",
       "3  2017-07-01 03:00:00  1.163425  0.393705  0.292820  0.303389  0.181969   \n",
       "4  2017-07-01 04:00:00  1.398466  0.370926  0.295090  0.308605  0.181614   \n",
       "\n",
       "       X352      X305      X350      X326  ...      X283      X329      X223  \\\n",
       "0  0.146826  0.307492  0.229566  0.061527  ...  0.260910  0.317195  0.321455   \n",
       "1  0.161964  0.394632  0.278938  0.071040  ...  0.246349  0.289677  0.279606   \n",
       "2  0.155218  0.374071  0.283294  0.073194  ...  0.218539  0.236890  0.268077   \n",
       "3  0.153222  0.352247  0.280866  0.071465  ...  0.195375  0.198678  0.247191   \n",
       "4  0.150549  0.336359  0.290058  0.073235  ...  0.174982  0.173972  0.245303   \n",
       "\n",
       "       X266       X20      X443      X347    X75   X107      X230  \n",
       "0  0.367367  0.159644  0.204865  0.153908  0.275  0.021  0.303634  \n",
       "1  0.295989  0.159288  0.246143  0.172024  0.222  0.021  0.323445  \n",
       "2  0.243984  0.157027  0.247709  0.157602  0.237  0.021  0.326541  \n",
       "3  0.206447  0.154466  0.239162  0.146758  0.229  0.020  0.320604  \n",
       "4  0.216265  0.152014  0.234301  0.141317  0.202  0.021  0.336269  \n",
       "\n",
       "[5 rows x 201 columns]"
      ]
     },
     "execution_count": 28,
     "metadata": {},
     "output_type": "execute_result"
    }
   ],
   "source": [
    "test = pd.read_csv(\"./SOOMIN/data/Test_데이콘전처리및시간별평균.csv\")\n",
    "test.head()"
   ]
  },
  {
   "cell_type": "code",
   "execution_count": 29,
   "metadata": {},
   "outputs": [],
   "source": [
    "test['Time'] = pd.to_datetime(test['Time'])\n",
    "test = test.set_index('Time')"
   ]
  },
  {
   "cell_type": "code",
   "execution_count": 30,
   "metadata": {},
   "outputs": [
    {
     "data": {
      "text/plain": [
       "Time\n",
       "2017-07-01 00:00:00    1.187315\n",
       "2017-07-01 01:00:00    1.186123\n",
       "2017-07-01 02:00:00    1.168301\n",
       "2017-07-01 03:00:00    1.163425\n",
       "2017-07-01 04:00:00    1.398466\n",
       "                         ...   \n",
       "2018-06-30 19:00:00    1.255000\n",
       "2018-06-30 20:00:00    1.596000\n",
       "2018-06-30 21:00:00    1.379000\n",
       "2018-06-30 22:00:00    1.000000\n",
       "2018-06-30 23:00:00    0.976000\n",
       "Name: X26, Length: 8760, dtype: float64"
      ]
     },
     "execution_count": 30,
     "metadata": {},
     "output_type": "execute_result"
    }
   ],
   "source": [
    "test.iloc[:, 0]"
   ]
  },
  {
   "cell_type": "code",
   "execution_count": 31,
   "metadata": {},
   "outputs": [
    {
     "data": {
      "text/plain": [
       "200"
      ]
     },
     "execution_count": 31,
     "metadata": {},
     "output_type": "execute_result"
    }
   ],
   "source": [
    "len(test.columns)"
   ]
  },
  {
   "cell_type": "code",
   "execution_count": 36,
   "metadata": {},
   "outputs": [],
   "source": [
    "from before_LSTM import *"
   ]
  },
  {
   "cell_type": "code",
   "execution_count": 37,
   "metadata": {},
   "outputs": [
    {
     "ename": "NameError",
     "evalue": "name 'pd' is not defined",
     "output_type": "error",
     "traceback": [
      "\u001b[1;31m---------------------------------------------------------------------------\u001b[0m",
      "\u001b[1;31mNameError\u001b[0m                                 Traceback (most recent call last)",
      "\u001b[1;32m<ipython-input-37-5b0ef7f7959f>\u001b[0m in \u001b[0;36m<module>\u001b[1;34m\u001b[0m\n\u001b[1;32m----> 1\u001b[1;33m \u001b[0mbefore_LSTM\u001b[0m\u001b[1;33m(\u001b[0m\u001b[0mtest\u001b[0m\u001b[1;33m.\u001b[0m\u001b[0miloc\u001b[0m\u001b[1;33m[\u001b[0m\u001b[1;33m:\u001b[0m\u001b[1;33m,\u001b[0m \u001b[1;36m0\u001b[0m\u001b[1;33m]\u001b[0m\u001b[1;33m)\u001b[0m\u001b[1;33m\u001b[0m\u001b[1;33m\u001b[0m\u001b[0m\n\u001b[0m",
      "\u001b[1;32mD:\\workspace\\DACON_2019\\SUHYUN\\before_LSTM.py\u001b[0m in \u001b[0;36mbefore_LSTM\u001b[1;34m(Series_data)\u001b[0m\n\u001b[0;32m     20\u001b[0m     \u001b[0mdataset\u001b[0m \u001b[1;33m=\u001b[0m \u001b[0mSeries_data\u001b[0m\u001b[1;33m.\u001b[0m\u001b[0mto_frame\u001b[0m\u001b[1;33m(\u001b[0m\u001b[1;33m)\u001b[0m\u001b[1;33m\u001b[0m\u001b[1;33m\u001b[0m\u001b[0m\n\u001b[0;32m     21\u001b[0m \u001b[1;33m\u001b[0m\u001b[0m\n\u001b[1;32m---> 22\u001b[1;33m     \u001b[1;32mfrom\u001b[0m \u001b[0msklearn\u001b[0m\u001b[1;33m.\u001b[0m\u001b[0mpreprocessing\u001b[0m \u001b[1;32mimport\u001b[0m \u001b[0mMinMaxScaler\u001b[0m\u001b[1;33m\u001b[0m\u001b[1;33m\u001b[0m\u001b[0m\n\u001b[0m\u001b[0;32m     23\u001b[0m     \u001b[0mdataset_sc\u001b[0m\u001b[1;33m=\u001b[0m\u001b[0mMinMaxScaler\u001b[0m\u001b[1;33m(\u001b[0m\u001b[1;33m)\u001b[0m\u001b[1;33m.\u001b[0m\u001b[0mfit_transform\u001b[0m\u001b[1;33m(\u001b[0m\u001b[0mdataset\u001b[0m\u001b[1;33m)\u001b[0m\u001b[1;33m\u001b[0m\u001b[1;33m\u001b[0m\u001b[0m\n\u001b[0;32m     24\u001b[0m     \u001b[0mdataset_sc_df\u001b[0m \u001b[1;33m=\u001b[0m \u001b[0mpd\u001b[0m\u001b[1;33m.\u001b[0m\u001b[0mDataFrame\u001b[0m\u001b[1;33m(\u001b[0m\u001b[0mdataset_sc\u001b[0m\u001b[1;33m,\u001b[0m \u001b[0mcolumns\u001b[0m\u001b[1;33m=\u001b[0m\u001b[0mdataset\u001b[0m\u001b[1;33m.\u001b[0m\u001b[0mcolumns\u001b[0m\u001b[1;33m,\u001b[0m \u001b[0mindex\u001b[0m \u001b[1;33m=\u001b[0m \u001b[0mdataset\u001b[0m\u001b[1;33m.\u001b[0m\u001b[0mindex\u001b[0m\u001b[1;33m)\u001b[0m\u001b[1;33m\u001b[0m\u001b[1;33m\u001b[0m\u001b[0m\n",
      "\u001b[1;31mNameError\u001b[0m: name 'pd' is not defined"
     ]
    }
   ],
   "source": [
    "before_LSTM(test.iloc[:, 0])"
   ]
  },
  {
   "cell_type": "code",
   "execution_count": null,
   "metadata": {},
   "outputs": [],
   "source": []
  }
 ],
 "metadata": {
  "kernelspec": {
   "display_name": "Python 3",
   "language": "python",
   "name": "python3"
  },
  "language_info": {
   "codemirror_mode": {
    "name": "ipython",
    "version": 3
   },
   "file_extension": ".py",
   "mimetype": "text/x-python",
   "name": "python",
   "nbconvert_exporter": "python",
   "pygments_lexer": "ipython3",
   "version": "3.7.3"
  }
 },
 "nbformat": 4,
 "nbformat_minor": 2
}
